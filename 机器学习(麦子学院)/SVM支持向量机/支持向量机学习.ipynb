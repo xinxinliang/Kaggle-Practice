{
 "cells": [
  {
   "cell_type": "markdown",
   "metadata": {},
   "source": [
    "# 支持向量机\n",
    "- 找出一条最合适的线来分开数据\n",
    "- 也就是找出一条线，使得每个点到这条线的距离最短\n",
    "- 分为线性可分和线性不可分"
   ]
  },
  {
   "cell_type": "code",
   "execution_count": 2,
   "metadata": {},
   "outputs": [
    {
     "data": {
      "text/plain": [
       "SVC()"
      ]
     },
     "execution_count": 2,
     "metadata": {},
     "output_type": "execute_result"
    }
   ],
   "source": [
    "# 官方使用例子\n",
    "from sklearn import svm\n",
    "X = [[0, 0], [1, 1]]\n",
    "y = [0, 1]\n",
    "clf = svm.SVC(gamma='scale')\n",
    "clf.fit(X, y) "
   ]
  },
  {
   "cell_type": "code",
   "execution_count": 7,
   "metadata": {},
   "outputs": [
    {
     "name": "stdout",
     "output_type": "stream",
     "text": [
      "SVC()\n"
     ]
    },
    {
     "data": {
      "text/plain": [
       "array([1])"
      ]
     },
     "execution_count": 7,
     "metadata": {},
     "output_type": "execute_result"
    }
   ],
   "source": [
    "#预测一个值\n",
    "print(clf)\n",
    "clf.predict([[2., 2.]])"
   ]
  },
  {
   "cell_type": "markdown",
   "metadata": {},
   "source": [
    "- SVMs 决策函数取决于训练集的一些子集, 称作**支持向量**. 这些支持向量的部分特性可以在 support_vectors_, support_ 和 n_support 找到:"
   ]
  },
  {
   "cell_type": "code",
   "execution_count": 9,
   "metadata": {},
   "outputs": [
    {
     "name": "stdout",
     "output_type": "stream",
     "text": [
      "[[0. 0.]\n",
      " [1. 1.]]\n",
      "[0 1]\n",
      "[1 1]\n"
     ]
    }
   ],
   "source": [
    "# 支持向量里面的点\n",
    "print(clf.support_vectors_)\n",
    "# 第0，1个点\n",
    "print(clf.support_)\n",
    "# 找到的支持向量\n",
    "print(clf.n_support_)"
   ]
  },
  {
   "cell_type": "code",
   "execution_count": 1,
   "metadata": {},
   "outputs": [],
   "source": [
    "import numpy as np\n",
    "import pylab as pl\n",
    "from sklearn import svm"
   ]
  },
  {
   "cell_type": "code",
   "execution_count": 3,
   "metadata": {},
   "outputs": [
    {
     "name": "stdout",
     "output_type": "stream",
     "text": [
      "w:  [0.80308864 0.63684294]\n",
      "a:  -1.261046617810581\n",
      "support_vectors_:  [[-0.50751495  0.0494742 ]\n",
      " [ 1.02142007  1.26190758]]\n",
      "clf.coef_:  [[0.80308864 0.63684294]]\n"
     ]
    },
    {
     "data": {
      "image/png": "[encoded data removed]",
      "text/plain": [
       "<Figure size 432x288 with 1 Axes>"
      ]
     },
     "metadata": {
      "needs_background": "light"
     },
     "output_type": "display_data"
    }
   ],
   "source": [
    "# we create 40 separable points\n",
    "X = np.r_[np.random.randn(20, 2) - [2, 2], np.random.randn(20, 2) + [2, 2]]\n",
    "Y = [0]*20 +[1]*20\n",
    "\n",
    "#fit the model\n",
    "clf = svm.SVC(kernel='linear')\n",
    "clf.fit(X, Y)\n",
    "\n",
    "# get the separating hyperplane\n",
    "w = clf.coef_[0]\n",
    "a = -w[0]/w[1]\n",
    "xx = np.linspace(-5, 5)\n",
    "yy = a*xx - (clf.intercept_[0])/w[1]\n",
    "\n",
    "# plot the parallels to the separating hyperplane that pass through the support vectors\n",
    "b = clf.support_vectors_[0]\n",
    "yy_down = a*xx + (b[1] - a*b[0])\n",
    "b = clf.support_vectors_[-1]\n",
    "yy_up = a*xx + (b[1] - a*b[0])\n",
    "\n",
    "print (\"w: \", w)\n",
    "print (\"a: \", a)\n",
    "\n",
    "# print \"xx: \", xx\n",
    "# print \"yy: \", yy\n",
    "print(\"support_vectors_: \", clf.support_vectors_)\n",
    "print(\"clf.coef_: \", clf.coef_)\n",
    "\n",
    "# switching to the generic n-dimensional parameterization of the hyperplan to the 2D-specific equation\n",
    "# of a line y=a.x +b: the generic w_0x + w_1y +w_3=0 can be rewritten y = -(w_0/w_1) x + (w_3/w_1)\n",
    "\n",
    "\n",
    "# plot the line, the points, and the nearest vectors to the plane\n",
    "pl.plot(xx, yy, 'k-')\n",
    "pl.plot(xx, yy_down, 'k--')\n",
    "pl.plot(xx, yy_up, 'k--')\n",
    "\n",
    "pl.scatter(clf.support_vectors_[:, 0], clf.support_vectors_[:, 1],\n",
    "          s=80, facecolors='none')\n",
    "pl.scatter(X[:, 0], X[:, 1], c=Y, cmap=pl.cm.Paired)\n",
    "\n",
    "pl.axis('tight')\n",
    "pl.show()"
   ]
  },
  {
   "cell_type": "code",
   "execution_count": null,
   "metadata": {},
   "outputs": [],
   "source": []
  }
 ],
 "metadata": {
  "kernelspec": {
   "display_name": "Python 3",
   "language": "python",
   "name": "python3"
  },
  "language_info": {
   "codemirror_mode": {
    "name": "ipython",
    "version": 3
   },
   "file_extension": ".py",
   "mimetype": "text/x-python",
   "name": "python",
   "nbconvert_exporter": "python",
   "pygments_lexer": "ipython3",
   "version": "3.8.5"
  }
 },
 "nbformat": 4,
 "nbformat_minor": 4
}
