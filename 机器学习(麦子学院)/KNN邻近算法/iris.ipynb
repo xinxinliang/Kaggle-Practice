{
 "cells": [
  {
   "cell_type": "code",
   "execution_count": null,
   "metadata": {},
   "outputs": [],
   "source": [
    "from sklearn import neighbors\n",
    "from sklearn import datasets\n",
    "\n",
    "knn = neighbors.KNeighborsClassifier()\n",
    "\n",
    "iris = datasets.load_iris()\n",
    "# save data\n",
    "# f = open(\"iris.data.csv\", 'wb')\n",
    "# f.write(str(iris))\n",
    "# f.close()\n",
    "\n",
    "print iris\n",
    "\n",
    "knn.fit(iris.data, iris.target)\n",
    "\n",
    "predictedLabel = knn.predict([[0.1, 0.2, 0.3, 0.4]])\n",
    "print \"hello\"\n",
    "#print (\"predictedLabel is :\" + predictedLabel)\n",
    "print predictedLabel"
   ]
  },
  {
   "cell_type": "markdown",
   "metadata": {},
   "source": [
    "- 上面是源程序,从下面开始运行"
   ]
  },
  {
   "cell_type": "code",
   "execution_count": 6,
   "metadata": {},
   "outputs": [],
   "source": [
    "from sklearn import neighbors\n",
    "from sklearn import datasets"
   ]
  },
  {
   "cell_type": "code",
   "execution_count": 7,
   "metadata": {},
   "outputs": [],
   "source": [
    "# 没有设置K值\n",
    "knn = neighbors.KNeighborsClassifier()\n",
    "\n",
    "iris = datasets.load_iris()\n",
    "\n",
    "knn.fit(iris.data, iris.target)\n",
    "#预测一个数据\n",
    "predictedLabel = knn.predict([[0.1, 0.2, 0.3, 0.4]])"
   ]
  },
  {
   "cell_type": "code",
   "execution_count": 8,
   "metadata": {},
   "outputs": [
    {
     "name": "stdout",
     "output_type": "stream",
     "text": [
      "[0]\n"
     ]
    }
   ],
   "source": [
    "print(predictedLabel)"
   ]
  },
  {
   "cell_type": "code",
   "execution_count": null,
   "metadata": {},
   "outputs": [],
   "source": []
  }
 ],
 "metadata": {
  "kernelspec": {
   "display_name": "Python 3",
   "language": "python",
   "name": "python3"
  },
  "language_info": {
   "codemirror_mode": {
    "name": "ipython",
    "version": 3
   },
   "file_extension": ".py",
   "mimetype": "text/x-python",
   "name": "python",
   "nbconvert_exporter": "python",
   "pygments_lexer": "ipython3",
   "version": "3.8.5"
  }
 },
 "nbformat": 4,
 "nbformat_minor": 4
}
