{
 "cells": [
  {
   "cell_type": "markdown",
   "metadata": {},
   "source": [
    "# 神经网络算法（NeuralNetwork）\n",
    "- 输入经过每层加权，每个单元模拟生物的神经元\n",
    "- 使用之前确定层数和单元数\n",
    "- 特征向量传入前要经过特征话在0和1之间，可以用Sigmod\n",
    "- 神经网络算法可以用来解决回归和分类问题\n",
    "- 层数没有明确的值，可以使用K次折叠交叉验证来判断"
   ]
  },
  {
   "cell_type": "code",
   "execution_count": 7,
   "metadata": {},
   "outputs": [
    {
     "name": "stdout",
     "output_type": "stream",
     "text": [
      "[0, 0] [-0.00080993]\n",
      "[0, 1] [0.99815428]\n",
      "[1, 0] [0.99813423]\n",
      "[1, 1] [-0.01390322]\n"
     ]
    }
   ],
   "source": [
    "from NeuralNetwork import NeuralNetwork\n",
    "import numpy as np\n",
    "\n",
    "nn = NeuralNetwork([2, 2, 1], 'tanh')\n",
    "X = np.array([[0, 0], [0, 1], [1, 0], [1, 1]])\n",
    "y = np.array([0, 1, 1, 0])\n",
    "nn.fit(X, y)\n",
    "for i in [[0, 0], [0, 1], [1, 0], [1, 1]]:\n",
    "    print(i, nn.predict(i))"
   ]
  },
  {
   "cell_type": "code",
   "execution_count": null,
   "metadata": {},
   "outputs": [],
   "source": [
    "#!/usr/bin/python\n",
    "# -*- coding:utf-8 -*-\n",
    "\n",
    "# 每个图片8x8  识别数字：0,1,2,3,4,5,6,7,8,9\n",
    "\n",
    "import numpy as np\n",
    "from sklearn.datasets import load_digits\n",
    "from sklearn.metrics import confusion_matrix, classification_report\n",
    "from sklearn.preprocessing import LabelBinarizer\n",
    "from NeuralNetwork import NeuralNetwork\n",
    "from sklearn.cross_validation import train_test_split\n",
    "\n",
    "\n",
    "digits = load_digits()\n",
    "X = digits.data\n",
    "y = digits.target\n",
    "X -= X.min()  # normalize the values to bring them into the range 0-1\n",
    "X /= X.max()\n",
    "\n",
    "nn = NeuralNetwork([64, 100, 10], 'logistic')\n",
    "X_train, X_test, y_train, y_test = train_test_split(X, y)\n",
    "labels_train = LabelBinarizer().fit_transform(y_train)\n",
    "labels_test = LabelBinarizer().fit_transform(y_test)\n",
    "print \"start fitting\"\n",
    "nn.fit(X_train, labels_train, epochs=3000)\n",
    "predictions = []\n",
    "for i in range(X_test.shape[0]):\n",
    "    o = nn.predict(X_test[i])\n",
    "    predictions.append(np.argmax(o))\n",
    "print confusion_matrix(y_test, predictions)\n",
    "print classification_report(y_test, predictions)\n",
    "\n"
   ]
  },
  {
   "cell_type": "code",
   "execution_count": null,
   "metadata": {},
   "outputs": [],
   "source": []
  }
 ],
 "metadata": {
  "kernelspec": {
   "display_name": "Python 3",
   "language": "python",
   "name": "python3"
  },
  "language_info": {
   "codemirror_mode": {
    "name": "ipython",
    "version": 3
   },
   "file_extension": ".py",
   "mimetype": "text/x-python",
   "name": "python",
   "nbconvert_exporter": "python",
   "pygments_lexer": "ipython3",
   "version": "3.8.5"
  }
 },
 "nbformat": 4,
 "nbformat_minor": 4
}
