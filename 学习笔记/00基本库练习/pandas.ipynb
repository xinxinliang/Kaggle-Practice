{
 "cells": [
  {
   "cell_type": "markdown",
   "metadata": {
    "papermill": {
     "duration": 0.056226,
     "end_time": "2021-01-12T07:11:14.915907",
     "exception": false,
     "start_time": "2021-01-12T07:11:14.859681",
     "status": "completed"
    },
    "tags": []
   },
   "source": [
    "# pandas概览\n",
    "- 主要数据结构是 Series（一维数据）与 DataFrame（二维数据）\n",
    "- 可以处理缺失值，表示为NaN\n",
    "- 大小可变：插入或删除 DataFrame 等多维对象的列\n",
    "- 熟的 IO 工具：读取文本文件（CSV 等支持分隔符的文件）、Excel 文件、数据库等来源的数据，利用超快的 HDF5 格式保存 / 加载数据"
   ]
  },
  {
   "cell_type": "code",
   "execution_count": 1,
   "metadata": {
    "_cell_guid": "b1076dfc-b9ad-4769-8c92-a6c4dae69d19",
    "_uuid": "8f2839f25d086af736a60e9eeb907d3b93b6e0e5",
    "execution": {
     "iopub.execute_input": "2021-01-12T07:11:15.015095Z",
     "iopub.status.busy": "2021-01-12T07:11:15.014196Z",
     "iopub.status.idle": "2021-01-12T07:11:15.017539Z",
     "shell.execute_reply": "2021-01-12T07:11:15.018042Z"
    },
    "papermill": {
     "duration": 0.055425,
     "end_time": "2021-01-12T07:11:15.018202",
     "exception": false,
     "start_time": "2021-01-12T07:11:14.962777",
     "status": "completed"
    },
    "tags": []
   },
   "outputs": [],
   "source": [
    "import pandas as pd\n",
    "import numpy as np"
   ]
  },
  {
   "cell_type": "markdown",
   "metadata": {
    "papermill": {
     "duration": 0.044071,
     "end_time": "2021-01-12T07:11:15.106917",
     "exception": false,
     "start_time": "2021-01-12T07:11:15.062846",
     "status": "completed"
    },
    "tags": []
   },
   "source": [
    "# 生成对象"
   ]
  },
  {
   "cell_type": "code",
   "execution_count": 2,
   "metadata": {
    "_cell_guid": "79c7e3d0-c299-4dcb-8224-4455121ee9b0",
    "_uuid": "d629ff2d2480ee46fbb7e2d37f6b5fab8052498a",
    "execution": {
     "iopub.execute_input": "2021-01-12T07:11:15.208625Z",
     "iopub.status.busy": "2021-01-12T07:11:15.207759Z",
     "iopub.status.idle": "2021-01-12T07:11:15.212464Z",
     "shell.execute_reply": "2021-01-12T07:11:15.211882Z"
    },
    "papermill": {
     "duration": 0.060952,
     "end_time": "2021-01-12T07:11:15.212610",
     "exception": false,
     "start_time": "2021-01-12T07:11:15.151658",
     "status": "completed"
    },
    "tags": []
   },
   "outputs": [
    {
     "data": {
      "text/plain": [
       "0    1.0\n",
       "1    3.0\n",
       "2    5.0\n",
       "3    NaN\n",
       "4    6.0\n",
       "5    8.0\n",
       "dtype: float64"
      ]
     },
     "execution_count": 2,
     "metadata": {},
     "output_type": "execute_result"
    }
   ],
   "source": [
    "# 用值列表生成 Series 时，Pandas 默认自动生成整数索引\n",
    "s = pd.Series([1, 3, 5, np.nan, 6, 8])\n",
    "s"
   ]
  },
  {
   "cell_type": "code",
   "execution_count": 3,
   "metadata": {
    "execution": {
     "iopub.execute_input": "2021-01-12T07:11:15.311944Z",
     "iopub.status.busy": "2021-01-12T07:11:15.311157Z",
     "iopub.status.idle": "2021-01-12T07:11:15.317883Z",
     "shell.execute_reply": "2021-01-12T07:11:15.318439Z"
    },
    "papermill": {
     "duration": 0.059505,
     "end_time": "2021-01-12T07:11:15.318601",
     "exception": false,
     "start_time": "2021-01-12T07:11:15.259096",
     "status": "completed"
    },
    "tags": []
   },
   "outputs": [
    {
     "data": {
      "text/plain": [
       "DatetimeIndex(['2013-01-01', '2013-01-02', '2013-01-03', '2013-01-04',\n",
       "               '2013-01-05', '2013-01-06'],\n",
       "              dtype='datetime64[ns]', freq='D')"
      ]
     },
     "execution_count": 3,
     "metadata": {},
     "output_type": "execute_result"
    }
   ],
   "source": [
    "# 用含日期时间索引与标签的 NumPy 数组生成 DataFrame\n",
    "dates = pd.date_range('20130101', periods=6)\n",
    "dates"
   ]
  },
  {
   "cell_type": "code",
   "execution_count": 4,
   "metadata": {
    "execution": {
     "iopub.execute_input": "2021-01-12T07:11:15.420365Z",
     "iopub.status.busy": "2021-01-12T07:11:15.419385Z",
     "iopub.status.idle": "2021-01-12T07:11:15.441650Z",
     "shell.execute_reply": "2021-01-12T07:11:15.440902Z"
    },
    "papermill": {
     "duration": 0.072499,
     "end_time": "2021-01-12T07:11:15.441780",
     "exception": false,
     "start_time": "2021-01-12T07:11:15.369281",
     "status": "completed"
    },
    "tags": []
   },
   "outputs": [
    {
     "data": {
      "text/html": [
       "<div>\n",
       "<style scoped>\n",
       "    .dataframe tbody tr th:only-of-type {\n",
       "        vertical-align: middle;\n",
       "    }\n",
       "\n",
       "    .dataframe tbody tr th {\n",
       "        vertical-align: top;\n",
       "    }\n",
       "\n",
       "    .dataframe thead th {\n",
       "        text-align: right;\n",
       "    }\n",
       "</style>\n",
       "<table border=\"1\" class=\"dataframe\">\n",
       "  <thead>\n",
       "    <tr style=\"text-align: right;\">\n",
       "      <th></th>\n",
       "      <th>A</th>\n",
       "      <th>B</th>\n",
       "      <th>C</th>\n",
       "      <th>D</th>\n",
       "    </tr>\n",
       "  </thead>\n",
       "  <tbody>\n",
       "    <tr>\n",
       "      <th>2013-01-01</th>\n",
       "      <td>-1.733128</td>\n",
       "      <td>-1.738729</td>\n",
       "      <td>0.381403</td>\n",
       "      <td>1.135077</td>\n",
       "    </tr>\n",
       "    <tr>\n",
       "      <th>2013-01-02</th>\n",
       "      <td>-0.507044</td>\n",
       "      <td>0.851004</td>\n",
       "      <td>-1.426304</td>\n",
       "      <td>-0.359881</td>\n",
       "    </tr>\n",
       "    <tr>\n",
       "      <th>2013-01-03</th>\n",
       "      <td>0.458939</td>\n",
       "      <td>0.524491</td>\n",
       "      <td>0.016088</td>\n",
       "      <td>2.222337</td>\n",
       "    </tr>\n",
       "    <tr>\n",
       "      <th>2013-01-04</th>\n",
       "      <td>-0.019724</td>\n",
       "      <td>0.827771</td>\n",
       "      <td>0.522569</td>\n",
       "      <td>-0.534118</td>\n",
       "    </tr>\n",
       "    <tr>\n",
       "      <th>2013-01-05</th>\n",
       "      <td>-1.547823</td>\n",
       "      <td>1.091031</td>\n",
       "      <td>0.359625</td>\n",
       "      <td>0.056397</td>\n",
       "    </tr>\n",
       "    <tr>\n",
       "      <th>2013-01-06</th>\n",
       "      <td>0.573844</td>\n",
       "      <td>-0.115541</td>\n",
       "      <td>0.365709</td>\n",
       "      <td>0.154545</td>\n",
       "    </tr>\n",
       "  </tbody>\n",
       "</table>\n",
       "</div>"
      ],
      "text/plain": [
       "                   A         B         C         D\n",
       "2013-01-01 -1.733128 -1.738729  0.381403  1.135077\n",
       "2013-01-02 -0.507044  0.851004 -1.426304 -0.359881\n",
       "2013-01-03  0.458939  0.524491  0.016088  2.222337\n",
       "2013-01-04 -0.019724  0.827771  0.522569 -0.534118\n",
       "2013-01-05 -1.547823  1.091031  0.359625  0.056397\n",
       "2013-01-06  0.573844 -0.115541  0.365709  0.154545"
      ]
     },
     "execution_count": 4,
     "metadata": {},
     "output_type": "execute_result"
    }
   ],
   "source": [
    "df = pd.DataFrame(np.random.randn(6, 4), index=dates, columns=list('ABCD'))\n",
    "df"
   ]
  },
  {
   "cell_type": "code",
   "execution_count": 5,
   "metadata": {
    "execution": {
     "iopub.execute_input": "2021-01-12T07:11:15.557626Z",
     "iopub.status.busy": "2021-01-12T07:11:15.556591Z",
     "iopub.status.idle": "2021-01-12T07:11:15.560263Z",
     "shell.execute_reply": "2021-01-12T07:11:15.560758Z"
    },
    "papermill": {
     "duration": 0.071538,
     "end_time": "2021-01-12T07:11:15.560897",
     "exception": false,
     "start_time": "2021-01-12T07:11:15.489359",
     "status": "completed"
    },
    "tags": []
   },
   "outputs": [
    {
     "data": {
      "text/html": [
       "<div>\n",
       "<style scoped>\n",
       "    .dataframe tbody tr th:only-of-type {\n",
       "        vertical-align: middle;\n",
       "    }\n",
       "\n",
       "    .dataframe tbody tr th {\n",
       "        vertical-align: top;\n",
       "    }\n",
       "\n",
       "    .dataframe thead th {\n",
       "        text-align: right;\n",
       "    }\n",
       "</style>\n",
       "<table border=\"1\" class=\"dataframe\">\n",
       "  <thead>\n",
       "    <tr style=\"text-align: right;\">\n",
       "      <th></th>\n",
       "      <th>A</th>\n",
       "      <th>B</th>\n",
       "      <th>C</th>\n",
       "      <th>D</th>\n",
       "      <th>E</th>\n",
       "      <th>F</th>\n",
       "    </tr>\n",
       "  </thead>\n",
       "  <tbody>\n",
       "    <tr>\n",
       "      <th>0</th>\n",
       "      <td>1.0</td>\n",
       "      <td>2013-01-02</td>\n",
       "      <td>1.0</td>\n",
       "      <td>3</td>\n",
       "      <td>test</td>\n",
       "      <td>foo</td>\n",
       "    </tr>\n",
       "    <tr>\n",
       "      <th>1</th>\n",
       "      <td>1.0</td>\n",
       "      <td>2013-01-02</td>\n",
       "      <td>1.0</td>\n",
       "      <td>3</td>\n",
       "      <td>train</td>\n",
       "      <td>foo</td>\n",
       "    </tr>\n",
       "    <tr>\n",
       "      <th>2</th>\n",
       "      <td>1.0</td>\n",
       "      <td>2013-01-02</td>\n",
       "      <td>1.0</td>\n",
       "      <td>3</td>\n",
       "      <td>test</td>\n",
       "      <td>foo</td>\n",
       "    </tr>\n",
       "    <tr>\n",
       "      <th>3</th>\n",
       "      <td>1.0</td>\n",
       "      <td>2013-01-02</td>\n",
       "      <td>1.0</td>\n",
       "      <td>3</td>\n",
       "      <td>train</td>\n",
       "      <td>foo</td>\n",
       "    </tr>\n",
       "  </tbody>\n",
       "</table>\n",
       "</div>"
      ],
      "text/plain": [
       "     A          B    C  D      E    F\n",
       "0  1.0 2013-01-02  1.0  3   test  foo\n",
       "1  1.0 2013-01-02  1.0  3  train  foo\n",
       "2  1.0 2013-01-02  1.0  3   test  foo\n",
       "3  1.0 2013-01-02  1.0  3  train  foo"
      ]
     },
     "execution_count": 5,
     "metadata": {},
     "output_type": "execute_result"
    }
   ],
   "source": [
    "#用 Series 字典对象生成 DataFrame:\n",
    "df2 = pd.DataFrame({'A': 1.,\n",
    "                    'B': pd.Timestamp('20130102'),\n",
    "                    'C': pd.Series(1, index=list(range(4)), dtype='float32'),\n",
    "                    'D': np.array([3] * 4, dtype='int32'),\n",
    "                    'E': pd.Categorical([\"test\", \"train\", \"test\", \"train\"]),\n",
    "                    'F': 'foo'})\n",
    "\n",
    "df2"
   ]
  },
  {
   "cell_type": "code",
   "execution_count": 6,
   "metadata": {
    "execution": {
     "iopub.execute_input": "2021-01-12T07:11:15.659745Z",
     "iopub.status.busy": "2021-01-12T07:11:15.658803Z",
     "iopub.status.idle": "2021-01-12T07:11:15.665425Z",
     "shell.execute_reply": "2021-01-12T07:11:15.665938Z"
    },
    "papermill": {
     "duration": 0.05845,
     "end_time": "2021-01-12T07:11:15.666078",
     "exception": false,
     "start_time": "2021-01-12T07:11:15.607628",
     "status": "completed"
    },
    "tags": []
   },
   "outputs": [
    {
     "data": {
      "text/plain": [
       "A           float64\n",
       "B    datetime64[ns]\n",
       "C           float32\n",
       "D             int32\n",
       "E          category\n",
       "F            object\n",
       "dtype: object"
      ]
     },
     "execution_count": 6,
     "metadata": {},
     "output_type": "execute_result"
    }
   ],
   "source": [
    "# DataFrame 的列有不同数据类型\n",
    "df2.dtypes"
   ]
  },
  {
   "cell_type": "markdown",
   "metadata": {
    "papermill": {
     "duration": 0.048933,
     "end_time": "2021-01-12T07:11:15.763268",
     "exception": false,
     "start_time": "2021-01-12T07:11:15.714335",
     "status": "completed"
    },
    "tags": []
   },
   "source": [
    "# 查看数据"
   ]
  },
  {
   "cell_type": "code",
   "execution_count": 7,
   "metadata": {
    "execution": {
     "iopub.execute_input": "2021-01-12T07:11:15.874345Z",
     "iopub.status.busy": "2021-01-12T07:11:15.873384Z",
     "iopub.status.idle": "2021-01-12T07:11:15.876428Z",
     "shell.execute_reply": "2021-01-12T07:11:15.876906Z"
    },
    "papermill": {
     "duration": 0.064627,
     "end_time": "2021-01-12T07:11:15.877050",
     "exception": false,
     "start_time": "2021-01-12T07:11:15.812423",
     "status": "completed"
    },
    "tags": []
   },
   "outputs": [
    {
     "data": {
      "text/html": [
       "<div>\n",
       "<style scoped>\n",
       "    .dataframe tbody tr th:only-of-type {\n",
       "        vertical-align: middle;\n",
       "    }\n",
       "\n",
       "    .dataframe tbody tr th {\n",
       "        vertical-align: top;\n",
       "    }\n",
       "\n",
       "    .dataframe thead th {\n",
       "        text-align: right;\n",
       "    }\n",
       "</style>\n",
       "<table border=\"1\" class=\"dataframe\">\n",
       "  <thead>\n",
       "    <tr style=\"text-align: right;\">\n",
       "      <th></th>\n",
       "      <th>A</th>\n",
       "      <th>B</th>\n",
       "      <th>C</th>\n",
       "      <th>D</th>\n",
       "    </tr>\n",
       "  </thead>\n",
       "  <tbody>\n",
       "    <tr>\n",
       "      <th>2013-01-01</th>\n",
       "      <td>-1.733128</td>\n",
       "      <td>-1.738729</td>\n",
       "      <td>0.381403</td>\n",
       "      <td>1.135077</td>\n",
       "    </tr>\n",
       "    <tr>\n",
       "      <th>2013-01-02</th>\n",
       "      <td>-0.507044</td>\n",
       "      <td>0.851004</td>\n",
       "      <td>-1.426304</td>\n",
       "      <td>-0.359881</td>\n",
       "    </tr>\n",
       "    <tr>\n",
       "      <th>2013-01-03</th>\n",
       "      <td>0.458939</td>\n",
       "      <td>0.524491</td>\n",
       "      <td>0.016088</td>\n",
       "      <td>2.222337</td>\n",
       "    </tr>\n",
       "    <tr>\n",
       "      <th>2013-01-04</th>\n",
       "      <td>-0.019724</td>\n",
       "      <td>0.827771</td>\n",
       "      <td>0.522569</td>\n",
       "      <td>-0.534118</td>\n",
       "    </tr>\n",
       "    <tr>\n",
       "      <th>2013-01-05</th>\n",
       "      <td>-1.547823</td>\n",
       "      <td>1.091031</td>\n",
       "      <td>0.359625</td>\n",
       "      <td>0.056397</td>\n",
       "    </tr>\n",
       "  </tbody>\n",
       "</table>\n",
       "</div>"
      ],
      "text/plain": [
       "                   A         B         C         D\n",
       "2013-01-01 -1.733128 -1.738729  0.381403  1.135077\n",
       "2013-01-02 -0.507044  0.851004 -1.426304 -0.359881\n",
       "2013-01-03  0.458939  0.524491  0.016088  2.222337\n",
       "2013-01-04 -0.019724  0.827771  0.522569 -0.534118\n",
       "2013-01-05 -1.547823  1.091031  0.359625  0.056397"
      ]
     },
     "execution_count": 7,
     "metadata": {},
     "output_type": "execute_result"
    }
   ],
   "source": [
    "# 查看头部数据\n",
    "df.head()"
   ]
  },
  {
   "cell_type": "code",
   "execution_count": 8,
   "metadata": {
    "execution": {
     "iopub.execute_input": "2021-01-12T07:11:15.980083Z",
     "iopub.status.busy": "2021-01-12T07:11:15.979400Z",
     "iopub.status.idle": "2021-01-12T07:11:15.989478Z",
     "shell.execute_reply": "2021-01-12T07:11:15.989970Z"
    },
    "papermill": {
     "duration": 0.063893,
     "end_time": "2021-01-12T07:11:15.990121",
     "exception": false,
     "start_time": "2021-01-12T07:11:15.926228",
     "status": "completed"
    },
    "tags": []
   },
   "outputs": [
    {
     "data": {
      "text/html": [
       "<div>\n",
       "<style scoped>\n",
       "    .dataframe tbody tr th:only-of-type {\n",
       "        vertical-align: middle;\n",
       "    }\n",
       "\n",
       "    .dataframe tbody tr th {\n",
       "        vertical-align: top;\n",
       "    }\n",
       "\n",
       "    .dataframe thead th {\n",
       "        text-align: right;\n",
       "    }\n",
       "</style>\n",
       "<table border=\"1\" class=\"dataframe\">\n",
       "  <thead>\n",
       "    <tr style=\"text-align: right;\">\n",
       "      <th></th>\n",
       "      <th>A</th>\n",
       "      <th>B</th>\n",
       "      <th>C</th>\n",
       "      <th>D</th>\n",
       "    </tr>\n",
       "  </thead>\n",
       "  <tbody>\n",
       "    <tr>\n",
       "      <th>2013-01-04</th>\n",
       "      <td>-0.019724</td>\n",
       "      <td>0.827771</td>\n",
       "      <td>0.522569</td>\n",
       "      <td>-0.534118</td>\n",
       "    </tr>\n",
       "    <tr>\n",
       "      <th>2013-01-05</th>\n",
       "      <td>-1.547823</td>\n",
       "      <td>1.091031</td>\n",
       "      <td>0.359625</td>\n",
       "      <td>0.056397</td>\n",
       "    </tr>\n",
       "    <tr>\n",
       "      <th>2013-01-06</th>\n",
       "      <td>0.573844</td>\n",
       "      <td>-0.115541</td>\n",
       "      <td>0.365709</td>\n",
       "      <td>0.154545</td>\n",
       "    </tr>\n",
       "  </tbody>\n",
       "</table>\n",
       "</div>"
      ],
      "text/plain": [
       "                   A         B         C         D\n",
       "2013-01-04 -0.019724  0.827771  0.522569 -0.534118\n",
       "2013-01-05 -1.547823  1.091031  0.359625  0.056397\n",
       "2013-01-06  0.573844 -0.115541  0.365709  0.154545"
      ]
     },
     "execution_count": 8,
     "metadata": {},
     "output_type": "execute_result"
    }
   ],
   "source": [
    "# 查看尾部数据\n",
    "df.tail(3)"
   ]
  },
  {
   "cell_type": "code",
   "execution_count": 9,
   "metadata": {
    "execution": {
     "iopub.execute_input": "2021-01-12T07:11:16.093091Z",
     "iopub.status.busy": "2021-01-12T07:11:16.092413Z",
     "iopub.status.idle": "2021-01-12T07:11:16.097920Z",
     "shell.execute_reply": "2021-01-12T07:11:16.098396Z"
    },
    "papermill": {
     "duration": 0.058773,
     "end_time": "2021-01-12T07:11:16.098571",
     "exception": false,
     "start_time": "2021-01-12T07:11:16.039798",
     "status": "completed"
    },
    "tags": []
   },
   "outputs": [
    {
     "data": {
      "text/plain": [
       "DatetimeIndex(['2013-01-01', '2013-01-02', '2013-01-03', '2013-01-04',\n",
       "               '2013-01-05', '2013-01-06'],\n",
       "              dtype='datetime64[ns]', freq='D')"
      ]
     },
     "execution_count": 9,
     "metadata": {},
     "output_type": "execute_result"
    }
   ],
   "source": [
    "# 显示索引与列名：\n",
    "df.index"
   ]
  },
  {
   "cell_type": "code",
   "execution_count": 10,
   "metadata": {
    "execution": {
     "iopub.execute_input": "2021-01-12T07:11:16.203325Z",
     "iopub.status.busy": "2021-01-12T07:11:16.202226Z",
     "iopub.status.idle": "2021-01-12T07:11:16.207807Z",
     "shell.execute_reply": "2021-01-12T07:11:16.208242Z"
    },
    "papermill": {
     "duration": 0.058977,
     "end_time": "2021-01-12T07:11:16.208381",
     "exception": false,
     "start_time": "2021-01-12T07:11:16.149404",
     "status": "completed"
    },
    "tags": []
   },
   "outputs": [
    {
     "data": {
      "text/plain": [
       "Index(['A', 'B', 'C', 'D'], dtype='object')"
      ]
     },
     "execution_count": 10,
     "metadata": {},
     "output_type": "execute_result"
    }
   ],
   "source": [
    "df.columns"
   ]
  },
  {
   "cell_type": "markdown",
   "metadata": {
    "papermill": {
     "duration": 0.050387,
     "end_time": "2021-01-12T07:11:16.309000",
     "exception": false,
     "start_time": "2021-01-12T07:11:16.258613",
     "status": "completed"
    },
    "tags": []
   },
   "source": [
    "- DataFrame.to_numpy 输出底层数据的 NumPy 对象\n",
    "- DataFrame 的列由多种数据类型组成时，该操作耗费系统资源较大，这也是 Pandas 和 NumPy 的本质区别：NumPy 数组只有一种数据类型，DataFrame 每列的数据类型各不相同\n",
    "- DataFrame.to_numpy() 的输出不包含行索引和列标签。"
   ]
  },
  {
   "cell_type": "code",
   "execution_count": 11,
   "metadata": {
    "execution": {
     "iopub.execute_input": "2021-01-12T07:11:16.413234Z",
     "iopub.status.busy": "2021-01-12T07:11:16.412180Z",
     "iopub.status.idle": "2021-01-12T07:11:16.417788Z",
     "shell.execute_reply": "2021-01-12T07:11:16.418287Z"
    },
    "papermill": {
     "duration": 0.059236,
     "end_time": "2021-01-12T07:11:16.418408",
     "exception": false,
     "start_time": "2021-01-12T07:11:16.359172",
     "status": "completed"
    },
    "tags": []
   },
   "outputs": [
    {
     "data": {
      "text/plain": [
       "array([[-1.73312787, -1.73872872,  0.38140298,  1.13507655],\n",
       "       [-0.50704365,  0.85100401, -1.42630409, -0.35988092],\n",
       "       [ 0.45893942,  0.52449131,  0.01608806,  2.22233719],\n",
       "       [-0.0197243 ,  0.82777101,  0.52256857, -0.53411814],\n",
       "       [-1.54782273,  1.09103115,  0.35962465,  0.05639672],\n",
       "       [ 0.57384431, -0.11554103,  0.36570903,  0.1545452 ]])"
      ]
     },
     "execution_count": 11,
     "metadata": {},
     "output_type": "execute_result"
    }
   ],
   "source": [
    "# df 这个 DataFrame 里的值都是浮点数，DataFrame.to_numpy() 的操作会很快，而且不复制数据\n",
    "df.to_numpy()"
   ]
  },
  {
   "cell_type": "code",
   "execution_count": 12,
   "metadata": {
    "execution": {
     "iopub.execute_input": "2021-01-12T07:11:16.524376Z",
     "iopub.status.busy": "2021-01-12T07:11:16.523468Z",
     "iopub.status.idle": "2021-01-12T07:11:16.529434Z",
     "shell.execute_reply": "2021-01-12T07:11:16.529910Z"
    },
    "papermill": {
     "duration": 0.06035,
     "end_time": "2021-01-12T07:11:16.530037",
     "exception": false,
     "start_time": "2021-01-12T07:11:16.469687",
     "status": "completed"
    },
    "tags": []
   },
   "outputs": [
    {
     "data": {
      "text/plain": [
       "array([[1.0, Timestamp('2013-01-02 00:00:00'), 1.0, 3, 'test', 'foo'],\n",
       "       [1.0, Timestamp('2013-01-02 00:00:00'), 1.0, 3, 'train', 'foo'],\n",
       "       [1.0, Timestamp('2013-01-02 00:00:00'), 1.0, 3, 'test', 'foo'],\n",
       "       [1.0, Timestamp('2013-01-02 00:00:00'), 1.0, 3, 'train', 'foo']],\n",
       "      dtype=object)"
      ]
     },
     "execution_count": 12,
     "metadata": {},
     "output_type": "execute_result"
    }
   ],
   "source": [
    "# df2 这个 DataFrame 包含了多种类型，DataFrame.to_numpy() 操作就会耗费较多资源\n",
    "df2.to_numpy()"
   ]
  },
  {
   "cell_type": "code",
   "execution_count": 13,
   "metadata": {
    "execution": {
     "iopub.execute_input": "2021-01-12T07:11:16.632437Z",
     "iopub.status.busy": "2021-01-12T07:11:16.631422Z",
     "iopub.status.idle": "2021-01-12T07:11:16.655817Z",
     "shell.execute_reply": "2021-01-12T07:11:16.656286Z"
    },
    "papermill": {
     "duration": 0.077587,
     "end_time": "2021-01-12T07:11:16.656435",
     "exception": false,
     "start_time": "2021-01-12T07:11:16.578848",
     "status": "completed"
    },
    "tags": []
   },
   "outputs": [
    {
     "data": {
      "text/html": [
       "<div>\n",
       "<style scoped>\n",
       "    .dataframe tbody tr th:only-of-type {\n",
       "        vertical-align: middle;\n",
       "    }\n",
       "\n",
       "    .dataframe tbody tr th {\n",
       "        vertical-align: top;\n",
       "    }\n",
       "\n",
       "    .dataframe thead th {\n",
       "        text-align: right;\n",
       "    }\n",
       "</style>\n",
       "<table border=\"1\" class=\"dataframe\">\n",
       "  <thead>\n",
       "    <tr style=\"text-align: right;\">\n",
       "      <th></th>\n",
       "      <th>A</th>\n",
       "      <th>B</th>\n",
       "      <th>C</th>\n",
       "      <th>D</th>\n",
       "    </tr>\n",
       "  </thead>\n",
       "  <tbody>\n",
       "    <tr>\n",
       "      <th>count</th>\n",
       "      <td>6.000000</td>\n",
       "      <td>6.000000</td>\n",
       "      <td>6.000000</td>\n",
       "      <td>6.000000</td>\n",
       "    </tr>\n",
       "    <tr>\n",
       "      <th>mean</th>\n",
       "      <td>-0.462489</td>\n",
       "      <td>0.240005</td>\n",
       "      <td>0.036515</td>\n",
       "      <td>0.445726</td>\n",
       "    </tr>\n",
       "    <tr>\n",
       "      <th>std</th>\n",
       "      <td>0.991314</td>\n",
       "      <td>1.055061</td>\n",
       "      <td>0.735965</td>\n",
       "      <td>1.046615</td>\n",
       "    </tr>\n",
       "    <tr>\n",
       "      <th>min</th>\n",
       "      <td>-1.733128</td>\n",
       "      <td>-1.738729</td>\n",
       "      <td>-1.426304</td>\n",
       "      <td>-0.534118</td>\n",
       "    </tr>\n",
       "    <tr>\n",
       "      <th>25%</th>\n",
       "      <td>-1.287628</td>\n",
       "      <td>0.044467</td>\n",
       "      <td>0.101972</td>\n",
       "      <td>-0.255812</td>\n",
       "    </tr>\n",
       "    <tr>\n",
       "      <th>50%</th>\n",
       "      <td>-0.263384</td>\n",
       "      <td>0.676131</td>\n",
       "      <td>0.362667</td>\n",
       "      <td>0.105471</td>\n",
       "    </tr>\n",
       "    <tr>\n",
       "      <th>75%</th>\n",
       "      <td>0.339273</td>\n",
       "      <td>0.845196</td>\n",
       "      <td>0.377479</td>\n",
       "      <td>0.889944</td>\n",
       "    </tr>\n",
       "    <tr>\n",
       "      <th>max</th>\n",
       "      <td>0.573844</td>\n",
       "      <td>1.091031</td>\n",
       "      <td>0.522569</td>\n",
       "      <td>2.222337</td>\n",
       "    </tr>\n",
       "  </tbody>\n",
       "</table>\n",
       "</div>"
      ],
      "text/plain": [
       "              A         B         C         D\n",
       "count  6.000000  6.000000  6.000000  6.000000\n",
       "mean  -0.462489  0.240005  0.036515  0.445726\n",
       "std    0.991314  1.055061  0.735965  1.046615\n",
       "min   -1.733128 -1.738729 -1.426304 -0.534118\n",
       "25%   -1.287628  0.044467  0.101972 -0.255812\n",
       "50%   -0.263384  0.676131  0.362667  0.105471\n",
       "75%    0.339273  0.845196  0.377479  0.889944\n",
       "max    0.573844  1.091031  0.522569  2.222337"
      ]
     },
     "execution_count": 13,
     "metadata": {},
     "output_type": "execute_result"
    }
   ],
   "source": [
    "# describe()可以快速查看数据的统计摘要\n",
    "df.describe()"
   ]
  },
  {
   "cell_type": "code",
   "execution_count": 14,
   "metadata": {
    "execution": {
     "iopub.execute_input": "2021-01-12T07:11:16.763578Z",
     "iopub.status.busy": "2021-01-12T07:11:16.762391Z",
     "iopub.status.idle": "2021-01-12T07:11:16.775306Z",
     "shell.execute_reply": "2021-01-12T07:11:16.775766Z"
    },
    "papermill": {
     "duration": 0.068683,
     "end_time": "2021-01-12T07:11:16.775902",
     "exception": false,
     "start_time": "2021-01-12T07:11:16.707219",
     "status": "completed"
    },
    "tags": []
   },
   "outputs": [
    {
     "data": {
      "text/html": [
       "<div>\n",
       "<style scoped>\n",
       "    .dataframe tbody tr th:only-of-type {\n",
       "        vertical-align: middle;\n",
       "    }\n",
       "\n",
       "    .dataframe tbody tr th {\n",
       "        vertical-align: top;\n",
       "    }\n",
       "\n",
       "    .dataframe thead th {\n",
       "        text-align: right;\n",
       "    }\n",
       "</style>\n",
       "<table border=\"1\" class=\"dataframe\">\n",
       "  <thead>\n",
       "    <tr style=\"text-align: right;\">\n",
       "      <th></th>\n",
       "      <th>2013-01-01</th>\n",
       "      <th>2013-01-02</th>\n",
       "      <th>2013-01-03</th>\n",
       "      <th>2013-01-04</th>\n",
       "      <th>2013-01-05</th>\n",
       "      <th>2013-01-06</th>\n",
       "    </tr>\n",
       "  </thead>\n",
       "  <tbody>\n",
       "    <tr>\n",
       "      <th>A</th>\n",
       "      <td>-1.733128</td>\n",
       "      <td>-0.507044</td>\n",
       "      <td>0.458939</td>\n",
       "      <td>-0.019724</td>\n",
       "      <td>-1.547823</td>\n",
       "      <td>0.573844</td>\n",
       "    </tr>\n",
       "    <tr>\n",
       "      <th>B</th>\n",
       "      <td>-1.738729</td>\n",
       "      <td>0.851004</td>\n",
       "      <td>0.524491</td>\n",
       "      <td>0.827771</td>\n",
       "      <td>1.091031</td>\n",
       "      <td>-0.115541</td>\n",
       "    </tr>\n",
       "    <tr>\n",
       "      <th>C</th>\n",
       "      <td>0.381403</td>\n",
       "      <td>-1.426304</td>\n",
       "      <td>0.016088</td>\n",
       "      <td>0.522569</td>\n",
       "      <td>0.359625</td>\n",
       "      <td>0.365709</td>\n",
       "    </tr>\n",
       "    <tr>\n",
       "      <th>D</th>\n",
       "      <td>1.135077</td>\n",
       "      <td>-0.359881</td>\n",
       "      <td>2.222337</td>\n",
       "      <td>-0.534118</td>\n",
       "      <td>0.056397</td>\n",
       "      <td>0.154545</td>\n",
       "    </tr>\n",
       "  </tbody>\n",
       "</table>\n",
       "</div>"
      ],
      "text/plain": [
       "   2013-01-01  2013-01-02  2013-01-03  2013-01-04  2013-01-05  2013-01-06\n",
       "A   -1.733128   -0.507044    0.458939   -0.019724   -1.547823    0.573844\n",
       "B   -1.738729    0.851004    0.524491    0.827771    1.091031   -0.115541\n",
       "C    0.381403   -1.426304    0.016088    0.522569    0.359625    0.365709\n",
       "D    1.135077   -0.359881    2.222337   -0.534118    0.056397    0.154545"
      ]
     },
     "execution_count": 14,
     "metadata": {},
     "output_type": "execute_result"
    }
   ],
   "source": [
    "# 转置数据\n",
    "df.T"
   ]
  },
  {
   "cell_type": "code",
   "execution_count": 15,
   "metadata": {
    "execution": {
     "iopub.execute_input": "2021-01-12T07:11:16.881499Z",
     "iopub.status.busy": "2021-01-12T07:11:16.880627Z",
     "iopub.status.idle": "2021-01-12T07:11:16.893169Z",
     "shell.execute_reply": "2021-01-12T07:11:16.892687Z"
    },
    "papermill": {
     "duration": 0.067742,
     "end_time": "2021-01-12T07:11:16.893277",
     "exception": false,
     "start_time": "2021-01-12T07:11:16.825535",
     "status": "completed"
    },
    "tags": []
   },
   "outputs": [
    {
     "data": {
      "text/html": [
       "<div>\n",
       "<style scoped>\n",
       "    .dataframe tbody tr th:only-of-type {\n",
       "        vertical-align: middle;\n",
       "    }\n",
       "\n",
       "    .dataframe tbody tr th {\n",
       "        vertical-align: top;\n",
       "    }\n",
       "\n",
       "    .dataframe thead th {\n",
       "        text-align: right;\n",
       "    }\n",
       "</style>\n",
       "<table border=\"1\" class=\"dataframe\">\n",
       "  <thead>\n",
       "    <tr style=\"text-align: right;\">\n",
       "      <th></th>\n",
       "      <th>D</th>\n",
       "      <th>C</th>\n",
       "      <th>B</th>\n",
       "      <th>A</th>\n",
       "    </tr>\n",
       "  </thead>\n",
       "  <tbody>\n",
       "    <tr>\n",
       "      <th>2013-01-01</th>\n",
       "      <td>1.135077</td>\n",
       "      <td>0.381403</td>\n",
       "      <td>-1.738729</td>\n",
       "      <td>-1.733128</td>\n",
       "    </tr>\n",
       "    <tr>\n",
       "      <th>2013-01-02</th>\n",
       "      <td>-0.359881</td>\n",
       "      <td>-1.426304</td>\n",
       "      <td>0.851004</td>\n",
       "      <td>-0.507044</td>\n",
       "    </tr>\n",
       "    <tr>\n",
       "      <th>2013-01-03</th>\n",
       "      <td>2.222337</td>\n",
       "      <td>0.016088</td>\n",
       "      <td>0.524491</td>\n",
       "      <td>0.458939</td>\n",
       "    </tr>\n",
       "    <tr>\n",
       "      <th>2013-01-04</th>\n",
       "      <td>-0.534118</td>\n",
       "      <td>0.522569</td>\n",
       "      <td>0.827771</td>\n",
       "      <td>-0.019724</td>\n",
       "    </tr>\n",
       "    <tr>\n",
       "      <th>2013-01-05</th>\n",
       "      <td>0.056397</td>\n",
       "      <td>0.359625</td>\n",
       "      <td>1.091031</td>\n",
       "      <td>-1.547823</td>\n",
       "    </tr>\n",
       "    <tr>\n",
       "      <th>2013-01-06</th>\n",
       "      <td>0.154545</td>\n",
       "      <td>0.365709</td>\n",
       "      <td>-0.115541</td>\n",
       "      <td>0.573844</td>\n",
       "    </tr>\n",
       "  </tbody>\n",
       "</table>\n",
       "</div>"
      ],
      "text/plain": [
       "                   D         C         B         A\n",
       "2013-01-01  1.135077  0.381403 -1.738729 -1.733128\n",
       "2013-01-02 -0.359881 -1.426304  0.851004 -0.507044\n",
       "2013-01-03  2.222337  0.016088  0.524491  0.458939\n",
       "2013-01-04 -0.534118  0.522569  0.827771 -0.019724\n",
       "2013-01-05  0.056397  0.359625  1.091031 -1.547823\n",
       "2013-01-06  0.154545  0.365709 -0.115541  0.573844"
      ]
     },
     "execution_count": 15,
     "metadata": {},
     "output_type": "execute_result"
    }
   ],
   "source": [
    "# 按轴排序\n",
    "df.sort_index(axis=1, ascending=False)"
   ]
  },
  {
   "cell_type": "code",
   "execution_count": 16,
   "metadata": {
    "execution": {
     "iopub.execute_input": "2021-01-12T07:11:17.007663Z",
     "iopub.status.busy": "2021-01-12T07:11:17.007002Z",
     "iopub.status.idle": "2021-01-12T07:11:17.009861Z",
     "shell.execute_reply": "2021-01-12T07:11:17.010340Z"
    },
    "papermill": {
     "duration": 0.065066,
     "end_time": "2021-01-12T07:11:17.010462",
     "exception": false,
     "start_time": "2021-01-12T07:11:16.945396",
     "status": "completed"
    },
    "tags": []
   },
   "outputs": [
    {
     "data": {
      "text/html": [
       "<div>\n",
       "<style scoped>\n",
       "    .dataframe tbody tr th:only-of-type {\n",
       "        vertical-align: middle;\n",
       "    }\n",
       "\n",
       "    .dataframe tbody tr th {\n",
       "        vertical-align: top;\n",
       "    }\n",
       "\n",
       "    .dataframe thead th {\n",
       "        text-align: right;\n",
       "    }\n",
       "</style>\n",
       "<table border=\"1\" class=\"dataframe\">\n",
       "  <thead>\n",
       "    <tr style=\"text-align: right;\">\n",
       "      <th></th>\n",
       "      <th>A</th>\n",
       "      <th>B</th>\n",
       "      <th>C</th>\n",
       "      <th>D</th>\n",
       "    </tr>\n",
       "  </thead>\n",
       "  <tbody>\n",
       "    <tr>\n",
       "      <th>2013-01-01</th>\n",
       "      <td>-1.733128</td>\n",
       "      <td>-1.738729</td>\n",
       "      <td>0.381403</td>\n",
       "      <td>1.135077</td>\n",
       "    </tr>\n",
       "    <tr>\n",
       "      <th>2013-01-06</th>\n",
       "      <td>0.573844</td>\n",
       "      <td>-0.115541</td>\n",
       "      <td>0.365709</td>\n",
       "      <td>0.154545</td>\n",
       "    </tr>\n",
       "    <tr>\n",
       "      <th>2013-01-03</th>\n",
       "      <td>0.458939</td>\n",
       "      <td>0.524491</td>\n",
       "      <td>0.016088</td>\n",
       "      <td>2.222337</td>\n",
       "    </tr>\n",
       "    <tr>\n",
       "      <th>2013-01-04</th>\n",
       "      <td>-0.019724</td>\n",
       "      <td>0.827771</td>\n",
       "      <td>0.522569</td>\n",
       "      <td>-0.534118</td>\n",
       "    </tr>\n",
       "    <tr>\n",
       "      <th>2013-01-02</th>\n",
       "      <td>-0.507044</td>\n",
       "      <td>0.851004</td>\n",
       "      <td>-1.426304</td>\n",
       "      <td>-0.359881</td>\n",
       "    </tr>\n",
       "    <tr>\n",
       "      <th>2013-01-05</th>\n",
       "      <td>-1.547823</td>\n",
       "      <td>1.091031</td>\n",
       "      <td>0.359625</td>\n",
       "      <td>0.056397</td>\n",
       "    </tr>\n",
       "  </tbody>\n",
       "</table>\n",
       "</div>"
      ],
      "text/plain": [
       "                   A         B         C         D\n",
       "2013-01-01 -1.733128 -1.738729  0.381403  1.135077\n",
       "2013-01-06  0.573844 -0.115541  0.365709  0.154545\n",
       "2013-01-03  0.458939  0.524491  0.016088  2.222337\n",
       "2013-01-04 -0.019724  0.827771  0.522569 -0.534118\n",
       "2013-01-02 -0.507044  0.851004 -1.426304 -0.359881\n",
       "2013-01-05 -1.547823  1.091031  0.359625  0.056397"
      ]
     },
     "execution_count": 16,
     "metadata": {},
     "output_type": "execute_result"
    }
   ],
   "source": [
    "# 按值排序\n",
    "df.sort_values(by='B')"
   ]
  },
  {
   "cell_type": "markdown",
   "metadata": {
    "papermill": {
     "duration": 0.053497,
     "end_time": "2021-01-12T07:11:17.117773",
     "exception": false,
     "start_time": "2021-01-12T07:11:17.064276",
     "status": "completed"
    },
    "tags": []
   },
   "source": [
    "# 选择"
   ]
  },
  {
   "cell_type": "code",
   "execution_count": 17,
   "metadata": {
    "execution": {
     "iopub.execute_input": "2021-01-12T07:11:17.233575Z",
     "iopub.status.busy": "2021-01-12T07:11:17.232635Z",
     "iopub.status.idle": "2021-01-12T07:11:17.236090Z",
     "shell.execute_reply": "2021-01-12T07:11:17.236615Z"
    },
    "papermill": {
     "duration": 0.065911,
     "end_time": "2021-01-12T07:11:17.236752",
     "exception": false,
     "start_time": "2021-01-12T07:11:17.170841",
     "status": "completed"
    },
    "tags": []
   },
   "outputs": [
    {
     "data": {
      "text/plain": [
       "2013-01-01   -1.733128\n",
       "2013-01-02   -0.507044\n",
       "2013-01-03    0.458939\n",
       "2013-01-04   -0.019724\n",
       "2013-01-05   -1.547823\n",
       "2013-01-06    0.573844\n",
       "Freq: D, Name: A, dtype: float64"
      ]
     },
     "execution_count": 17,
     "metadata": {},
     "output_type": "execute_result"
    }
   ],
   "source": [
    "# 选择单列，产生 Series，与 df.A 等效\n",
    "df['A']"
   ]
  },
  {
   "cell_type": "code",
   "execution_count": 18,
   "metadata": {
    "execution": {
     "iopub.execute_input": "2021-01-12T07:11:17.349111Z",
     "iopub.status.busy": "2021-01-12T07:11:17.348186Z",
     "iopub.status.idle": "2021-01-12T07:11:17.358471Z",
     "shell.execute_reply": "2021-01-12T07:11:17.358947Z"
    },
    "papermill": {
     "duration": 0.066884,
     "end_time": "2021-01-12T07:11:17.359072",
     "exception": false,
     "start_time": "2021-01-12T07:11:17.292188",
     "status": "completed"
    },
    "tags": []
   },
   "outputs": [
    {
     "data": {
      "text/html": [
       "<div>\n",
       "<style scoped>\n",
       "    .dataframe tbody tr th:only-of-type {\n",
       "        vertical-align: middle;\n",
       "    }\n",
       "\n",
       "    .dataframe tbody tr th {\n",
       "        vertical-align: top;\n",
       "    }\n",
       "\n",
       "    .dataframe thead th {\n",
       "        text-align: right;\n",
       "    }\n",
       "</style>\n",
       "<table border=\"1\" class=\"dataframe\">\n",
       "  <thead>\n",
       "    <tr style=\"text-align: right;\">\n",
       "      <th></th>\n",
       "      <th>A</th>\n",
       "      <th>B</th>\n",
       "      <th>C</th>\n",
       "      <th>D</th>\n",
       "    </tr>\n",
       "  </thead>\n",
       "  <tbody>\n",
       "    <tr>\n",
       "      <th>2013-01-01</th>\n",
       "      <td>-1.733128</td>\n",
       "      <td>-1.738729</td>\n",
       "      <td>0.381403</td>\n",
       "      <td>1.135077</td>\n",
       "    </tr>\n",
       "    <tr>\n",
       "      <th>2013-01-02</th>\n",
       "      <td>-0.507044</td>\n",
       "      <td>0.851004</td>\n",
       "      <td>-1.426304</td>\n",
       "      <td>-0.359881</td>\n",
       "    </tr>\n",
       "    <tr>\n",
       "      <th>2013-01-03</th>\n",
       "      <td>0.458939</td>\n",
       "      <td>0.524491</td>\n",
       "      <td>0.016088</td>\n",
       "      <td>2.222337</td>\n",
       "    </tr>\n",
       "  </tbody>\n",
       "</table>\n",
       "</div>"
      ],
      "text/plain": [
       "                   A         B         C         D\n",
       "2013-01-01 -1.733128 -1.738729  0.381403  1.135077\n",
       "2013-01-02 -0.507044  0.851004 -1.426304 -0.359881\n",
       "2013-01-03  0.458939  0.524491  0.016088  2.222337"
      ]
     },
     "execution_count": 18,
     "metadata": {},
     "output_type": "execute_result"
    }
   ],
   "source": [
    "# 用 [ ] 切片行：\n",
    "df[0:3]"
   ]
  },
  {
   "cell_type": "code",
   "execution_count": 19,
   "metadata": {
    "execution": {
     "iopub.execute_input": "2021-01-12T07:11:17.475984Z",
     "iopub.status.busy": "2021-01-12T07:11:17.475033Z",
     "iopub.status.idle": "2021-01-12T07:11:17.491390Z",
     "shell.execute_reply": "2021-01-12T07:11:17.491880Z"
    },
    "papermill": {
     "duration": 0.077269,
     "end_time": "2021-01-12T07:11:17.492013",
     "exception": false,
     "start_time": "2021-01-12T07:11:17.414744",
     "status": "completed"
    },
    "tags": []
   },
   "outputs": [
    {
     "data": {
      "text/html": [
       "<div>\n",
       "<style scoped>\n",
       "    .dataframe tbody tr th:only-of-type {\n",
       "        vertical-align: middle;\n",
       "    }\n",
       "\n",
       "    .dataframe tbody tr th {\n",
       "        vertical-align: top;\n",
       "    }\n",
       "\n",
       "    .dataframe thead th {\n",
       "        text-align: right;\n",
       "    }\n",
       "</style>\n",
       "<table border=\"1\" class=\"dataframe\">\n",
       "  <thead>\n",
       "    <tr style=\"text-align: right;\">\n",
       "      <th></th>\n",
       "      <th>A</th>\n",
       "      <th>B</th>\n",
       "      <th>C</th>\n",
       "      <th>D</th>\n",
       "    </tr>\n",
       "  </thead>\n",
       "  <tbody>\n",
       "    <tr>\n",
       "      <th>2013-01-02</th>\n",
       "      <td>-0.507044</td>\n",
       "      <td>0.851004</td>\n",
       "      <td>-1.426304</td>\n",
       "      <td>-0.359881</td>\n",
       "    </tr>\n",
       "    <tr>\n",
       "      <th>2013-01-03</th>\n",
       "      <td>0.458939</td>\n",
       "      <td>0.524491</td>\n",
       "      <td>0.016088</td>\n",
       "      <td>2.222337</td>\n",
       "    </tr>\n",
       "    <tr>\n",
       "      <th>2013-01-04</th>\n",
       "      <td>-0.019724</td>\n",
       "      <td>0.827771</td>\n",
       "      <td>0.522569</td>\n",
       "      <td>-0.534118</td>\n",
       "    </tr>\n",
       "  </tbody>\n",
       "</table>\n",
       "</div>"
      ],
      "text/plain": [
       "                   A         B         C         D\n",
       "2013-01-02 -0.507044  0.851004 -1.426304 -0.359881\n",
       "2013-01-03  0.458939  0.524491  0.016088  2.222337\n",
       "2013-01-04 -0.019724  0.827771  0.522569 -0.534118"
      ]
     },
     "execution_count": 19,
     "metadata": {},
     "output_type": "execute_result"
    }
   ],
   "source": [
    "df['20130102':'20130104']"
   ]
  },
  {
   "cell_type": "code",
   "execution_count": 20,
   "metadata": {
    "execution": {
     "iopub.execute_input": "2021-01-12T07:11:17.605332Z",
     "iopub.status.busy": "2021-01-12T07:11:17.604411Z",
     "iopub.status.idle": "2021-01-12T07:11:17.611285Z",
     "shell.execute_reply": "2021-01-12T07:11:17.611792Z"
    },
    "papermill": {
     "duration": 0.066211,
     "end_time": "2021-01-12T07:11:17.611928",
     "exception": false,
     "start_time": "2021-01-12T07:11:17.545717",
     "status": "completed"
    },
    "tags": []
   },
   "outputs": [
    {
     "data": {
      "text/plain": [
       "A   -1.733128\n",
       "B   -1.738729\n",
       "C    0.381403\n",
       "D    1.135077\n",
       "Name: 2013-01-01 00:00:00, dtype: float64"
      ]
     },
     "execution_count": 20,
     "metadata": {},
     "output_type": "execute_result"
    }
   ],
   "source": [
    "# 用标签提取一行数据\n",
    "df.loc[dates[0]]"
   ]
  },
  {
   "cell_type": "code",
   "execution_count": 21,
   "metadata": {
    "execution": {
     "iopub.execute_input": "2021-01-12T07:11:17.730410Z",
     "iopub.status.busy": "2021-01-12T07:11:17.729496Z",
     "iopub.status.idle": "2021-01-12T07:11:17.739971Z",
     "shell.execute_reply": "2021-01-12T07:11:17.740438Z"
    },
    "papermill": {
     "duration": 0.071392,
     "end_time": "2021-01-12T07:11:17.740581",
     "exception": false,
     "start_time": "2021-01-12T07:11:17.669189",
     "status": "completed"
    },
    "tags": []
   },
   "outputs": [
    {
     "data": {
      "text/html": [
       "<div>\n",
       "<style scoped>\n",
       "    .dataframe tbody tr th:only-of-type {\n",
       "        vertical-align: middle;\n",
       "    }\n",
       "\n",
       "    .dataframe tbody tr th {\n",
       "        vertical-align: top;\n",
       "    }\n",
       "\n",
       "    .dataframe thead th {\n",
       "        text-align: right;\n",
       "    }\n",
       "</style>\n",
       "<table border=\"1\" class=\"dataframe\">\n",
       "  <thead>\n",
       "    <tr style=\"text-align: right;\">\n",
       "      <th></th>\n",
       "      <th>A</th>\n",
       "      <th>B</th>\n",
       "    </tr>\n",
       "  </thead>\n",
       "  <tbody>\n",
       "    <tr>\n",
       "      <th>2013-01-01</th>\n",
       "      <td>-1.733128</td>\n",
       "      <td>-1.738729</td>\n",
       "    </tr>\n",
       "    <tr>\n",
       "      <th>2013-01-02</th>\n",
       "      <td>-0.507044</td>\n",
       "      <td>0.851004</td>\n",
       "    </tr>\n",
       "    <tr>\n",
       "      <th>2013-01-03</th>\n",
       "      <td>0.458939</td>\n",
       "      <td>0.524491</td>\n",
       "    </tr>\n",
       "    <tr>\n",
       "      <th>2013-01-04</th>\n",
       "      <td>-0.019724</td>\n",
       "      <td>0.827771</td>\n",
       "    </tr>\n",
       "    <tr>\n",
       "      <th>2013-01-05</th>\n",
       "      <td>-1.547823</td>\n",
       "      <td>1.091031</td>\n",
       "    </tr>\n",
       "    <tr>\n",
       "      <th>2013-01-06</th>\n",
       "      <td>0.573844</td>\n",
       "      <td>-0.115541</td>\n",
       "    </tr>\n",
       "  </tbody>\n",
       "</table>\n",
       "</div>"
      ],
      "text/plain": [
       "                   A         B\n",
       "2013-01-01 -1.733128 -1.738729\n",
       "2013-01-02 -0.507044  0.851004\n",
       "2013-01-03  0.458939  0.524491\n",
       "2013-01-04 -0.019724  0.827771\n",
       "2013-01-05 -1.547823  1.091031\n",
       "2013-01-06  0.573844 -0.115541"
      ]
     },
     "execution_count": 21,
     "metadata": {},
     "output_type": "execute_result"
    }
   ],
   "source": [
    "# 用标签选择多列数据：\n",
    "df.loc[:, ['A', 'B']]"
   ]
  },
  {
   "cell_type": "code",
   "execution_count": 22,
   "metadata": {
    "execution": {
     "iopub.execute_input": "2021-01-12T07:11:17.852982Z",
     "iopub.status.busy": "2021-01-12T07:11:17.852057Z",
     "iopub.status.idle": "2021-01-12T07:11:17.863622Z",
     "shell.execute_reply": "2021-01-12T07:11:17.864183Z"
    },
    "papermill": {
     "duration": 0.068322,
     "end_time": "2021-01-12T07:11:17.864310",
     "exception": false,
     "start_time": "2021-01-12T07:11:17.795988",
     "status": "completed"
    },
    "tags": []
   },
   "outputs": [
    {
     "data": {
      "text/html": [
       "<div>\n",
       "<style scoped>\n",
       "    .dataframe tbody tr th:only-of-type {\n",
       "        vertical-align: middle;\n",
       "    }\n",
       "\n",
       "    .dataframe tbody tr th {\n",
       "        vertical-align: top;\n",
       "    }\n",
       "\n",
       "    .dataframe thead th {\n",
       "        text-align: right;\n",
       "    }\n",
       "</style>\n",
       "<table border=\"1\" class=\"dataframe\">\n",
       "  <thead>\n",
       "    <tr style=\"text-align: right;\">\n",
       "      <th></th>\n",
       "      <th>A</th>\n",
       "      <th>B</th>\n",
       "    </tr>\n",
       "  </thead>\n",
       "  <tbody>\n",
       "    <tr>\n",
       "      <th>2013-01-02</th>\n",
       "      <td>-0.507044</td>\n",
       "      <td>0.851004</td>\n",
       "    </tr>\n",
       "    <tr>\n",
       "      <th>2013-01-03</th>\n",
       "      <td>0.458939</td>\n",
       "      <td>0.524491</td>\n",
       "    </tr>\n",
       "    <tr>\n",
       "      <th>2013-01-04</th>\n",
       "      <td>-0.019724</td>\n",
       "      <td>0.827771</td>\n",
       "    </tr>\n",
       "  </tbody>\n",
       "</table>\n",
       "</div>"
      ],
      "text/plain": [
       "                   A         B\n",
       "2013-01-02 -0.507044  0.851004\n",
       "2013-01-03  0.458939  0.524491\n",
       "2013-01-04 -0.019724  0.827771"
      ]
     },
     "execution_count": 22,
     "metadata": {},
     "output_type": "execute_result"
    }
   ],
   "source": [
    "# 用标签切片，包含行与列结束点：\n",
    "df.loc['20130102':'20130104', ['A', 'B']]"
   ]
  },
  {
   "cell_type": "code",
   "execution_count": 23,
   "metadata": {
    "execution": {
     "iopub.execute_input": "2021-01-12T07:11:17.977302Z",
     "iopub.status.busy": "2021-01-12T07:11:17.976722Z",
     "iopub.status.idle": "2021-01-12T07:11:17.983744Z",
     "shell.execute_reply": "2021-01-12T07:11:17.984228Z"
    },
    "papermill": {
     "duration": 0.065522,
     "end_time": "2021-01-12T07:11:17.984365",
     "exception": false,
     "start_time": "2021-01-12T07:11:17.918843",
     "status": "completed"
    },
    "tags": []
   },
   "outputs": [
    {
     "data": {
      "text/plain": [
       "A   -0.507044\n",
       "B    0.851004\n",
       "Name: 2013-01-02 00:00:00, dtype: float64"
      ]
     },
     "execution_count": 23,
     "metadata": {},
     "output_type": "execute_result"
    }
   ],
   "source": [
    "# 返回对象降维\n",
    "df.loc['20130102', ['A', 'B']]"
   ]
  },
  {
   "cell_type": "code",
   "execution_count": 24,
   "metadata": {
    "execution": {
     "iopub.execute_input": "2021-01-12T07:11:18.100431Z",
     "iopub.status.busy": "2021-01-12T07:11:18.099875Z",
     "iopub.status.idle": "2021-01-12T07:11:18.105609Z",
     "shell.execute_reply": "2021-01-12T07:11:18.105079Z"
    },
    "papermill": {
     "duration": 0.064633,
     "end_time": "2021-01-12T07:11:18.105713",
     "exception": false,
     "start_time": "2021-01-12T07:11:18.041080",
     "status": "completed"
    },
    "tags": []
   },
   "outputs": [
    {
     "data": {
      "text/plain": [
       "-1.7331278685112315"
      ]
     },
     "execution_count": 24,
     "metadata": {},
     "output_type": "execute_result"
    }
   ],
   "source": [
    "# 提取标量值：\n",
    "df.loc[dates[0], 'A']"
   ]
  },
  {
   "cell_type": "code",
   "execution_count": 25,
   "metadata": {
    "execution": {
     "iopub.execute_input": "2021-01-12T07:11:18.232675Z",
     "iopub.status.busy": "2021-01-12T07:11:18.231615Z",
     "iopub.status.idle": "2021-01-12T07:11:18.235648Z",
     "shell.execute_reply": "2021-01-12T07:11:18.235082Z"
    },
    "papermill": {
     "duration": 0.070309,
     "end_time": "2021-01-12T07:11:18.235762",
     "exception": false,
     "start_time": "2021-01-12T07:11:18.165453",
     "status": "completed"
    },
    "tags": []
   },
   "outputs": [
    {
     "data": {
      "text/plain": [
       "-1.7331278685112315"
      ]
     },
     "execution_count": 25,
     "metadata": {},
     "output_type": "execute_result"
    }
   ],
   "source": [
    "# 快速访问标量，与上述方法等效：\n",
    "df.at[dates[0], 'A']"
   ]
  },
  {
   "cell_type": "markdown",
   "metadata": {
    "papermill": {
     "duration": 0.057605,
     "end_time": "2021-01-12T07:11:18.354504",
     "exception": false,
     "start_time": "2021-01-12T07:11:18.296899",
     "status": "completed"
    },
    "tags": []
   },
   "source": [
    "- 按位置选择"
   ]
  },
  {
   "cell_type": "code",
   "execution_count": 26,
   "metadata": {
    "execution": {
     "iopub.execute_input": "2021-01-12T07:11:18.478789Z",
     "iopub.status.busy": "2021-01-12T07:11:18.477798Z",
     "iopub.status.idle": "2021-01-12T07:11:18.481758Z",
     "shell.execute_reply": "2021-01-12T07:11:18.482229Z"
    },
    "papermill": {
     "duration": 0.070214,
     "end_time": "2021-01-12T07:11:18.482365",
     "exception": false,
     "start_time": "2021-01-12T07:11:18.412151",
     "status": "completed"
    },
    "tags": []
   },
   "outputs": [
    {
     "data": {
      "text/plain": [
       "A   -0.019724\n",
       "B    0.827771\n",
       "C    0.522569\n",
       "D   -0.534118\n",
       "Name: 2013-01-04 00:00:00, dtype: float64"
      ]
     },
     "execution_count": 26,
     "metadata": {},
     "output_type": "execute_result"
    }
   ],
   "source": [
    "# 用整数位置选择\n",
    "df.iloc[3]"
   ]
  },
  {
   "cell_type": "code",
   "execution_count": 27,
   "metadata": {
    "execution": {
     "iopub.execute_input": "2021-01-12T07:11:18.602438Z",
     "iopub.status.busy": "2021-01-12T07:11:18.601880Z",
     "iopub.status.idle": "2021-01-12T07:11:18.610289Z",
     "shell.execute_reply": "2021-01-12T07:11:18.610855Z"
    },
    "papermill": {
     "duration": 0.06985,
     "end_time": "2021-01-12T07:11:18.610982",
     "exception": false,
     "start_time": "2021-01-12T07:11:18.541132",
     "status": "completed"
    },
    "tags": []
   },
   "outputs": [
    {
     "data": {
      "text/html": [
       "<div>\n",
       "<style scoped>\n",
       "    .dataframe tbody tr th:only-of-type {\n",
       "        vertical-align: middle;\n",
       "    }\n",
       "\n",
       "    .dataframe tbody tr th {\n",
       "        vertical-align: top;\n",
       "    }\n",
       "\n",
       "    .dataframe thead th {\n",
       "        text-align: right;\n",
       "    }\n",
       "</style>\n",
       "<table border=\"1\" class=\"dataframe\">\n",
       "  <thead>\n",
       "    <tr style=\"text-align: right;\">\n",
       "      <th></th>\n",
       "      <th>A</th>\n",
       "      <th>B</th>\n",
       "    </tr>\n",
       "  </thead>\n",
       "  <tbody>\n",
       "    <tr>\n",
       "      <th>2013-01-04</th>\n",
       "      <td>-0.019724</td>\n",
       "      <td>0.827771</td>\n",
       "    </tr>\n",
       "    <tr>\n",
       "      <th>2013-01-05</th>\n",
       "      <td>-1.547823</td>\n",
       "      <td>1.091031</td>\n",
       "    </tr>\n",
       "  </tbody>\n",
       "</table>\n",
       "</div>"
      ],
      "text/plain": [
       "                   A         B\n",
       "2013-01-04 -0.019724  0.827771\n",
       "2013-01-05 -1.547823  1.091031"
      ]
     },
     "execution_count": 27,
     "metadata": {},
     "output_type": "execute_result"
    }
   ],
   "source": [
    "# 类似 NumPy / Python，用整数切片\n",
    "df.iloc[3:5, 0:2]"
   ]
  },
  {
   "cell_type": "code",
   "execution_count": 28,
   "metadata": {
    "execution": {
     "iopub.execute_input": "2021-01-12T07:11:18.731678Z",
     "iopub.status.busy": "2021-01-12T07:11:18.731095Z",
     "iopub.status.idle": "2021-01-12T07:11:18.740605Z",
     "shell.execute_reply": "2021-01-12T07:11:18.741170Z"
    },
    "papermill": {
     "duration": 0.070941,
     "end_time": "2021-01-12T07:11:18.741294",
     "exception": false,
     "start_time": "2021-01-12T07:11:18.670353",
     "status": "completed"
    },
    "tags": []
   },
   "outputs": [
    {
     "data": {
      "text/html": [
       "<div>\n",
       "<style scoped>\n",
       "    .dataframe tbody tr th:only-of-type {\n",
       "        vertical-align: middle;\n",
       "    }\n",
       "\n",
       "    .dataframe tbody tr th {\n",
       "        vertical-align: top;\n",
       "    }\n",
       "\n",
       "    .dataframe thead th {\n",
       "        text-align: right;\n",
       "    }\n",
       "</style>\n",
       "<table border=\"1\" class=\"dataframe\">\n",
       "  <thead>\n",
       "    <tr style=\"text-align: right;\">\n",
       "      <th></th>\n",
       "      <th>A</th>\n",
       "      <th>C</th>\n",
       "    </tr>\n",
       "  </thead>\n",
       "  <tbody>\n",
       "    <tr>\n",
       "      <th>2013-01-02</th>\n",
       "      <td>-0.507044</td>\n",
       "      <td>-1.426304</td>\n",
       "    </tr>\n",
       "    <tr>\n",
       "      <th>2013-01-03</th>\n",
       "      <td>0.458939</td>\n",
       "      <td>0.016088</td>\n",
       "    </tr>\n",
       "    <tr>\n",
       "      <th>2013-01-05</th>\n",
       "      <td>-1.547823</td>\n",
       "      <td>0.359625</td>\n",
       "    </tr>\n",
       "  </tbody>\n",
       "</table>\n",
       "</div>"
      ],
      "text/plain": [
       "                   A         C\n",
       "2013-01-02 -0.507044 -1.426304\n",
       "2013-01-03  0.458939  0.016088\n",
       "2013-01-05 -1.547823  0.359625"
      ]
     },
     "execution_count": 28,
     "metadata": {},
     "output_type": "execute_result"
    }
   ],
   "source": [
    "# 类似 NumPy / Python，用整数列表按位置切片\n",
    "df.iloc[[1, 2, 4], [0, 2]]"
   ]
  },
  {
   "cell_type": "code",
   "execution_count": 29,
   "metadata": {
    "execution": {
     "iopub.execute_input": "2021-01-12T07:11:18.862784Z",
     "iopub.status.busy": "2021-01-12T07:11:18.862174Z",
     "iopub.status.idle": "2021-01-12T07:11:18.871878Z",
     "shell.execute_reply": "2021-01-12T07:11:18.872404Z"
    },
    "papermill": {
     "duration": 0.072684,
     "end_time": "2021-01-12T07:11:18.872544",
     "exception": false,
     "start_time": "2021-01-12T07:11:18.799860",
     "status": "completed"
    },
    "tags": []
   },
   "outputs": [
    {
     "data": {
      "text/html": [
       "<div>\n",
       "<style scoped>\n",
       "    .dataframe tbody tr th:only-of-type {\n",
       "        vertical-align: middle;\n",
       "    }\n",
       "\n",
       "    .dataframe tbody tr th {\n",
       "        vertical-align: top;\n",
       "    }\n",
       "\n",
       "    .dataframe thead th {\n",
       "        text-align: right;\n",
       "    }\n",
       "</style>\n",
       "<table border=\"1\" class=\"dataframe\">\n",
       "  <thead>\n",
       "    <tr style=\"text-align: right;\">\n",
       "      <th></th>\n",
       "      <th>A</th>\n",
       "      <th>B</th>\n",
       "      <th>C</th>\n",
       "      <th>D</th>\n",
       "    </tr>\n",
       "  </thead>\n",
       "  <tbody>\n",
       "    <tr>\n",
       "      <th>2013-01-02</th>\n",
       "      <td>-0.507044</td>\n",
       "      <td>0.851004</td>\n",
       "      <td>-1.426304</td>\n",
       "      <td>-0.359881</td>\n",
       "    </tr>\n",
       "    <tr>\n",
       "      <th>2013-01-03</th>\n",
       "      <td>0.458939</td>\n",
       "      <td>0.524491</td>\n",
       "      <td>0.016088</td>\n",
       "      <td>2.222337</td>\n",
       "    </tr>\n",
       "  </tbody>\n",
       "</table>\n",
       "</div>"
      ],
      "text/plain": [
       "                   A         B         C         D\n",
       "2013-01-02 -0.507044  0.851004 -1.426304 -0.359881\n",
       "2013-01-03  0.458939  0.524491  0.016088  2.222337"
      ]
     },
     "execution_count": 29,
     "metadata": {},
     "output_type": "execute_result"
    }
   ],
   "source": [
    "# 显式整行切片\n",
    "df.iloc[1:3, :]"
   ]
  },
  {
   "cell_type": "code",
   "execution_count": 30,
   "metadata": {
    "execution": {
     "iopub.execute_input": "2021-01-12T07:11:18.990238Z",
     "iopub.status.busy": "2021-01-12T07:11:18.989651Z",
     "iopub.status.idle": "2021-01-12T07:11:18.998605Z",
     "shell.execute_reply": "2021-01-12T07:11:18.999125Z"
    },
    "papermill": {
     "duration": 0.069016,
     "end_time": "2021-01-12T07:11:18.999244",
     "exception": false,
     "start_time": "2021-01-12T07:11:18.930228",
     "status": "completed"
    },
    "tags": []
   },
   "outputs": [
    {
     "data": {
      "text/html": [
       "<div>\n",
       "<style scoped>\n",
       "    .dataframe tbody tr th:only-of-type {\n",
       "        vertical-align: middle;\n",
       "    }\n",
       "\n",
       "    .dataframe tbody tr th {\n",
       "        vertical-align: top;\n",
       "    }\n",
       "\n",
       "    .dataframe thead th {\n",
       "        text-align: right;\n",
       "    }\n",
       "</style>\n",
       "<table border=\"1\" class=\"dataframe\">\n",
       "  <thead>\n",
       "    <tr style=\"text-align: right;\">\n",
       "      <th></th>\n",
       "      <th>B</th>\n",
       "      <th>C</th>\n",
       "    </tr>\n",
       "  </thead>\n",
       "  <tbody>\n",
       "    <tr>\n",
       "      <th>2013-01-01</th>\n",
       "      <td>-1.738729</td>\n",
       "      <td>0.381403</td>\n",
       "    </tr>\n",
       "    <tr>\n",
       "      <th>2013-01-02</th>\n",
       "      <td>0.851004</td>\n",
       "      <td>-1.426304</td>\n",
       "    </tr>\n",
       "    <tr>\n",
       "      <th>2013-01-03</th>\n",
       "      <td>0.524491</td>\n",
       "      <td>0.016088</td>\n",
       "    </tr>\n",
       "    <tr>\n",
       "      <th>2013-01-04</th>\n",
       "      <td>0.827771</td>\n",
       "      <td>0.522569</td>\n",
       "    </tr>\n",
       "    <tr>\n",
       "      <th>2013-01-05</th>\n",
       "      <td>1.091031</td>\n",
       "      <td>0.359625</td>\n",
       "    </tr>\n",
       "    <tr>\n",
       "      <th>2013-01-06</th>\n",
       "      <td>-0.115541</td>\n",
       "      <td>0.365709</td>\n",
       "    </tr>\n",
       "  </tbody>\n",
       "</table>\n",
       "</div>"
      ],
      "text/plain": [
       "                   B         C\n",
       "2013-01-01 -1.738729  0.381403\n",
       "2013-01-02  0.851004 -1.426304\n",
       "2013-01-03  0.524491  0.016088\n",
       "2013-01-04  0.827771  0.522569\n",
       "2013-01-05  1.091031  0.359625\n",
       "2013-01-06 -0.115541  0.365709"
      ]
     },
     "execution_count": 30,
     "metadata": {},
     "output_type": "execute_result"
    }
   ],
   "source": [
    "# 显式整列切片\n",
    "df.iloc[:, 1:3]"
   ]
  },
  {
   "cell_type": "code",
   "execution_count": 31,
   "metadata": {
    "execution": {
     "iopub.execute_input": "2021-01-12T07:11:19.119587Z",
     "iopub.status.busy": "2021-01-12T07:11:19.119031Z",
     "iopub.status.idle": "2021-01-12T07:11:19.123693Z",
     "shell.execute_reply": "2021-01-12T07:11:19.124296Z"
    },
    "papermill": {
     "duration": 0.065834,
     "end_time": "2021-01-12T07:11:19.124419",
     "exception": false,
     "start_time": "2021-01-12T07:11:19.058585",
     "status": "completed"
    },
    "tags": []
   },
   "outputs": [
    {
     "data": {
      "text/plain": [
       "0.851004013402816"
      ]
     },
     "execution_count": 31,
     "metadata": {},
     "output_type": "execute_result"
    }
   ],
   "source": [
    "# 显式提取值\n",
    "df.iloc[1, 1]"
   ]
  },
  {
   "cell_type": "code",
   "execution_count": 32,
   "metadata": {
    "execution": {
     "iopub.execute_input": "2021-01-12T07:11:19.257138Z",
     "iopub.status.busy": "2021-01-12T07:11:19.256137Z",
     "iopub.status.idle": "2021-01-12T07:11:19.262528Z",
     "shell.execute_reply": "2021-01-12T07:11:19.261944Z"
    },
    "papermill": {
     "duration": 0.078547,
     "end_time": "2021-01-12T07:11:19.262660",
     "exception": false,
     "start_time": "2021-01-12T07:11:19.184113",
     "status": "completed"
    },
    "tags": []
   },
   "outputs": [
    {
     "data": {
      "text/plain": [
       "0.851004013402816"
      ]
     },
     "execution_count": 32,
     "metadata": {},
     "output_type": "execute_result"
    }
   ],
   "source": [
    "# 快速访问标量，与上述方法等效\n",
    "df.iat[1, 1]"
   ]
  },
  {
   "cell_type": "markdown",
   "metadata": {
    "papermill": {
     "duration": 0.07008,
     "end_time": "2021-01-12T07:11:19.411023",
     "exception": false,
     "start_time": "2021-01-12T07:11:19.340943",
     "status": "completed"
    },
    "tags": []
   },
   "source": [
    "## 布尔索引"
   ]
  },
  {
   "cell_type": "code",
   "execution_count": 33,
   "metadata": {
    "execution": {
     "iopub.execute_input": "2021-01-12T07:11:19.540937Z",
     "iopub.status.busy": "2021-01-12T07:11:19.540275Z",
     "iopub.status.idle": "2021-01-12T07:11:19.569659Z",
     "shell.execute_reply": "2021-01-12T07:11:19.569000Z"
    },
    "papermill": {
     "duration": 0.094287,
     "end_time": "2021-01-12T07:11:19.569773",
     "exception": false,
     "start_time": "2021-01-12T07:11:19.475486",
     "status": "completed"
    },
    "tags": []
   },
   "outputs": [
    {
     "data": {
      "text/html": [
       "<div>\n",
       "<style scoped>\n",
       "    .dataframe tbody tr th:only-of-type {\n",
       "        vertical-align: middle;\n",
       "    }\n",
       "\n",
       "    .dataframe tbody tr th {\n",
       "        vertical-align: top;\n",
       "    }\n",
       "\n",
       "    .dataframe thead th {\n",
       "        text-align: right;\n",
       "    }\n",
       "</style>\n",
       "<table border=\"1\" class=\"dataframe\">\n",
       "  <thead>\n",
       "    <tr style=\"text-align: right;\">\n",
       "      <th></th>\n",
       "      <th>A</th>\n",
       "      <th>B</th>\n",
       "      <th>C</th>\n",
       "      <th>D</th>\n",
       "    </tr>\n",
       "  </thead>\n",
       "  <tbody>\n",
       "    <tr>\n",
       "      <th>2013-01-03</th>\n",
       "      <td>0.458939</td>\n",
       "      <td>0.524491</td>\n",
       "      <td>0.016088</td>\n",
       "      <td>2.222337</td>\n",
       "    </tr>\n",
       "    <tr>\n",
       "      <th>2013-01-06</th>\n",
       "      <td>0.573844</td>\n",
       "      <td>-0.115541</td>\n",
       "      <td>0.365709</td>\n",
       "      <td>0.154545</td>\n",
       "    </tr>\n",
       "  </tbody>\n",
       "</table>\n",
       "</div>"
      ],
      "text/plain": [
       "                   A         B         C         D\n",
       "2013-01-03  0.458939  0.524491  0.016088  2.222337\n",
       "2013-01-06  0.573844 -0.115541  0.365709  0.154545"
      ]
     },
     "execution_count": 33,
     "metadata": {},
     "output_type": "execute_result"
    }
   ],
   "source": [
    "# 用单列的值选择数据\n",
    "df[df.A > 0]"
   ]
  },
  {
   "cell_type": "code",
   "execution_count": 34,
   "metadata": {
    "execution": {
     "iopub.execute_input": "2021-01-12T07:11:19.707425Z",
     "iopub.status.busy": "2021-01-12T07:11:19.706351Z",
     "iopub.status.idle": "2021-01-12T07:11:19.710678Z",
     "shell.execute_reply": "2021-01-12T07:11:19.710093Z"
    },
    "papermill": {
     "duration": 0.078165,
     "end_time": "2021-01-12T07:11:19.710786",
     "exception": false,
     "start_time": "2021-01-12T07:11:19.632621",
     "status": "completed"
    },
    "tags": []
   },
   "outputs": [
    {
     "data": {
      "text/html": [
       "<div>\n",
       "<style scoped>\n",
       "    .dataframe tbody tr th:only-of-type {\n",
       "        vertical-align: middle;\n",
       "    }\n",
       "\n",
       "    .dataframe tbody tr th {\n",
       "        vertical-align: top;\n",
       "    }\n",
       "\n",
       "    .dataframe thead th {\n",
       "        text-align: right;\n",
       "    }\n",
       "</style>\n",
       "<table border=\"1\" class=\"dataframe\">\n",
       "  <thead>\n",
       "    <tr style=\"text-align: right;\">\n",
       "      <th></th>\n",
       "      <th>A</th>\n",
       "      <th>B</th>\n",
       "      <th>C</th>\n",
       "      <th>D</th>\n",
       "    </tr>\n",
       "  </thead>\n",
       "  <tbody>\n",
       "    <tr>\n",
       "      <th>2013-01-01</th>\n",
       "      <td>NaN</td>\n",
       "      <td>NaN</td>\n",
       "      <td>0.381403</td>\n",
       "      <td>1.135077</td>\n",
       "    </tr>\n",
       "    <tr>\n",
       "      <th>2013-01-02</th>\n",
       "      <td>NaN</td>\n",
       "      <td>0.851004</td>\n",
       "      <td>NaN</td>\n",
       "      <td>NaN</td>\n",
       "    </tr>\n",
       "    <tr>\n",
       "      <th>2013-01-03</th>\n",
       "      <td>0.458939</td>\n",
       "      <td>0.524491</td>\n",
       "      <td>0.016088</td>\n",
       "      <td>2.222337</td>\n",
       "    </tr>\n",
       "    <tr>\n",
       "      <th>2013-01-04</th>\n",
       "      <td>NaN</td>\n",
       "      <td>0.827771</td>\n",
       "      <td>0.522569</td>\n",
       "      <td>NaN</td>\n",
       "    </tr>\n",
       "    <tr>\n",
       "      <th>2013-01-05</th>\n",
       "      <td>NaN</td>\n",
       "      <td>1.091031</td>\n",
       "      <td>0.359625</td>\n",
       "      <td>0.056397</td>\n",
       "    </tr>\n",
       "    <tr>\n",
       "      <th>2013-01-06</th>\n",
       "      <td>0.573844</td>\n",
       "      <td>NaN</td>\n",
       "      <td>0.365709</td>\n",
       "      <td>0.154545</td>\n",
       "    </tr>\n",
       "  </tbody>\n",
       "</table>\n",
       "</div>"
      ],
      "text/plain": [
       "                   A         B         C         D\n",
       "2013-01-01       NaN       NaN  0.381403  1.135077\n",
       "2013-01-02       NaN  0.851004       NaN       NaN\n",
       "2013-01-03  0.458939  0.524491  0.016088  2.222337\n",
       "2013-01-04       NaN  0.827771  0.522569       NaN\n",
       "2013-01-05       NaN  1.091031  0.359625  0.056397\n",
       "2013-01-06  0.573844       NaN  0.365709  0.154545"
      ]
     },
     "execution_count": 34,
     "metadata": {},
     "output_type": "execute_result"
    }
   ],
   "source": [
    "# 选择 DataFrame 里满足条件的值\n",
    "df[df > 0]"
   ]
  },
  {
   "cell_type": "code",
   "execution_count": 35,
   "metadata": {
    "execution": {
     "iopub.execute_input": "2021-01-12T07:11:19.854248Z",
     "iopub.status.busy": "2021-01-12T07:11:19.853124Z",
     "iopub.status.idle": "2021-01-12T07:11:19.857959Z",
     "shell.execute_reply": "2021-01-12T07:11:19.857481Z"
    },
    "papermill": {
     "duration": 0.082929,
     "end_time": "2021-01-12T07:11:19.858066",
     "exception": false,
     "start_time": "2021-01-12T07:11:19.775137",
     "status": "completed"
    },
    "tags": []
   },
   "outputs": [
    {
     "data": {
      "text/html": [
       "<div>\n",
       "<style scoped>\n",
       "    .dataframe tbody tr th:only-of-type {\n",
       "        vertical-align: middle;\n",
       "    }\n",
       "\n",
       "    .dataframe tbody tr th {\n",
       "        vertical-align: top;\n",
       "    }\n",
       "\n",
       "    .dataframe thead th {\n",
       "        text-align: right;\n",
       "    }\n",
       "</style>\n",
       "<table border=\"1\" class=\"dataframe\">\n",
       "  <thead>\n",
       "    <tr style=\"text-align: right;\">\n",
       "      <th></th>\n",
       "      <th>A</th>\n",
       "      <th>B</th>\n",
       "      <th>C</th>\n",
       "      <th>D</th>\n",
       "      <th>E</th>\n",
       "    </tr>\n",
       "  </thead>\n",
       "  <tbody>\n",
       "    <tr>\n",
       "      <th>2013-01-01</th>\n",
       "      <td>-1.733128</td>\n",
       "      <td>-1.738729</td>\n",
       "      <td>0.381403</td>\n",
       "      <td>1.135077</td>\n",
       "      <td>one</td>\n",
       "    </tr>\n",
       "    <tr>\n",
       "      <th>2013-01-02</th>\n",
       "      <td>-0.507044</td>\n",
       "      <td>0.851004</td>\n",
       "      <td>-1.426304</td>\n",
       "      <td>-0.359881</td>\n",
       "      <td>one</td>\n",
       "    </tr>\n",
       "    <tr>\n",
       "      <th>2013-01-03</th>\n",
       "      <td>0.458939</td>\n",
       "      <td>0.524491</td>\n",
       "      <td>0.016088</td>\n",
       "      <td>2.222337</td>\n",
       "      <td>two</td>\n",
       "    </tr>\n",
       "    <tr>\n",
       "      <th>2013-01-04</th>\n",
       "      <td>-0.019724</td>\n",
       "      <td>0.827771</td>\n",
       "      <td>0.522569</td>\n",
       "      <td>-0.534118</td>\n",
       "      <td>three</td>\n",
       "    </tr>\n",
       "    <tr>\n",
       "      <th>2013-01-05</th>\n",
       "      <td>-1.547823</td>\n",
       "      <td>1.091031</td>\n",
       "      <td>0.359625</td>\n",
       "      <td>0.056397</td>\n",
       "      <td>four</td>\n",
       "    </tr>\n",
       "    <tr>\n",
       "      <th>2013-01-06</th>\n",
       "      <td>0.573844</td>\n",
       "      <td>-0.115541</td>\n",
       "      <td>0.365709</td>\n",
       "      <td>0.154545</td>\n",
       "      <td>three</td>\n",
       "    </tr>\n",
       "  </tbody>\n",
       "</table>\n",
       "</div>"
      ],
      "text/plain": [
       "                   A         B         C         D      E\n",
       "2013-01-01 -1.733128 -1.738729  0.381403  1.135077    one\n",
       "2013-01-02 -0.507044  0.851004 -1.426304 -0.359881    one\n",
       "2013-01-03  0.458939  0.524491  0.016088  2.222337    two\n",
       "2013-01-04 -0.019724  0.827771  0.522569 -0.534118  three\n",
       "2013-01-05 -1.547823  1.091031  0.359625  0.056397   four\n",
       "2013-01-06  0.573844 -0.115541  0.365709  0.154545  three"
      ]
     },
     "execution_count": 35,
     "metadata": {},
     "output_type": "execute_result"
    }
   ],
   "source": [
    "# 用 isin() 筛选\n",
    "df2 = df.copy()\n",
    "df2['E'] = ['one', 'one', 'two', 'three', 'four', 'three']\n",
    "df2"
   ]
  },
  {
   "cell_type": "code",
   "execution_count": 36,
   "metadata": {
    "execution": {
     "iopub.execute_input": "2021-01-12T07:11:20.000020Z",
     "iopub.status.busy": "2021-01-12T07:11:19.996714Z",
     "iopub.status.idle": "2021-01-12T07:11:20.005310Z",
     "shell.execute_reply": "2021-01-12T07:11:20.004824Z"
    },
    "papermill": {
     "duration": 0.083572,
     "end_time": "2021-01-12T07:11:20.005422",
     "exception": false,
     "start_time": "2021-01-12T07:11:19.921850",
     "status": "completed"
    },
    "tags": []
   },
   "outputs": [
    {
     "data": {
      "text/html": [
       "<div>\n",
       "<style scoped>\n",
       "    .dataframe tbody tr th:only-of-type {\n",
       "        vertical-align: middle;\n",
       "    }\n",
       "\n",
       "    .dataframe tbody tr th {\n",
       "        vertical-align: top;\n",
       "    }\n",
       "\n",
       "    .dataframe thead th {\n",
       "        text-align: right;\n",
       "    }\n",
       "</style>\n",
       "<table border=\"1\" class=\"dataframe\">\n",
       "  <thead>\n",
       "    <tr style=\"text-align: right;\">\n",
       "      <th></th>\n",
       "      <th>A</th>\n",
       "      <th>B</th>\n",
       "      <th>C</th>\n",
       "      <th>D</th>\n",
       "      <th>E</th>\n",
       "    </tr>\n",
       "  </thead>\n",
       "  <tbody>\n",
       "    <tr>\n",
       "      <th>2013-01-03</th>\n",
       "      <td>0.458939</td>\n",
       "      <td>0.524491</td>\n",
       "      <td>0.016088</td>\n",
       "      <td>2.222337</td>\n",
       "      <td>two</td>\n",
       "    </tr>\n",
       "    <tr>\n",
       "      <th>2013-01-05</th>\n",
       "      <td>-1.547823</td>\n",
       "      <td>1.091031</td>\n",
       "      <td>0.359625</td>\n",
       "      <td>0.056397</td>\n",
       "      <td>four</td>\n",
       "    </tr>\n",
       "  </tbody>\n",
       "</table>\n",
       "</div>"
      ],
      "text/plain": [
       "                   A         B         C         D     E\n",
       "2013-01-03  0.458939  0.524491  0.016088  2.222337   two\n",
       "2013-01-05 -1.547823  1.091031  0.359625  0.056397  four"
      ]
     },
     "execution_count": 36,
     "metadata": {},
     "output_type": "execute_result"
    }
   ],
   "source": [
    "df2[df2['E'].isin(['two', 'four'])]"
   ]
  },
  {
   "cell_type": "markdown",
   "metadata": {
    "papermill": {
     "duration": 0.06494,
     "end_time": "2021-01-12T07:11:20.135571",
     "exception": false,
     "start_time": "2021-01-12T07:11:20.070631",
     "status": "completed"
    },
    "tags": []
   },
   "source": [
    "## 赋值"
   ]
  },
  {
   "cell_type": "code",
   "execution_count": 37,
   "metadata": {
    "execution": {
     "iopub.execute_input": "2021-01-12T07:11:20.274524Z",
     "iopub.status.busy": "2021-01-12T07:11:20.273579Z",
     "iopub.status.idle": "2021-01-12T07:11:20.277875Z",
     "shell.execute_reply": "2021-01-12T07:11:20.277399Z"
    },
    "papermill": {
     "duration": 0.076748,
     "end_time": "2021-01-12T07:11:20.277980",
     "exception": false,
     "start_time": "2021-01-12T07:11:20.201232",
     "status": "completed"
    },
    "tags": []
   },
   "outputs": [
    {
     "data": {
      "text/plain": [
       "2013-01-02    1\n",
       "2013-01-03    2\n",
       "2013-01-04    3\n",
       "2013-01-05    4\n",
       "2013-01-06    5\n",
       "2013-01-07    6\n",
       "Freq: D, dtype: int64"
      ]
     },
     "execution_count": 37,
     "metadata": {},
     "output_type": "execute_result"
    }
   ],
   "source": [
    "# 用索引自动对齐新增列的数据：\n",
    "s1 = pd.Series([1, 2, 3, 4, 5, 6], index=pd.date_range('20130102', periods=6))\n",
    "s1"
   ]
  },
  {
   "cell_type": "code",
   "execution_count": 38,
   "metadata": {
    "execution": {
     "iopub.execute_input": "2021-01-12T07:11:20.420747Z",
     "iopub.status.busy": "2021-01-12T07:11:20.420112Z",
     "iopub.status.idle": "2021-01-12T07:11:20.422980Z",
     "shell.execute_reply": "2021-01-12T07:11:20.423472Z"
    },
    "papermill": {
     "duration": 0.081444,
     "end_time": "2021-01-12T07:11:20.423630",
     "exception": false,
     "start_time": "2021-01-12T07:11:20.342186",
     "status": "completed"
    },
    "tags": []
   },
   "outputs": [
    {
     "data": {
      "text/html": [
       "<div>\n",
       "<style scoped>\n",
       "    .dataframe tbody tr th:only-of-type {\n",
       "        vertical-align: middle;\n",
       "    }\n",
       "\n",
       "    .dataframe tbody tr th {\n",
       "        vertical-align: top;\n",
       "    }\n",
       "\n",
       "    .dataframe thead th {\n",
       "        text-align: right;\n",
       "    }\n",
       "</style>\n",
       "<table border=\"1\" class=\"dataframe\">\n",
       "  <thead>\n",
       "    <tr style=\"text-align: right;\">\n",
       "      <th></th>\n",
       "      <th>A</th>\n",
       "      <th>B</th>\n",
       "      <th>C</th>\n",
       "      <th>D</th>\n",
       "      <th>F</th>\n",
       "    </tr>\n",
       "  </thead>\n",
       "  <tbody>\n",
       "    <tr>\n",
       "      <th>2013-01-01</th>\n",
       "      <td>-1.733128</td>\n",
       "      <td>-1.738729</td>\n",
       "      <td>0.381403</td>\n",
       "      <td>1.135077</td>\n",
       "      <td>NaN</td>\n",
       "    </tr>\n",
       "    <tr>\n",
       "      <th>2013-01-02</th>\n",
       "      <td>-0.507044</td>\n",
       "      <td>0.851004</td>\n",
       "      <td>-1.426304</td>\n",
       "      <td>-0.359881</td>\n",
       "      <td>1.0</td>\n",
       "    </tr>\n",
       "    <tr>\n",
       "      <th>2013-01-03</th>\n",
       "      <td>0.458939</td>\n",
       "      <td>0.524491</td>\n",
       "      <td>0.016088</td>\n",
       "      <td>2.222337</td>\n",
       "      <td>2.0</td>\n",
       "    </tr>\n",
       "    <tr>\n",
       "      <th>2013-01-04</th>\n",
       "      <td>-0.019724</td>\n",
       "      <td>0.827771</td>\n",
       "      <td>0.522569</td>\n",
       "      <td>-0.534118</td>\n",
       "      <td>3.0</td>\n",
       "    </tr>\n",
       "    <tr>\n",
       "      <th>2013-01-05</th>\n",
       "      <td>-1.547823</td>\n",
       "      <td>1.091031</td>\n",
       "      <td>0.359625</td>\n",
       "      <td>0.056397</td>\n",
       "      <td>4.0</td>\n",
       "    </tr>\n",
       "    <tr>\n",
       "      <th>2013-01-06</th>\n",
       "      <td>0.573844</td>\n",
       "      <td>-0.115541</td>\n",
       "      <td>0.365709</td>\n",
       "      <td>0.154545</td>\n",
       "      <td>5.0</td>\n",
       "    </tr>\n",
       "  </tbody>\n",
       "</table>\n",
       "</div>"
      ],
      "text/plain": [
       "                   A         B         C         D    F\n",
       "2013-01-01 -1.733128 -1.738729  0.381403  1.135077  NaN\n",
       "2013-01-02 -0.507044  0.851004 -1.426304 -0.359881  1.0\n",
       "2013-01-03  0.458939  0.524491  0.016088  2.222337  2.0\n",
       "2013-01-04 -0.019724  0.827771  0.522569 -0.534118  3.0\n",
       "2013-01-05 -1.547823  1.091031  0.359625  0.056397  4.0\n",
       "2013-01-06  0.573844 -0.115541  0.365709  0.154545  5.0"
      ]
     },
     "execution_count": 38,
     "metadata": {},
     "output_type": "execute_result"
    }
   ],
   "source": [
    "df['F'] = s1\n",
    "df"
   ]
  },
  {
   "cell_type": "code",
   "execution_count": 39,
   "metadata": {
    "execution": {
     "iopub.execute_input": "2021-01-12T07:11:20.558813Z",
     "iopub.status.busy": "2021-01-12T07:11:20.558185Z",
     "iopub.status.idle": "2021-01-12T07:11:20.571267Z",
     "shell.execute_reply": "2021-01-12T07:11:20.570733Z"
    },
    "papermill": {
     "duration": 0.080972,
     "end_time": "2021-01-12T07:11:20.571398",
     "exception": false,
     "start_time": "2021-01-12T07:11:20.490426",
     "status": "completed"
    },
    "tags": []
   },
   "outputs": [
    {
     "data": {
      "text/html": [
       "<div>\n",
       "<style scoped>\n",
       "    .dataframe tbody tr th:only-of-type {\n",
       "        vertical-align: middle;\n",
       "    }\n",
       "\n",
       "    .dataframe tbody tr th {\n",
       "        vertical-align: top;\n",
       "    }\n",
       "\n",
       "    .dataframe thead th {\n",
       "        text-align: right;\n",
       "    }\n",
       "</style>\n",
       "<table border=\"1\" class=\"dataframe\">\n",
       "  <thead>\n",
       "    <tr style=\"text-align: right;\">\n",
       "      <th></th>\n",
       "      <th>A</th>\n",
       "      <th>B</th>\n",
       "      <th>C</th>\n",
       "      <th>D</th>\n",
       "      <th>F</th>\n",
       "    </tr>\n",
       "  </thead>\n",
       "  <tbody>\n",
       "    <tr>\n",
       "      <th>2013-01-01</th>\n",
       "      <td>0.000000</td>\n",
       "      <td>-1.738729</td>\n",
       "      <td>0.381403</td>\n",
       "      <td>1.135077</td>\n",
       "      <td>NaN</td>\n",
       "    </tr>\n",
       "    <tr>\n",
       "      <th>2013-01-02</th>\n",
       "      <td>-0.507044</td>\n",
       "      <td>0.851004</td>\n",
       "      <td>-1.426304</td>\n",
       "      <td>-0.359881</td>\n",
       "      <td>1.0</td>\n",
       "    </tr>\n",
       "    <tr>\n",
       "      <th>2013-01-03</th>\n",
       "      <td>0.458939</td>\n",
       "      <td>0.524491</td>\n",
       "      <td>0.016088</td>\n",
       "      <td>2.222337</td>\n",
       "      <td>2.0</td>\n",
       "    </tr>\n",
       "    <tr>\n",
       "      <th>2013-01-04</th>\n",
       "      <td>-0.019724</td>\n",
       "      <td>0.827771</td>\n",
       "      <td>0.522569</td>\n",
       "      <td>-0.534118</td>\n",
       "      <td>3.0</td>\n",
       "    </tr>\n",
       "    <tr>\n",
       "      <th>2013-01-05</th>\n",
       "      <td>-1.547823</td>\n",
       "      <td>1.091031</td>\n",
       "      <td>0.359625</td>\n",
       "      <td>0.056397</td>\n",
       "      <td>4.0</td>\n",
       "    </tr>\n",
       "    <tr>\n",
       "      <th>2013-01-06</th>\n",
       "      <td>0.573844</td>\n",
       "      <td>-0.115541</td>\n",
       "      <td>0.365709</td>\n",
       "      <td>0.154545</td>\n",
       "      <td>5.0</td>\n",
       "    </tr>\n",
       "  </tbody>\n",
       "</table>\n",
       "</div>"
      ],
      "text/plain": [
       "                   A         B         C         D    F\n",
       "2013-01-01  0.000000 -1.738729  0.381403  1.135077  NaN\n",
       "2013-01-02 -0.507044  0.851004 -1.426304 -0.359881  1.0\n",
       "2013-01-03  0.458939  0.524491  0.016088  2.222337  2.0\n",
       "2013-01-04 -0.019724  0.827771  0.522569 -0.534118  3.0\n",
       "2013-01-05 -1.547823  1.091031  0.359625  0.056397  4.0\n",
       "2013-01-06  0.573844 -0.115541  0.365709  0.154545  5.0"
      ]
     },
     "execution_count": 39,
     "metadata": {},
     "output_type": "execute_result"
    }
   ],
   "source": [
    "# 按标签赋值\n",
    "df.at[dates[0], 'A'] = 0\n",
    "df"
   ]
  },
  {
   "cell_type": "code",
   "execution_count": 40,
   "metadata": {
    "execution": {
     "iopub.execute_input": "2021-01-12T07:11:20.716798Z",
     "iopub.status.busy": "2021-01-12T07:11:20.716121Z",
     "iopub.status.idle": "2021-01-12T07:11:20.719057Z",
     "shell.execute_reply": "2021-01-12T07:11:20.719583Z"
    },
    "papermill": {
     "duration": 0.081961,
     "end_time": "2021-01-12T07:11:20.719743",
     "exception": false,
     "start_time": "2021-01-12T07:11:20.637782",
     "status": "completed"
    },
    "tags": []
   },
   "outputs": [
    {
     "data": {
      "text/html": [
       "<div>\n",
       "<style scoped>\n",
       "    .dataframe tbody tr th:only-of-type {\n",
       "        vertical-align: middle;\n",
       "    }\n",
       "\n",
       "    .dataframe tbody tr th {\n",
       "        vertical-align: top;\n",
       "    }\n",
       "\n",
       "    .dataframe thead th {\n",
       "        text-align: right;\n",
       "    }\n",
       "</style>\n",
       "<table border=\"1\" class=\"dataframe\">\n",
       "  <thead>\n",
       "    <tr style=\"text-align: right;\">\n",
       "      <th></th>\n",
       "      <th>A</th>\n",
       "      <th>B</th>\n",
       "      <th>C</th>\n",
       "      <th>D</th>\n",
       "      <th>F</th>\n",
       "    </tr>\n",
       "  </thead>\n",
       "  <tbody>\n",
       "    <tr>\n",
       "      <th>2013-01-01</th>\n",
       "      <td>0.000000</td>\n",
       "      <td>0.000000</td>\n",
       "      <td>0.381403</td>\n",
       "      <td>1.135077</td>\n",
       "      <td>NaN</td>\n",
       "    </tr>\n",
       "    <tr>\n",
       "      <th>2013-01-02</th>\n",
       "      <td>-0.507044</td>\n",
       "      <td>0.851004</td>\n",
       "      <td>-1.426304</td>\n",
       "      <td>-0.359881</td>\n",
       "      <td>1.0</td>\n",
       "    </tr>\n",
       "    <tr>\n",
       "      <th>2013-01-03</th>\n",
       "      <td>0.458939</td>\n",
       "      <td>0.524491</td>\n",
       "      <td>0.016088</td>\n",
       "      <td>2.222337</td>\n",
       "      <td>2.0</td>\n",
       "    </tr>\n",
       "    <tr>\n",
       "      <th>2013-01-04</th>\n",
       "      <td>-0.019724</td>\n",
       "      <td>0.827771</td>\n",
       "      <td>0.522569</td>\n",
       "      <td>-0.534118</td>\n",
       "      <td>3.0</td>\n",
       "    </tr>\n",
       "    <tr>\n",
       "      <th>2013-01-05</th>\n",
       "      <td>-1.547823</td>\n",
       "      <td>1.091031</td>\n",
       "      <td>0.359625</td>\n",
       "      <td>0.056397</td>\n",
       "      <td>4.0</td>\n",
       "    </tr>\n",
       "    <tr>\n",
       "      <th>2013-01-06</th>\n",
       "      <td>0.573844</td>\n",
       "      <td>-0.115541</td>\n",
       "      <td>0.365709</td>\n",
       "      <td>0.154545</td>\n",
       "      <td>5.0</td>\n",
       "    </tr>\n",
       "  </tbody>\n",
       "</table>\n",
       "</div>"
      ],
      "text/plain": [
       "                   A         B         C         D    F\n",
       "2013-01-01  0.000000  0.000000  0.381403  1.135077  NaN\n",
       "2013-01-02 -0.507044  0.851004 -1.426304 -0.359881  1.0\n",
       "2013-01-03  0.458939  0.524491  0.016088  2.222337  2.0\n",
       "2013-01-04 -0.019724  0.827771  0.522569 -0.534118  3.0\n",
       "2013-01-05 -1.547823  1.091031  0.359625  0.056397  4.0\n",
       "2013-01-06  0.573844 -0.115541  0.365709  0.154545  5.0"
      ]
     },
     "execution_count": 40,
     "metadata": {},
     "output_type": "execute_result"
    }
   ],
   "source": [
    "# 按位置赋值\n",
    "df.iat[0, 1] = 0\n",
    "df"
   ]
  },
  {
   "cell_type": "code",
   "execution_count": 41,
   "metadata": {
    "execution": {
     "iopub.execute_input": "2021-01-12T07:11:20.857865Z",
     "iopub.status.busy": "2021-01-12T07:11:20.857233Z",
     "iopub.status.idle": "2021-01-12T07:11:20.869957Z",
     "shell.execute_reply": "2021-01-12T07:11:20.870394Z"
    },
    "papermill": {
     "duration": 0.083554,
     "end_time": "2021-01-12T07:11:20.870536",
     "exception": false,
     "start_time": "2021-01-12T07:11:20.786982",
     "status": "completed"
    },
    "tags": []
   },
   "outputs": [
    {
     "data": {
      "text/html": [
       "<div>\n",
       "<style scoped>\n",
       "    .dataframe tbody tr th:only-of-type {\n",
       "        vertical-align: middle;\n",
       "    }\n",
       "\n",
       "    .dataframe tbody tr th {\n",
       "        vertical-align: top;\n",
       "    }\n",
       "\n",
       "    .dataframe thead th {\n",
       "        text-align: right;\n",
       "    }\n",
       "</style>\n",
       "<table border=\"1\" class=\"dataframe\">\n",
       "  <thead>\n",
       "    <tr style=\"text-align: right;\">\n",
       "      <th></th>\n",
       "      <th>A</th>\n",
       "      <th>B</th>\n",
       "      <th>C</th>\n",
       "      <th>D</th>\n",
       "      <th>F</th>\n",
       "    </tr>\n",
       "  </thead>\n",
       "  <tbody>\n",
       "    <tr>\n",
       "      <th>2013-01-01</th>\n",
       "      <td>0.000000</td>\n",
       "      <td>0.000000</td>\n",
       "      <td>0.381403</td>\n",
       "      <td>5</td>\n",
       "      <td>NaN</td>\n",
       "    </tr>\n",
       "    <tr>\n",
       "      <th>2013-01-02</th>\n",
       "      <td>-0.507044</td>\n",
       "      <td>0.851004</td>\n",
       "      <td>-1.426304</td>\n",
       "      <td>5</td>\n",
       "      <td>1.0</td>\n",
       "    </tr>\n",
       "    <tr>\n",
       "      <th>2013-01-03</th>\n",
       "      <td>0.458939</td>\n",
       "      <td>0.524491</td>\n",
       "      <td>0.016088</td>\n",
       "      <td>5</td>\n",
       "      <td>2.0</td>\n",
       "    </tr>\n",
       "    <tr>\n",
       "      <th>2013-01-04</th>\n",
       "      <td>-0.019724</td>\n",
       "      <td>0.827771</td>\n",
       "      <td>0.522569</td>\n",
       "      <td>5</td>\n",
       "      <td>3.0</td>\n",
       "    </tr>\n",
       "    <tr>\n",
       "      <th>2013-01-05</th>\n",
       "      <td>-1.547823</td>\n",
       "      <td>1.091031</td>\n",
       "      <td>0.359625</td>\n",
       "      <td>5</td>\n",
       "      <td>4.0</td>\n",
       "    </tr>\n",
       "    <tr>\n",
       "      <th>2013-01-06</th>\n",
       "      <td>0.573844</td>\n",
       "      <td>-0.115541</td>\n",
       "      <td>0.365709</td>\n",
       "      <td>5</td>\n",
       "      <td>5.0</td>\n",
       "    </tr>\n",
       "  </tbody>\n",
       "</table>\n",
       "</div>"
      ],
      "text/plain": [
       "                   A         B         C  D    F\n",
       "2013-01-01  0.000000  0.000000  0.381403  5  NaN\n",
       "2013-01-02 -0.507044  0.851004 -1.426304  5  1.0\n",
       "2013-01-03  0.458939  0.524491  0.016088  5  2.0\n",
       "2013-01-04 -0.019724  0.827771  0.522569  5  3.0\n",
       "2013-01-05 -1.547823  1.091031  0.359625  5  4.0\n",
       "2013-01-06  0.573844 -0.115541  0.365709  5  5.0"
      ]
     },
     "execution_count": 41,
     "metadata": {},
     "output_type": "execute_result"
    }
   ],
   "source": [
    "# 按 NumPy 数组赋值\n",
    "df.loc[:, 'D'] = np.array([5] * len(df))\n",
    "df"
   ]
  },
  {
   "cell_type": "code",
   "execution_count": 42,
   "metadata": {
    "execution": {
     "iopub.execute_input": "2021-01-12T07:11:21.007885Z",
     "iopub.status.busy": "2021-01-12T07:11:21.007248Z",
     "iopub.status.idle": "2021-01-12T07:11:21.021967Z",
     "shell.execute_reply": "2021-01-12T07:11:21.022476Z"
    },
    "papermill": {
     "duration": 0.085145,
     "end_time": "2021-01-12T07:11:21.022649",
     "exception": false,
     "start_time": "2021-01-12T07:11:20.937504",
     "status": "completed"
    },
    "tags": []
   },
   "outputs": [
    {
     "data": {
      "text/html": [
       "<div>\n",
       "<style scoped>\n",
       "    .dataframe tbody tr th:only-of-type {\n",
       "        vertical-align: middle;\n",
       "    }\n",
       "\n",
       "    .dataframe tbody tr th {\n",
       "        vertical-align: top;\n",
       "    }\n",
       "\n",
       "    .dataframe thead th {\n",
       "        text-align: right;\n",
       "    }\n",
       "</style>\n",
       "<table border=\"1\" class=\"dataframe\">\n",
       "  <thead>\n",
       "    <tr style=\"text-align: right;\">\n",
       "      <th></th>\n",
       "      <th>A</th>\n",
       "      <th>B</th>\n",
       "      <th>C</th>\n",
       "      <th>D</th>\n",
       "      <th>F</th>\n",
       "    </tr>\n",
       "  </thead>\n",
       "  <tbody>\n",
       "    <tr>\n",
       "      <th>2013-01-01</th>\n",
       "      <td>0.000000</td>\n",
       "      <td>0.000000</td>\n",
       "      <td>-0.381403</td>\n",
       "      <td>-5</td>\n",
       "      <td>NaN</td>\n",
       "    </tr>\n",
       "    <tr>\n",
       "      <th>2013-01-02</th>\n",
       "      <td>-0.507044</td>\n",
       "      <td>-0.851004</td>\n",
       "      <td>-1.426304</td>\n",
       "      <td>-5</td>\n",
       "      <td>-1.0</td>\n",
       "    </tr>\n",
       "    <tr>\n",
       "      <th>2013-01-03</th>\n",
       "      <td>-0.458939</td>\n",
       "      <td>-0.524491</td>\n",
       "      <td>-0.016088</td>\n",
       "      <td>-5</td>\n",
       "      <td>-2.0</td>\n",
       "    </tr>\n",
       "    <tr>\n",
       "      <th>2013-01-04</th>\n",
       "      <td>-0.019724</td>\n",
       "      <td>-0.827771</td>\n",
       "      <td>-0.522569</td>\n",
       "      <td>-5</td>\n",
       "      <td>-3.0</td>\n",
       "    </tr>\n",
       "    <tr>\n",
       "      <th>2013-01-05</th>\n",
       "      <td>-1.547823</td>\n",
       "      <td>-1.091031</td>\n",
       "      <td>-0.359625</td>\n",
       "      <td>-5</td>\n",
       "      <td>-4.0</td>\n",
       "    </tr>\n",
       "    <tr>\n",
       "      <th>2013-01-06</th>\n",
       "      <td>-0.573844</td>\n",
       "      <td>-0.115541</td>\n",
       "      <td>-0.365709</td>\n",
       "      <td>-5</td>\n",
       "      <td>-5.0</td>\n",
       "    </tr>\n",
       "  </tbody>\n",
       "</table>\n",
       "</div>"
      ],
      "text/plain": [
       "                   A         B         C  D    F\n",
       "2013-01-01  0.000000  0.000000 -0.381403 -5  NaN\n",
       "2013-01-02 -0.507044 -0.851004 -1.426304 -5 -1.0\n",
       "2013-01-03 -0.458939 -0.524491 -0.016088 -5 -2.0\n",
       "2013-01-04 -0.019724 -0.827771 -0.522569 -5 -3.0\n",
       "2013-01-05 -1.547823 -1.091031 -0.359625 -5 -4.0\n",
       "2013-01-06 -0.573844 -0.115541 -0.365709 -5 -5.0"
      ]
     },
     "execution_count": 42,
     "metadata": {},
     "output_type": "execute_result"
    }
   ],
   "source": [
    "# 用 where 条件赋值：\n",
    "df2 = df.copy()\n",
    "df2[df2 > 0] = -df2\n",
    "df2"
   ]
  },
  {
   "cell_type": "markdown",
   "metadata": {
    "papermill": {
     "duration": 0.066612,
     "end_time": "2021-01-12T07:11:21.158153",
     "exception": false,
     "start_time": "2021-01-12T07:11:21.091541",
     "status": "completed"
    },
    "tags": []
   },
   "source": [
    "# 缺失值\n",
    "- Pandas 主要用 np.nan 表示缺失数据。 计算时，默认不包含空值\n",
    "- 重建索引（reindex）可以更改、添加、删除指定轴的索引，并返回数据副本，即不更改原数据"
   ]
  },
  {
   "cell_type": "code",
   "execution_count": 43,
   "metadata": {
    "execution": {
     "iopub.execute_input": "2021-01-12T07:11:21.297066Z",
     "iopub.status.busy": "2021-01-12T07:11:21.296447Z",
     "iopub.status.idle": "2021-01-12T07:11:21.311443Z",
     "shell.execute_reply": "2021-01-12T07:11:21.310810Z"
    },
    "papermill": {
     "duration": 0.086501,
     "end_time": "2021-01-12T07:11:21.311564",
     "exception": false,
     "start_time": "2021-01-12T07:11:21.225063",
     "status": "completed"
    },
    "tags": []
   },
   "outputs": [
    {
     "data": {
      "text/html": [
       "<div>\n",
       "<style scoped>\n",
       "    .dataframe tbody tr th:only-of-type {\n",
       "        vertical-align: middle;\n",
       "    }\n",
       "\n",
       "    .dataframe tbody tr th {\n",
       "        vertical-align: top;\n",
       "    }\n",
       "\n",
       "    .dataframe thead th {\n",
       "        text-align: right;\n",
       "    }\n",
       "</style>\n",
       "<table border=\"1\" class=\"dataframe\">\n",
       "  <thead>\n",
       "    <tr style=\"text-align: right;\">\n",
       "      <th></th>\n",
       "      <th>A</th>\n",
       "      <th>B</th>\n",
       "      <th>C</th>\n",
       "      <th>D</th>\n",
       "      <th>F</th>\n",
       "      <th>E</th>\n",
       "    </tr>\n",
       "  </thead>\n",
       "  <tbody>\n",
       "    <tr>\n",
       "      <th>2013-01-01</th>\n",
       "      <td>0.000000</td>\n",
       "      <td>0.000000</td>\n",
       "      <td>0.381403</td>\n",
       "      <td>5</td>\n",
       "      <td>NaN</td>\n",
       "      <td>1.0</td>\n",
       "    </tr>\n",
       "    <tr>\n",
       "      <th>2013-01-02</th>\n",
       "      <td>-0.507044</td>\n",
       "      <td>0.851004</td>\n",
       "      <td>-1.426304</td>\n",
       "      <td>5</td>\n",
       "      <td>1.0</td>\n",
       "      <td>1.0</td>\n",
       "    </tr>\n",
       "    <tr>\n",
       "      <th>2013-01-03</th>\n",
       "      <td>0.458939</td>\n",
       "      <td>0.524491</td>\n",
       "      <td>0.016088</td>\n",
       "      <td>5</td>\n",
       "      <td>2.0</td>\n",
       "      <td>NaN</td>\n",
       "    </tr>\n",
       "    <tr>\n",
       "      <th>2013-01-04</th>\n",
       "      <td>-0.019724</td>\n",
       "      <td>0.827771</td>\n",
       "      <td>0.522569</td>\n",
       "      <td>5</td>\n",
       "      <td>3.0</td>\n",
       "      <td>NaN</td>\n",
       "    </tr>\n",
       "  </tbody>\n",
       "</table>\n",
       "</div>"
      ],
      "text/plain": [
       "                   A         B         C  D    F    E\n",
       "2013-01-01  0.000000  0.000000  0.381403  5  NaN  1.0\n",
       "2013-01-02 -0.507044  0.851004 -1.426304  5  1.0  1.0\n",
       "2013-01-03  0.458939  0.524491  0.016088  5  2.0  NaN\n",
       "2013-01-04 -0.019724  0.827771  0.522569  5  3.0  NaN"
      ]
     },
     "execution_count": 43,
     "metadata": {},
     "output_type": "execute_result"
    }
   ],
   "source": [
    "df1 = df.reindex(index=dates[0:4], columns=list(df.columns) + ['E'])\n",
    "df1.loc[dates[0]:dates[1], 'E'] = 1\n",
    "df1"
   ]
  },
  {
   "cell_type": "code",
   "execution_count": 44,
   "metadata": {
    "execution": {
     "iopub.execute_input": "2021-01-12T07:11:21.463102Z",
     "iopub.status.busy": "2021-01-12T07:11:21.462132Z",
     "iopub.status.idle": "2021-01-12T07:11:21.465665Z",
     "shell.execute_reply": "2021-01-12T07:11:21.466165Z"
    },
    "papermill": {
     "duration": 0.086246,
     "end_time": "2021-01-12T07:11:21.466333",
     "exception": false,
     "start_time": "2021-01-12T07:11:21.380087",
     "status": "completed"
    },
    "tags": []
   },
   "outputs": [
    {
     "data": {
      "text/html": [
       "<div>\n",
       "<style scoped>\n",
       "    .dataframe tbody tr th:only-of-type {\n",
       "        vertical-align: middle;\n",
       "    }\n",
       "\n",
       "    .dataframe tbody tr th {\n",
       "        vertical-align: top;\n",
       "    }\n",
       "\n",
       "    .dataframe thead th {\n",
       "        text-align: right;\n",
       "    }\n",
       "</style>\n",
       "<table border=\"1\" class=\"dataframe\">\n",
       "  <thead>\n",
       "    <tr style=\"text-align: right;\">\n",
       "      <th></th>\n",
       "      <th>A</th>\n",
       "      <th>B</th>\n",
       "      <th>C</th>\n",
       "      <th>D</th>\n",
       "      <th>F</th>\n",
       "      <th>E</th>\n",
       "    </tr>\n",
       "  </thead>\n",
       "  <tbody>\n",
       "    <tr>\n",
       "      <th>2013-01-02</th>\n",
       "      <td>-0.507044</td>\n",
       "      <td>0.851004</td>\n",
       "      <td>-1.426304</td>\n",
       "      <td>5</td>\n",
       "      <td>1.0</td>\n",
       "      <td>1.0</td>\n",
       "    </tr>\n",
       "  </tbody>\n",
       "</table>\n",
       "</div>"
      ],
      "text/plain": [
       "                   A         B         C  D    F    E\n",
       "2013-01-02 -0.507044  0.851004 -1.426304  5  1.0  1.0"
      ]
     },
     "execution_count": 44,
     "metadata": {},
     "output_type": "execute_result"
    }
   ],
   "source": [
    "# 删除所有含缺失值的行：\n",
    "df1.dropna(how='any')"
   ]
  },
  {
   "cell_type": "code",
   "execution_count": 45,
   "metadata": {
    "execution": {
     "iopub.execute_input": "2021-01-12T07:11:21.613228Z",
     "iopub.status.busy": "2021-01-12T07:11:21.612561Z",
     "iopub.status.idle": "2021-01-12T07:11:21.615433Z",
     "shell.execute_reply": "2021-01-12T07:11:21.615972Z"
    },
    "papermill": {
     "duration": 0.080714,
     "end_time": "2021-01-12T07:11:21.616097",
     "exception": false,
     "start_time": "2021-01-12T07:11:21.535383",
     "status": "completed"
    },
    "tags": []
   },
   "outputs": [
    {
     "data": {
      "text/html": [
       "<div>\n",
       "<style scoped>\n",
       "    .dataframe tbody tr th:only-of-type {\n",
       "        vertical-align: middle;\n",
       "    }\n",
       "\n",
       "    .dataframe tbody tr th {\n",
       "        vertical-align: top;\n",
       "    }\n",
       "\n",
       "    .dataframe thead th {\n",
       "        text-align: right;\n",
       "    }\n",
       "</style>\n",
       "<table border=\"1\" class=\"dataframe\">\n",
       "  <thead>\n",
       "    <tr style=\"text-align: right;\">\n",
       "      <th></th>\n",
       "      <th>A</th>\n",
       "      <th>B</th>\n",
       "      <th>C</th>\n",
       "      <th>D</th>\n",
       "      <th>F</th>\n",
       "      <th>E</th>\n",
       "    </tr>\n",
       "  </thead>\n",
       "  <tbody>\n",
       "    <tr>\n",
       "      <th>2013-01-01</th>\n",
       "      <td>0.000000</td>\n",
       "      <td>0.000000</td>\n",
       "      <td>0.381403</td>\n",
       "      <td>5</td>\n",
       "      <td>5.0</td>\n",
       "      <td>1.0</td>\n",
       "    </tr>\n",
       "    <tr>\n",
       "      <th>2013-01-02</th>\n",
       "      <td>-0.507044</td>\n",
       "      <td>0.851004</td>\n",
       "      <td>-1.426304</td>\n",
       "      <td>5</td>\n",
       "      <td>1.0</td>\n",
       "      <td>1.0</td>\n",
       "    </tr>\n",
       "    <tr>\n",
       "      <th>2013-01-03</th>\n",
       "      <td>0.458939</td>\n",
       "      <td>0.524491</td>\n",
       "      <td>0.016088</td>\n",
       "      <td>5</td>\n",
       "      <td>2.0</td>\n",
       "      <td>5.0</td>\n",
       "    </tr>\n",
       "    <tr>\n",
       "      <th>2013-01-04</th>\n",
       "      <td>-0.019724</td>\n",
       "      <td>0.827771</td>\n",
       "      <td>0.522569</td>\n",
       "      <td>5</td>\n",
       "      <td>3.0</td>\n",
       "      <td>5.0</td>\n",
       "    </tr>\n",
       "  </tbody>\n",
       "</table>\n",
       "</div>"
      ],
      "text/plain": [
       "                   A         B         C  D    F    E\n",
       "2013-01-01  0.000000  0.000000  0.381403  5  5.0  1.0\n",
       "2013-01-02 -0.507044  0.851004 -1.426304  5  1.0  1.0\n",
       "2013-01-03  0.458939  0.524491  0.016088  5  2.0  5.0\n",
       "2013-01-04 -0.019724  0.827771  0.522569  5  3.0  5.0"
      ]
     },
     "execution_count": 45,
     "metadata": {},
     "output_type": "execute_result"
    }
   ],
   "source": [
    "# 填充缺失值：\n",
    "df1.fillna(value=5)"
   ]
  },
  {
   "cell_type": "code",
   "execution_count": 46,
   "metadata": {
    "execution": {
     "iopub.execute_input": "2021-01-12T07:11:21.756251Z",
     "iopub.status.busy": "2021-01-12T07:11:21.755597Z",
     "iopub.status.idle": "2021-01-12T07:11:21.766560Z",
     "shell.execute_reply": "2021-01-12T07:11:21.767102Z"
    },
    "papermill": {
     "duration": 0.082409,
     "end_time": "2021-01-12T07:11:21.767238",
     "exception": false,
     "start_time": "2021-01-12T07:11:21.684829",
     "status": "completed"
    },
    "tags": []
   },
   "outputs": [
    {
     "data": {
      "text/html": [
       "<div>\n",
       "<style scoped>\n",
       "    .dataframe tbody tr th:only-of-type {\n",
       "        vertical-align: middle;\n",
       "    }\n",
       "\n",
       "    .dataframe tbody tr th {\n",
       "        vertical-align: top;\n",
       "    }\n",
       "\n",
       "    .dataframe thead th {\n",
       "        text-align: right;\n",
       "    }\n",
       "</style>\n",
       "<table border=\"1\" class=\"dataframe\">\n",
       "  <thead>\n",
       "    <tr style=\"text-align: right;\">\n",
       "      <th></th>\n",
       "      <th>A</th>\n",
       "      <th>B</th>\n",
       "      <th>C</th>\n",
       "      <th>D</th>\n",
       "      <th>F</th>\n",
       "      <th>E</th>\n",
       "    </tr>\n",
       "  </thead>\n",
       "  <tbody>\n",
       "    <tr>\n",
       "      <th>2013-01-01</th>\n",
       "      <td>False</td>\n",
       "      <td>False</td>\n",
       "      <td>False</td>\n",
       "      <td>False</td>\n",
       "      <td>True</td>\n",
       "      <td>False</td>\n",
       "    </tr>\n",
       "    <tr>\n",
       "      <th>2013-01-02</th>\n",
       "      <td>False</td>\n",
       "      <td>False</td>\n",
       "      <td>False</td>\n",
       "      <td>False</td>\n",
       "      <td>False</td>\n",
       "      <td>False</td>\n",
       "    </tr>\n",
       "    <tr>\n",
       "      <th>2013-01-03</th>\n",
       "      <td>False</td>\n",
       "      <td>False</td>\n",
       "      <td>False</td>\n",
       "      <td>False</td>\n",
       "      <td>False</td>\n",
       "      <td>True</td>\n",
       "    </tr>\n",
       "    <tr>\n",
       "      <th>2013-01-04</th>\n",
       "      <td>False</td>\n",
       "      <td>False</td>\n",
       "      <td>False</td>\n",
       "      <td>False</td>\n",
       "      <td>False</td>\n",
       "      <td>True</td>\n",
       "    </tr>\n",
       "  </tbody>\n",
       "</table>\n",
       "</div>"
      ],
      "text/plain": [
       "                A      B      C      D      F      E\n",
       "2013-01-01  False  False  False  False   True  False\n",
       "2013-01-02  False  False  False  False  False  False\n",
       "2013-01-03  False  False  False  False  False   True\n",
       "2013-01-04  False  False  False  False  False   True"
      ]
     },
     "execution_count": 46,
     "metadata": {},
     "output_type": "execute_result"
    }
   ],
   "source": [
    "# 提取 nan 值的布尔掩码：\n",
    "pd.isna(df1)"
   ]
  },
  {
   "cell_type": "markdown",
   "metadata": {
    "papermill": {
     "duration": 0.070241,
     "end_time": "2021-01-12T07:11:21.905974",
     "exception": false,
     "start_time": "2021-01-12T07:11:21.835733",
     "status": "completed"
    },
    "tags": []
   },
   "source": [
    "# 统计\n",
    "- 一般情况下，运算时排除缺失值。"
   ]
  },
  {
   "cell_type": "code",
   "execution_count": 47,
   "metadata": {
    "execution": {
     "iopub.execute_input": "2021-01-12T07:11:22.046695Z",
     "iopub.status.busy": "2021-01-12T07:11:22.046047Z",
     "iopub.status.idle": "2021-01-12T07:11:22.057021Z",
     "shell.execute_reply": "2021-01-12T07:11:22.056496Z"
    },
    "papermill": {
     "duration": 0.081693,
     "end_time": "2021-01-12T07:11:22.057125",
     "exception": false,
     "start_time": "2021-01-12T07:11:21.975432",
     "status": "completed"
    },
    "tags": []
   },
   "outputs": [
    {
     "data": {
      "text/plain": [
       "A   -0.173634\n",
       "B    0.529793\n",
       "C    0.036515\n",
       "D    5.000000\n",
       "F    3.000000\n",
       "dtype: float64"
      ]
     },
     "execution_count": 47,
     "metadata": {},
     "output_type": "execute_result"
    }
   ],
   "source": [
    "df.mean()"
   ]
  },
  {
   "cell_type": "code",
   "execution_count": 48,
   "metadata": {
    "execution": {
     "iopub.execute_input": "2021-01-12T07:11:22.201489Z",
     "iopub.status.busy": "2021-01-12T07:11:22.200853Z",
     "iopub.status.idle": "2021-01-12T07:11:22.203603Z",
     "shell.execute_reply": "2021-01-12T07:11:22.204088Z"
    },
    "papermill": {
     "duration": 0.078134,
     "end_time": "2021-01-12T07:11:22.204220",
     "exception": false,
     "start_time": "2021-01-12T07:11:22.126086",
     "status": "completed"
    },
    "tags": []
   },
   "outputs": [
    {
     "data": {
      "text/plain": [
       "2013-01-01    1.345351\n",
       "2013-01-02    0.983531\n",
       "2013-01-03    1.599904\n",
       "2013-01-04    1.866123\n",
       "2013-01-05    1.780567\n",
       "2013-01-06    2.164802\n",
       "Freq: D, dtype: float64"
      ]
     },
     "execution_count": 48,
     "metadata": {},
     "output_type": "execute_result"
    }
   ],
   "source": [
    "# 在另一个轴(即，行)上执行同样的操作\n",
    "df.mean(1)"
   ]
  },
  {
   "cell_type": "code",
   "execution_count": 49,
   "metadata": {
    "execution": {
     "iopub.execute_input": "2021-01-12T07:11:22.347140Z",
     "iopub.status.busy": "2021-01-12T07:11:22.346505Z",
     "iopub.status.idle": "2021-01-12T07:11:22.353353Z",
     "shell.execute_reply": "2021-01-12T07:11:22.353857Z"
    },
    "papermill": {
     "duration": 0.079184,
     "end_time": "2021-01-12T07:11:22.353992",
     "exception": false,
     "start_time": "2021-01-12T07:11:22.274808",
     "status": "completed"
    },
    "tags": []
   },
   "outputs": [
    {
     "data": {
      "text/plain": [
       "2013-01-01    NaN\n",
       "2013-01-02    NaN\n",
       "2013-01-03    1.0\n",
       "2013-01-04    3.0\n",
       "2013-01-05    5.0\n",
       "2013-01-06    NaN\n",
       "Freq: D, dtype: float64"
      ]
     },
     "execution_count": 49,
     "metadata": {},
     "output_type": "execute_result"
    }
   ],
   "source": [
    "# 不同维度对象运算时，要先对齐。 此外，Pandas 自动沿指定维度广播。\n",
    "s = pd.Series([1, 3, 5, np.nan, 6, 8], index=dates).shift(2)\n",
    "s"
   ]
  },
  {
   "cell_type": "code",
   "execution_count": 50,
   "metadata": {
    "execution": {
     "iopub.execute_input": "2021-01-12T07:11:22.501717Z",
     "iopub.status.busy": "2021-01-12T07:11:22.501109Z",
     "iopub.status.idle": "2021-01-12T07:11:22.513284Z",
     "shell.execute_reply": "2021-01-12T07:11:22.513802Z"
    },
    "papermill": {
     "duration": 0.088127,
     "end_time": "2021-01-12T07:11:22.513943",
     "exception": false,
     "start_time": "2021-01-12T07:11:22.425816",
     "status": "completed"
    },
    "tags": []
   },
   "outputs": [
    {
     "data": {
      "text/html": [
       "<div>\n",
       "<style scoped>\n",
       "    .dataframe tbody tr th:only-of-type {\n",
       "        vertical-align: middle;\n",
       "    }\n",
       "\n",
       "    .dataframe tbody tr th {\n",
       "        vertical-align: top;\n",
       "    }\n",
       "\n",
       "    .dataframe thead th {\n",
       "        text-align: right;\n",
       "    }\n",
       "</style>\n",
       "<table border=\"1\" class=\"dataframe\">\n",
       "  <thead>\n",
       "    <tr style=\"text-align: right;\">\n",
       "      <th></th>\n",
       "      <th>A</th>\n",
       "      <th>B</th>\n",
       "      <th>C</th>\n",
       "      <th>D</th>\n",
       "      <th>F</th>\n",
       "    </tr>\n",
       "  </thead>\n",
       "  <tbody>\n",
       "    <tr>\n",
       "      <th>2013-01-01</th>\n",
       "      <td>NaN</td>\n",
       "      <td>NaN</td>\n",
       "      <td>NaN</td>\n",
       "      <td>NaN</td>\n",
       "      <td>NaN</td>\n",
       "    </tr>\n",
       "    <tr>\n",
       "      <th>2013-01-02</th>\n",
       "      <td>NaN</td>\n",
       "      <td>NaN</td>\n",
       "      <td>NaN</td>\n",
       "      <td>NaN</td>\n",
       "      <td>NaN</td>\n",
       "    </tr>\n",
       "    <tr>\n",
       "      <th>2013-01-03</th>\n",
       "      <td>-0.541061</td>\n",
       "      <td>-0.475509</td>\n",
       "      <td>-0.983912</td>\n",
       "      <td>4.0</td>\n",
       "      <td>1.0</td>\n",
       "    </tr>\n",
       "    <tr>\n",
       "      <th>2013-01-04</th>\n",
       "      <td>-3.019724</td>\n",
       "      <td>-2.172229</td>\n",
       "      <td>-2.477431</td>\n",
       "      <td>2.0</td>\n",
       "      <td>0.0</td>\n",
       "    </tr>\n",
       "    <tr>\n",
       "      <th>2013-01-05</th>\n",
       "      <td>-6.547823</td>\n",
       "      <td>-3.908969</td>\n",
       "      <td>-4.640375</td>\n",
       "      <td>0.0</td>\n",
       "      <td>-1.0</td>\n",
       "    </tr>\n",
       "    <tr>\n",
       "      <th>2013-01-06</th>\n",
       "      <td>NaN</td>\n",
       "      <td>NaN</td>\n",
       "      <td>NaN</td>\n",
       "      <td>NaN</td>\n",
       "      <td>NaN</td>\n",
       "    </tr>\n",
       "  </tbody>\n",
       "</table>\n",
       "</div>"
      ],
      "text/plain": [
       "                   A         B         C    D    F\n",
       "2013-01-01       NaN       NaN       NaN  NaN  NaN\n",
       "2013-01-02       NaN       NaN       NaN  NaN  NaN\n",
       "2013-01-03 -0.541061 -0.475509 -0.983912  4.0  1.0\n",
       "2013-01-04 -3.019724 -2.172229 -2.477431  2.0  0.0\n",
       "2013-01-05 -6.547823 -3.908969 -4.640375  0.0 -1.0\n",
       "2013-01-06       NaN       NaN       NaN  NaN  NaN"
      ]
     },
     "execution_count": 50,
     "metadata": {},
     "output_type": "execute_result"
    }
   ],
   "source": [
    "df.sub(s, axis='index')"
   ]
  },
  {
   "cell_type": "markdown",
   "metadata": {
    "papermill": {
     "duration": 0.069554,
     "end_time": "2021-01-12T07:11:22.657940",
     "exception": false,
     "start_time": "2021-01-12T07:11:22.588386",
     "status": "completed"
    },
    "tags": []
   },
   "source": [
    "## Apply函数"
   ]
  },
  {
   "cell_type": "code",
   "execution_count": 51,
   "metadata": {
    "execution": {
     "iopub.execute_input": "2021-01-12T07:11:22.803802Z",
     "iopub.status.busy": "2021-01-12T07:11:22.803162Z",
     "iopub.status.idle": "2021-01-12T07:11:22.816941Z",
     "shell.execute_reply": "2021-01-12T07:11:22.817382Z"
    },
    "papermill": {
     "duration": 0.088203,
     "end_time": "2021-01-12T07:11:22.817528",
     "exception": false,
     "start_time": "2021-01-12T07:11:22.729325",
     "status": "completed"
    },
    "tags": []
   },
   "outputs": [
    {
     "data": {
      "text/html": [
       "<div>\n",
       "<style scoped>\n",
       "    .dataframe tbody tr th:only-of-type {\n",
       "        vertical-align: middle;\n",
       "    }\n",
       "\n",
       "    .dataframe tbody tr th {\n",
       "        vertical-align: top;\n",
       "    }\n",
       "\n",
       "    .dataframe thead th {\n",
       "        text-align: right;\n",
       "    }\n",
       "</style>\n",
       "<table border=\"1\" class=\"dataframe\">\n",
       "  <thead>\n",
       "    <tr style=\"text-align: right;\">\n",
       "      <th></th>\n",
       "      <th>A</th>\n",
       "      <th>B</th>\n",
       "      <th>C</th>\n",
       "      <th>D</th>\n",
       "      <th>F</th>\n",
       "    </tr>\n",
       "  </thead>\n",
       "  <tbody>\n",
       "    <tr>\n",
       "      <th>2013-01-01</th>\n",
       "      <td>0.000000</td>\n",
       "      <td>0.000000</td>\n",
       "      <td>0.381403</td>\n",
       "      <td>5</td>\n",
       "      <td>NaN</td>\n",
       "    </tr>\n",
       "    <tr>\n",
       "      <th>2013-01-02</th>\n",
       "      <td>-0.507044</td>\n",
       "      <td>0.851004</td>\n",
       "      <td>-1.044901</td>\n",
       "      <td>10</td>\n",
       "      <td>1.0</td>\n",
       "    </tr>\n",
       "    <tr>\n",
       "      <th>2013-01-03</th>\n",
       "      <td>-0.048104</td>\n",
       "      <td>1.375495</td>\n",
       "      <td>-1.028813</td>\n",
       "      <td>15</td>\n",
       "      <td>3.0</td>\n",
       "    </tr>\n",
       "    <tr>\n",
       "      <th>2013-01-04</th>\n",
       "      <td>-0.067829</td>\n",
       "      <td>2.203266</td>\n",
       "      <td>-0.506244</td>\n",
       "      <td>20</td>\n",
       "      <td>6.0</td>\n",
       "    </tr>\n",
       "    <tr>\n",
       "      <th>2013-01-05</th>\n",
       "      <td>-1.615651</td>\n",
       "      <td>3.294297</td>\n",
       "      <td>-0.146620</td>\n",
       "      <td>25</td>\n",
       "      <td>10.0</td>\n",
       "    </tr>\n",
       "    <tr>\n",
       "      <th>2013-01-06</th>\n",
       "      <td>-1.041807</td>\n",
       "      <td>3.178756</td>\n",
       "      <td>0.219089</td>\n",
       "      <td>30</td>\n",
       "      <td>15.0</td>\n",
       "    </tr>\n",
       "  </tbody>\n",
       "</table>\n",
       "</div>"
      ],
      "text/plain": [
       "                   A         B         C   D     F\n",
       "2013-01-01  0.000000  0.000000  0.381403   5   NaN\n",
       "2013-01-02 -0.507044  0.851004 -1.044901  10   1.0\n",
       "2013-01-03 -0.048104  1.375495 -1.028813  15   3.0\n",
       "2013-01-04 -0.067829  2.203266 -0.506244  20   6.0\n",
       "2013-01-05 -1.615651  3.294297 -0.146620  25  10.0\n",
       "2013-01-06 -1.041807  3.178756  0.219089  30  15.0"
      ]
     },
     "execution_count": 51,
     "metadata": {},
     "output_type": "execute_result"
    }
   ],
   "source": [
    "df.apply(np.cumsum)"
   ]
  },
  {
   "cell_type": "code",
   "execution_count": 52,
   "metadata": {
    "execution": {
     "iopub.execute_input": "2021-01-12T07:11:22.966018Z",
     "iopub.status.busy": "2021-01-12T07:11:22.965444Z",
     "iopub.status.idle": "2021-01-12T07:11:22.972698Z",
     "shell.execute_reply": "2021-01-12T07:11:22.973215Z"
    },
    "papermill": {
     "duration": 0.083074,
     "end_time": "2021-01-12T07:11:22.973359",
     "exception": false,
     "start_time": "2021-01-12T07:11:22.890285",
     "status": "completed"
    },
    "tags": []
   },
   "outputs": [
    {
     "data": {
      "text/plain": [
       "A    2.121667\n",
       "B    1.206572\n",
       "C    1.948873\n",
       "D    0.000000\n",
       "F    4.000000\n",
       "dtype: float64"
      ]
     },
     "execution_count": 52,
     "metadata": {},
     "output_type": "execute_result"
    }
   ],
   "source": [
    "df.apply(lambda x: x.max() - x.min())"
   ]
  },
  {
   "cell_type": "markdown",
   "metadata": {
    "papermill": {
     "duration": 0.072547,
     "end_time": "2021-01-12T07:11:23.118614",
     "exception": false,
     "start_time": "2021-01-12T07:11:23.046067",
     "status": "completed"
    },
    "tags": []
   },
   "source": [
    "# 合并（Merge）\n",
    "#### 结合（Concat）"
   ]
  },
  {
   "cell_type": "code",
   "execution_count": 53,
   "metadata": {
    "execution": {
     "iopub.execute_input": "2021-01-12T07:11:23.268361Z",
     "iopub.status.busy": "2021-01-12T07:11:23.267785Z",
     "iopub.status.idle": "2021-01-12T07:11:23.278416Z",
     "shell.execute_reply": "2021-01-12T07:11:23.278890Z"
    },
    "papermill": {
     "duration": 0.086842,
     "end_time": "2021-01-12T07:11:23.279019",
     "exception": false,
     "start_time": "2021-01-12T07:11:23.192177",
     "status": "completed"
    },
    "tags": []
   },
   "outputs": [
    {
     "data": {
      "text/html": [
       "<div>\n",
       "<style scoped>\n",
       "    .dataframe tbody tr th:only-of-type {\n",
       "        vertical-align: middle;\n",
       "    }\n",
       "\n",
       "    .dataframe tbody tr th {\n",
       "        vertical-align: top;\n",
       "    }\n",
       "\n",
       "    .dataframe thead th {\n",
       "        text-align: right;\n",
       "    }\n",
       "</style>\n",
       "<table border=\"1\" class=\"dataframe\">\n",
       "  <thead>\n",
       "    <tr style=\"text-align: right;\">\n",
       "      <th></th>\n",
       "      <th>0</th>\n",
       "      <th>1</th>\n",
       "      <th>2</th>\n",
       "      <th>3</th>\n",
       "    </tr>\n",
       "  </thead>\n",
       "  <tbody>\n",
       "    <tr>\n",
       "      <th>0</th>\n",
       "      <td>0.233300</td>\n",
       "      <td>0.138150</td>\n",
       "      <td>-1.003323</td>\n",
       "      <td>-1.922104</td>\n",
       "    </tr>\n",
       "    <tr>\n",
       "      <th>1</th>\n",
       "      <td>-1.147139</td>\n",
       "      <td>-0.653082</td>\n",
       "      <td>1.068974</td>\n",
       "      <td>0.795405</td>\n",
       "    </tr>\n",
       "    <tr>\n",
       "      <th>2</th>\n",
       "      <td>-0.817518</td>\n",
       "      <td>-2.635715</td>\n",
       "      <td>-0.442356</td>\n",
       "      <td>1.687568</td>\n",
       "    </tr>\n",
       "    <tr>\n",
       "      <th>3</th>\n",
       "      <td>0.398598</td>\n",
       "      <td>-0.287926</td>\n",
       "      <td>0.398225</td>\n",
       "      <td>-2.097414</td>\n",
       "    </tr>\n",
       "    <tr>\n",
       "      <th>4</th>\n",
       "      <td>-0.640004</td>\n",
       "      <td>0.833671</td>\n",
       "      <td>-1.067169</td>\n",
       "      <td>-0.326803</td>\n",
       "    </tr>\n",
       "    <tr>\n",
       "      <th>5</th>\n",
       "      <td>0.450302</td>\n",
       "      <td>0.658340</td>\n",
       "      <td>0.332202</td>\n",
       "      <td>0.097044</td>\n",
       "    </tr>\n",
       "    <tr>\n",
       "      <th>6</th>\n",
       "      <td>1.429483</td>\n",
       "      <td>0.668599</td>\n",
       "      <td>-0.219724</td>\n",
       "      <td>-0.469851</td>\n",
       "    </tr>\n",
       "    <tr>\n",
       "      <th>7</th>\n",
       "      <td>-0.852841</td>\n",
       "      <td>-0.550961</td>\n",
       "      <td>1.063397</td>\n",
       "      <td>0.875509</td>\n",
       "    </tr>\n",
       "    <tr>\n",
       "      <th>8</th>\n",
       "      <td>-0.382654</td>\n",
       "      <td>1.110260</td>\n",
       "      <td>-0.104700</td>\n",
       "      <td>1.332126</td>\n",
       "    </tr>\n",
       "    <tr>\n",
       "      <th>9</th>\n",
       "      <td>0.341171</td>\n",
       "      <td>2.276791</td>\n",
       "      <td>0.608752</td>\n",
       "      <td>-0.940232</td>\n",
       "    </tr>\n",
       "  </tbody>\n",
       "</table>\n",
       "</div>"
      ],
      "text/plain": [
       "          0         1         2         3\n",
       "0  0.233300  0.138150 -1.003323 -1.922104\n",
       "1 -1.147139 -0.653082  1.068974  0.795405\n",
       "2 -0.817518 -2.635715 -0.442356  1.687568\n",
       "3  0.398598 -0.287926  0.398225 -2.097414\n",
       "4 -0.640004  0.833671 -1.067169 -0.326803\n",
       "5  0.450302  0.658340  0.332202  0.097044\n",
       "6  1.429483  0.668599 -0.219724 -0.469851\n",
       "7 -0.852841 -0.550961  1.063397  0.875509\n",
       "8 -0.382654  1.110260 -0.104700  1.332126\n",
       "9  0.341171  2.276791  0.608752 -0.940232"
      ]
     },
     "execution_count": 53,
     "metadata": {},
     "output_type": "execute_result"
    }
   ],
   "source": [
    "# concat() 用于连接 Pandas 对象：\n",
    "df = pd.DataFrame(np.random.randn(10, 4))\n",
    "df"
   ]
  },
  {
   "cell_type": "code",
   "execution_count": 54,
   "metadata": {
    "execution": {
     "iopub.execute_input": "2021-01-12T07:11:23.435162Z",
     "iopub.status.busy": "2021-01-12T07:11:23.434541Z",
     "iopub.status.idle": "2021-01-12T07:11:23.447317Z",
     "shell.execute_reply": "2021-01-12T07:11:23.446711Z"
    },
    "papermill": {
     "duration": 0.092111,
     "end_time": "2021-01-12T07:11:23.447441",
     "exception": false,
     "start_time": "2021-01-12T07:11:23.355330",
     "status": "completed"
    },
    "tags": []
   },
   "outputs": [
    {
     "data": {
      "text/html": [
       "<div>\n",
       "<style scoped>\n",
       "    .dataframe tbody tr th:only-of-type {\n",
       "        vertical-align: middle;\n",
       "    }\n",
       "\n",
       "    .dataframe tbody tr th {\n",
       "        vertical-align: top;\n",
       "    }\n",
       "\n",
       "    .dataframe thead th {\n",
       "        text-align: right;\n",
       "    }\n",
       "</style>\n",
       "<table border=\"1\" class=\"dataframe\">\n",
       "  <thead>\n",
       "    <tr style=\"text-align: right;\">\n",
       "      <th></th>\n",
       "      <th>0</th>\n",
       "      <th>1</th>\n",
       "      <th>2</th>\n",
       "      <th>3</th>\n",
       "    </tr>\n",
       "  </thead>\n",
       "  <tbody>\n",
       "    <tr>\n",
       "      <th>0</th>\n",
       "      <td>0.233300</td>\n",
       "      <td>0.138150</td>\n",
       "      <td>-1.003323</td>\n",
       "      <td>-1.922104</td>\n",
       "    </tr>\n",
       "    <tr>\n",
       "      <th>1</th>\n",
       "      <td>-1.147139</td>\n",
       "      <td>-0.653082</td>\n",
       "      <td>1.068974</td>\n",
       "      <td>0.795405</td>\n",
       "    </tr>\n",
       "    <tr>\n",
       "      <th>2</th>\n",
       "      <td>-0.817518</td>\n",
       "      <td>-2.635715</td>\n",
       "      <td>-0.442356</td>\n",
       "      <td>1.687568</td>\n",
       "    </tr>\n",
       "    <tr>\n",
       "      <th>3</th>\n",
       "      <td>0.398598</td>\n",
       "      <td>-0.287926</td>\n",
       "      <td>0.398225</td>\n",
       "      <td>-2.097414</td>\n",
       "    </tr>\n",
       "    <tr>\n",
       "      <th>4</th>\n",
       "      <td>-0.640004</td>\n",
       "      <td>0.833671</td>\n",
       "      <td>-1.067169</td>\n",
       "      <td>-0.326803</td>\n",
       "    </tr>\n",
       "    <tr>\n",
       "      <th>5</th>\n",
       "      <td>0.450302</td>\n",
       "      <td>0.658340</td>\n",
       "      <td>0.332202</td>\n",
       "      <td>0.097044</td>\n",
       "    </tr>\n",
       "    <tr>\n",
       "      <th>6</th>\n",
       "      <td>1.429483</td>\n",
       "      <td>0.668599</td>\n",
       "      <td>-0.219724</td>\n",
       "      <td>-0.469851</td>\n",
       "    </tr>\n",
       "    <tr>\n",
       "      <th>7</th>\n",
       "      <td>-0.852841</td>\n",
       "      <td>-0.550961</td>\n",
       "      <td>1.063397</td>\n",
       "      <td>0.875509</td>\n",
       "    </tr>\n",
       "    <tr>\n",
       "      <th>8</th>\n",
       "      <td>-0.382654</td>\n",
       "      <td>1.110260</td>\n",
       "      <td>-0.104700</td>\n",
       "      <td>1.332126</td>\n",
       "    </tr>\n",
       "    <tr>\n",
       "      <th>9</th>\n",
       "      <td>0.341171</td>\n",
       "      <td>2.276791</td>\n",
       "      <td>0.608752</td>\n",
       "      <td>-0.940232</td>\n",
       "    </tr>\n",
       "  </tbody>\n",
       "</table>\n",
       "</div>"
      ],
      "text/plain": [
       "          0         1         2         3\n",
       "0  0.233300  0.138150 -1.003323 -1.922104\n",
       "1 -1.147139 -0.653082  1.068974  0.795405\n",
       "2 -0.817518 -2.635715 -0.442356  1.687568\n",
       "3  0.398598 -0.287926  0.398225 -2.097414\n",
       "4 -0.640004  0.833671 -1.067169 -0.326803\n",
       "5  0.450302  0.658340  0.332202  0.097044\n",
       "6  1.429483  0.668599 -0.219724 -0.469851\n",
       "7 -0.852841 -0.550961  1.063397  0.875509\n",
       "8 -0.382654  1.110260 -0.104700  1.332126\n",
       "9  0.341171  2.276791  0.608752 -0.940232"
      ]
     },
     "execution_count": 54,
     "metadata": {},
     "output_type": "execute_result"
    }
   ],
   "source": [
    "# 分解为多组\n",
    "pieces = [df[:3], df[3:7], df[7:]]\n",
    "pd.concat(pieces)"
   ]
  },
  {
   "cell_type": "markdown",
   "metadata": {
    "papermill": {
     "duration": 0.076026,
     "end_time": "2021-01-12T07:11:23.600450",
     "exception": false,
     "start_time": "2021-01-12T07:11:23.524424",
     "status": "completed"
    },
    "tags": []
   },
   "source": [
    "#### 连接（join）"
   ]
  },
  {
   "cell_type": "code",
   "execution_count": 55,
   "metadata": {
    "execution": {
     "iopub.execute_input": "2021-01-12T07:11:23.767034Z",
     "iopub.status.busy": "2021-01-12T07:11:23.766052Z",
     "iopub.status.idle": "2021-01-12T07:11:23.769722Z",
     "shell.execute_reply": "2021-01-12T07:11:23.770221Z"
    },
    "papermill": {
     "duration": 0.092655,
     "end_time": "2021-01-12T07:11:23.770353",
     "exception": false,
     "start_time": "2021-01-12T07:11:23.677698",
     "status": "completed"
    },
    "tags": []
   },
   "outputs": [
    {
     "data": {
      "text/html": [
       "<div>\n",
       "<style scoped>\n",
       "    .dataframe tbody tr th:only-of-type {\n",
       "        vertical-align: middle;\n",
       "    }\n",
       "\n",
       "    .dataframe tbody tr th {\n",
       "        vertical-align: top;\n",
       "    }\n",
       "\n",
       "    .dataframe thead th {\n",
       "        text-align: right;\n",
       "    }\n",
       "</style>\n",
       "<table border=\"1\" class=\"dataframe\">\n",
       "  <thead>\n",
       "    <tr style=\"text-align: right;\">\n",
       "      <th></th>\n",
       "      <th>key</th>\n",
       "      <th>lval</th>\n",
       "    </tr>\n",
       "  </thead>\n",
       "  <tbody>\n",
       "    <tr>\n",
       "      <th>0</th>\n",
       "      <td>foo</td>\n",
       "      <td>1</td>\n",
       "    </tr>\n",
       "    <tr>\n",
       "      <th>1</th>\n",
       "      <td>foo</td>\n",
       "      <td>2</td>\n",
       "    </tr>\n",
       "  </tbody>\n",
       "</table>\n",
       "</div>"
      ],
      "text/plain": [
       "   key  lval\n",
       "0  foo     1\n",
       "1  foo     2"
      ]
     },
     "execution_count": 55,
     "metadata": {},
     "output_type": "execute_result"
    }
   ],
   "source": [
    "# SQL 风格的合并。 \n",
    "left = pd.DataFrame({'key': ['foo', 'foo'], 'lval': [1, 2]})\n",
    "right = pd.DataFrame({'key': ['foo', 'foo'], 'rval': [4, 5]})\n",
    "left"
   ]
  },
  {
   "cell_type": "code",
   "execution_count": 56,
   "metadata": {
    "execution": {
     "iopub.execute_input": "2021-01-12T07:11:23.927972Z",
     "iopub.status.busy": "2021-01-12T07:11:23.926957Z",
     "iopub.status.idle": "2021-01-12T07:11:23.935197Z",
     "shell.execute_reply": "2021-01-12T07:11:23.935688Z"
    },
    "papermill": {
     "duration": 0.088441,
     "end_time": "2021-01-12T07:11:23.935839",
     "exception": false,
     "start_time": "2021-01-12T07:11:23.847398",
     "status": "completed"
    },
    "tags": []
   },
   "outputs": [
    {
     "data": {
      "text/html": [
       "<div>\n",
       "<style scoped>\n",
       "    .dataframe tbody tr th:only-of-type {\n",
       "        vertical-align: middle;\n",
       "    }\n",
       "\n",
       "    .dataframe tbody tr th {\n",
       "        vertical-align: top;\n",
       "    }\n",
       "\n",
       "    .dataframe thead th {\n",
       "        text-align: right;\n",
       "    }\n",
       "</style>\n",
       "<table border=\"1\" class=\"dataframe\">\n",
       "  <thead>\n",
       "    <tr style=\"text-align: right;\">\n",
       "      <th></th>\n",
       "      <th>key</th>\n",
       "      <th>rval</th>\n",
       "    </tr>\n",
       "  </thead>\n",
       "  <tbody>\n",
       "    <tr>\n",
       "      <th>0</th>\n",
       "      <td>foo</td>\n",
       "      <td>4</td>\n",
       "    </tr>\n",
       "    <tr>\n",
       "      <th>1</th>\n",
       "      <td>foo</td>\n",
       "      <td>5</td>\n",
       "    </tr>\n",
       "  </tbody>\n",
       "</table>\n",
       "</div>"
      ],
      "text/plain": [
       "   key  rval\n",
       "0  foo     4\n",
       "1  foo     5"
      ]
     },
     "execution_count": 56,
     "metadata": {},
     "output_type": "execute_result"
    }
   ],
   "source": [
    "right"
   ]
  },
  {
   "cell_type": "code",
   "execution_count": 57,
   "metadata": {
    "execution": {
     "iopub.execute_input": "2021-01-12T07:11:24.094325Z",
     "iopub.status.busy": "2021-01-12T07:11:24.093316Z",
     "iopub.status.idle": "2021-01-12T07:11:24.111754Z",
     "shell.execute_reply": "2021-01-12T07:11:24.111086Z"
    },
    "papermill": {
     "duration": 0.099332,
     "end_time": "2021-01-12T07:11:24.111910",
     "exception": false,
     "start_time": "2021-01-12T07:11:24.012578",
     "status": "completed"
    },
    "tags": []
   },
   "outputs": [
    {
     "data": {
      "text/html": [
       "<div>\n",
       "<style scoped>\n",
       "    .dataframe tbody tr th:only-of-type {\n",
       "        vertical-align: middle;\n",
       "    }\n",
       "\n",
       "    .dataframe tbody tr th {\n",
       "        vertical-align: top;\n",
       "    }\n",
       "\n",
       "    .dataframe thead th {\n",
       "        text-align: right;\n",
       "    }\n",
       "</style>\n",
       "<table border=\"1\" class=\"dataframe\">\n",
       "  <thead>\n",
       "    <tr style=\"text-align: right;\">\n",
       "      <th></th>\n",
       "      <th>key</th>\n",
       "      <th>lval</th>\n",
       "      <th>rval</th>\n",
       "    </tr>\n",
       "  </thead>\n",
       "  <tbody>\n",
       "    <tr>\n",
       "      <th>0</th>\n",
       "      <td>foo</td>\n",
       "      <td>1</td>\n",
       "      <td>4</td>\n",
       "    </tr>\n",
       "    <tr>\n",
       "      <th>1</th>\n",
       "      <td>foo</td>\n",
       "      <td>1</td>\n",
       "      <td>5</td>\n",
       "    </tr>\n",
       "    <tr>\n",
       "      <th>2</th>\n",
       "      <td>foo</td>\n",
       "      <td>2</td>\n",
       "      <td>4</td>\n",
       "    </tr>\n",
       "    <tr>\n",
       "      <th>3</th>\n",
       "      <td>foo</td>\n",
       "      <td>2</td>\n",
       "      <td>5</td>\n",
       "    </tr>\n",
       "  </tbody>\n",
       "</table>\n",
       "</div>"
      ],
      "text/plain": [
       "   key  lval  rval\n",
       "0  foo     1     4\n",
       "1  foo     1     5\n",
       "2  foo     2     4\n",
       "3  foo     2     5"
      ]
     },
     "execution_count": 57,
     "metadata": {},
     "output_type": "execute_result"
    }
   ],
   "source": [
    "pd.merge(left, right, on='key')"
   ]
  },
  {
   "cell_type": "markdown",
   "metadata": {
    "papermill": {
     "duration": 0.076008,
     "end_time": "2021-01-12T07:11:24.265910",
     "exception": false,
     "start_time": "2021-01-12T07:11:24.189902",
     "status": "completed"
    },
    "tags": []
   },
   "source": [
    "#### 追加（Append）"
   ]
  },
  {
   "cell_type": "code",
   "execution_count": 58,
   "metadata": {
    "execution": {
     "iopub.execute_input": "2021-01-12T07:11:24.429540Z",
     "iopub.status.busy": "2021-01-12T07:11:24.428899Z",
     "iopub.status.idle": "2021-01-12T07:11:24.432045Z",
     "shell.execute_reply": "2021-01-12T07:11:24.432434Z"
    },
    "papermill": {
     "duration": 0.090802,
     "end_time": "2021-01-12T07:11:24.432573",
     "exception": false,
     "start_time": "2021-01-12T07:11:24.341771",
     "status": "completed"
    },
    "tags": []
   },
   "outputs": [
    {
     "data": {
      "text/html": [
       "<div>\n",
       "<style scoped>\n",
       "    .dataframe tbody tr th:only-of-type {\n",
       "        vertical-align: middle;\n",
       "    }\n",
       "\n",
       "    .dataframe tbody tr th {\n",
       "        vertical-align: top;\n",
       "    }\n",
       "\n",
       "    .dataframe thead th {\n",
       "        text-align: right;\n",
       "    }\n",
       "</style>\n",
       "<table border=\"1\" class=\"dataframe\">\n",
       "  <thead>\n",
       "    <tr style=\"text-align: right;\">\n",
       "      <th></th>\n",
       "      <th>A</th>\n",
       "      <th>B</th>\n",
       "      <th>C</th>\n",
       "      <th>D</th>\n",
       "    </tr>\n",
       "  </thead>\n",
       "  <tbody>\n",
       "    <tr>\n",
       "      <th>0</th>\n",
       "      <td>-0.065422</td>\n",
       "      <td>0.457053</td>\n",
       "      <td>-1.624353</td>\n",
       "      <td>0.134555</td>\n",
       "    </tr>\n",
       "    <tr>\n",
       "      <th>1</th>\n",
       "      <td>-0.308215</td>\n",
       "      <td>-0.071855</td>\n",
       "      <td>-0.638223</td>\n",
       "      <td>0.759559</td>\n",
       "    </tr>\n",
       "    <tr>\n",
       "      <th>2</th>\n",
       "      <td>-1.098849</td>\n",
       "      <td>-1.276297</td>\n",
       "      <td>-0.342354</td>\n",
       "      <td>2.166478</td>\n",
       "    </tr>\n",
       "    <tr>\n",
       "      <th>3</th>\n",
       "      <td>0.228914</td>\n",
       "      <td>1.210185</td>\n",
       "      <td>-1.421891</td>\n",
       "      <td>-0.424010</td>\n",
       "    </tr>\n",
       "    <tr>\n",
       "      <th>4</th>\n",
       "      <td>0.340670</td>\n",
       "      <td>-1.174363</td>\n",
       "      <td>-1.636624</td>\n",
       "      <td>0.763863</td>\n",
       "    </tr>\n",
       "    <tr>\n",
       "      <th>5</th>\n",
       "      <td>-0.369826</td>\n",
       "      <td>1.031702</td>\n",
       "      <td>0.908719</td>\n",
       "      <td>0.889156</td>\n",
       "    </tr>\n",
       "    <tr>\n",
       "      <th>6</th>\n",
       "      <td>0.618391</td>\n",
       "      <td>-0.393494</td>\n",
       "      <td>-0.175755</td>\n",
       "      <td>-1.798530</td>\n",
       "    </tr>\n",
       "    <tr>\n",
       "      <th>7</th>\n",
       "      <td>1.472473</td>\n",
       "      <td>0.167461</td>\n",
       "      <td>0.651640</td>\n",
       "      <td>0.070426</td>\n",
       "    </tr>\n",
       "  </tbody>\n",
       "</table>\n",
       "</div>"
      ],
      "text/plain": [
       "          A         B         C         D\n",
       "0 -0.065422  0.457053 -1.624353  0.134555\n",
       "1 -0.308215 -0.071855 -0.638223  0.759559\n",
       "2 -1.098849 -1.276297 -0.342354  2.166478\n",
       "3  0.228914  1.210185 -1.421891 -0.424010\n",
       "4  0.340670 -1.174363 -1.636624  0.763863\n",
       "5 -0.369826  1.031702  0.908719  0.889156\n",
       "6  0.618391 -0.393494 -0.175755 -1.798530\n",
       "7  1.472473  0.167461  0.651640  0.070426"
      ]
     },
     "execution_count": 58,
     "metadata": {},
     "output_type": "execute_result"
    }
   ],
   "source": [
    "df = pd.DataFrame(np.random.randn(8, 4), columns=['A', 'B', 'C', 'D'])\n",
    "df"
   ]
  },
  {
   "cell_type": "code",
   "execution_count": 59,
   "metadata": {
    "execution": {
     "iopub.execute_input": "2021-01-12T07:11:24.597030Z",
     "iopub.status.busy": "2021-01-12T07:11:24.596393Z",
     "iopub.status.idle": "2021-01-12T07:11:24.599085Z",
     "shell.execute_reply": "2021-01-12T07:11:24.599688Z"
    },
    "papermill": {
     "duration": 0.091692,
     "end_time": "2021-01-12T07:11:24.599815",
     "exception": false,
     "start_time": "2021-01-12T07:11:24.508123",
     "status": "completed"
    },
    "tags": []
   },
   "outputs": [
    {
     "data": {
      "text/html": [
       "<div>\n",
       "<style scoped>\n",
       "    .dataframe tbody tr th:only-of-type {\n",
       "        vertical-align: middle;\n",
       "    }\n",
       "\n",
       "    .dataframe tbody tr th {\n",
       "        vertical-align: top;\n",
       "    }\n",
       "\n",
       "    .dataframe thead th {\n",
       "        text-align: right;\n",
       "    }\n",
       "</style>\n",
       "<table border=\"1\" class=\"dataframe\">\n",
       "  <thead>\n",
       "    <tr style=\"text-align: right;\">\n",
       "      <th></th>\n",
       "      <th>A</th>\n",
       "      <th>B</th>\n",
       "      <th>C</th>\n",
       "      <th>D</th>\n",
       "    </tr>\n",
       "  </thead>\n",
       "  <tbody>\n",
       "    <tr>\n",
       "      <th>0</th>\n",
       "      <td>-0.065422</td>\n",
       "      <td>0.457053</td>\n",
       "      <td>-1.624353</td>\n",
       "      <td>0.134555</td>\n",
       "    </tr>\n",
       "    <tr>\n",
       "      <th>1</th>\n",
       "      <td>-0.308215</td>\n",
       "      <td>-0.071855</td>\n",
       "      <td>-0.638223</td>\n",
       "      <td>0.759559</td>\n",
       "    </tr>\n",
       "    <tr>\n",
       "      <th>2</th>\n",
       "      <td>-1.098849</td>\n",
       "      <td>-1.276297</td>\n",
       "      <td>-0.342354</td>\n",
       "      <td>2.166478</td>\n",
       "    </tr>\n",
       "    <tr>\n",
       "      <th>3</th>\n",
       "      <td>0.228914</td>\n",
       "      <td>1.210185</td>\n",
       "      <td>-1.421891</td>\n",
       "      <td>-0.424010</td>\n",
       "    </tr>\n",
       "    <tr>\n",
       "      <th>4</th>\n",
       "      <td>0.340670</td>\n",
       "      <td>-1.174363</td>\n",
       "      <td>-1.636624</td>\n",
       "      <td>0.763863</td>\n",
       "    </tr>\n",
       "    <tr>\n",
       "      <th>5</th>\n",
       "      <td>-0.369826</td>\n",
       "      <td>1.031702</td>\n",
       "      <td>0.908719</td>\n",
       "      <td>0.889156</td>\n",
       "    </tr>\n",
       "    <tr>\n",
       "      <th>6</th>\n",
       "      <td>0.618391</td>\n",
       "      <td>-0.393494</td>\n",
       "      <td>-0.175755</td>\n",
       "      <td>-1.798530</td>\n",
       "    </tr>\n",
       "    <tr>\n",
       "      <th>7</th>\n",
       "      <td>1.472473</td>\n",
       "      <td>0.167461</td>\n",
       "      <td>0.651640</td>\n",
       "      <td>0.070426</td>\n",
       "    </tr>\n",
       "    <tr>\n",
       "      <th>8</th>\n",
       "      <td>0.228914</td>\n",
       "      <td>1.210185</td>\n",
       "      <td>-1.421891</td>\n",
       "      <td>-0.424010</td>\n",
       "    </tr>\n",
       "  </tbody>\n",
       "</table>\n",
       "</div>"
      ],
      "text/plain": [
       "          A         B         C         D\n",
       "0 -0.065422  0.457053 -1.624353  0.134555\n",
       "1 -0.308215 -0.071855 -0.638223  0.759559\n",
       "2 -1.098849 -1.276297 -0.342354  2.166478\n",
       "3  0.228914  1.210185 -1.421891 -0.424010\n",
       "4  0.340670 -1.174363 -1.636624  0.763863\n",
       "5 -0.369826  1.031702  0.908719  0.889156\n",
       "6  0.618391 -0.393494 -0.175755 -1.798530\n",
       "7  1.472473  0.167461  0.651640  0.070426\n",
       "8  0.228914  1.210185 -1.421891 -0.424010"
      ]
     },
     "execution_count": 59,
     "metadata": {},
     "output_type": "execute_result"
    }
   ],
   "source": [
    "s = df.iloc[3]\n",
    "df.append(s, ignore_index=True)"
   ]
  },
  {
   "cell_type": "markdown",
   "metadata": {
    "papermill": {
     "duration": 0.077867,
     "end_time": "2021-01-12T07:11:24.756634",
     "exception": false,
     "start_time": "2021-01-12T07:11:24.678767",
     "status": "completed"
    },
    "tags": []
   },
   "source": [
    "# 数据输入/输出"
   ]
  },
  {
   "cell_type": "code",
   "execution_count": 60,
   "metadata": {
    "execution": {
     "iopub.execute_input": "2021-01-12T07:11:24.911337Z",
     "iopub.status.busy": "2021-01-12T07:11:24.910750Z",
     "iopub.status.idle": "2021-01-12T07:11:25.275859Z",
     "shell.execute_reply": "2021-01-12T07:11:25.275212Z"
    },
    "papermill": {
     "duration": 0.443502,
     "end_time": "2021-01-12T07:11:25.275970",
     "exception": false,
     "start_time": "2021-01-12T07:11:24.832468",
     "status": "completed"
    },
    "tags": []
   },
   "outputs": [],
   "source": [
    "# 写入 CSV 文件\n",
    "df.to_csv('foo.csv')"
   ]
  },
  {
   "cell_type": "code",
   "execution_count": 61,
   "metadata": {
    "execution": {
     "iopub.execute_input": "2021-01-12T07:11:25.438450Z",
     "iopub.status.busy": "2021-01-12T07:11:25.437828Z",
     "iopub.status.idle": "2021-01-12T07:11:25.455909Z",
     "shell.execute_reply": "2021-01-12T07:11:25.455171Z"
    },
    "papermill": {
     "duration": 0.103597,
     "end_time": "2021-01-12T07:11:25.456030",
     "exception": false,
     "start_time": "2021-01-12T07:11:25.352433",
     "status": "completed"
    },
    "tags": []
   },
   "outputs": [
    {
     "data": {
      "text/html": [
       "<div>\n",
       "<style scoped>\n",
       "    .dataframe tbody tr th:only-of-type {\n",
       "        vertical-align: middle;\n",
       "    }\n",
       "\n",
       "    .dataframe tbody tr th {\n",
       "        vertical-align: top;\n",
       "    }\n",
       "\n",
       "    .dataframe thead th {\n",
       "        text-align: right;\n",
       "    }\n",
       "</style>\n",
       "<table border=\"1\" class=\"dataframe\">\n",
       "  <thead>\n",
       "    <tr style=\"text-align: right;\">\n",
       "      <th></th>\n",
       "      <th>Unnamed: 0</th>\n",
       "      <th>A</th>\n",
       "      <th>B</th>\n",
       "      <th>C</th>\n",
       "      <th>D</th>\n",
       "    </tr>\n",
       "  </thead>\n",
       "  <tbody>\n",
       "    <tr>\n",
       "      <th>0</th>\n",
       "      <td>0</td>\n",
       "      <td>-0.065422</td>\n",
       "      <td>0.457053</td>\n",
       "      <td>-1.624353</td>\n",
       "      <td>0.134555</td>\n",
       "    </tr>\n",
       "    <tr>\n",
       "      <th>1</th>\n",
       "      <td>1</td>\n",
       "      <td>-0.308215</td>\n",
       "      <td>-0.071855</td>\n",
       "      <td>-0.638223</td>\n",
       "      <td>0.759559</td>\n",
       "    </tr>\n",
       "    <tr>\n",
       "      <th>2</th>\n",
       "      <td>2</td>\n",
       "      <td>-1.098849</td>\n",
       "      <td>-1.276297</td>\n",
       "      <td>-0.342354</td>\n",
       "      <td>2.166478</td>\n",
       "    </tr>\n",
       "    <tr>\n",
       "      <th>3</th>\n",
       "      <td>3</td>\n",
       "      <td>0.228914</td>\n",
       "      <td>1.210185</td>\n",
       "      <td>-1.421891</td>\n",
       "      <td>-0.424010</td>\n",
       "    </tr>\n",
       "    <tr>\n",
       "      <th>4</th>\n",
       "      <td>4</td>\n",
       "      <td>0.340670</td>\n",
       "      <td>-1.174363</td>\n",
       "      <td>-1.636624</td>\n",
       "      <td>0.763863</td>\n",
       "    </tr>\n",
       "    <tr>\n",
       "      <th>5</th>\n",
       "      <td>5</td>\n",
       "      <td>-0.369826</td>\n",
       "      <td>1.031702</td>\n",
       "      <td>0.908719</td>\n",
       "      <td>0.889156</td>\n",
       "    </tr>\n",
       "    <tr>\n",
       "      <th>6</th>\n",
       "      <td>6</td>\n",
       "      <td>0.618391</td>\n",
       "      <td>-0.393494</td>\n",
       "      <td>-0.175755</td>\n",
       "      <td>-1.798530</td>\n",
       "    </tr>\n",
       "    <tr>\n",
       "      <th>7</th>\n",
       "      <td>7</td>\n",
       "      <td>1.472473</td>\n",
       "      <td>0.167461</td>\n",
       "      <td>0.651640</td>\n",
       "      <td>0.070426</td>\n",
       "    </tr>\n",
       "  </tbody>\n",
       "</table>\n",
       "</div>"
      ],
      "text/plain": [
       "   Unnamed: 0         A         B         C         D\n",
       "0           0 -0.065422  0.457053 -1.624353  0.134555\n",
       "1           1 -0.308215 -0.071855 -0.638223  0.759559\n",
       "2           2 -1.098849 -1.276297 -0.342354  2.166478\n",
       "3           3  0.228914  1.210185 -1.421891 -0.424010\n",
       "4           4  0.340670 -1.174363 -1.636624  0.763863\n",
       "5           5 -0.369826  1.031702  0.908719  0.889156\n",
       "6           6  0.618391 -0.393494 -0.175755 -1.798530\n",
       "7           7  1.472473  0.167461  0.651640  0.070426"
      ]
     },
     "execution_count": 61,
     "metadata": {},
     "output_type": "execute_result"
    }
   ],
   "source": [
    "pd.read_csv('foo.csv')"
   ]
  },
  {
   "cell_type": "code",
   "execution_count": 62,
   "metadata": {
    "execution": {
     "iopub.execute_input": "2021-01-12T07:11:25.620630Z",
     "iopub.status.busy": "2021-01-12T07:11:25.619971Z",
     "iopub.status.idle": "2021-01-12T07:11:25.776566Z",
     "shell.execute_reply": "2021-01-12T07:11:25.777145Z"
    },
    "papermill": {
     "duration": 0.239406,
     "end_time": "2021-01-12T07:11:25.777279",
     "exception": false,
     "start_time": "2021-01-12T07:11:25.537873",
     "status": "completed"
    },
    "tags": []
   },
   "outputs": [],
   "source": [
    "df.to_hdf('foo.h5', 'df')"
   ]
  },
  {
   "cell_type": "code",
   "execution_count": 63,
   "metadata": {
    "execution": {
     "iopub.execute_input": "2021-01-12T07:11:25.936052Z",
     "iopub.status.busy": "2021-01-12T07:11:25.935257Z",
     "iopub.status.idle": "2021-01-12T07:11:25.955680Z",
     "shell.execute_reply": "2021-01-12T07:11:25.955171Z"
    },
    "papermill": {
     "duration": 0.10046,
     "end_time": "2021-01-12T07:11:25.955781",
     "exception": false,
     "start_time": "2021-01-12T07:11:25.855321",
     "status": "completed"
    },
    "tags": []
   },
   "outputs": [
    {
     "data": {
      "text/html": [
       "<div>\n",
       "<style scoped>\n",
       "    .dataframe tbody tr th:only-of-type {\n",
       "        vertical-align: middle;\n",
       "    }\n",
       "\n",
       "    .dataframe tbody tr th {\n",
       "        vertical-align: top;\n",
       "    }\n",
       "\n",
       "    .dataframe thead th {\n",
       "        text-align: right;\n",
       "    }\n",
       "</style>\n",
       "<table border=\"1\" class=\"dataframe\">\n",
       "  <thead>\n",
       "    <tr style=\"text-align: right;\">\n",
       "      <th></th>\n",
       "      <th>A</th>\n",
       "      <th>B</th>\n",
       "      <th>C</th>\n",
       "      <th>D</th>\n",
       "    </tr>\n",
       "  </thead>\n",
       "  <tbody>\n",
       "    <tr>\n",
       "      <th>0</th>\n",
       "      <td>-0.065422</td>\n",
       "      <td>0.457053</td>\n",
       "      <td>-1.624353</td>\n",
       "      <td>0.134555</td>\n",
       "    </tr>\n",
       "    <tr>\n",
       "      <th>1</th>\n",
       "      <td>-0.308215</td>\n",
       "      <td>-0.071855</td>\n",
       "      <td>-0.638223</td>\n",
       "      <td>0.759559</td>\n",
       "    </tr>\n",
       "    <tr>\n",
       "      <th>2</th>\n",
       "      <td>-1.098849</td>\n",
       "      <td>-1.276297</td>\n",
       "      <td>-0.342354</td>\n",
       "      <td>2.166478</td>\n",
       "    </tr>\n",
       "    <tr>\n",
       "      <th>3</th>\n",
       "      <td>0.228914</td>\n",
       "      <td>1.210185</td>\n",
       "      <td>-1.421891</td>\n",
       "      <td>-0.424010</td>\n",
       "    </tr>\n",
       "    <tr>\n",
       "      <th>4</th>\n",
       "      <td>0.340670</td>\n",
       "      <td>-1.174363</td>\n",
       "      <td>-1.636624</td>\n",
       "      <td>0.763863</td>\n",
       "    </tr>\n",
       "    <tr>\n",
       "      <th>5</th>\n",
       "      <td>-0.369826</td>\n",
       "      <td>1.031702</td>\n",
       "      <td>0.908719</td>\n",
       "      <td>0.889156</td>\n",
       "    </tr>\n",
       "    <tr>\n",
       "      <th>6</th>\n",
       "      <td>0.618391</td>\n",
       "      <td>-0.393494</td>\n",
       "      <td>-0.175755</td>\n",
       "      <td>-1.798530</td>\n",
       "    </tr>\n",
       "    <tr>\n",
       "      <th>7</th>\n",
       "      <td>1.472473</td>\n",
       "      <td>0.167461</td>\n",
       "      <td>0.651640</td>\n",
       "      <td>0.070426</td>\n",
       "    </tr>\n",
       "  </tbody>\n",
       "</table>\n",
       "</div>"
      ],
      "text/plain": [
       "          A         B         C         D\n",
       "0 -0.065422  0.457053 -1.624353  0.134555\n",
       "1 -0.308215 -0.071855 -0.638223  0.759559\n",
       "2 -1.098849 -1.276297 -0.342354  2.166478\n",
       "3  0.228914  1.210185 -1.421891 -0.424010\n",
       "4  0.340670 -1.174363 -1.636624  0.763863\n",
       "5 -0.369826  1.031702  0.908719  0.889156\n",
       "6  0.618391 -0.393494 -0.175755 -1.798530\n",
       "7  1.472473  0.167461  0.651640  0.070426"
      ]
     },
     "execution_count": 63,
     "metadata": {},
     "output_type": "execute_result"
    }
   ],
   "source": [
    "pd.read_hdf('foo.h5', 'df')"
   ]
  },
  {
   "cell_type": "code",
   "execution_count": 64,
   "metadata": {
    "execution": {
     "iopub.execute_input": "2021-01-12T07:11:26.129375Z",
     "iopub.status.busy": "2021-01-12T07:11:26.128713Z",
     "iopub.status.idle": "2021-01-12T07:11:26.185208Z",
     "shell.execute_reply": "2021-01-12T07:11:26.184633Z"
    },
    "papermill": {
     "duration": 0.150803,
     "end_time": "2021-01-12T07:11:26.185345",
     "exception": false,
     "start_time": "2021-01-12T07:11:26.034542",
     "status": "completed"
    },
    "tags": []
   },
   "outputs": [],
   "source": [
    "# 写入 Excel 文件：\n",
    "df.to_excel('foo.xlsx', sheet_name='Sheet1')"
   ]
  },
  {
   "cell_type": "code",
   "execution_count": 65,
   "metadata": {
    "execution": {
     "iopub.execute_input": "2021-01-12T07:11:26.352638Z",
     "iopub.status.busy": "2021-01-12T07:11:26.351661Z",
     "iopub.status.idle": "2021-01-12T07:11:26.396726Z",
     "shell.execute_reply": "2021-01-12T07:11:26.396199Z"
    },
    "papermill": {
     "duration": 0.128777,
     "end_time": "2021-01-12T07:11:26.396850",
     "exception": false,
     "start_time": "2021-01-12T07:11:26.268073",
     "status": "completed"
    },
    "tags": []
   },
   "outputs": [
    {
     "data": {
      "text/html": [
       "<div>\n",
       "<style scoped>\n",
       "    .dataframe tbody tr th:only-of-type {\n",
       "        vertical-align: middle;\n",
       "    }\n",
       "\n",
       "    .dataframe tbody tr th {\n",
       "        vertical-align: top;\n",
       "    }\n",
       "\n",
       "    .dataframe thead th {\n",
       "        text-align: right;\n",
       "    }\n",
       "</style>\n",
       "<table border=\"1\" class=\"dataframe\">\n",
       "  <thead>\n",
       "    <tr style=\"text-align: right;\">\n",
       "      <th></th>\n",
       "      <th>Unnamed: 0</th>\n",
       "      <th>A</th>\n",
       "      <th>B</th>\n",
       "      <th>C</th>\n",
       "      <th>D</th>\n",
       "    </tr>\n",
       "  </thead>\n",
       "  <tbody>\n",
       "    <tr>\n",
       "      <th>0</th>\n",
       "      <td>0</td>\n",
       "      <td>-0.065422</td>\n",
       "      <td>0.457053</td>\n",
       "      <td>-1.624353</td>\n",
       "      <td>0.134555</td>\n",
       "    </tr>\n",
       "    <tr>\n",
       "      <th>1</th>\n",
       "      <td>1</td>\n",
       "      <td>-0.308215</td>\n",
       "      <td>-0.071855</td>\n",
       "      <td>-0.638223</td>\n",
       "      <td>0.759559</td>\n",
       "    </tr>\n",
       "    <tr>\n",
       "      <th>2</th>\n",
       "      <td>2</td>\n",
       "      <td>-1.098849</td>\n",
       "      <td>-1.276297</td>\n",
       "      <td>-0.342354</td>\n",
       "      <td>2.166478</td>\n",
       "    </tr>\n",
       "    <tr>\n",
       "      <th>3</th>\n",
       "      <td>3</td>\n",
       "      <td>0.228914</td>\n",
       "      <td>1.210185</td>\n",
       "      <td>-1.421891</td>\n",
       "      <td>-0.424010</td>\n",
       "    </tr>\n",
       "    <tr>\n",
       "      <th>4</th>\n",
       "      <td>4</td>\n",
       "      <td>0.340670</td>\n",
       "      <td>-1.174363</td>\n",
       "      <td>-1.636624</td>\n",
       "      <td>0.763863</td>\n",
       "    </tr>\n",
       "    <tr>\n",
       "      <th>5</th>\n",
       "      <td>5</td>\n",
       "      <td>-0.369826</td>\n",
       "      <td>1.031702</td>\n",
       "      <td>0.908719</td>\n",
       "      <td>0.889156</td>\n",
       "    </tr>\n",
       "    <tr>\n",
       "      <th>6</th>\n",
       "      <td>6</td>\n",
       "      <td>0.618391</td>\n",
       "      <td>-0.393494</td>\n",
       "      <td>-0.175755</td>\n",
       "      <td>-1.798530</td>\n",
       "    </tr>\n",
       "    <tr>\n",
       "      <th>7</th>\n",
       "      <td>7</td>\n",
       "      <td>1.472473</td>\n",
       "      <td>0.167461</td>\n",
       "      <td>0.651640</td>\n",
       "      <td>0.070426</td>\n",
       "    </tr>\n",
       "  </tbody>\n",
       "</table>\n",
       "</div>"
      ],
      "text/plain": [
       "   Unnamed: 0         A         B         C         D\n",
       "0           0 -0.065422  0.457053 -1.624353  0.134555\n",
       "1           1 -0.308215 -0.071855 -0.638223  0.759559\n",
       "2           2 -1.098849 -1.276297 -0.342354  2.166478\n",
       "3           3  0.228914  1.210185 -1.421891 -0.424010\n",
       "4           4  0.340670 -1.174363 -1.636624  0.763863\n",
       "5           5 -0.369826  1.031702  0.908719  0.889156\n",
       "6           6  0.618391 -0.393494 -0.175755 -1.798530\n",
       "7           7  1.472473  0.167461  0.651640  0.070426"
      ]
     },
     "execution_count": 65,
     "metadata": {},
     "output_type": "execute_result"
    }
   ],
   "source": [
    "pd.read_excel('foo.xlsx', 'Sheet1', index_col=None, na_values=['NA'])"
   ]
  },
  {
   "cell_type": "markdown",
   "metadata": {
    "papermill": {
     "duration": 0.080115,
     "end_time": "2021-01-12T07:11:26.557866",
     "exception": false,
     "start_time": "2021-01-12T07:11:26.477751",
     "status": "completed"
    },
    "tags": []
   },
   "source": [
    "# numpy补充"
   ]
  },
  {
   "cell_type": "code",
   "execution_count": 66,
   "metadata": {
    "execution": {
     "iopub.execute_input": "2021-01-12T07:11:26.726066Z",
     "iopub.status.busy": "2021-01-12T07:11:26.725345Z",
     "iopub.status.idle": "2021-01-12T07:11:26.757757Z",
     "shell.execute_reply": "2021-01-12T07:11:26.757070Z"
    },
    "papermill": {
     "duration": 0.118479,
     "end_time": "2021-01-12T07:11:26.757872",
     "exception": false,
     "start_time": "2021-01-12T07:11:26.639393",
     "status": "completed"
    },
    "tags": []
   },
   "outputs": [
    {
     "name": "stdout",
     "output_type": "stream",
     "text": [
      "<class 'numpy.ndarray'>\n",
      "[['Year' 'WHO region' 'Country' 'Beverage Types' 'Display Value']\n",
      " ['1986' 'Western Pacific' 'Viet Nam' 'Wine' '0']\n",
      " ['1986' 'Americas' 'Uruguay' 'Other' '0.5']\n",
      " ...\n",
      " ['1987' 'Africa' 'Malawi' 'Other' '0.75']\n",
      " ['1989' 'Americas' 'Bahamas' 'Wine' '1.5']\n",
      " ['1985' 'Africa' 'Malawi' 'Spirits' '0.31']]\n"
     ]
    }
   ],
   "source": [
    "#读取数据\n",
    "world_alchohol = np.genfromtxt(\"/kaggle/input/world-alcohol/world_alcohol.txt\",delimiter=\",\",dtype=str,encoding=\"utf-8\")\n",
    "print(type(world_alchohol))\n",
    "print(world_alchohol)"
   ]
  },
  {
   "cell_type": "code",
   "execution_count": null,
   "metadata": {
    "papermill": {
     "duration": 0.079386,
     "end_time": "2021-01-12T07:11:26.917942",
     "exception": false,
     "start_time": "2021-01-12T07:11:26.838556",
     "status": "completed"
    },
    "tags": []
   },
   "outputs": [],
   "source": []
  }
 ],
 "metadata": {
  "kernelspec": {
   "display_name": "Python 3",
   "language": "python",
   "name": "python3"
  },
  "language_info": {
   "codemirror_mode": {
    "name": "ipython",
    "version": 3
   },
   "file_extension": ".py",
   "mimetype": "text/x-python",
   "name": "python",
   "nbconvert_exporter": "python",
   "pygments_lexer": "ipython3",
   "version": "3.8.5"
  },
  "papermill": {
   "duration": 16.76358,
   "end_time": "2021-01-12T07:11:27.105453",
   "environment_variables": {},
   "exception": null,
   "input_path": "__notebook__.ipynb",
   "output_path": "__notebook__.ipynb",
   "parameters": {},
   "start_time": "2021-01-12T07:11:10.341873",
   "version": "2.1.0"
  }
 },
 "nbformat": 4,
 "nbformat_minor": 4
}
