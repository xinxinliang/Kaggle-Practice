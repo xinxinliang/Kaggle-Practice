{
 "cells": [
  {
   "cell_type": "code",
   "execution_count": 1,
   "metadata": {},
   "outputs": [],
   "source": [
    "from sklearn.linear_model import LinearRegression as LR\n",
    "from sklearn.model_selection import train_test_split\n",
    "from sklearn.model_selection import cross_val_score\n",
    "from sklearn.datasets import fetch_california_housing as fch #加利福尼亚房屋价值数据集\n",
    "import pandas as pd"
   ]
  },
  {
   "cell_type": "code",
   "execution_count": 2,
   "metadata": {},
   "outputs": [],
   "source": [
    "housevalue = fch() #会需要下载，大家可以提前运行试试看"
   ]
  },
  {
   "cell_type": "code",
   "execution_count": 4,
   "metadata": {},
   "outputs": [
    {
     "data": {
      "text/plain": [
       "array([[   8.3252    ,   41.        ,    6.98412698, ...,    2.55555556,\n",
       "          37.88      , -122.23      ],\n",
       "       [   8.3014    ,   21.        ,    6.23813708, ...,    2.10984183,\n",
       "          37.86      , -122.22      ],\n",
       "       [   7.2574    ,   52.        ,    8.28813559, ...,    2.80225989,\n",
       "          37.85      , -122.24      ],\n",
       "       ...,\n",
       "       [   1.7       ,   17.        ,    5.20554273, ...,    2.3256351 ,\n",
       "          39.43      , -121.22      ],\n",
       "       [   1.8672    ,   18.        ,    5.32951289, ...,    2.12320917,\n",
       "          39.43      , -121.32      ],\n",
       "       [   2.3886    ,   16.        ,    5.25471698, ...,    2.61698113,\n",
       "          39.37      , -121.24      ]])"
      ]
     },
     "execution_count": 4,
     "metadata": {},
     "output_type": "execute_result"
    }
   ],
   "source": [
    "housevalue.data"
   ]
  },
  {
   "cell_type": "code",
   "execution_count": 5,
   "metadata": {},
   "outputs": [],
   "source": [
    "X = pd.DataFrame(housevalue.data) #放入DataFrame中便于查看"
   ]
  },
  {
   "cell_type": "code",
   "execution_count": 7,
   "metadata": {},
   "outputs": [
    {
     "data": {
      "text/plain": [
       "(20640, 8)"
      ]
     },
     "execution_count": 7,
     "metadata": {},
     "output_type": "execute_result"
    }
   ],
   "source": [
    "X.shape"
   ]
  },
  {
   "cell_type": "code",
   "execution_count": 8,
   "metadata": {},
   "outputs": [],
   "source": [
    "y = housevalue.target"
   ]
  },
  {
   "cell_type": "code",
   "execution_count": 10,
   "metadata": {},
   "outputs": [
    {
     "data": {
      "text/plain": [
       "0.14999"
      ]
     },
     "execution_count": 10,
     "metadata": {},
     "output_type": "execute_result"
    }
   ],
   "source": [
    "y.min()"
   ]
  },
  {
   "cell_type": "code",
   "execution_count": 11,
   "metadata": {},
   "outputs": [
    {
     "data": {
      "text/plain": [
       "5.00001"
      ]
     },
     "execution_count": 11,
     "metadata": {},
     "output_type": "execute_result"
    }
   ],
   "source": [
    "y.max()"
   ]
  },
  {
   "cell_type": "code",
   "execution_count": 12,
   "metadata": {},
   "outputs": [
    {
     "data": {
      "text/plain": [
       "(20640,)"
      ]
     },
     "execution_count": 12,
     "metadata": {},
     "output_type": "execute_result"
    }
   ],
   "source": [
    "y.shape"
   ]
  },
  {
   "cell_type": "code",
   "execution_count": 17,
   "metadata": {},
   "outputs": [
    {
     "data": {
      "text/html": [
       "<div>\n",
       "<style scoped>\n",
       "    .dataframe tbody tr th:only-of-type {\n",
       "        vertical-align: middle;\n",
       "    }\n",
       "\n",
       "    .dataframe tbody tr th {\n",
       "        vertical-align: top;\n",
       "    }\n",
       "\n",
       "    .dataframe thead th {\n",
       "        text-align: right;\n",
       "    }\n",
       "</style>\n",
       "<table border=\"1\" class=\"dataframe\">\n",
       "  <thead>\n",
       "    <tr style=\"text-align: right;\">\n",
       "      <th></th>\n",
       "      <th>MedInc</th>\n",
       "      <th>HouseAge</th>\n",
       "      <th>AveRooms</th>\n",
       "      <th>AveBedrms</th>\n",
       "      <th>Population</th>\n",
       "      <th>AveOccup</th>\n",
       "      <th>Latitude</th>\n",
       "      <th>Longitude</th>\n",
       "    </tr>\n",
       "  </thead>\n",
       "  <tbody>\n",
       "    <tr>\n",
       "      <th>0</th>\n",
       "      <td>8.3252</td>\n",
       "      <td>41.0</td>\n",
       "      <td>6.984127</td>\n",
       "      <td>1.023810</td>\n",
       "      <td>322.0</td>\n",
       "      <td>2.555556</td>\n",
       "      <td>37.88</td>\n",
       "      <td>-122.23</td>\n",
       "    </tr>\n",
       "    <tr>\n",
       "      <th>1</th>\n",
       "      <td>8.3014</td>\n",
       "      <td>21.0</td>\n",
       "      <td>6.238137</td>\n",
       "      <td>0.971880</td>\n",
       "      <td>2401.0</td>\n",
       "      <td>2.109842</td>\n",
       "      <td>37.86</td>\n",
       "      <td>-122.22</td>\n",
       "    </tr>\n",
       "    <tr>\n",
       "      <th>2</th>\n",
       "      <td>7.2574</td>\n",
       "      <td>52.0</td>\n",
       "      <td>8.288136</td>\n",
       "      <td>1.073446</td>\n",
       "      <td>496.0</td>\n",
       "      <td>2.802260</td>\n",
       "      <td>37.85</td>\n",
       "      <td>-122.24</td>\n",
       "    </tr>\n",
       "    <tr>\n",
       "      <th>3</th>\n",
       "      <td>5.6431</td>\n",
       "      <td>52.0</td>\n",
       "      <td>5.817352</td>\n",
       "      <td>1.073059</td>\n",
       "      <td>558.0</td>\n",
       "      <td>2.547945</td>\n",
       "      <td>37.85</td>\n",
       "      <td>-122.25</td>\n",
       "    </tr>\n",
       "    <tr>\n",
       "      <th>4</th>\n",
       "      <td>3.8462</td>\n",
       "      <td>52.0</td>\n",
       "      <td>6.281853</td>\n",
       "      <td>1.081081</td>\n",
       "      <td>565.0</td>\n",
       "      <td>2.181467</td>\n",
       "      <td>37.85</td>\n",
       "      <td>-122.25</td>\n",
       "    </tr>\n",
       "  </tbody>\n",
       "</table>\n",
       "</div>"
      ],
      "text/plain": [
       "   MedInc  HouseAge  AveRooms  AveBedrms  Population  AveOccup  Latitude  \\\n",
       "0  8.3252      41.0  6.984127   1.023810       322.0  2.555556     37.88   \n",
       "1  8.3014      21.0  6.238137   0.971880      2401.0  2.109842     37.86   \n",
       "2  7.2574      52.0  8.288136   1.073446       496.0  2.802260     37.85   \n",
       "3  5.6431      52.0  5.817352   1.073059       558.0  2.547945     37.85   \n",
       "4  3.8462      52.0  6.281853   1.081081       565.0  2.181467     37.85   \n",
       "\n",
       "   Longitude  \n",
       "0    -122.23  \n",
       "1    -122.22  \n",
       "2    -122.24  \n",
       "3    -122.25  \n",
       "4    -122.25  "
      ]
     },
     "execution_count": 17,
     "metadata": {},
     "output_type": "execute_result"
    }
   ],
   "source": [
    "X.head()"
   ]
  },
  {
   "cell_type": "code",
   "execution_count": 14,
   "metadata": {},
   "outputs": [
    {
     "data": {
      "text/plain": [
       "['MedInc',\n",
       " 'HouseAge',\n",
       " 'AveRooms',\n",
       " 'AveBedrms',\n",
       " 'Population',\n",
       " 'AveOccup',\n",
       " 'Latitude',\n",
       " 'Longitude']"
      ]
     },
     "execution_count": 14,
     "metadata": {},
     "output_type": "execute_result"
    }
   ],
   "source": [
    "housevalue.feature_names #特征名字"
   ]
  },
  {
   "cell_type": "code",
   "execution_count": 16,
   "metadata": {},
   "outputs": [],
   "source": [
    "X.columns = housevalue.feature_names"
   ]
  },
  {
   "cell_type": "code",
   "execution_count": null,
   "metadata": {},
   "outputs": [],
   "source": [
    "\"\"\"\n",
    "MedInc：该街区住户的收入中位数\n",
    "HouseAge：该街区房屋使用年代的中位数\n",
    "AveRooms：该街区平均的房间数目\n",
    "AveBedrms：该街区平均的卧室数目\n",
    "Population：街区人口\n",
    "AveOccup：平均入住率\n",
    "Latitude：街区的纬度\n",
    "Longitude：街区的经度\n",
    "\"\"\""
   ]
  },
  {
   "cell_type": "code",
   "execution_count": 18,
   "metadata": {},
   "outputs": [],
   "source": [
    "Xtrain, Xtest, Ytrain, Ytest = train_test_split(X,y,test_size=0.3,random_state=420)"
   ]
  },
  {
   "cell_type": "code",
   "execution_count": 25,
   "metadata": {},
   "outputs": [
    {
     "data": {
      "text/html": [
       "<div>\n",
       "<style scoped>\n",
       "    .dataframe tbody tr th:only-of-type {\n",
       "        vertical-align: middle;\n",
       "    }\n",
       "\n",
       "    .dataframe tbody tr th {\n",
       "        vertical-align: top;\n",
       "    }\n",
       "\n",
       "    .dataframe thead th {\n",
       "        text-align: right;\n",
       "    }\n",
       "</style>\n",
       "<table border=\"1\" class=\"dataframe\">\n",
       "  <thead>\n",
       "    <tr style=\"text-align: right;\">\n",
       "      <th></th>\n",
       "      <th>MedInc</th>\n",
       "      <th>HouseAge</th>\n",
       "      <th>AveRooms</th>\n",
       "      <th>AveBedrms</th>\n",
       "      <th>Population</th>\n",
       "      <th>AveOccup</th>\n",
       "      <th>Latitude</th>\n",
       "      <th>Longitude</th>\n",
       "    </tr>\n",
       "  </thead>\n",
       "  <tbody>\n",
       "    <tr>\n",
       "      <th>0</th>\n",
       "      <td>1.7656</td>\n",
       "      <td>42.0</td>\n",
       "      <td>4.144703</td>\n",
       "      <td>1.031008</td>\n",
       "      <td>1581.0</td>\n",
       "      <td>4.085271</td>\n",
       "      <td>33.96</td>\n",
       "      <td>-118.28</td>\n",
       "    </tr>\n",
       "    <tr>\n",
       "      <th>1</th>\n",
       "      <td>1.5281</td>\n",
       "      <td>29.0</td>\n",
       "      <td>5.095890</td>\n",
       "      <td>1.095890</td>\n",
       "      <td>1137.0</td>\n",
       "      <td>3.115068</td>\n",
       "      <td>39.29</td>\n",
       "      <td>-121.68</td>\n",
       "    </tr>\n",
       "    <tr>\n",
       "      <th>2</th>\n",
       "      <td>4.1750</td>\n",
       "      <td>14.0</td>\n",
       "      <td>5.604699</td>\n",
       "      <td>1.045965</td>\n",
       "      <td>2823.0</td>\n",
       "      <td>2.883555</td>\n",
       "      <td>37.14</td>\n",
       "      <td>-121.64</td>\n",
       "    </tr>\n",
       "    <tr>\n",
       "      <th>3</th>\n",
       "      <td>3.0278</td>\n",
       "      <td>52.0</td>\n",
       "      <td>5.172932</td>\n",
       "      <td>1.085714</td>\n",
       "      <td>1663.0</td>\n",
       "      <td>2.500752</td>\n",
       "      <td>37.78</td>\n",
       "      <td>-122.49</td>\n",
       "    </tr>\n",
       "    <tr>\n",
       "      <th>4</th>\n",
       "      <td>4.5000</td>\n",
       "      <td>36.0</td>\n",
       "      <td>4.940447</td>\n",
       "      <td>0.982630</td>\n",
       "      <td>1306.0</td>\n",
       "      <td>3.240695</td>\n",
       "      <td>33.95</td>\n",
       "      <td>-118.09</td>\n",
       "    </tr>\n",
       "  </tbody>\n",
       "</table>\n",
       "</div>"
      ],
      "text/plain": [
       "   MedInc  HouseAge  AveRooms  AveBedrms  Population  AveOccup  Latitude  \\\n",
       "0  1.7656      42.0  4.144703   1.031008      1581.0  4.085271     33.96   \n",
       "1  1.5281      29.0  5.095890   1.095890      1137.0  3.115068     39.29   \n",
       "2  4.1750      14.0  5.604699   1.045965      2823.0  2.883555     37.14   \n",
       "3  3.0278      52.0  5.172932   1.085714      1663.0  2.500752     37.78   \n",
       "4  4.5000      36.0  4.940447   0.982630      1306.0  3.240695     33.95   \n",
       "\n",
       "   Longitude  \n",
       "0    -118.28  \n",
       "1    -121.68  \n",
       "2    -121.64  \n",
       "3    -122.49  \n",
       "4    -118.09  "
      ]
     },
     "execution_count": 25,
     "metadata": {},
     "output_type": "execute_result"
    }
   ],
   "source": [
    "Xtest.head()"
   ]
  },
  {
   "cell_type": "code",
   "execution_count": 26,
   "metadata": {},
   "outputs": [
    {
     "data": {
      "text/html": [
       "<div>\n",
       "<style scoped>\n",
       "    .dataframe tbody tr th:only-of-type {\n",
       "        vertical-align: middle;\n",
       "    }\n",
       "\n",
       "    .dataframe tbody tr th {\n",
       "        vertical-align: top;\n",
       "    }\n",
       "\n",
       "    .dataframe thead th {\n",
       "        text-align: right;\n",
       "    }\n",
       "</style>\n",
       "<table border=\"1\" class=\"dataframe\">\n",
       "  <thead>\n",
       "    <tr style=\"text-align: right;\">\n",
       "      <th></th>\n",
       "      <th>MedInc</th>\n",
       "      <th>HouseAge</th>\n",
       "      <th>AveRooms</th>\n",
       "      <th>AveBedrms</th>\n",
       "      <th>Population</th>\n",
       "      <th>AveOccup</th>\n",
       "      <th>Latitude</th>\n",
       "      <th>Longitude</th>\n",
       "    </tr>\n",
       "  </thead>\n",
       "  <tbody>\n",
       "    <tr>\n",
       "      <th>0</th>\n",
       "      <td>4.1776</td>\n",
       "      <td>35.0</td>\n",
       "      <td>4.425172</td>\n",
       "      <td>1.030683</td>\n",
       "      <td>5380.0</td>\n",
       "      <td>3.368817</td>\n",
       "      <td>37.48</td>\n",
       "      <td>-122.19</td>\n",
       "    </tr>\n",
       "    <tr>\n",
       "      <th>1</th>\n",
       "      <td>5.3261</td>\n",
       "      <td>38.0</td>\n",
       "      <td>6.267516</td>\n",
       "      <td>1.089172</td>\n",
       "      <td>429.0</td>\n",
       "      <td>2.732484</td>\n",
       "      <td>37.53</td>\n",
       "      <td>-122.30</td>\n",
       "    </tr>\n",
       "    <tr>\n",
       "      <th>2</th>\n",
       "      <td>1.9439</td>\n",
       "      <td>26.0</td>\n",
       "      <td>5.768977</td>\n",
       "      <td>1.141914</td>\n",
       "      <td>891.0</td>\n",
       "      <td>2.940594</td>\n",
       "      <td>36.02</td>\n",
       "      <td>-119.08</td>\n",
       "    </tr>\n",
       "    <tr>\n",
       "      <th>3</th>\n",
       "      <td>2.5000</td>\n",
       "      <td>22.0</td>\n",
       "      <td>4.916000</td>\n",
       "      <td>1.012000</td>\n",
       "      <td>733.0</td>\n",
       "      <td>2.932000</td>\n",
       "      <td>38.57</td>\n",
       "      <td>-121.31</td>\n",
       "    </tr>\n",
       "    <tr>\n",
       "      <th>4</th>\n",
       "      <td>3.8250</td>\n",
       "      <td>34.0</td>\n",
       "      <td>5.036765</td>\n",
       "      <td>1.098039</td>\n",
       "      <td>1134.0</td>\n",
       "      <td>2.779412</td>\n",
       "      <td>33.91</td>\n",
       "      <td>-118.35</td>\n",
       "    </tr>\n",
       "  </tbody>\n",
       "</table>\n",
       "</div>"
      ],
      "text/plain": [
       "   MedInc  HouseAge  AveRooms  AveBedrms  Population  AveOccup  Latitude  \\\n",
       "0  4.1776      35.0  4.425172   1.030683      5380.0  3.368817     37.48   \n",
       "1  5.3261      38.0  6.267516   1.089172       429.0  2.732484     37.53   \n",
       "2  1.9439      26.0  5.768977   1.141914       891.0  2.940594     36.02   \n",
       "3  2.5000      22.0  4.916000   1.012000       733.0  2.932000     38.57   \n",
       "4  3.8250      34.0  5.036765   1.098039      1134.0  2.779412     33.91   \n",
       "\n",
       "   Longitude  \n",
       "0    -122.19  \n",
       "1    -122.30  \n",
       "2    -119.08  \n",
       "3    -121.31  \n",
       "4    -118.35  "
      ]
     },
     "execution_count": 26,
     "metadata": {},
     "output_type": "execute_result"
    }
   ],
   "source": [
    "Xtrain.head()"
   ]
  },
  {
   "cell_type": "code",
   "execution_count": 21,
   "metadata": {},
   "outputs": [],
   "source": [
    "#恢复索引\n",
    "for i in [Xtrain, Xtest]:\n",
    "    i.index = range(i.shape[0])"
   ]
  },
  {
   "cell_type": "code",
   "execution_count": 27,
   "metadata": {},
   "outputs": [
    {
     "data": {
      "text/plain": [
       "(14448, 8)"
      ]
     },
     "execution_count": 27,
     "metadata": {},
     "output_type": "execute_result"
    }
   ],
   "source": [
    "Xtrain.shape"
   ]
  },
  {
   "cell_type": "code",
   "execution_count": null,
   "metadata": {},
   "outputs": [],
   "source": [
    "#如果希望进行数据标准化，还记得应该怎么做吗？\n",
    "#先用训练集训练(fit)标准化的类，然后用训练好的类分别转化(transform)训练集和测试集"
   ]
  },
  {
   "cell_type": "code",
   "execution_count": 51,
   "metadata": {},
   "outputs": [],
   "source": [
    "reg = LR().fit(Xtrain, Ytrain)"
   ]
  },
  {
   "cell_type": "code",
   "execution_count": 52,
   "metadata": {},
   "outputs": [],
   "source": [
    "yhat = reg.predict(Xtest) #预测我们的yhat"
   ]
  },
  {
   "cell_type": "code",
   "execution_count": 53,
   "metadata": {},
   "outputs": [
    {
     "data": {
      "text/plain": [
       "-0.6528439725035966"
      ]
     },
     "execution_count": 53,
     "metadata": {},
     "output_type": "execute_result"
    }
   ],
   "source": [
    "yhat.min()"
   ]
  },
  {
   "cell_type": "code",
   "execution_count": 54,
   "metadata": {},
   "outputs": [
    {
     "data": {
      "text/plain": [
       "7.146198214270875"
      ]
     },
     "execution_count": 54,
     "metadata": {},
     "output_type": "execute_result"
    }
   ],
   "source": [
    "yhat.max()"
   ]
  },
  {
   "cell_type": "code",
   "execution_count": 55,
   "metadata": {},
   "outputs": [
    {
     "data": {
      "text/plain": [
       "array([ 4.37358931e-01,  1.02112683e-02, -1.07807216e-01,  6.26433828e-01,\n",
       "        5.21612535e-07, -3.34850965e-03, -4.13095938e-01, -4.26210954e-01])"
      ]
     },
     "execution_count": 55,
     "metadata": {},
     "output_type": "execute_result"
    }
   ],
   "source": [
    "reg.coef_ #w,系数向量"
   ]
  },
  {
   "cell_type": "code",
   "execution_count": 58,
   "metadata": {},
   "outputs": [
    {
     "data": {
      "text/plain": [
       "Index(['MedInc', 'HouseAge', 'AveRooms', 'AveBedrms', 'Population', 'AveOccup',\n",
       "       'Latitude', 'Longitude'],\n",
       "      dtype='object')"
      ]
     },
     "execution_count": 58,
     "metadata": {},
     "output_type": "execute_result"
    }
   ],
   "source": [
    "Xtrain.columns"
   ]
  },
  {
   "cell_type": "code",
   "execution_count": 59,
   "metadata": {},
   "outputs": [
    {
     "data": {
      "text/plain": [
       "[('MedInc', 0.4373589305968403),\n",
       " ('HouseAge', 0.010211268294494038),\n",
       " ('AveRooms', -0.10780721617317715),\n",
       " ('AveBedrms', 0.6264338275363783),\n",
       " ('Population', 5.216125353178735e-07),\n",
       " ('AveOccup', -0.0033485096463336094),\n",
       " ('Latitude', -0.4130959378947711),\n",
       " ('Longitude', -0.4262109536208467)]"
      ]
     },
     "execution_count": 59,
     "metadata": {},
     "output_type": "execute_result"
    }
   ],
   "source": [
    "[*zip(Xtrain.columns,reg.coef_)]"
   ]
  },
  {
   "cell_type": "code",
   "execution_count": 56,
   "metadata": {},
   "outputs": [
    {
     "data": {
      "text/plain": [
       "'\\nMedInc：该街区住户的收入中位数\\nHouseAge：该街区房屋使用年代的中位数\\nAveRooms：该街区平均的房间数目\\nAveBedrms：该街区平均的卧室数目\\nPopulation：街区人口\\nAveOccup：平均入住率\\nLatitude：街区的纬度\\nLongitude：街区的经度\\n'"
      ]
     },
     "execution_count": 56,
     "metadata": {},
     "output_type": "execute_result"
    }
   ],
   "source": [
    "\"\"\"\n",
    "MedInc：该街区住户的收入中位数\n",
    "HouseAge：该街区房屋使用年代的中位数\n",
    "AveRooms：该街区平均的房间数目\n",
    "AveBedrms：该街区平均的卧室数目\n",
    "Population：街区人口\n",
    "AveOccup：平均入住率\n",
    "Latitude：街区的纬度\n",
    "Longitude：街区的经度\n",
    "\"\"\""
   ]
  },
  {
   "cell_type": "code",
   "execution_count": 57,
   "metadata": {},
   "outputs": [
    {
     "data": {
      "text/plain": [
       "-36.25689322920386"
      ]
     },
     "execution_count": 57,
     "metadata": {},
     "output_type": "execute_result"
    }
   ],
   "source": [
    "reg.intercept_"
   ]
  },
  {
   "cell_type": "code",
   "execution_count": 60,
   "metadata": {},
   "outputs": [
    {
     "data": {
      "text/plain": [
       "0.5309012639324571"
      ]
     },
     "execution_count": 60,
     "metadata": {},
     "output_type": "execute_result"
    }
   ],
   "source": [
    "from sklearn.metrics import mean_squared_error as MSE\n",
    "MSE(yhat,Ytest)"
   ]
  },
  {
   "cell_type": "code",
   "execution_count": 61,
   "metadata": {},
   "outputs": [
    {
     "data": {
      "text/plain": [
       "2.0819292877906976"
      ]
     },
     "execution_count": 61,
     "metadata": {},
     "output_type": "execute_result"
    }
   ],
   "source": [
    "Ytest.mean()"
   ]
  },
  {
   "cell_type": "code",
   "execution_count": 62,
   "metadata": {},
   "outputs": [
    {
     "data": {
      "text/plain": [
       "5.00001"
      ]
     },
     "execution_count": 62,
     "metadata": {},
     "output_type": "execute_result"
    }
   ],
   "source": [
    "y.max()"
   ]
  },
  {
   "cell_type": "code",
   "execution_count": 63,
   "metadata": {},
   "outputs": [
    {
     "data": {
      "text/plain": [
       "0.14999"
      ]
     },
     "execution_count": 63,
     "metadata": {},
     "output_type": "execute_result"
    }
   ],
   "source": [
    "y.min()"
   ]
  },
  {
   "cell_type": "code",
   "execution_count": 64,
   "metadata": {},
   "outputs": [
    {
     "ename": "ValueError",
     "evalue": "'mean_squared_error' is not a valid scoring value. Use sorted(sklearn.metrics.SCORERS.keys()) to get valid options.",
     "output_type": "error",
     "traceback": [
      "\u001b[1;31m---------------------------------------------------------------------------\u001b[0m",
      "\u001b[1;31mKeyError\u001b[0m                                  Traceback (most recent call last)",
      "\u001b[1;32mC:\\Python\\lib\\site-packages\\sklearn\\metrics\\scorer.py\u001b[0m in \u001b[0;36mget_scorer\u001b[1;34m(scoring)\u001b[0m\n\u001b[0;32m    228\u001b[0m         \u001b[1;32mtry\u001b[0m\u001b[1;33m:\u001b[0m\u001b[1;33m\u001b[0m\u001b[1;33m\u001b[0m\u001b[0m\n\u001b[1;32m--> 229\u001b[1;33m             \u001b[0mscorer\u001b[0m \u001b[1;33m=\u001b[0m \u001b[0mSCORERS\u001b[0m\u001b[1;33m[\u001b[0m\u001b[0mscoring\u001b[0m\u001b[1;33m]\u001b[0m\u001b[1;33m\u001b[0m\u001b[1;33m\u001b[0m\u001b[0m\n\u001b[0m\u001b[0;32m    230\u001b[0m         \u001b[1;32mexcept\u001b[0m \u001b[0mKeyError\u001b[0m\u001b[1;33m:\u001b[0m\u001b[1;33m\u001b[0m\u001b[1;33m\u001b[0m\u001b[0m\n",
      "\u001b[1;31mKeyError\u001b[0m: 'mean_squared_error'",
      "\nDuring handling of the above exception, another exception occurred:\n",
      "\u001b[1;31mValueError\u001b[0m                                Traceback (most recent call last)",
      "\u001b[1;32m<ipython-input-64-b70293e87db8>\u001b[0m in \u001b[0;36m<module>\u001b[1;34m\u001b[0m\n\u001b[1;32m----> 1\u001b[1;33m \u001b[0mcross_val_score\u001b[0m\u001b[1;33m(\u001b[0m\u001b[0mreg\u001b[0m\u001b[1;33m,\u001b[0m\u001b[0mX\u001b[0m\u001b[1;33m,\u001b[0m\u001b[0my\u001b[0m\u001b[1;33m,\u001b[0m\u001b[0mcv\u001b[0m\u001b[1;33m=\u001b[0m\u001b[1;36m10\u001b[0m\u001b[1;33m,\u001b[0m\u001b[0mscoring\u001b[0m\u001b[1;33m=\u001b[0m\u001b[1;34m\"mean_squared_error\"\u001b[0m\u001b[1;33m)\u001b[0m\u001b[1;33m\u001b[0m\u001b[1;33m\u001b[0m\u001b[0m\n\u001b[0m",
      "\u001b[1;32mC:\\Python\\lib\\site-packages\\sklearn\\model_selection\\_validation.py\u001b[0m in \u001b[0;36mcross_val_score\u001b[1;34m(estimator, X, y, groups, scoring, cv, n_jobs, verbose, fit_params, pre_dispatch, error_score)\u001b[0m\n\u001b[0;32m    392\u001b[0m     \"\"\"\n\u001b[0;32m    393\u001b[0m     \u001b[1;31m# To ensure multimetric format is not supported\u001b[0m\u001b[1;33m\u001b[0m\u001b[1;33m\u001b[0m\u001b[1;33m\u001b[0m\u001b[0m\n\u001b[1;32m--> 394\u001b[1;33m     \u001b[0mscorer\u001b[0m \u001b[1;33m=\u001b[0m \u001b[0mcheck_scoring\u001b[0m\u001b[1;33m(\u001b[0m\u001b[0mestimator\u001b[0m\u001b[1;33m,\u001b[0m \u001b[0mscoring\u001b[0m\u001b[1;33m=\u001b[0m\u001b[0mscoring\u001b[0m\u001b[1;33m)\u001b[0m\u001b[1;33m\u001b[0m\u001b[1;33m\u001b[0m\u001b[0m\n\u001b[0m\u001b[0;32m    395\u001b[0m \u001b[1;33m\u001b[0m\u001b[0m\n\u001b[0;32m    396\u001b[0m     cv_results = cross_validate(estimator=estimator, X=X, y=y, groups=groups,\n",
      "\u001b[1;32mC:\\Python\\lib\\site-packages\\sklearn\\metrics\\scorer.py\u001b[0m in \u001b[0;36mcheck_scoring\u001b[1;34m(estimator, scoring, allow_none)\u001b[0m\n\u001b[0;32m    271\u001b[0m                         \"'fit' method, %r was passed\" % estimator)\n\u001b[0;32m    272\u001b[0m     \u001b[1;32mif\u001b[0m \u001b[0misinstance\u001b[0m\u001b[1;33m(\u001b[0m\u001b[0mscoring\u001b[0m\u001b[1;33m,\u001b[0m \u001b[0msix\u001b[0m\u001b[1;33m.\u001b[0m\u001b[0mstring_types\u001b[0m\u001b[1;33m)\u001b[0m\u001b[1;33m:\u001b[0m\u001b[1;33m\u001b[0m\u001b[1;33m\u001b[0m\u001b[0m\n\u001b[1;32m--> 273\u001b[1;33m         \u001b[1;32mreturn\u001b[0m \u001b[0mget_scorer\u001b[0m\u001b[1;33m(\u001b[0m\u001b[0mscoring\u001b[0m\u001b[1;33m)\u001b[0m\u001b[1;33m\u001b[0m\u001b[1;33m\u001b[0m\u001b[0m\n\u001b[0m\u001b[0;32m    274\u001b[0m     \u001b[1;32melif\u001b[0m \u001b[0mcallable\u001b[0m\u001b[1;33m(\u001b[0m\u001b[0mscoring\u001b[0m\u001b[1;33m)\u001b[0m\u001b[1;33m:\u001b[0m\u001b[1;33m\u001b[0m\u001b[1;33m\u001b[0m\u001b[0m\n\u001b[0;32m    275\u001b[0m         \u001b[1;31m# Heuristic to ensure user has not passed a metric\u001b[0m\u001b[1;33m\u001b[0m\u001b[1;33m\u001b[0m\u001b[1;33m\u001b[0m\u001b[0m\n",
      "\u001b[1;32mC:\\Python\\lib\\site-packages\\sklearn\\metrics\\scorer.py\u001b[0m in \u001b[0;36mget_scorer\u001b[1;34m(scoring)\u001b[0m\n\u001b[0;32m    231\u001b[0m             raise ValueError('%r is not a valid scoring value. '\n\u001b[0;32m    232\u001b[0m                              \u001b[1;34m'Use sorted(sklearn.metrics.SCORERS.keys()) '\u001b[0m\u001b[1;33m\u001b[0m\u001b[1;33m\u001b[0m\u001b[0m\n\u001b[1;32m--> 233\u001b[1;33m                              'to get valid options.' % (scoring))\n\u001b[0m\u001b[0;32m    234\u001b[0m     \u001b[1;32melse\u001b[0m\u001b[1;33m:\u001b[0m\u001b[1;33m\u001b[0m\u001b[1;33m\u001b[0m\u001b[0m\n\u001b[0;32m    235\u001b[0m         \u001b[0mscorer\u001b[0m \u001b[1;33m=\u001b[0m \u001b[0mscoring\u001b[0m\u001b[1;33m\u001b[0m\u001b[1;33m\u001b[0m\u001b[0m\n",
      "\u001b[1;31mValueError\u001b[0m: 'mean_squared_error' is not a valid scoring value. Use sorted(sklearn.metrics.SCORERS.keys()) to get valid options."
     ]
    }
   ],
   "source": [
    "cross_val_score(reg,X,y,cv=10,scoring=\"mean_squared_error\")"
   ]
  },
  {
   "cell_type": "code",
   "execution_count": 65,
   "metadata": {},
   "outputs": [
    {
     "data": {
      "text/plain": [
       "['accuracy',\n",
       " 'adjusted_mutual_info_score',\n",
       " 'adjusted_rand_score',\n",
       " 'average_precision',\n",
       " 'balanced_accuracy',\n",
       " 'brier_score_loss',\n",
       " 'completeness_score',\n",
       " 'explained_variance',\n",
       " 'f1',\n",
       " 'f1_macro',\n",
       " 'f1_micro',\n",
       " 'f1_samples',\n",
       " 'f1_weighted',\n",
       " 'fowlkes_mallows_score',\n",
       " 'homogeneity_score',\n",
       " 'mutual_info_score',\n",
       " 'neg_log_loss',\n",
       " 'neg_mean_absolute_error',\n",
       " 'neg_mean_squared_error',\n",
       " 'neg_mean_squared_log_error',\n",
       " 'neg_median_absolute_error',\n",
       " 'normalized_mutual_info_score',\n",
       " 'precision',\n",
       " 'precision_macro',\n",
       " 'precision_micro',\n",
       " 'precision_samples',\n",
       " 'precision_weighted',\n",
       " 'r2',\n",
       " 'recall',\n",
       " 'recall_macro',\n",
       " 'recall_micro',\n",
       " 'recall_samples',\n",
       " 'recall_weighted',\n",
       " 'roc_auc',\n",
       " 'v_measure_score']"
      ]
     },
     "execution_count": 65,
     "metadata": {},
     "output_type": "execute_result"
    }
   ],
   "source": [
    "#为什么报错了？来试试看！\n",
    "import sklearn\n",
    "sorted(sklearn.metrics.SCORERS.keys())"
   ]
  },
  {
   "cell_type": "code",
   "execution_count": 69,
   "metadata": {},
   "outputs": [
    {
     "data": {
      "text/plain": [
       "-0.550952429695658"
      ]
     },
     "execution_count": 69,
     "metadata": {},
     "output_type": "execute_result"
    }
   ],
   "source": [
    "cross_val_score(reg,X,y,cv=10,scoring=\"neg_mean_squared_error\").mean()"
   ]
  },
  {
   "cell_type": "code",
   "execution_count": 70,
   "metadata": {},
   "outputs": [
    {
     "data": {
      "text/plain": [
       "0.33806537615560006"
      ]
     },
     "execution_count": 70,
     "metadata": {},
     "output_type": "execute_result"
    }
   ],
   "source": [
    "#调用R2\n",
    "from sklearn.metrics import r2_score\n",
    "r2_score(yhat,Ytest)"
   ]
  },
  {
   "cell_type": "code",
   "execution_count": 71,
   "metadata": {},
   "outputs": [
    {
     "data": {
      "text/plain": [
       "0.6043668160178817"
      ]
     },
     "execution_count": 71,
     "metadata": {},
     "output_type": "execute_result"
    }
   ],
   "source": [
    "r2 = reg.score(Xtest,Ytest)\n",
    "r2"
   ]
  },
  {
   "cell_type": "code",
   "execution_count": 72,
   "metadata": {},
   "outputs": [
    {
     "data": {
      "text/plain": [
       "0.6043668160178817"
      ]
     },
     "execution_count": 72,
     "metadata": {},
     "output_type": "execute_result"
    }
   ],
   "source": [
    "r2_score(Ytest,yhat)"
   ]
  },
  {
   "cell_type": "code",
   "execution_count": 73,
   "metadata": {},
   "outputs": [
    {
     "data": {
      "text/plain": [
       "0.6043668160178817"
      ]
     },
     "execution_count": 73,
     "metadata": {},
     "output_type": "execute_result"
    }
   ],
   "source": [
    "#或者你也可以指定参数，就不必在意顺序了\n",
    "r2_score(y_true = Ytest,y_pred = yhat)"
   ]
  },
  {
   "cell_type": "code",
   "execution_count": 76,
   "metadata": {},
   "outputs": [
    {
     "data": {
      "text/plain": [
       "0.5110068610524564"
      ]
     },
     "execution_count": 76,
     "metadata": {},
     "output_type": "execute_result"
    }
   ],
   "source": [
    "cross_val_score(reg,X,y,cv=10,scoring=\"r2\").mean()"
   ]
  },
  {
   "cell_type": "code",
   "execution_count": 77,
   "metadata": {},
   "outputs": [
    {
     "data": {
      "text/plain": [
       "[0.14999,\n",
       " 0.14999,\n",
       " 0.225,\n",
       " 0.325,\n",
       " 0.35,\n",
       " 0.375,\n",
       " 0.388,\n",
       " 0.392,\n",
       " 0.394,\n",
       " 0.396,\n",
       " 0.4,\n",
       " 0.404,\n",
       " 0.409,\n",
       " 0.41,\n",
       " 0.43,\n",
       " 0.435,\n",
       " 0.437,\n",
       " 0.439,\n",
       " 0.44,\n",
       " 0.44,\n",
       " 0.444,\n",
       " 0.446,\n",
       " 0.45,\n",
       " 0.45,\n",
       " 0.45,\n",
       " 0.45,\n",
       " 0.455,\n",
       " 0.455,\n",
       " 0.455,\n",
       " 0.456,\n",
       " 0.462,\n",
       " 0.463,\n",
       " 0.471,\n",
       " 0.475,\n",
       " 0.478,\n",
       " 0.478,\n",
       " 0.481,\n",
       " 0.481,\n",
       " 0.483,\n",
       " 0.483,\n",
       " 0.485,\n",
       " 0.485,\n",
       " 0.488,\n",
       " 0.489,\n",
       " 0.49,\n",
       " 0.492,\n",
       " 0.494,\n",
       " 0.494,\n",
       " 0.494,\n",
       " 0.495,\n",
       " 0.496,\n",
       " 0.5,\n",
       " 0.5,\n",
       " 0.504,\n",
       " 0.505,\n",
       " 0.506,\n",
       " 0.506,\n",
       " 0.508,\n",
       " 0.508,\n",
       " 0.51,\n",
       " 0.516,\n",
       " 0.519,\n",
       " 0.52,\n",
       " 0.521,\n",
       " 0.523,\n",
       " 0.523,\n",
       " 0.525,\n",
       " 0.525,\n",
       " 0.525,\n",
       " 0.525,\n",
       " 0.525,\n",
       " 0.527,\n",
       " 0.527,\n",
       " 0.528,\n",
       " 0.529,\n",
       " 0.53,\n",
       " 0.531,\n",
       " 0.532,\n",
       " 0.534,\n",
       " 0.535,\n",
       " 0.535,\n",
       " 0.535,\n",
       " 0.538,\n",
       " 0.538,\n",
       " 0.539,\n",
       " 0.539,\n",
       " 0.539,\n",
       " 0.541,\n",
       " 0.541,\n",
       " 0.542,\n",
       " 0.542,\n",
       " 0.542,\n",
       " 0.543,\n",
       " 0.543,\n",
       " 0.544,\n",
       " 0.544,\n",
       " 0.546,\n",
       " 0.547,\n",
       " 0.55,\n",
       " 0.55,\n",
       " 0.55,\n",
       " 0.55,\n",
       " 0.55,\n",
       " 0.55,\n",
       " 0.55,\n",
       " 0.55,\n",
       " 0.551,\n",
       " 0.553,\n",
       " 0.553,\n",
       " 0.553,\n",
       " 0.554,\n",
       " 0.554,\n",
       " 0.554,\n",
       " 0.555,\n",
       " 0.556,\n",
       " 0.556,\n",
       " 0.557,\n",
       " 0.558,\n",
       " 0.558,\n",
       " 0.559,\n",
       " 0.559,\n",
       " 0.559,\n",
       " 0.559,\n",
       " 0.56,\n",
       " 0.56,\n",
       " 0.562,\n",
       " 0.566,\n",
       " 0.567,\n",
       " 0.567,\n",
       " 0.567,\n",
       " 0.567,\n",
       " 0.567,\n",
       " 0.568,\n",
       " 0.57,\n",
       " 0.571,\n",
       " 0.572,\n",
       " 0.574,\n",
       " 0.574,\n",
       " 0.575,\n",
       " 0.575,\n",
       " 0.575,\n",
       " 0.575,\n",
       " 0.576,\n",
       " 0.577,\n",
       " 0.577,\n",
       " 0.577,\n",
       " 0.578,\n",
       " 0.579,\n",
       " 0.579,\n",
       " 0.579,\n",
       " 0.58,\n",
       " 0.58,\n",
       " 0.58,\n",
       " 0.58,\n",
       " 0.58,\n",
       " 0.58,\n",
       " 0.581,\n",
       " 0.581,\n",
       " 0.581,\n",
       " 0.581,\n",
       " 0.582,\n",
       " 0.583,\n",
       " 0.583,\n",
       " 0.583,\n",
       " 0.583,\n",
       " 0.584,\n",
       " 0.586,\n",
       " 0.586,\n",
       " 0.587,\n",
       " 0.588,\n",
       " 0.588,\n",
       " 0.59,\n",
       " 0.59,\n",
       " 0.59,\n",
       " 0.59,\n",
       " 0.591,\n",
       " 0.591,\n",
       " 0.593,\n",
       " 0.593,\n",
       " 0.594,\n",
       " 0.594,\n",
       " 0.594,\n",
       " 0.594,\n",
       " 0.595,\n",
       " 0.596,\n",
       " 0.596,\n",
       " 0.597,\n",
       " 0.598,\n",
       " 0.598,\n",
       " 0.6,\n",
       " 0.6,\n",
       " 0.6,\n",
       " 0.602,\n",
       " 0.602,\n",
       " 0.603,\n",
       " 0.604,\n",
       " 0.604,\n",
       " 0.604,\n",
       " 0.605,\n",
       " 0.606,\n",
       " 0.606,\n",
       " 0.608,\n",
       " 0.608,\n",
       " 0.608,\n",
       " 0.609,\n",
       " 0.609,\n",
       " 0.611,\n",
       " 0.612,\n",
       " 0.612,\n",
       " 0.613,\n",
       " 0.613,\n",
       " 0.613,\n",
       " 0.614,\n",
       " 0.615,\n",
       " 0.616,\n",
       " 0.616,\n",
       " 0.616,\n",
       " 0.616,\n",
       " 0.618,\n",
       " 0.618,\n",
       " 0.618,\n",
       " 0.619,\n",
       " 0.619,\n",
       " 0.62,\n",
       " 0.62,\n",
       " 0.62,\n",
       " 0.62,\n",
       " 0.62,\n",
       " 0.62,\n",
       " 0.62,\n",
       " 0.62,\n",
       " 0.621,\n",
       " 0.621,\n",
       " 0.621,\n",
       " 0.622,\n",
       " 0.623,\n",
       " 0.625,\n",
       " 0.625,\n",
       " 0.625,\n",
       " 0.627,\n",
       " 0.627,\n",
       " 0.628,\n",
       " 0.628,\n",
       " 0.629,\n",
       " 0.63,\n",
       " 0.63,\n",
       " 0.63,\n",
       " 0.63,\n",
       " 0.631,\n",
       " 0.631,\n",
       " 0.632,\n",
       " 0.632,\n",
       " 0.633,\n",
       " 0.633,\n",
       " 0.633,\n",
       " 0.634,\n",
       " 0.634,\n",
       " 0.635,\n",
       " 0.635,\n",
       " 0.635,\n",
       " 0.635,\n",
       " 0.635,\n",
       " 0.637,\n",
       " 0.637,\n",
       " 0.637,\n",
       " 0.637,\n",
       " 0.638,\n",
       " 0.639,\n",
       " 0.643,\n",
       " 0.644,\n",
       " 0.644,\n",
       " 0.646,\n",
       " 0.646,\n",
       " 0.646,\n",
       " 0.646,\n",
       " 0.647,\n",
       " 0.647,\n",
       " 0.647,\n",
       " 0.648,\n",
       " 0.65,\n",
       " 0.65,\n",
       " 0.65,\n",
       " 0.652,\n",
       " 0.652,\n",
       " 0.654,\n",
       " 0.654,\n",
       " 0.654,\n",
       " 0.655,\n",
       " 0.656,\n",
       " 0.656,\n",
       " 0.656,\n",
       " 0.656,\n",
       " 0.657,\n",
       " 0.658,\n",
       " 0.658,\n",
       " 0.659,\n",
       " 0.659,\n",
       " 0.659,\n",
       " 0.659,\n",
       " 0.659,\n",
       " 0.66,\n",
       " 0.661,\n",
       " 0.661,\n",
       " 0.662,\n",
       " 0.662,\n",
       " 0.663,\n",
       " 0.664,\n",
       " 0.664,\n",
       " 0.664,\n",
       " 0.668,\n",
       " 0.669,\n",
       " 0.669,\n",
       " 0.67,\n",
       " 0.67,\n",
       " 0.67,\n",
       " 0.67,\n",
       " 0.67,\n",
       " 0.67,\n",
       " 0.672,\n",
       " 0.672,\n",
       " 0.672,\n",
       " 0.673,\n",
       " 0.673,\n",
       " 0.674,\n",
       " 0.675,\n",
       " 0.675,\n",
       " 0.675,\n",
       " 0.675,\n",
       " 0.675,\n",
       " 0.675,\n",
       " 0.675,\n",
       " 0.675,\n",
       " 0.675,\n",
       " 0.675,\n",
       " 0.675,\n",
       " 0.675,\n",
       " 0.675,\n",
       " 0.676,\n",
       " 0.676,\n",
       " 0.677,\n",
       " 0.678,\n",
       " 0.68,\n",
       " 0.68,\n",
       " 0.681,\n",
       " 0.682,\n",
       " 0.682,\n",
       " 0.682,\n",
       " 0.682,\n",
       " 0.683,\n",
       " 0.683,\n",
       " 0.683,\n",
       " 0.684,\n",
       " 0.684,\n",
       " 0.685,\n",
       " 0.685,\n",
       " 0.685,\n",
       " 0.685,\n",
       " 0.686,\n",
       " 0.686,\n",
       " 0.687,\n",
       " 0.688,\n",
       " 0.689,\n",
       " 0.689,\n",
       " 0.689,\n",
       " 0.69,\n",
       " 0.69,\n",
       " 0.691,\n",
       " 0.691,\n",
       " 0.692,\n",
       " 0.693,\n",
       " 0.694,\n",
       " 0.694,\n",
       " 0.694,\n",
       " 0.694,\n",
       " 0.694,\n",
       " 0.695,\n",
       " 0.695,\n",
       " 0.695,\n",
       " 0.696,\n",
       " 0.696,\n",
       " 0.697,\n",
       " 0.698,\n",
       " 0.699,\n",
       " 0.699,\n",
       " 0.7,\n",
       " 0.7,\n",
       " 0.7,\n",
       " 0.7,\n",
       " 0.7,\n",
       " 0.7,\n",
       " 0.701,\n",
       " 0.701,\n",
       " 0.701,\n",
       " 0.702,\n",
       " 0.702,\n",
       " 0.703,\n",
       " 0.704,\n",
       " 0.704,\n",
       " 0.705,\n",
       " 0.705,\n",
       " 0.706,\n",
       " 0.707,\n",
       " 0.707,\n",
       " 0.707,\n",
       " 0.708,\n",
       " 0.709,\n",
       " 0.71,\n",
       " 0.71,\n",
       " 0.71,\n",
       " 0.711,\n",
       " 0.712,\n",
       " 0.712,\n",
       " 0.713,\n",
       " 0.713,\n",
       " 0.713,\n",
       " 0.714,\n",
       " 0.715,\n",
       " 0.716,\n",
       " 0.718,\n",
       " 0.719,\n",
       " 0.72,\n",
       " 0.72,\n",
       " 0.72,\n",
       " 0.721,\n",
       " 0.722,\n",
       " 0.723,\n",
       " 0.723,\n",
       " 0.723,\n",
       " 0.723,\n",
       " 0.723,\n",
       " 0.725,\n",
       " 0.725,\n",
       " 0.727,\n",
       " 0.727,\n",
       " 0.728,\n",
       " 0.729,\n",
       " 0.729,\n",
       " 0.73,\n",
       " 0.73,\n",
       " 0.73,\n",
       " 0.73,\n",
       " 0.73,\n",
       " 0.731,\n",
       " 0.731,\n",
       " 0.731,\n",
       " 0.731,\n",
       " 0.732,\n",
       " 0.733,\n",
       " 0.733,\n",
       " 0.734,\n",
       " 0.735,\n",
       " 0.735,\n",
       " 0.737,\n",
       " 0.738,\n",
       " 0.738,\n",
       " 0.738,\n",
       " 0.74,\n",
       " 0.74,\n",
       " 0.74,\n",
       " 0.741,\n",
       " 0.741,\n",
       " 0.741,\n",
       " 0.743,\n",
       " 0.746,\n",
       " 0.746,\n",
       " 0.747,\n",
       " 0.748,\n",
       " 0.749,\n",
       " 0.75,\n",
       " 0.75,\n",
       " 0.75,\n",
       " 0.75,\n",
       " 0.75,\n",
       " 0.75,\n",
       " 0.75,\n",
       " 0.752,\n",
       " 0.752,\n",
       " 0.754,\n",
       " 0.756,\n",
       " 0.756,\n",
       " 0.757,\n",
       " 0.759,\n",
       " 0.759,\n",
       " 0.759,\n",
       " 0.76,\n",
       " 0.76,\n",
       " 0.761,\n",
       " 0.762,\n",
       " 0.762,\n",
       " 0.762,\n",
       " 0.762,\n",
       " 0.763,\n",
       " 0.764,\n",
       " 0.764,\n",
       " 0.765,\n",
       " 0.766,\n",
       " 0.768,\n",
       " 0.769,\n",
       " 0.77,\n",
       " 0.771,\n",
       " 0.771,\n",
       " 0.771,\n",
       " 0.772,\n",
       " 0.772,\n",
       " 0.773,\n",
       " 0.774,\n",
       " 0.774,\n",
       " 0.775,\n",
       " 0.777,\n",
       " 0.777,\n",
       " 0.779,\n",
       " 0.78,\n",
       " 0.78,\n",
       " 0.78,\n",
       " 0.781,\n",
       " 0.783,\n",
       " 0.783,\n",
       " 0.785,\n",
       " 0.786,\n",
       " 0.786,\n",
       " 0.786,\n",
       " 0.786,\n",
       " 0.788,\n",
       " 0.788,\n",
       " 0.788,\n",
       " 0.788,\n",
       " 0.788,\n",
       " 0.79,\n",
       " 0.79,\n",
       " 0.79,\n",
       " 0.792,\n",
       " 0.792,\n",
       " 0.792,\n",
       " 0.795,\n",
       " 0.795,\n",
       " 0.795,\n",
       " 0.797,\n",
       " 0.797,\n",
       " 0.798,\n",
       " 0.799,\n",
       " 0.8,\n",
       " 0.801,\n",
       " 0.802,\n",
       " 0.803,\n",
       " 0.804,\n",
       " 0.804,\n",
       " 0.804,\n",
       " 0.806,\n",
       " 0.806,\n",
       " 0.808,\n",
       " 0.808,\n",
       " 0.808,\n",
       " 0.809,\n",
       " 0.81,\n",
       " 0.81,\n",
       " 0.811,\n",
       " 0.813,\n",
       " 0.813,\n",
       " 0.813,\n",
       " 0.813,\n",
       " 0.813,\n",
       " 0.813,\n",
       " 0.813,\n",
       " 0.813,\n",
       " 0.813,\n",
       " 0.813,\n",
       " 0.813,\n",
       " 0.813,\n",
       " 0.813,\n",
       " 0.813,\n",
       " 0.814,\n",
       " 0.814,\n",
       " 0.816,\n",
       " 0.817,\n",
       " 0.817,\n",
       " 0.817,\n",
       " 0.821,\n",
       " 0.821,\n",
       " 0.821,\n",
       " 0.823,\n",
       " 0.823,\n",
       " 0.824,\n",
       " 0.825,\n",
       " 0.825,\n",
       " 0.825,\n",
       " 0.826,\n",
       " 0.827,\n",
       " 0.827,\n",
       " 0.828,\n",
       " 0.828,\n",
       " 0.828,\n",
       " 0.83,\n",
       " 0.83,\n",
       " 0.83,\n",
       " 0.831,\n",
       " 0.831,\n",
       " 0.831,\n",
       " 0.832,\n",
       " 0.832,\n",
       " 0.832,\n",
       " 0.833,\n",
       " 0.833,\n",
       " 0.834,\n",
       " 0.835,\n",
       " 0.835,\n",
       " 0.836,\n",
       " 0.836,\n",
       " 0.837,\n",
       " 0.838,\n",
       " 0.839,\n",
       " 0.839,\n",
       " 0.839,\n",
       " 0.839,\n",
       " 0.84,\n",
       " 0.841,\n",
       " 0.842,\n",
       " 0.842,\n",
       " 0.842,\n",
       " 0.843,\n",
       " 0.843,\n",
       " 0.844,\n",
       " 0.844,\n",
       " 0.844,\n",
       " 0.845,\n",
       " 0.845,\n",
       " 0.845,\n",
       " 0.845,\n",
       " 0.846,\n",
       " 0.846,\n",
       " 0.846,\n",
       " 0.846,\n",
       " 0.847,\n",
       " 0.847,\n",
       " 0.847,\n",
       " 0.847,\n",
       " 0.847,\n",
       " 0.847,\n",
       " 0.848,\n",
       " 0.849,\n",
       " 0.849,\n",
       " 0.85,\n",
       " 0.85,\n",
       " 0.85,\n",
       " 0.851,\n",
       " 0.851,\n",
       " 0.851,\n",
       " 0.851,\n",
       " 0.852,\n",
       " 0.853,\n",
       " 0.853,\n",
       " 0.854,\n",
       " 0.854,\n",
       " 0.854,\n",
       " 0.855,\n",
       " 0.855,\n",
       " 0.855,\n",
       " 0.855,\n",
       " 0.856,\n",
       " 0.857,\n",
       " 0.857,\n",
       " 0.857,\n",
       " 0.857,\n",
       " 0.857,\n",
       " 0.858,\n",
       " 0.859,\n",
       " 0.859,\n",
       " 0.859,\n",
       " 0.859,\n",
       " 0.859,\n",
       " 0.861,\n",
       " 0.862,\n",
       " 0.863,\n",
       " 0.863,\n",
       " 0.863,\n",
       " 0.864,\n",
       " 0.864,\n",
       " 0.864,\n",
       " 0.864,\n",
       " 0.865,\n",
       " 0.865,\n",
       " 0.865,\n",
       " 0.866,\n",
       " 0.867,\n",
       " 0.867,\n",
       " 0.868,\n",
       " 0.869,\n",
       " 0.869,\n",
       " 0.869,\n",
       " 0.869,\n",
       " 0.87,\n",
       " 0.87,\n",
       " 0.871,\n",
       " 0.871,\n",
       " 0.872,\n",
       " 0.872,\n",
       " 0.872,\n",
       " 0.873,\n",
       " 0.874,\n",
       " 0.875,\n",
       " 0.875,\n",
       " 0.875,\n",
       " 0.875,\n",
       " 0.875,\n",
       " 0.875,\n",
       " 0.875,\n",
       " 0.875,\n",
       " 0.875,\n",
       " 0.875,\n",
       " 0.875,\n",
       " 0.875,\n",
       " 0.875,\n",
       " 0.875,\n",
       " 0.875,\n",
       " 0.875,\n",
       " 0.875,\n",
       " 0.875,\n",
       " 0.875,\n",
       " 0.875,\n",
       " 0.875,\n",
       " 0.875,\n",
       " 0.875,\n",
       " 0.875,\n",
       " 0.876,\n",
       " 0.876,\n",
       " 0.877,\n",
       " 0.877,\n",
       " 0.878,\n",
       " 0.878,\n",
       " 0.878,\n",
       " 0.879,\n",
       " 0.879,\n",
       " 0.879,\n",
       " 0.88,\n",
       " 0.88,\n",
       " 0.881,\n",
       " 0.881,\n",
       " 0.882,\n",
       " 0.882,\n",
       " 0.882,\n",
       " 0.882,\n",
       " 0.883,\n",
       " 0.883,\n",
       " 0.883,\n",
       " 0.883,\n",
       " 0.883,\n",
       " 0.883,\n",
       " 0.884,\n",
       " 0.885,\n",
       " 0.885,\n",
       " 0.886,\n",
       " 0.887,\n",
       " 0.887,\n",
       " 0.887,\n",
       " 0.888,\n",
       " 0.888,\n",
       " 0.888,\n",
       " 0.889,\n",
       " 0.889,\n",
       " 0.889,\n",
       " 0.889,\n",
       " 0.889,\n",
       " 0.89,\n",
       " 0.891,\n",
       " 0.892,\n",
       " 0.892,\n",
       " 0.892,\n",
       " 0.893,\n",
       " 0.893,\n",
       " 0.894,\n",
       " 0.895,\n",
       " 0.896,\n",
       " 0.896,\n",
       " 0.897,\n",
       " 0.897,\n",
       " 0.898,\n",
       " 0.898,\n",
       " 0.899,\n",
       " 0.9,\n",
       " 0.9,\n",
       " 0.9,\n",
       " 0.901,\n",
       " 0.901,\n",
       " 0.901,\n",
       " 0.902,\n",
       " 0.903,\n",
       " 0.903,\n",
       " 0.904,\n",
       " 0.904,\n",
       " 0.904,\n",
       " 0.905,\n",
       " 0.905,\n",
       " 0.905,\n",
       " 0.905,\n",
       " 0.906,\n",
       " 0.906,\n",
       " 0.906,\n",
       " 0.906,\n",
       " 0.907,\n",
       " 0.907,\n",
       " 0.908,\n",
       " 0.911,\n",
       " 0.911,\n",
       " 0.912,\n",
       " 0.914,\n",
       " 0.915,\n",
       " 0.915,\n",
       " 0.916,\n",
       " 0.916,\n",
       " 0.917,\n",
       " 0.917,\n",
       " 0.917,\n",
       " 0.917,\n",
       " 0.918,\n",
       " 0.918,\n",
       " 0.918,\n",
       " 0.919,\n",
       " 0.919,\n",
       " 0.919,\n",
       " 0.92,\n",
       " 0.92,\n",
       " 0.922,\n",
       " 0.922,\n",
       " 0.922,\n",
       " 0.922,\n",
       " 0.922,\n",
       " 0.924,\n",
       " 0.925,\n",
       " 0.925,\n",
       " 0.925,\n",
       " 0.925,\n",
       " 0.926,\n",
       " 0.926,\n",
       " 0.926,\n",
       " 0.926,\n",
       " 0.926,\n",
       " 0.926,\n",
       " 0.926,\n",
       " 0.926,\n",
       " 0.926,\n",
       " 0.926,\n",
       " 0.927,\n",
       " 0.927,\n",
       " 0.927,\n",
       " 0.927,\n",
       " 0.928,\n",
       " 0.928,\n",
       " 0.928,\n",
       " 0.928,\n",
       " 0.928,\n",
       " 0.929,\n",
       " 0.93,\n",
       " 0.93,\n",
       " 0.931,\n",
       " 0.931,\n",
       " 0.931,\n",
       " 0.931,\n",
       " 0.931,\n",
       " 0.931,\n",
       " 0.932,\n",
       " 0.932,\n",
       " 0.932,\n",
       " 0.932,\n",
       " 0.933,\n",
       " 0.933,\n",
       " 0.933,\n",
       " 0.934,\n",
       " 0.934,\n",
       " 0.934,\n",
       " 0.934,\n",
       " 0.934,\n",
       " 0.935,\n",
       " 0.935,\n",
       " 0.935,\n",
       " 0.936,\n",
       " 0.936,\n",
       " 0.936,\n",
       " 0.936,\n",
       " 0.938,\n",
       " 0.938,\n",
       " 0.938,\n",
       " 0.938,\n",
       " 0.938,\n",
       " 0.938,\n",
       " 0.938,\n",
       " 0.938,\n",
       " 0.938,\n",
       " 0.938,\n",
       " 0.938,\n",
       " 0.939,\n",
       " 0.939,\n",
       " 0.94,\n",
       " 0.94,\n",
       " 0.942,\n",
       " 0.942,\n",
       " 0.943,\n",
       " 0.943,\n",
       " 0.944,\n",
       " 0.944,\n",
       " 0.944,\n",
       " 0.945,\n",
       " 0.945,\n",
       " 0.946,\n",
       " 0.946,\n",
       " 0.946,\n",
       " 0.946,\n",
       " 0.946,\n",
       " 0.946,\n",
       " 0.946,\n",
       " 0.947,\n",
       " 0.947,\n",
       " 0.948,\n",
       " 0.948,\n",
       " 0.948,\n",
       " 0.949,\n",
       " 0.949,\n",
       " 0.95,\n",
       " 0.95,\n",
       " 0.95,\n",
       " 0.95,\n",
       " 0.95,\n",
       " 0.951,\n",
       " 0.952,\n",
       " 0.952,\n",
       " 0.953,\n",
       " 0.953,\n",
       " 0.953,\n",
       " 0.953,\n",
       " 0.954,\n",
       " 0.955,\n",
       " 0.955,\n",
       " 0.955,\n",
       " 0.955,\n",
       " 0.955,\n",
       " 0.956,\n",
       " 0.957,\n",
       " 0.957,\n",
       " 0.957,\n",
       " 0.958,\n",
       " 0.958,\n",
       " 0.958,\n",
       " 0.958,\n",
       " 0.958,\n",
       " 0.958,\n",
       " 0.96,\n",
       " 0.96,\n",
       " 0.96,\n",
       " 0.96,\n",
       " 0.96,\n",
       " 0.96,\n",
       " 0.961,\n",
       " 0.961,\n",
       " 0.962,\n",
       " 0.962,\n",
       " 0.962,\n",
       " 0.962,\n",
       " 0.962,\n",
       " 0.962,\n",
       " 0.962,\n",
       " 0.963,\n",
       " 0.964,\n",
       " 0.964,\n",
       " 0.964,\n",
       " 0.964,\n",
       " 0.965,\n",
       " 0.965,\n",
       " 0.965,\n",
       " 0.966,\n",
       " 0.966,\n",
       " 0.966,\n",
       " 0.967,\n",
       " 0.967,\n",
       " 0.967,\n",
       " 0.968,\n",
       " 0.968,\n",
       " 0.969,\n",
       " 0.969,\n",
       " 0.969,\n",
       " 0.969,\n",
       " 0.97,\n",
       " 0.971,\n",
       " 0.972,\n",
       " 0.972,\n",
       " 0.973,\n",
       " 0.973,\n",
       " 0.973,\n",
       " 0.974,\n",
       " 0.974,\n",
       " 0.974,\n",
       " 0.974,\n",
       " 0.976,\n",
       " 0.976,\n",
       " 0.976,\n",
       " 0.976,\n",
       " 0.977,\n",
       " 0.977,\n",
       " 0.978,\n",
       " 0.978,\n",
       " 0.978,\n",
       " 0.979,\n",
       " 0.979,\n",
       " ...]"
      ]
     },
     "execution_count": 77,
     "metadata": {},
     "output_type": "execute_result"
    }
   ],
   "source": [
    "import matplotlib.pyplot as plt\n",
    "sorted(Ytest)"
   ]
  },
  {
   "cell_type": "code",
   "execution_count": 78,
   "metadata": {},
   "outputs": [
    {
     "data": {
      "image/png": "[encoded data removed]",
      "text/plain": [
       "<Figure size 432x288 with 1 Axes>"
      ]
     },
     "metadata": {
      "needs_background": "light"
     },
     "output_type": "display_data"
    }
   ],
   "source": [
    "plt.plot(range(len(Ytest)),sorted(Ytest),c=\"black\",label= \"Data\")\n",
    "plt.plot(range(len(yhat)),sorted(yhat),c=\"red\",label = \"Predict\")\n",
    "plt.legend()\n",
    "plt.show()"
   ]
  },
  {
   "cell_type": "code",
   "execution_count": 79,
   "metadata": {},
   "outputs": [
    {
     "data": {
      "text/plain": [
       "array([-179.12952605,   -5.692624  ,  -15.61747513,  -78.68042858,\n",
       "        -59.5311006 ])"
      ]
     },
     "execution_count": 79,
     "metadata": {},
     "output_type": "execute_result"
    }
   ],
   "source": [
    "import numpy as np\n",
    "rng = np.random.RandomState(42)\n",
    "X = rng.randn(100, 80)\n",
    "y = rng.randn(100)\n",
    "cross_val_score(LR(), X, y, cv=5, scoring='r2')"
   ]
  },
  {
   "cell_type": "code",
   "execution_count": 157,
   "metadata": {},
   "outputs": [],
   "source": [
    "import numpy as np\n",
    "import pandas as pd\n",
    "from sklearn.linear_model import Ridge, LinearRegression, Lasso\n",
    "from sklearn.model_selection import train_test_split as TTS\n",
    "from sklearn.datasets import fetch_california_housing as fch\n",
    "import matplotlib.pyplot as plt\n",
    "\n",
    "housevalue = fch()\n",
    "\n",
    "X = pd.DataFrame(housevalue.data)\n",
    "y = housevalue.target\n",
    "X.columns = [\"住户收入中位数\",\"房屋使用年代中位数\",\"平均房间数目\"\n",
    "            ,\"平均卧室数目\",\"街区人口\",\"平均入住率\",\"街区的纬度\",\"街区的经度\"]"
   ]
  },
  {
   "cell_type": "code",
   "execution_count": 130,
   "metadata": {},
   "outputs": [
    {
     "data": {
      "text/html": [
       "<div>\n",
       "<style scoped>\n",
       "    .dataframe tbody tr th:only-of-type {\n",
       "        vertical-align: middle;\n",
       "    }\n",
       "\n",
       "    .dataframe tbody tr th {\n",
       "        vertical-align: top;\n",
       "    }\n",
       "\n",
       "    .dataframe thead th {\n",
       "        text-align: right;\n",
       "    }\n",
       "</style>\n",
       "<table border=\"1\" class=\"dataframe\">\n",
       "  <thead>\n",
       "    <tr style=\"text-align: right;\">\n",
       "      <th></th>\n",
       "      <th>住户收入中位数</th>\n",
       "      <th>房屋使用年代中位数</th>\n",
       "      <th>平均房间数目</th>\n",
       "      <th>平均卧室数目</th>\n",
       "      <th>街区人口</th>\n",
       "      <th>平均入住率</th>\n",
       "      <th>街区的纬度</th>\n",
       "      <th>街区的经度</th>\n",
       "    </tr>\n",
       "  </thead>\n",
       "  <tbody>\n",
       "    <tr>\n",
       "      <th>0</th>\n",
       "      <td>8.3252</td>\n",
       "      <td>41.0</td>\n",
       "      <td>6.984127</td>\n",
       "      <td>1.023810</td>\n",
       "      <td>322.0</td>\n",
       "      <td>2.555556</td>\n",
       "      <td>37.88</td>\n",
       "      <td>-122.23</td>\n",
       "    </tr>\n",
       "    <tr>\n",
       "      <th>1</th>\n",
       "      <td>8.3014</td>\n",
       "      <td>21.0</td>\n",
       "      <td>6.238137</td>\n",
       "      <td>0.971880</td>\n",
       "      <td>2401.0</td>\n",
       "      <td>2.109842</td>\n",
       "      <td>37.86</td>\n",
       "      <td>-122.22</td>\n",
       "    </tr>\n",
       "    <tr>\n",
       "      <th>2</th>\n",
       "      <td>7.2574</td>\n",
       "      <td>52.0</td>\n",
       "      <td>8.288136</td>\n",
       "      <td>1.073446</td>\n",
       "      <td>496.0</td>\n",
       "      <td>2.802260</td>\n",
       "      <td>37.85</td>\n",
       "      <td>-122.24</td>\n",
       "    </tr>\n",
       "    <tr>\n",
       "      <th>3</th>\n",
       "      <td>5.6431</td>\n",
       "      <td>52.0</td>\n",
       "      <td>5.817352</td>\n",
       "      <td>1.073059</td>\n",
       "      <td>558.0</td>\n",
       "      <td>2.547945</td>\n",
       "      <td>37.85</td>\n",
       "      <td>-122.25</td>\n",
       "    </tr>\n",
       "    <tr>\n",
       "      <th>4</th>\n",
       "      <td>3.8462</td>\n",
       "      <td>52.0</td>\n",
       "      <td>6.281853</td>\n",
       "      <td>1.081081</td>\n",
       "      <td>565.0</td>\n",
       "      <td>2.181467</td>\n",
       "      <td>37.85</td>\n",
       "      <td>-122.25</td>\n",
       "    </tr>\n",
       "  </tbody>\n",
       "</table>\n",
       "</div>"
      ],
      "text/plain": [
       "   住户收入中位数  房屋使用年代中位数    平均房间数目    平均卧室数目    街区人口     平均入住率  街区的纬度   街区的经度\n",
       "0   8.3252       41.0  6.984127  1.023810   322.0  2.555556  37.88 -122.23\n",
       "1   8.3014       21.0  6.238137  0.971880  2401.0  2.109842  37.86 -122.22\n",
       "2   7.2574       52.0  8.288136  1.073446   496.0  2.802260  37.85 -122.24\n",
       "3   5.6431       52.0  5.817352  1.073059   558.0  2.547945  37.85 -122.25\n",
       "4   3.8462       52.0  6.281853  1.081081   565.0  2.181467  37.85 -122.25"
      ]
     },
     "execution_count": 130,
     "metadata": {},
     "output_type": "execute_result"
    }
   ],
   "source": [
    "X.head()"
   ]
  },
  {
   "cell_type": "code",
   "execution_count": 159,
   "metadata": {},
   "outputs": [],
   "source": [
    "Xtrain,Xtest,Ytrain,Ytest = TTS(X,y,test_size=0.3,random_state=420)"
   ]
  },
  {
   "cell_type": "code",
   "execution_count": 160,
   "metadata": {},
   "outputs": [],
   "source": [
    "for i in [Xtrain,Xtest]:\n",
    "    i.index = range(i.shape[0])"
   ]
  },
  {
   "cell_type": "code",
   "execution_count": 133,
   "metadata": {},
   "outputs": [
    {
     "data": {
      "text/html": [
       "<div>\n",
       "<style scoped>\n",
       "    .dataframe tbody tr th:only-of-type {\n",
       "        vertical-align: middle;\n",
       "    }\n",
       "\n",
       "    .dataframe tbody tr th {\n",
       "        vertical-align: top;\n",
       "    }\n",
       "\n",
       "    .dataframe thead th {\n",
       "        text-align: right;\n",
       "    }\n",
       "</style>\n",
       "<table border=\"1\" class=\"dataframe\">\n",
       "  <thead>\n",
       "    <tr style=\"text-align: right;\">\n",
       "      <th></th>\n",
       "      <th>住户收入中位数</th>\n",
       "      <th>房屋使用年代中位数</th>\n",
       "      <th>平均房间数目</th>\n",
       "      <th>平均卧室数目</th>\n",
       "      <th>街区人口</th>\n",
       "      <th>平均入住率</th>\n",
       "      <th>街区的纬度</th>\n",
       "      <th>街区的经度</th>\n",
       "    </tr>\n",
       "  </thead>\n",
       "  <tbody>\n",
       "    <tr>\n",
       "      <th>0</th>\n",
       "      <td>4.1776</td>\n",
       "      <td>35.0</td>\n",
       "      <td>4.425172</td>\n",
       "      <td>1.030683</td>\n",
       "      <td>5380.0</td>\n",
       "      <td>3.368817</td>\n",
       "      <td>37.48</td>\n",
       "      <td>-122.19</td>\n",
       "    </tr>\n",
       "    <tr>\n",
       "      <th>1</th>\n",
       "      <td>5.3261</td>\n",
       "      <td>38.0</td>\n",
       "      <td>6.267516</td>\n",
       "      <td>1.089172</td>\n",
       "      <td>429.0</td>\n",
       "      <td>2.732484</td>\n",
       "      <td>37.53</td>\n",
       "      <td>-122.30</td>\n",
       "    </tr>\n",
       "    <tr>\n",
       "      <th>2</th>\n",
       "      <td>1.9439</td>\n",
       "      <td>26.0</td>\n",
       "      <td>5.768977</td>\n",
       "      <td>1.141914</td>\n",
       "      <td>891.0</td>\n",
       "      <td>2.940594</td>\n",
       "      <td>36.02</td>\n",
       "      <td>-119.08</td>\n",
       "    </tr>\n",
       "    <tr>\n",
       "      <th>3</th>\n",
       "      <td>2.5000</td>\n",
       "      <td>22.0</td>\n",
       "      <td>4.916000</td>\n",
       "      <td>1.012000</td>\n",
       "      <td>733.0</td>\n",
       "      <td>2.932000</td>\n",
       "      <td>38.57</td>\n",
       "      <td>-121.31</td>\n",
       "    </tr>\n",
       "    <tr>\n",
       "      <th>4</th>\n",
       "      <td>3.8250</td>\n",
       "      <td>34.0</td>\n",
       "      <td>5.036765</td>\n",
       "      <td>1.098039</td>\n",
       "      <td>1134.0</td>\n",
       "      <td>2.779412</td>\n",
       "      <td>33.91</td>\n",
       "      <td>-118.35</td>\n",
       "    </tr>\n",
       "  </tbody>\n",
       "</table>\n",
       "</div>"
      ],
      "text/plain": [
       "   住户收入中位数  房屋使用年代中位数    平均房间数目    平均卧室数目    街区人口     平均入住率  街区的纬度   街区的经度\n",
       "0   4.1776       35.0  4.425172  1.030683  5380.0  3.368817  37.48 -122.19\n",
       "1   5.3261       38.0  6.267516  1.089172   429.0  2.732484  37.53 -122.30\n",
       "2   1.9439       26.0  5.768977  1.141914   891.0  2.940594  36.02 -119.08\n",
       "3   2.5000       22.0  4.916000  1.012000   733.0  2.932000  38.57 -121.31\n",
       "4   3.8250       34.0  5.036765  1.098039  1134.0  2.779412  33.91 -118.35"
      ]
     },
     "execution_count": 133,
     "metadata": {},
     "output_type": "execute_result"
    }
   ],
   "source": [
    "Xtrain.head()"
   ]
  },
  {
   "cell_type": "code",
   "execution_count": 162,
   "metadata": {},
   "outputs": [
    {
     "data": {
      "text/plain": [
       "0.6043610352312276"
      ]
     },
     "execution_count": 162,
     "metadata": {},
     "output_type": "execute_result"
    }
   ],
   "source": [
    "#使用岭回归来进行建模\n",
    "reg = Ridge(alpha=1).fit(Xtrain,Ytrain)\n",
    "reg.score(Xtest,Ytest) #加利佛尼亚房屋价值数据集中应该不是共线性问题"
   ]
  },
  {
   "cell_type": "code",
   "execution_count": 89,
   "metadata": {},
   "outputs": [
    {
     "data": {
      "image/png": "[encoded data removed]",
      "text/plain": [
       "<Figure size 432x288 with 1 Axes>"
      ]
     },
     "metadata": {
      "needs_background": "light"
     },
     "output_type": "display_data"
    }
   ],
   "source": [
    "#交叉验证下，与线性回归相比，岭回归的结果如何变化？\n",
    "alpharange = np.arange(1,1001,100)\n",
    "ridge, lr = [], []\n",
    "for alpha in alpharange:\n",
    "    reg = Ridge(alpha=alpha)\n",
    "    linear = LinearRegression()\n",
    "    regs = cross_val_score(reg,X,y,cv=5,scoring = \"r2\").mean()\n",
    "    linears = cross_val_score(linear,X,y,cv=5,scoring = \"r2\").mean()\n",
    "    ridge.append(regs)\n",
    "    lr.append(linears)\n",
    "plt.plot(alpharange,ridge,color=\"red\",label=\"Ridge\")\n",
    "plt.plot(alpharange,lr,color=\"orange\",label=\"LR\")\n",
    "plt.title(\"Mean\")\n",
    "plt.legend()\n",
    "plt.show()"
   ]
  },
  {
   "cell_type": "code",
   "execution_count": 139,
   "metadata": {},
   "outputs": [
    {
     "data": {
      "text/plain": [
       "0.6043668160178813"
      ]
     },
     "execution_count": 139,
     "metadata": {},
     "output_type": "execute_result"
    }
   ],
   "source": [
    "#使用岭回归来进行建模\n",
    "reg = Ridge(alpha=0).fit(Xtrain,Ytrain)\n",
    "reg.score(Xtest,Ytest) #加利佛尼亚房屋价值数据集中应该不是共线性问题"
   ]
  },
  {
   "cell_type": "code",
   "execution_count": 114,
   "metadata": {},
   "outputs": [
    {
     "data": {
      "image/png": "[encoded data removed]",
      "text/plain": [
       "<Figure size 432x288 with 1 Axes>"
      ]
     },
     "metadata": {
      "needs_background": "light"
     },
     "output_type": "display_data"
    }
   ],
   "source": [
    "#细化一下学习曲线\n",
    "alpharange = np.arange(1,201,10)\n",
    "ridge, lr = [], []\n",
    "for alpha in alpharange:\n",
    "    reg = Ridge(alpha=alpha)\n",
    "    linear = LinearRegression()\n",
    "    regs = cross_val_score(reg,X,y,cv=5,scoring = \"r2\").mean()\n",
    "    linears = cross_val_score(linear,X,y,cv=5,scoring = \"r2\").mean()\n",
    "    ridge.append(regs)\n",
    "    lr.append(linears)\n",
    "plt.plot(alpharange,ridge,color=\"red\",label=\"Ridge\")\n",
    "plt.plot(alpharange,lr,color=\"orange\",label=\"LR\")\n",
    "plt.title(\"Mean\")\n",
    "plt.legend()\n",
    "plt.show()"
   ]
  },
  {
   "cell_type": "code",
   "execution_count": 119,
   "metadata": {},
   "outputs": [
    {
     "data": {
      "image/png": "[encoded data removed]",
      "text/plain": [
       "<Figure size 432x288 with 1 Axes>"
      ]
     },
     "metadata": {
      "needs_background": "light"
     },
     "output_type": "display_data"
    }
   ],
   "source": [
    "#模型方差如何变化？\n",
    "alpharange = np.arange(1,1001,100)\n",
    "ridge, lr = [], []\n",
    "for alpha in alpharange:\n",
    "    reg = Ridge(alpha=alpha)\n",
    "    linear = LinearRegression()\n",
    "    varR = cross_val_score(reg,X,y,cv=5,scoring=\"r2\").var()\n",
    "    varLR = cross_val_score(linear,X,y,cv=5,scoring=\"r2\").var()\n",
    "    ridge.append(varR)\n",
    "    lr.append(varLR)\n",
    "plt.plot(alpharange,ridge,color=\"red\",label=\"Ridge\")\n",
    "plt.plot(alpharange,lr,color=\"orange\",label=\"LR\")\n",
    "plt.title(\"Variance\")\n",
    "plt.legend()\n",
    "plt.show()"
   ]
  },
  {
   "cell_type": "code",
   "execution_count": 163,
   "metadata": {},
   "outputs": [],
   "source": [
    "from sklearn.datasets import load_boston\n",
    "from sklearn.model_selection import cross_val_score\n",
    "\n",
    "X = load_boston().data\n",
    "y = load_boston().target\n",
    "\n",
    "Xtrain,Xtest,Ytrain,Ytest = TTS(X,y,test_size=0.3,random_state=420)"
   ]
  },
  {
   "cell_type": "code",
   "execution_count": 164,
   "metadata": {},
   "outputs": [
    {
     "data": {
      "text/plain": [
       "(506, 13)"
      ]
     },
     "execution_count": 164,
     "metadata": {},
     "output_type": "execute_result"
    }
   ],
   "source": [
    "X.shape"
   ]
  },
  {
   "cell_type": "code",
   "execution_count": 165,
   "metadata": {},
   "outputs": [
    {
     "data": {
      "image/png": "[encoded data removed]",
      "text/plain": [
       "<Figure size 432x288 with 1 Axes>"
      ]
     },
     "metadata": {
      "needs_background": "light"
     },
     "output_type": "display_data"
    }
   ],
   "source": [
    "#先查看方差的变化\n",
    "alpharange = np.arange(1,1001,100)\n",
    "ridge, lr = [], []\n",
    "for alpha in alpharange:\n",
    "    reg = Ridge(alpha=alpha)\n",
    "    linear = LinearRegression()\n",
    "    varR = cross_val_score(reg,X,y,cv=5,scoring=\"r2\").var()\n",
    "    varLR = cross_val_score(linear,X,y,cv=5,scoring=\"r2\").var()\n",
    "    ridge.append(varR)\n",
    "    lr.append(varLR)\n",
    "plt.plot(alpharange,ridge,color=\"red\",label=\"Ridge\")\n",
    "plt.plot(alpharange,lr,color=\"orange\",label=\"LR\")\n",
    "plt.title(\"Variance\")\n",
    "plt.legend()\n",
    "plt.show()"
   ]
  },
  {
   "cell_type": "code",
   "execution_count": 166,
   "metadata": {},
   "outputs": [
    {
     "data": {
      "image/png": "[encoded data removed]",
      "text/plain": [
       "<Figure size 432x288 with 1 Axes>"
      ]
     },
     "metadata": {
      "needs_background": "light"
     },
     "output_type": "display_data"
    }
   ],
   "source": [
    "#查看R2的变化\n",
    "alpharange = np.arange(1,1001,100)\n",
    "ridge, lr = [], []\n",
    "for alpha in alpharange:\n",
    "    reg = Ridge(alpha=alpha)\n",
    "    linear = LinearRegression()\n",
    "    regs = cross_val_score(reg,X,y,cv=5,scoring = \"r2\").mean()\n",
    "    linears = cross_val_score(linear,X,y,cv=5,scoring = \"r2\").mean()\n",
    "    ridge.append(regs)\n",
    "    lr.append(linears)\n",
    "plt.plot(alpharange,ridge,color=\"red\",label=\"Ridge\")\n",
    "plt.plot(alpharange,lr,color=\"orange\",label=\"LR\")\n",
    "plt.title(\"Mean\")\n",
    "plt.legend()\n",
    "plt.show()"
   ]
  },
  {
   "cell_type": "code",
   "execution_count": 168,
   "metadata": {},
   "outputs": [
    {
     "data": {
      "image/png": "[encoded data removed]",
      "text/plain": [
       "<Figure size 432x288 with 1 Axes>"
      ]
     },
     "metadata": {
      "needs_background": "light"
     },
     "output_type": "display_data"
    }
   ],
   "source": [
    "#细化学习曲线\n",
    "alpharange = np.arange(100,300,10)\n",
    "ridge, lr = [], []\n",
    "for alpha in alpharange:\n",
    "    reg = Ridge(alpha=alpha)\n",
    "    #linear = LinearRegression()\n",
    "    regs = cross_val_score(reg,X,y,cv=5,scoring = \"r2\").mean()\n",
    "    #linears = cross_val_score(linear,X,y,cv=5,scoring = \"r2\").mean()\n",
    "    ridge.append(regs)\n",
    "    lr.append(linears)\n",
    "plt.plot(alpharange,ridge,color=\"red\",label=\"Ridge\")\n",
    "#plt.plot(alpharange,lr,color=\"orange\",label=\"LR\")\n",
    "plt.title(\"Mean\")\n",
    "plt.legend()\n",
    "plt.show()"
   ]
  },
  {
   "cell_type": "code",
   "execution_count": 169,
   "metadata": {},
   "outputs": [],
   "source": [
    "import numpy as np\n",
    "import pandas as pd\n",
    "from sklearn.linear_model import RidgeCV, LinearRegression\n",
    "from sklearn.model_selection import train_test_split as TTS\n",
    "from sklearn.datasets import fetch_california_housing as fch\n",
    "import matplotlib.pyplot as plt\n",
    "\n",
    "housevalue = fch()\n",
    "\n",
    "X = pd.DataFrame(housevalue.data)\n",
    "y = housevalue.target\n",
    "X.columns = [\"住户收入中位数\",\"房屋使用年代中位数\",\"平均房间数目\"\n",
    "            ,\"平均卧室数目\",\"街区人口\",\"平均入住率\",\"街区的纬度\",\"街区的经度\"]"
   ]
  },
  {
   "cell_type": "code",
   "execution_count": 192,
   "metadata": {},
   "outputs": [],
   "source": [
    "Ridge_ = RidgeCV(alphas=np.arange(1,1001,100)\n",
    "                 #,scoring=\"neg_mean_squared_error\"\n",
    "                 ,store_cv_values=True\n",
    "                 #,cv=5\n",
    "                ).fit(X, y)"
   ]
  },
  {
   "cell_type": "code",
   "execution_count": 193,
   "metadata": {},
   "outputs": [
    {
     "data": {
      "text/plain": [
       "0.6060251767338429"
      ]
     },
     "execution_count": 193,
     "metadata": {},
     "output_type": "execute_result"
    }
   ],
   "source": [
    "#无关交叉验证的岭回归结果\n",
    "Ridge_.score(X,y)"
   ]
  },
  {
   "cell_type": "code",
   "execution_count": 194,
   "metadata": {},
   "outputs": [
    {
     "data": {
      "text/plain": [
       "array([[0.1557472 , 0.16301246, 0.16892723, ..., 0.18881663, 0.19182353,\n",
       "        0.19466385],\n",
       "       [0.15334566, 0.13922075, 0.12849014, ..., 0.09744906, 0.09344092,\n",
       "        0.08981868],\n",
       "       [0.02429857, 0.03043271, 0.03543001, ..., 0.04971514, 0.05126165,\n",
       "        0.05253834],\n",
       "       ...,\n",
       "       [0.56545783, 0.5454654 , 0.52655917, ..., 0.44532597, 0.43130136,\n",
       "        0.41790336],\n",
       "       [0.27883123, 0.2692305 , 0.25944481, ..., 0.21328675, 0.20497018,\n",
       "        0.19698274],\n",
       "       [0.14313527, 0.13967826, 0.13511341, ..., 0.1078647 , 0.10251737,\n",
       "        0.0973334 ]])"
      ]
     },
     "execution_count": 194,
     "metadata": {},
     "output_type": "execute_result"
    }
   ],
   "source": [
    "#调用所有交叉验证的结果\n",
    "Ridge_.cv_values_"
   ]
  },
  {
   "cell_type": "code",
   "execution_count": 195,
   "metadata": {},
   "outputs": [
    {
     "data": {
      "text/plain": [
       "array([0.52823795, 0.52787439, 0.52807763, 0.52855759, 0.52917958,\n",
       "       0.52987689, 0.53061486, 0.53137481, 0.53214638, 0.53292369])"
      ]
     },
     "execution_count": 195,
     "metadata": {},
     "output_type": "execute_result"
    }
   ],
   "source": [
    "#进行平均后可以查看每个正则化系数取值下的交叉验证结果\n",
    "Ridge_.cv_values_.mean(axis=0)"
   ]
  },
  {
   "cell_type": "code",
   "execution_count": 191,
   "metadata": {},
   "outputs": [
    {
     "data": {
      "text/plain": [
       "101"
      ]
     },
     "execution_count": 191,
     "metadata": {},
     "output_type": "execute_result"
    }
   ],
   "source": [
    "#查看被选择出来的最佳正则化系数\n",
    "Ridge_.alpha_"
   ]
  },
  {
   "cell_type": "code",
   "execution_count": 196,
   "metadata": {},
   "outputs": [
    {
     "data": {
      "text/html": [
       "<div>\n",
       "<style scoped>\n",
       "    .dataframe tbody tr th:only-of-type {\n",
       "        vertical-align: middle;\n",
       "    }\n",
       "\n",
       "    .dataframe tbody tr th {\n",
       "        vertical-align: top;\n",
       "    }\n",
       "\n",
       "    .dataframe thead th {\n",
       "        text-align: right;\n",
       "    }\n",
       "</style>\n",
       "<table border=\"1\" class=\"dataframe\">\n",
       "  <thead>\n",
       "    <tr style=\"text-align: right;\">\n",
       "      <th></th>\n",
       "      <th>住户收入中位数</th>\n",
       "      <th>房屋使用年代中位数</th>\n",
       "      <th>平均房间数目</th>\n",
       "      <th>平均卧室数目</th>\n",
       "      <th>街区人口</th>\n",
       "      <th>平均入住率</th>\n",
       "      <th>街区的纬度</th>\n",
       "      <th>街区的经度</th>\n",
       "    </tr>\n",
       "  </thead>\n",
       "  <tbody>\n",
       "    <tr>\n",
       "      <th>0</th>\n",
       "      <td>8.3252</td>\n",
       "      <td>41.0</td>\n",
       "      <td>6.984127</td>\n",
       "      <td>1.023810</td>\n",
       "      <td>322.0</td>\n",
       "      <td>2.555556</td>\n",
       "      <td>37.88</td>\n",
       "      <td>-122.23</td>\n",
       "    </tr>\n",
       "    <tr>\n",
       "      <th>1</th>\n",
       "      <td>8.3014</td>\n",
       "      <td>21.0</td>\n",
       "      <td>6.238137</td>\n",
       "      <td>0.971880</td>\n",
       "      <td>2401.0</td>\n",
       "      <td>2.109842</td>\n",
       "      <td>37.86</td>\n",
       "      <td>-122.22</td>\n",
       "    </tr>\n",
       "    <tr>\n",
       "      <th>2</th>\n",
       "      <td>7.2574</td>\n",
       "      <td>52.0</td>\n",
       "      <td>8.288136</td>\n",
       "      <td>1.073446</td>\n",
       "      <td>496.0</td>\n",
       "      <td>2.802260</td>\n",
       "      <td>37.85</td>\n",
       "      <td>-122.24</td>\n",
       "    </tr>\n",
       "    <tr>\n",
       "      <th>3</th>\n",
       "      <td>5.6431</td>\n",
       "      <td>52.0</td>\n",
       "      <td>5.817352</td>\n",
       "      <td>1.073059</td>\n",
       "      <td>558.0</td>\n",
       "      <td>2.547945</td>\n",
       "      <td>37.85</td>\n",
       "      <td>-122.25</td>\n",
       "    </tr>\n",
       "    <tr>\n",
       "      <th>4</th>\n",
       "      <td>3.8462</td>\n",
       "      <td>52.0</td>\n",
       "      <td>6.281853</td>\n",
       "      <td>1.081081</td>\n",
       "      <td>565.0</td>\n",
       "      <td>2.181467</td>\n",
       "      <td>37.85</td>\n",
       "      <td>-122.25</td>\n",
       "    </tr>\n",
       "  </tbody>\n",
       "</table>\n",
       "</div>"
      ],
      "text/plain": [
       "   住户收入中位数  房屋使用年代中位数    平均房间数目    平均卧室数目    街区人口     平均入住率  街区的纬度   街区的经度\n",
       "0   8.3252       41.0  6.984127  1.023810   322.0  2.555556  37.88 -122.23\n",
       "1   8.3014       21.0  6.238137  0.971880  2401.0  2.109842  37.86 -122.22\n",
       "2   7.2574       52.0  8.288136  1.073446   496.0  2.802260  37.85 -122.24\n",
       "3   5.6431       52.0  5.817352  1.073059   558.0  2.547945  37.85 -122.25\n",
       "4   3.8462       52.0  6.281853  1.081081   565.0  2.181467  37.85 -122.25"
      ]
     },
     "execution_count": 196,
     "metadata": {},
     "output_type": "execute_result"
    }
   ],
   "source": [
    "import numpy as np\n",
    "import pandas as pd\n",
    "from sklearn.linear_model import Ridge, LinearRegression, Lasso\n",
    "from sklearn.model_selection import train_test_split as TTS\n",
    "from sklearn.datasets import fetch_california_housing as fch\n",
    "import matplotlib.pyplot as plt\n",
    "\n",
    "housevalue = fch()\n",
    "\n",
    "X = pd.DataFrame(housevalue.data)\n",
    "y = housevalue.target\n",
    "X.columns = [\"住户收入中位数\",\"房屋使用年代中位数\",\"平均房间数目\"\n",
    "            ,\"平均卧室数目\",\"街区人口\",\"平均入住率\",\"街区的纬度\",\"街区的经度\"]\n",
    "\n",
    "X.head()"
   ]
  },
  {
   "cell_type": "code",
   "execution_count": 197,
   "metadata": {},
   "outputs": [],
   "source": [
    "Xtrain,Xtest,Ytrain,Ytest = TTS(X,y,test_size=0.3,random_state=420)"
   ]
  },
  {
   "cell_type": "code",
   "execution_count": 198,
   "metadata": {},
   "outputs": [],
   "source": [
    "for i in [Xtrain,Xtest]:\n",
    "    i.index = range(i.shape[0])"
   ]
  },
  {
   "cell_type": "code",
   "execution_count": 199,
   "metadata": {},
   "outputs": [
    {
     "data": {
      "text/plain": [
       "[43.73589305968403,\n",
       " 1.0211268294494038,\n",
       " -10.780721617317715,\n",
       " 62.64338275363783,\n",
       " 5.216125353178735e-05,\n",
       " -0.33485096463336095,\n",
       " -41.30959378947711,\n",
       " -42.621095362084674]"
      ]
     },
     "execution_count": 199,
     "metadata": {},
     "output_type": "execute_result"
    }
   ],
   "source": [
    "#线性回归进行拟合\n",
    "reg = LinearRegression().fit(Xtrain,Ytrain)\n",
    "(reg.coef_*100).tolist()"
   ]
  },
  {
   "cell_type": "code",
   "execution_count": 203,
   "metadata": {},
   "outputs": [
    {
     "data": {
      "text/plain": [
       "[43.735893059684045,\n",
       " 1.0211268294494151,\n",
       " -10.780721617317626,\n",
       " 62.64338275363741,\n",
       " 5.2161253532713044e-05,\n",
       " -0.3348509646333588,\n",
       " -41.3095937894767,\n",
       " -42.62109536208427]"
      ]
     },
     "execution_count": 203,
     "metadata": {},
     "output_type": "execute_result"
    }
   ],
   "source": [
    "#岭回归进行拟合\n",
    "Ridge_ = Ridge(alpha=0).fit(Xtrain,Ytrain)\n",
    "(Ridge_.coef_*100).tolist()"
   ]
  },
  {
   "cell_type": "code",
   "execution_count": 201,
   "metadata": {},
   "outputs": [
    {
     "name": "stderr",
     "output_type": "stream",
     "text": [
      "C:\\Python\\lib\\site-packages\\ipykernel_launcher.py:2: UserWarning: With alpha=0, this algorithm does not converge well. You are advised to use the LinearRegression estimator\n",
      "  \n",
      "C:\\Python\\lib\\site-packages\\sklearn\\linear_model\\coordinate_descent.py:478: UserWarning: Coordinate descent with no regularization may lead to unexpected results and is discouraged.\n",
      "  positive)\n",
      "C:\\Python\\lib\\site-packages\\sklearn\\linear_model\\coordinate_descent.py:492: ConvergenceWarning: Objective did not converge. You might want to increase the number of iterations. Fitting data with very small alpha may cause precision problems.\n",
      "  ConvergenceWarning)\n"
     ]
    },
    {
     "data": {
      "text/plain": [
       "[43.735893059684024,\n",
       " 1.0211268294494056,\n",
       " -10.78072161731769,\n",
       " 62.64338275363792,\n",
       " 5.2161253532654165e-05,\n",
       " -0.33485096463335706,\n",
       " -41.3095937894772,\n",
       " -42.62109536208478]"
      ]
     },
     "execution_count": 201,
     "metadata": {},
     "output_type": "execute_result"
    }
   ],
   "source": [
    "#Lasso进行拟合\n",
    "lasso_ = Lasso(alpha=0).fit(Xtrain,Ytrain)\n",
    "(lasso_.coef_*100).tolist()"
   ]
  },
  {
   "cell_type": "code",
   "execution_count": 213,
   "metadata": {},
   "outputs": [
    {
     "data": {
      "text/plain": [
       "[43.73453480786963,\n",
       " 1.0211508518425705,\n",
       " -10.778109335481922,\n",
       " 62.62978997580449,\n",
       " 5.225552031939166e-05,\n",
       " -0.33484783635443754,\n",
       " -41.309370065387334,\n",
       " -42.62068050768429]"
      ]
     },
     "execution_count": 213,
     "metadata": {},
     "output_type": "execute_result"
    }
   ],
   "source": [
    "#岭回归进行拟合\n",
    "Ridge_ = Ridge(alpha=0.1).fit(Xtrain,Ytrain)\n",
    "(Ridge_.coef_*100).tolist()"
   ]
  },
  {
   "cell_type": "code",
   "execution_count": 214,
   "metadata": {},
   "outputs": [
    {
     "data": {
      "text/plain": [
       "[39.08851438329683,\n",
       " 1.6054695654279871,\n",
       " -0.0,\n",
       " 0.0,\n",
       " 0.0023777014839091357,\n",
       " -0.3050186895638113,\n",
       " -10.771509301655533,\n",
       " -9.294344477958068]"
      ]
     },
     "execution_count": 214,
     "metadata": {},
     "output_type": "execute_result"
    }
   ],
   "source": [
    "#Lasso进行拟合\n",
    "lasso_ = Lasso(alpha=0.1).fit(Xtrain,Ytrain)\n",
    "(lasso_.coef_*100).tolist()"
   ]
  },
  {
   "cell_type": "code",
   "execution_count": null,
   "metadata": {},
   "outputs": [],
   "source": [
    "[43.73589305968403,\n",
    " 1.0211268294494038,\n",
    " -10.780721617317715,\n",
    " 62.64338275363783,\n",
    " 5.216125353178735e-05,\n",
    " -0.33485096463336095,\n",
    " -41.30959378947711,\n",
    " -42.621095362084674]"
   ]
  },
  {
   "cell_type": "code",
   "execution_count": 220,
   "metadata": {},
   "outputs": [
    {
     "data": {
      "text/plain": [
       "[0.00021838533330206371,\n",
       " 0.00021344956264503437,\n",
       " 6.213673042878624e-05,\n",
       " -3.828084920732734e-06,\n",
       " -0.0014984087286952859,\n",
       " -4.175243714653836e-05,\n",
       " -5.29506119447496e-05,\n",
       " -1.3268982521957727e-05]"
      ]
     },
     "execution_count": 220,
     "metadata": {},
     "output_type": "execute_result"
    }
   ],
   "source": [
    "#加大正则项系数，观察模型的系数发生了什么变化\n",
    "Ridge_ = Ridge(alpha=10**10).fit(Xtrain,Ytrain)\n",
    "(Ridge_.coef_*100).tolist()"
   ]
  },
  {
   "cell_type": "code",
   "execution_count": 217,
   "metadata": {},
   "outputs": [
    {
     "data": {
      "text/plain": [
       "[0.0, 0.0, 0.0, -0.0, -0.0, -0.0, -0.0, -0.0]"
      ]
     },
     "execution_count": 217,
     "metadata": {},
     "output_type": "execute_result"
    }
   ],
   "source": [
    "lasso_ = Lasso(alpha=10**4).fit(Xtrain,Ytrain)\n",
    "(lasso_.coef_*100).tolist()"
   ]
  },
  {
   "cell_type": "code",
   "execution_count": 218,
   "metadata": {},
   "outputs": [
    {
     "data": {
      "text/plain": [
       "[14.581141247629423,\n",
       " 0.6209347344423876,\n",
       " 0.0,\n",
       " -0.0,\n",
       " -0.00028065986329009983,\n",
       " -0.0,\n",
       " -0.0,\n",
       " -0.0]"
      ]
     },
     "execution_count": 218,
     "metadata": {},
     "output_type": "execute_result"
    }
   ],
   "source": [
    "#看来10**4对于Lasso来说是一个过于大的取值\n",
    "lasso_ = Lasso(alpha=1).fit(Xtrain,Ytrain)\n",
    "(lasso_.coef_*100).tolist()"
   ]
  },
  {
   "cell_type": "code",
   "execution_count": 219,
   "metadata": {},
   "outputs": [
    {
     "data": {
      "image/png": "[encoded data removed]",
      "text/plain": [
       "<Figure size 432x288 with 1 Axes>"
      ]
     },
     "metadata": {
      "needs_background": "light"
     },
     "output_type": "display_data"
    }
   ],
   "source": [
    "#将系数进行绘图\n",
    "plt.plot(range(1,9),(reg.coef_*100).tolist(),color=\"red\",label=\"LR\")\n",
    "plt.plot(range(1,9),(Ridge_.coef_*100).tolist(),color=\"orange\",label=\"Ridge\")\n",
    "plt.plot(range(1,9),(lasso_.coef_*100).tolist(),color=\"k\",label=\"Lasso\")\n",
    "plt.plot(range(1,9),[0]*8,color=\"grey\",linestyle=\"--\")\n",
    "plt.xlabel('w') #横坐标是每一个特征所对应的系数\n",
    "plt.legend()\n",
    "plt.show()"
   ]
  },
  {
   "cell_type": "code",
   "execution_count": 288,
   "metadata": {},
   "outputs": [],
   "source": [
    "from sklearn.linear_model import LassoCV\n",
    "\n",
    "#自己建立Lasso进行alpha选择的范围\n",
    "alpharange = np.logspace(-10, -2, 200,base=10)\n",
    "\n",
    "#其实是形成10为底的指数函数\n",
    "#10**(-10)到10**(-2)次方\n",
    "\n",
    "alpharange.shape\n",
    "\n",
    "Xtrain.head()\n",
    "\n",
    "lasso_ = LassoCV(alphas=alpharange #自行输入的alpha的取值范围\n",
    "                ,cv=5 #交叉验证的折数\n",
    "                ).fit(Xtrain, Ytrain)\n",
    "\n",
    "#查看被选择出来的最佳正则化系数\n",
    "lasso_.alpha_\n",
    "\n",
    "#调用所有交叉验证的结果\n",
    "lasso_.mse_path_\n",
    "\n",
    "lasso_.mse_path_.shape #返回每个alpha下的五折交叉验证结果\n",
    "\n",
    "lasso_.mse_path_.mean(axis=1) #有注意到在岭回归中我们的轴向是axis=0吗？\n",
    "\n",
    "#在岭回归当中，我们是留一验证，因此我们的交叉验证结果返回的是，每一个样本在每个alpha下的交叉验证结果\n",
    "#因此我们要求每个alpha下的交叉验证均值，就是axis=0，跨行求均值\n",
    "#而在这里，我们返回的是，每一个alpha取值下，每一折交叉验证的结果\n",
    "#因此我们要求每个alpha下的交叉验证均值，就是axis=1，跨列求均值\n",
    "\n",
    "#最佳正则化系数下获得的模型的系数结果\n",
    "lasso_.coef_\n",
    "\n",
    "lasso_.score(Xtest,Ytest)\n",
    "\n",
    "#与线性回归相比如何？\n",
    "reg = LinearRegression().fit(Xtrain,Ytrain)\n",
    "reg.score(Xtest,Ytest)\n",
    "\n",
    "#使用lassoCV自带的正则化路径长度和路径中的alpha个数来自动建立alpha选择的范围\n",
    "ls_ = LassoCV(eps=0.00001\n",
    "              ,n_alphas=300\n",
    "              ,cv=5\n",
    "                ).fit(Xtrain, Ytrain)\n",
    "\n",
    "ls_.alpha_\n",
    "\n",
    "ls_.alphas_ #查看所有自动生成的alpha取值\n",
    "\n",
    "ls_.alphas_.shape\n",
    "\n",
    "ls_.score(Xtest,Ytest)\n",
    "\n",
    "ls_.coef_"
   ]
  },
  {
   "cell_type": "code",
   "execution_count": 23,
   "metadata": {},
   "outputs": [],
   "source": [
    "import numpy as np\n",
    "import matplotlib.pyplot as plt\n",
    "from sklearn.linear_model import LinearRegression\n",
    "from sklearn.tree import DecisionTreeRegressor"
   ]
  },
  {
   "cell_type": "code",
   "execution_count": 24,
   "metadata": {},
   "outputs": [],
   "source": [
    "rnd = np.random.RandomState(42) #设置随机数种子\n",
    "X = rnd.uniform(-3, 3, size=100) #random.uniform，从输入的任意两个整数中取出size个随机数"
   ]
  },
  {
   "cell_type": "code",
   "execution_count": 25,
   "metadata": {},
   "outputs": [
    {
     "data": {
      "text/plain": [
       "array([-0.75275929,  2.70428584,  1.39196365,  0.59195091, -2.06388816,\n",
       "       -2.06403288, -2.65149833,  2.19705687,  0.60669007,  1.24843547,\n",
       "       -2.87649303,  2.81945911,  1.99465584, -1.72596534, -1.9090502 ,\n",
       "       -1.89957294, -1.17454654,  0.14853859, -0.40832989, -1.25262516,\n",
       "        0.67111737, -2.16303684, -1.24713211, -0.80182894, -0.26358009,\n",
       "        1.71105577, -1.80195731,  0.08540663,  0.55448741, -2.72129752,\n",
       "        0.64526911, -1.97685526, -2.60969044,  2.69331322,  2.7937922 ,\n",
       "        1.85038409, -1.17231738, -2.41396732,  1.10539816, -0.35908504,\n",
       "       -2.26777059, -0.02893854, -2.79366887,  2.45592241, -1.44732011,\n",
       "        0.97513371, -1.12973354,  0.12040813,  0.28026168, -1.89087327,\n",
       "        2.81750777,  1.65079694,  2.63699365,  2.3689641 ,  0.58739987,\n",
       "        2.53124541, -2.46904499, -1.82410283, -2.72863627, -1.04801802,\n",
       "       -0.66793626, -1.37190581,  1.97242505, -0.85948004, -1.31439294,\n",
       "        0.2561765 , -2.15445465,  1.81318188, -2.55269614,  2.92132162,\n",
       "        1.63346862, -1.80770591, -2.9668673 ,  1.89276857,  1.24114406,\n",
       "        1.37404301,  1.62762208, -2.55573209, -0.84920563, -2.30478564,\n",
       "        2.17862056,  0.73978876, -1.01461185, -2.6186499 , -1.13410607,\n",
       "       -1.04890007,  1.37763707,  0.82534483,  2.32327646, -0.16671045,\n",
       "       -2.28243452,  1.27946872,  1.56471029,  0.36766319,  1.62580308,\n",
       "       -0.03722642,  0.13639698, -0.43475389, -2.84748524, -2.35265144])"
      ]
     },
     "execution_count": 25,
     "metadata": {},
     "output_type": "execute_result"
    }
   ],
   "source": [
    "X #作为我的横坐标"
   ]
  },
  {
   "cell_type": "code",
   "execution_count": 26,
   "metadata": {},
   "outputs": [],
   "source": [
    "#生成y的思路：先使用NumPy中的函数生成一个sin函数图像，然后再人为添加噪音\n",
    "y = np.sin(X) + rnd.normal(size=len(X)) / 3 #random.normal，生成size个服从正态分布的随机数"
   ]
  },
  {
   "cell_type": "code",
   "execution_count": 27,
   "metadata": {},
   "outputs": [
    {
     "data": {
      "image/png": "[encoded data removed]",
      "text/plain": [
       "<Figure size 432x288 with 1 Axes>"
      ]
     },
     "metadata": {
      "needs_background": "light"
     },
     "output_type": "display_data"
    }
   ],
   "source": [
    "#使用散点图观察建立的数据集是什么样子\n",
    "plt.scatter(X, y,marker='o',c='k',s=20)\n",
    "plt.show()"
   ]
  },
  {
   "cell_type": "code",
   "execution_count": 28,
   "metadata": {},
   "outputs": [
    {
     "data": {
      "text/plain": [
       "(100,)"
      ]
     },
     "execution_count": 28,
     "metadata": {},
     "output_type": "execute_result"
    }
   ],
   "source": [
    "#为后续建模做准备：sklearn只接受二维以上数组作为特征矩阵的输入\n",
    "X.shape"
   ]
  },
  {
   "cell_type": "code",
   "execution_count": 29,
   "metadata": {},
   "outputs": [],
   "source": [
    "X = X.reshape(-1, 1)"
   ]
  },
  {
   "cell_type": "code",
   "execution_count": 30,
   "metadata": {},
   "outputs": [
    {
     "data": {
      "text/plain": [
       "(100, 1)"
      ]
     },
     "execution_count": 30,
     "metadata": {},
     "output_type": "execute_result"
    }
   ],
   "source": [
    "X.shape"
   ]
  },
  {
   "cell_type": "code",
   "execution_count": 31,
   "metadata": {},
   "outputs": [],
   "source": [
    "#使用原始数据进行建模\n",
    "LinearR = LinearRegression().fit(X, y)\n",
    "TreeR = DecisionTreeRegressor(random_state=0).fit(X, y)"
   ]
  },
  {
   "cell_type": "code",
   "execution_count": 32,
   "metadata": {},
   "outputs": [
    {
     "data": {
      "image/png": "[encoded data removed]",
      "text/plain": [
       "<Figure size 432x288 with 1 Axes>"
      ]
     },
     "metadata": {
      "needs_background": "light"
     },
     "output_type": "display_data"
    }
   ],
   "source": [
    "#放置画布\n",
    "fig, ax1 = plt.subplots(1)\n",
    "\n",
    "#创建测试数据：一系列分布在横坐标上的点\n",
    "line = np.linspace(-3, 3, 1000, endpoint=False).reshape(-1, 1)\n",
    "\n",
    "#将测试数据带入predict接口，获得模型的拟合效果并进行绘制\n",
    "ax1.plot(line, LinearR.predict(line), linewidth=2, color='green',\n",
    "         label=\"linear regression\")\n",
    "ax1.plot(line, TreeR.predict(line), linewidth=2, color='red',\n",
    "         label=\"decision tree\")\n",
    "\n",
    "#将原数据上的拟合绘制在图像上\n",
    "ax1.plot(X[:, 0], y, 'o', c='k')\n",
    "\n",
    "#其他图形选项\n",
    "ax1.legend(loc=\"best\")\n",
    "ax1.set_ylabel(\"Regression output\")\n",
    "ax1.set_xlabel(\"Input feature\")\n",
    "ax1.set_title(\"Result before discretization\")\n",
    "plt.tight_layout()\n",
    "plt.show()\n",
    "\n",
    "#从这个图像来看，可以得出什么结果？"
   ]
  },
  {
   "cell_type": "code",
   "execution_count": 42,
   "metadata": {},
   "outputs": [],
   "source": [
    "from sklearn.preprocessing import KBinsDiscretizer\n",
    "\n",
    "#将数据分箱\n",
    "enc = KBinsDiscretizer(n_bins=10 #分几类？\n",
    "                       ,encode=\"onehot\") #ordinal\n",
    "X_binned = enc.fit_transform(X)\n",
    "#encode模式\"onehot\"：使用做哑变量方式做离散化\n",
    "#之后返回一个稀疏矩阵(m,n_bins)，每一列是一个分好的类别\n",
    "#对每一个样本而言，它包含的分类（箱子）中它表示为1，其余分类中它表示为0\n",
    "\n",
    "X.shape\n",
    "\n",
    "X_binned\n",
    "\n",
    "#使用pandas打开稀疏矩阵\n",
    "import pandas as pd\n",
    "pd.DataFrame(X_binned.toarray()).head()\n",
    "\n",
    "#我们将使用分箱后的数据来训练模型，在sklearn中，测试集和训练集的结构必须保持一致，否则报错\n",
    "LinearR_ = LinearRegression().fit(X_binned, y)\n",
    "\n",
    "LinearR_.predict(line) #line作为测试集\n",
    "\n",
    "line.shape #测试\n",
    "\n",
    "X_binned.shape #训练\n",
    "\n",
    "#因此我们需要创建分箱后的测试集：按照已经建好的分箱模型将line分箱\n",
    "line_binned = enc.transform(line)\n",
    "\n",
    "line_binned.shape #分箱后的数据是无法进行绘图的\n",
    "\n",
    "line_binned\n",
    "\n",
    "LinearR_.predict(line_binned).shape"
   ]
  },
  {
   "cell_type": "code",
   "execution_count": 59,
   "metadata": {},
   "outputs": [
    {
     "data": {
      "text/plain": [
       "array([-2.9668673 , -2.55299973, -2.0639171 , -1.3945301 , -1.02797432,\n",
       "       -0.21514527,  0.44239288,  1.14612193,  1.63693428,  2.32784522,\n",
       "        2.92132162])"
      ]
     },
     "execution_count": 59,
     "metadata": {},
     "output_type": "execute_result"
    }
   ],
   "source": [
    "enc.bin_edges_[0] #分出的箱子的上限和下限"
   ]
  },
  {
   "cell_type": "code",
   "execution_count": 62,
   "metadata": {},
   "outputs": [
    {
     "data": {
      "text/plain": [
       "[0.0, 1.0]"
      ]
     },
     "execution_count": 62,
     "metadata": {},
     "output_type": "execute_result"
    },
    {
     "data": {
      "image/png": "[encoded data removed]",
      "text/plain": [
       "<Figure size 432x288 with 1 Axes>"
      ]
     },
     "metadata": {
      "needs_background": "light"
     },
     "output_type": "display_data"
    }
   ],
   "source": [
    "[*plt.gca().get_ylim()]"
   ]
  },
  {
   "cell_type": "code",
   "execution_count": 57,
   "metadata": {},
   "outputs": [
    {
     "data": {
      "image/png": "[encoded data removed]",
      "text/plain": [
       "<Figure size 720x288 with 2 Axes>"
      ]
     },
     "metadata": {
      "needs_background": "light"
     },
     "output_type": "display_data"
    }
   ],
   "source": [
    "#准备数据\n",
    "enc = KBinsDiscretizer(n_bins=10,encode=\"onehot\")\n",
    "X_binned = enc.fit_transform(X)\n",
    "line_binned = enc.transform(line)\n",
    "\n",
    "#将两张图像绘制在一起，布置画布\n",
    "fig, (ax1, ax2) = plt.subplots(ncols=2\n",
    "                               , sharey=True #让两张图共享y轴上的刻度\n",
    "                               , figsize=(10, 4))\n",
    "\n",
    "#在图1中布置在原始数据上建模的结果\n",
    "ax1.plot(line, LinearR.predict(line), linewidth=2, color='green',\n",
    "         label=\"linear regression\")\n",
    "ax1.plot(line, TreeR.predict(line), linewidth=2, color='red',\n",
    "         label=\"decision tree\")\n",
    "ax1.plot(X[:, 0], y, 'o', c='k')\n",
    "ax1.legend(loc=\"best\")\n",
    "ax1.set_ylabel(\"Regression output\")\n",
    "ax1.set_xlabel(\"Input feature\")\n",
    "ax1.set_title(\"Result before discretization\")\n",
    "\n",
    "#使用分箱数据进行建模\n",
    "LinearR_ = LinearRegression().fit(X_binned, y)\n",
    "TreeR_ = DecisionTreeRegressor(random_state=0).fit(X_binned, y)\n",
    "\n",
    "#进行预测，在图2中布置在分箱数据上进行预测的结果\n",
    "ax2.plot(line #横坐标\n",
    "         , LinearR_.predict(line_binned) #分箱后的特征矩阵的结果\n",
    "         , linewidth=2\n",
    "         , color='green'\n",
    "         , linestyle='-'\n",
    "         , label='linear regression')\n",
    "\n",
    "ax2.plot(line, TreeR_.predict(line_binned), linewidth=2, color='red',\n",
    "         linestyle=':', label='decision tree')\n",
    "\n",
    "#绘制和箱宽一致的竖线\n",
    "ax2.vlines(enc.bin_edges_[0] #x轴\n",
    "           , *plt.gca().get_ylim() #y轴的上限和下限\n",
    "           , linewidth=1\n",
    "           , alpha=.2)\n",
    "\n",
    "#将原始数据分布放置在图像上\n",
    "ax2.plot(X[:, 0], y, 'o', c='k')\n",
    "\n",
    "#其他绘图设定\n",
    "ax2.legend(loc=\"best\")\n",
    "ax2.set_xlabel(\"Input feature\")\n",
    "ax2.set_title(\"Result after discretization\")\n",
    "plt.tight_layout()\n",
    "plt.show()"
   ]
  },
  {
   "cell_type": "code",
   "execution_count": 75,
   "metadata": {},
   "outputs": [
    {
     "name": "stdout",
     "output_type": "stream",
     "text": [
      "0.9590978882491229\n"
     ]
    },
    {
     "data": {
      "image/png": "[encoded data removed]",
      "text/plain": [
       "<Figure size 360x288 with 1 Axes>"
      ]
     },
     "metadata": {
      "needs_background": "light"
     },
     "output_type": "display_data"
    }
   ],
   "source": [
    "enc = KBinsDiscretizer(n_bins=15,encode=\"onehot\")\n",
    "X_binned = enc.fit_transform(X)\n",
    "line_binned = enc.transform(line)\n",
    "\n",
    "fig, ax2 = plt.subplots(1,figsize=(5,4))\n",
    "\n",
    "LinearR_ = LinearRegression().fit(X_binned, y)\n",
    "print(LinearR_.score(line_binned,np.sin(line)))\n",
    "TreeR_ = DecisionTreeRegressor(random_state=0).fit(X_binned, y)\n",
    "\n",
    "ax2.plot(line #横坐标\n",
    "         , LinearR_.predict(line_binned) #分箱后的特征矩阵的结果\n",
    "         , linewidth=2\n",
    "         , color='green'\n",
    "         , linestyle='-'\n",
    "         , label='linear regression')\n",
    "ax2.plot(line, TreeR_.predict(line_binned), linewidth=2, color='red',\n",
    "         linestyle=':', label='decision tree')\n",
    "ax2.vlines(enc.bin_edges_[0], *plt.gca().get_ylim(), linewidth=1, alpha=.2)\n",
    "ax2.plot(X[:, 0], y, 'o', c='k')\n",
    "ax2.legend(loc=\"best\")\n",
    "ax2.set_xlabel(\"Input feature\")\n",
    "ax2.set_title(\"Result after discretization\")\n",
    "plt.tight_layout()\n",
    "plt.show()"
   ]
  },
  {
   "cell_type": "code",
   "execution_count": 68,
   "metadata": {},
   "outputs": [],
   "source": [
    "#怎样选取最优的箱子?\n",
    "from sklearn.model_selection import cross_val_score as CVS\n",
    "import numpy as np"
   ]
  },
  {
   "cell_type": "code",
   "execution_count": 73,
   "metadata": {},
   "outputs": [
    {
     "data": {
      "image/png": "[encoded data removed]",
      "text/plain": [
       "<Figure size 432x360 with 1 Axes>"
      ]
     },
     "metadata": {
      "needs_background": "light"
     },
     "output_type": "display_data"
    }
   ],
   "source": [
    "pred,score,var = [], [], []\n",
    "binsrange = [2,5,10,15,20,30]\n",
    "for i in binsrange:\n",
    "    #实例化分箱类\n",
    "    enc = KBinsDiscretizer(n_bins=i,encode=\"onehot\")\n",
    "    #转换数据\n",
    "    X_binned = enc.fit_transform(X)\n",
    "    line_binned = enc.transform(line)\n",
    "    #建立模型\n",
    "    LinearR_ = LinearRegression()\n",
    "    #全数据集上的交叉验证\n",
    "    cvresult = CVS(LinearR_,X_binned,y,cv=5)\n",
    "    score.append(cvresult.mean())\n",
    "    var.append(cvresult.var())\n",
    "    #测试数据集上的打分结果\n",
    "    pred.append(LinearR_.fit(X_binned,y).score(line_binned,np.sin(line)))\n",
    "#绘制图像\n",
    "plt.figure(figsize=(6,5))\n",
    "plt.plot(binsrange,pred,c=\"orange\",label=\"test\")\n",
    "plt.plot(binsrange,score,c=\"k\",label=\"full data\")\n",
    "plt.plot(binsrange,score+np.array(var)*0.5,c=\"red\",linestyle=\"--\",label = \"var\")\n",
    "plt.plot(binsrange,score-np.array(var)*0.5,c=\"red\",linestyle=\"--\")\n",
    "plt.legend()\n",
    "plt.show()"
   ]
  },
  {
   "cell_type": "code",
   "execution_count": 76,
   "metadata": {},
   "outputs": [],
   "source": [
    "from sklearn.preprocessing import PolynomialFeatures\n",
    "import numpy as np"
   ]
  },
  {
   "cell_type": "code",
   "execution_count": 125,
   "metadata": {},
   "outputs": [
    {
     "data": {
      "text/plain": [
       "array([[1],\n",
       "       [2],\n",
       "       [3]])"
      ]
     },
     "execution_count": 125,
     "metadata": {},
     "output_type": "execute_result"
    }
   ],
   "source": [
    "#如果原始数据是一维的\n",
    "X = np.arange(1,4).reshape(-1,1)\n",
    "X"
   ]
  },
  {
   "cell_type": "code",
   "execution_count": 80,
   "metadata": {},
   "outputs": [],
   "source": [
    "#二次多项式，参数degree控制多项式的次方\n",
    "poly = PolynomialFeatures(degree=2)"
   ]
  },
  {
   "cell_type": "code",
   "execution_count": 81,
   "metadata": {},
   "outputs": [],
   "source": [
    "#接口transform直接调用\n",
    "X_ = poly.fit_transform(X)"
   ]
  },
  {
   "cell_type": "code",
   "execution_count": 82,
   "metadata": {},
   "outputs": [
    {
     "data": {
      "text/plain": [
       "array([[1., 1., 1.],\n",
       "       [1., 2., 4.],\n",
       "       [1., 3., 9.]])"
      ]
     },
     "execution_count": 82,
     "metadata": {},
     "output_type": "execute_result"
    }
   ],
   "source": [
    "X_"
   ]
  },
  {
   "cell_type": "code",
   "execution_count": 83,
   "metadata": {},
   "outputs": [
    {
     "data": {
      "text/plain": [
       "(3, 3)"
      ]
     },
     "execution_count": 83,
     "metadata": {},
     "output_type": "execute_result"
    }
   ],
   "source": [
    "X_.shape"
   ]
  },
  {
   "cell_type": "code",
   "execution_count": 84,
   "metadata": {},
   "outputs": [
    {
     "data": {
      "text/plain": [
       "array([[ 1.,  1.,  1.,  1.],\n",
       "       [ 1.,  2.,  4.,  8.],\n",
       "       [ 1.,  3.,  9., 27.]])"
      ]
     },
     "execution_count": 84,
     "metadata": {},
     "output_type": "execute_result"
    }
   ],
   "source": [
    "#三次多项式\n",
    "PolynomialFeatures(degree=3).fit_transform(X)"
   ]
  },
  {
   "cell_type": "code",
   "execution_count": 126,
   "metadata": {},
   "outputs": [
    {
     "data": {
      "text/plain": [
       "array([[ 1.,  1.,  1.],\n",
       "       [ 2.,  4.,  8.],\n",
       "       [ 3.,  9., 27.]])"
      ]
     },
     "execution_count": 126,
     "metadata": {},
     "output_type": "execute_result"
    }
   ],
   "source": [
    "#三次多项式，不带与截距项相乘的x0\n",
    "PolynomialFeatures(degree=3,include_bias=False).fit_transform(X)"
   ]
  },
  {
   "cell_type": "code",
   "execution_count": 128,
   "metadata": {},
   "outputs": [],
   "source": [
    "#为什么我们会希望不生成与截距相乘的x0呢？\n",
    "#对于多项式回归来说，我们已经为线性回归准备好了x0，但是线性回归并不知道\n",
    "xxx = PolynomialFeatures(degree=3).fit_transform(X)"
   ]
  },
  {
   "cell_type": "code",
   "execution_count": 127,
   "metadata": {},
   "outputs": [
    {
     "data": {
      "text/plain": [
       "(3, 4)"
      ]
     },
     "execution_count": 127,
     "metadata": {},
     "output_type": "execute_result"
    }
   ],
   "source": [
    "xxx.shape"
   ]
  },
  {
   "cell_type": "code",
   "execution_count": 129,
   "metadata": {},
   "outputs": [
    {
     "data": {
      "text/plain": [
       "array([ 0.49671415, -0.1382643 ,  0.64768854])"
      ]
     },
     "execution_count": 129,
     "metadata": {},
     "output_type": "execute_result"
    }
   ],
   "source": [
    "rnd = np.random.RandomState(42) #设置随机数种子\n",
    "y = rnd.randn(3)\n",
    "\n",
    "y"
   ]
  },
  {
   "cell_type": "code",
   "execution_count": 130,
   "metadata": {},
   "outputs": [
    {
     "data": {
      "text/plain": [
       "array([ 1.36002321e-15, -3.51045297e-01, -6.06987134e-01,  2.19575463e-01])"
      ]
     },
     "execution_count": 130,
     "metadata": {},
     "output_type": "execute_result"
    }
   ],
   "source": [
    "#生成了多少个系数？\n",
    "LinearRegression().fit(xxx,y).coef_"
   ]
  },
  {
   "cell_type": "code",
   "execution_count": 131,
   "metadata": {},
   "outputs": [
    {
     "data": {
      "text/plain": [
       "1.2351711202036895"
      ]
     },
     "execution_count": 131,
     "metadata": {},
     "output_type": "execute_result"
    }
   ],
   "source": [
    "#查看截距\n",
    "LinearRegression().fit(xxx,y).intercept_"
   ]
  },
  {
   "cell_type": "code",
   "execution_count": 133,
   "metadata": {},
   "outputs": [
    {
     "data": {
      "text/plain": [
       "array([ 1.00596411,  0.06916756, -0.83619415,  0.25777663])"
      ]
     },
     "execution_count": 133,
     "metadata": {},
     "output_type": "execute_result"
    }
   ],
   "source": [
    "#发现问题了吗？线性回归并没有把多项式生成的x0当作是截距项\n",
    "#所以我们可以选择：关闭多项式回归中的include_bias\n",
    "#也可以选择：关闭线性回归中的fit_intercept\n",
    "\n",
    "#生成了多少个系数？\n",
    "LinearRegression(fit_intercept=False).fit(xxx,y).coef_"
   ]
  },
  {
   "cell_type": "code",
   "execution_count": 134,
   "metadata": {},
   "outputs": [
    {
     "data": {
      "text/plain": [
       "0.0"
      ]
     },
     "execution_count": 134,
     "metadata": {},
     "output_type": "execute_result"
    }
   ],
   "source": [
    "#查看截距\n",
    "LinearRegression(fit_intercept=False).fit(xxx,y).intercept_"
   ]
  },
  {
   "cell_type": "code",
   "execution_count": 135,
   "metadata": {},
   "outputs": [
    {
     "data": {
      "text/plain": [
       "array([[0, 1],\n",
       "       [2, 3],\n",
       "       [4, 5]])"
      ]
     },
     "execution_count": 135,
     "metadata": {},
     "output_type": "execute_result"
    }
   ],
   "source": [
    "X = np.arange(6).reshape(3, 2)\n",
    "X"
   ]
  },
  {
   "cell_type": "code",
   "execution_count": 136,
   "metadata": {},
   "outputs": [
    {
     "data": {
      "text/plain": [
       "array([[ 1.,  0.,  1.,  0.,  0.,  1.],\n",
       "       [ 1.,  2.,  3.,  4.,  6.,  9.],\n",
       "       [ 1.,  4.,  5., 16., 20., 25.]])"
      ]
     },
     "execution_count": 136,
     "metadata": {},
     "output_type": "execute_result"
    }
   ],
   "source": [
    "#尝试二次多项式\n",
    "PolynomialFeatures(degree=2).fit_transform(X)"
   ]
  },
  {
   "cell_type": "code",
   "execution_count": 137,
   "metadata": {},
   "outputs": [
    {
     "data": {
      "text/plain": [
       "array([[  1.,   0.,   1.,   0.,   0.,   1.,   0.,   0.,   0.,   1.],\n",
       "       [  1.,   2.,   3.,   4.,   6.,   9.,   8.,  12.,  18.,  27.],\n",
       "       [  1.,   4.,   5.,  16.,  20.,  25.,  64.,  80., 100., 125.]])"
      ]
     },
     "execution_count": 137,
     "metadata": {},
     "output_type": "execute_result"
    }
   ],
   "source": [
    "#尝试三次多项式\n",
    "PolynomialFeatures(degree=3).fit_transform(X)"
   ]
  },
  {
   "cell_type": "code",
   "execution_count": 138,
   "metadata": {},
   "outputs": [
    {
     "data": {
      "text/plain": [
       "array([[ 1.,  0.,  1.,  0.,  0.,  1.],\n",
       "       [ 1.,  2.,  3.,  4.,  6.,  9.],\n",
       "       [ 1.,  4.,  5., 16., 20., 25.]])"
      ]
     },
     "execution_count": 138,
     "metadata": {},
     "output_type": "execute_result"
    }
   ],
   "source": [
    "PolynomialFeatures(degree=2).fit_transform(X)"
   ]
  },
  {
   "cell_type": "code",
   "execution_count": 139,
   "metadata": {},
   "outputs": [
    {
     "data": {
      "text/plain": [
       "array([[ 1.,  0.,  1.,  0.],\n",
       "       [ 1.,  2.,  3.,  6.],\n",
       "       [ 1.,  4.,  5., 20.]])"
      ]
     },
     "execution_count": 139,
     "metadata": {},
     "output_type": "execute_result"
    }
   ],
   "source": [
    "PolynomialFeatures(degree=2,interaction_only=True).fit_transform(X)\n",
    "#对比之下，当interaction_only为True的时候，只生成交互项"
   ]
  },
  {
   "cell_type": "code",
   "execution_count": 144,
   "metadata": {},
   "outputs": [
    {
     "data": {
      "text/plain": [
       "array([[ 0,  1,  2,  3,  4,  5,  6,  7,  8,  9],\n",
       "       [10, 11, 12, 13, 14, 15, 16, 17, 18, 19]])"
      ]
     },
     "execution_count": 144,
     "metadata": {},
     "output_type": "execute_result"
    }
   ],
   "source": [
    "#更高维度的原始特征矩阵\n",
    "X = np.arange(20).reshape(2, 10)\n",
    "X"
   ]
  },
  {
   "cell_type": "code",
   "execution_count": 146,
   "metadata": {},
   "outputs": [
    {
     "data": {
      "text/plain": [
       "(2, 66)"
      ]
     },
     "execution_count": 146,
     "metadata": {},
     "output_type": "execute_result"
    }
   ],
   "source": [
    "PolynomialFeatures(degree=2).fit_transform(X).shape"
   ]
  },
  {
   "cell_type": "code",
   "execution_count": 147,
   "metadata": {},
   "outputs": [
    {
     "data": {
      "text/plain": [
       "(2, 286)"
      ]
     },
     "execution_count": 147,
     "metadata": {},
     "output_type": "execute_result"
    }
   ],
   "source": [
    "PolynomialFeatures(degree=3).fit_transform(X).shape"
   ]
  },
  {
   "cell_type": "code",
   "execution_count": 148,
   "metadata": {},
   "outputs": [
    {
     "data": {
      "text/plain": [
       "(2, 30045015)"
      ]
     },
     "execution_count": 148,
     "metadata": {},
     "output_type": "execute_result"
    }
   ],
   "source": [
    "X_ = PolynomialFeatures(degree=20).fit_transform(X)\n",
    "\n",
    "X_.shape"
   ]
  },
  {
   "cell_type": "code",
   "execution_count": 159,
   "metadata": {},
   "outputs": [],
   "source": [
    "from sklearn.preprocessing import PolynomialFeatures as PF\n",
    "from sklearn.linear_model import LinearRegression\n",
    "import numpy as np\n",
    "\n",
    "rnd = np.random.RandomState(42) #设置随机数种子\n",
    "X = rnd.uniform(-3, 3, size=100)\n",
    "y = np.sin(X) + rnd.normal(size=len(X)) / 3\n",
    "\n",
    "#将X升维，准备好放入sklearn中\n",
    "X = X.reshape(-1,1)\n",
    "\n",
    "#创建测试数据，均匀分布在训练集X的取值范围内的一千个点\n",
    "line = np.linspace(-3, 3, 1000, endpoint=False).reshape(-1, 1)"
   ]
  },
  {
   "cell_type": "code",
   "execution_count": 160,
   "metadata": {},
   "outputs": [
    {
     "data": {
      "text/plain": [
       "0.5361526059318595"
      ]
     },
     "execution_count": 160,
     "metadata": {},
     "output_type": "execute_result"
    }
   ],
   "source": [
    "#原始特征矩阵的拟合结果\n",
    "LinearR = LinearRegression().fit(X, y)\n",
    "#对训练数据的拟合\n",
    "LinearR.score(X,y)"
   ]
  },
  {
   "cell_type": "code",
   "execution_count": 161,
   "metadata": {},
   "outputs": [
    {
     "data": {
      "text/plain": [
       "0.6800102369793312"
      ]
     },
     "execution_count": 161,
     "metadata": {},
     "output_type": "execute_result"
    }
   ],
   "source": [
    "#对测试数据的拟合\n",
    "LinearR.score(line,np.sin(line))"
   ]
  },
  {
   "cell_type": "code",
   "execution_count": 164,
   "metadata": {},
   "outputs": [
    {
     "data": {
      "text/plain": [
       "0.8561679370344799"
      ]
     },
     "execution_count": 164,
     "metadata": {},
     "output_type": "execute_result"
    }
   ],
   "source": [
    "#多项式拟合，设定高次项\n",
    "d=5\n",
    "\n",
    "#进行高次项转换\n",
    "poly = PF(degree=d)\n",
    "X_ = poly.fit_transform(X)\n",
    "line_ = poly.transform(line)\n",
    "\n",
    "#训练数据的拟合\n",
    "LinearR_ = LinearRegression().fit(X_, y)\n",
    "LinearR_.score(X_,y)"
   ]
  },
  {
   "cell_type": "code",
   "execution_count": 165,
   "metadata": {},
   "outputs": [
    {
     "data": {
      "text/plain": [
       "0.9868904451787983"
      ]
     },
     "execution_count": 165,
     "metadata": {},
     "output_type": "execute_result"
    }
   ],
   "source": [
    "#测试数据的拟合\n",
    "LinearR_.score(line_,np.sin(line))"
   ]
  },
  {
   "cell_type": "code",
   "execution_count": 171,
   "metadata": {},
   "outputs": [
    {
     "data": {
      "image/png": "[encoded data removed]",
      "text/plain": [
       "<Figure size 432x288 with 1 Axes>"
      ]
     },
     "metadata": {
      "needs_background": "light"
     },
     "output_type": "display_data"
    }
   ],
   "source": [
    "import matplotlib.pyplot as plt\n",
    "\n",
    "d=5\n",
    "#和上面展示一致的建模流程\n",
    "LinearR = LinearRegression().fit(X, y)\n",
    "X_ = PF(degree=d).fit_transform(X)\n",
    "LinearR_ = LinearRegression().fit(X_, y)\n",
    "line = np.linspace(-3, 3, 1000, endpoint=False).reshape(-1, 1)\n",
    "line_ = PF(degree=d).fit_transform(line)\n",
    "\n",
    "#放置画布\n",
    "fig, ax1 = plt.subplots(1)\n",
    "\n",
    "#将测试数据带入predict接口，获得模型的拟合效果并进行绘制\n",
    "ax1.plot(line, LinearR.predict(line), linewidth=2, color='green'\n",
    "         ,label=\"linear regression\")\n",
    "ax1.plot(line, LinearR_.predict(line_), linewidth=2, color='red'\n",
    "         ,label=\"Polynomial regression\")\n",
    "\n",
    "#将原数据上的拟合绘制在图像上\n",
    "ax1.plot(X[:, 0], y, 'o', c='k')\n",
    "\n",
    "#其他图形选项\n",
    "ax1.legend(loc=\"best\")\n",
    "ax1.set_ylabel(\"Regression output\")\n",
    "ax1.set_xlabel(\"Input feature\")\n",
    "ax1.set_title(\"Linear Regression ordinary vs poly\")\n",
    "plt.tight_layout()\n",
    "plt.show()\n",
    "\n",
    "#来一起鼓掌，感叹多项式回归的神奇\n",
    "\n",
    "#随后可以试试看较低和较高的次方会发生什么变化\n",
    "#d=2\n",
    "#d=20"
   ]
  },
  {
   "cell_type": "code",
   "execution_count": 51,
   "metadata": {},
   "outputs": [
    {
     "data": {
      "text/plain": [
       "array([[0, 1, 2],\n",
       "       [3, 4, 5],\n",
       "       [6, 7, 8]])"
      ]
     },
     "execution_count": 51,
     "metadata": {},
     "output_type": "execute_result"
    }
   ],
   "source": [
    "import numpy as np\n",
    "from sklearn.preprocessing import PolynomialFeatures\n",
    "from sklearn.linear_model import LinearRegression\n",
    "\n",
    "X = np.arange(9).reshape(3, 3)\n",
    "X"
   ]
  },
  {
   "cell_type": "code",
   "execution_count": 52,
   "metadata": {},
   "outputs": [],
   "source": [
    "poly = PolynomialFeatures(degree=5).fit(X)"
   ]
  },
  {
   "cell_type": "code",
   "execution_count": 53,
   "metadata": {},
   "outputs": [
    {
     "data": {
      "text/plain": [
       "['1',\n",
       " 'x0',\n",
       " 'x1',\n",
       " 'x2',\n",
       " 'x0^2',\n",
       " 'x0 x1',\n",
       " 'x0 x2',\n",
       " 'x1^2',\n",
       " 'x1 x2',\n",
       " 'x2^2',\n",
       " 'x0^3',\n",
       " 'x0^2 x1',\n",
       " 'x0^2 x2',\n",
       " 'x0 x1^2',\n",
       " 'x0 x1 x2',\n",
       " 'x0 x2^2',\n",
       " 'x1^3',\n",
       " 'x1^2 x2',\n",
       " 'x1 x2^2',\n",
       " 'x2^3',\n",
       " 'x0^4',\n",
       " 'x0^3 x1',\n",
       " 'x0^3 x2',\n",
       " 'x0^2 x1^2',\n",
       " 'x0^2 x1 x2',\n",
       " 'x0^2 x2^2',\n",
       " 'x0 x1^3',\n",
       " 'x0 x1^2 x2',\n",
       " 'x0 x1 x2^2',\n",
       " 'x0 x2^3',\n",
       " 'x1^4',\n",
       " 'x1^3 x2',\n",
       " 'x1^2 x2^2',\n",
       " 'x1 x2^3',\n",
       " 'x2^4',\n",
       " 'x0^5',\n",
       " 'x0^4 x1',\n",
       " 'x0^4 x2',\n",
       " 'x0^3 x1^2',\n",
       " 'x0^3 x1 x2',\n",
       " 'x0^3 x2^2',\n",
       " 'x0^2 x1^3',\n",
       " 'x0^2 x1^2 x2',\n",
       " 'x0^2 x1 x2^2',\n",
       " 'x0^2 x2^3',\n",
       " 'x0 x1^4',\n",
       " 'x0 x1^3 x2',\n",
       " 'x0 x1^2 x2^2',\n",
       " 'x0 x1 x2^3',\n",
       " 'x0 x2^4',\n",
       " 'x1^5',\n",
       " 'x1^4 x2',\n",
       " 'x1^3 x2^2',\n",
       " 'x1^2 x2^3',\n",
       " 'x1 x2^4',\n",
       " 'x2^5']"
      ]
     },
     "execution_count": 53,
     "metadata": {},
     "output_type": "execute_result"
    }
   ],
   "source": [
    "#重要接口get_feature_names\n",
    "poly.get_feature_names()"
   ]
  },
  {
   "cell_type": "code",
   "execution_count": 54,
   "metadata": {},
   "outputs": [
    {
     "data": {
      "text/plain": [
       "['MedInc',\n",
       " 'HouseAge',\n",
       " 'AveRooms',\n",
       " 'AveBedrms',\n",
       " 'Population',\n",
       " 'AveOccup',\n",
       " 'Latitude',\n",
       " 'Longitude']"
      ]
     },
     "execution_count": 54,
     "metadata": {},
     "output_type": "execute_result"
    }
   ],
   "source": [
    "from sklearn.datasets import fetch_california_housing as fch\n",
    "import pandas as pd\n",
    "\n",
    "housevalue = fch()\n",
    "X = pd.DataFrame(housevalue.data)\n",
    "y = housevalue.target\n",
    "housevalue.feature_names"
   ]
  },
  {
   "cell_type": "code",
   "execution_count": 55,
   "metadata": {},
   "outputs": [],
   "source": [
    "X.columns = [\"住户收入中位数\",\"房屋使用年代中位数\",\"平均房间数目\"\n",
    "            ,\"平均卧室数目\",\"街区人口\",\"平均入住率\",\"街区的纬度\",\"街区的经度\"]"
   ]
  },
  {
   "cell_type": "code",
   "execution_count": 56,
   "metadata": {},
   "outputs": [
    {
     "data": {
      "text/html": [
       "<div>\n",
       "<style scoped>\n",
       "    .dataframe tbody tr th:only-of-type {\n",
       "        vertical-align: middle;\n",
       "    }\n",
       "\n",
       "    .dataframe tbody tr th {\n",
       "        vertical-align: top;\n",
       "    }\n",
       "\n",
       "    .dataframe thead th {\n",
       "        text-align: right;\n",
       "    }\n",
       "</style>\n",
       "<table border=\"1\" class=\"dataframe\">\n",
       "  <thead>\n",
       "    <tr style=\"text-align: right;\">\n",
       "      <th></th>\n",
       "      <th>住户收入中位数</th>\n",
       "      <th>房屋使用年代中位数</th>\n",
       "      <th>平均房间数目</th>\n",
       "      <th>平均卧室数目</th>\n",
       "      <th>街区人口</th>\n",
       "      <th>平均入住率</th>\n",
       "      <th>街区的纬度</th>\n",
       "      <th>街区的经度</th>\n",
       "    </tr>\n",
       "  </thead>\n",
       "  <tbody>\n",
       "    <tr>\n",
       "      <th>0</th>\n",
       "      <td>8.3252</td>\n",
       "      <td>41.0</td>\n",
       "      <td>6.984127</td>\n",
       "      <td>1.023810</td>\n",
       "      <td>322.0</td>\n",
       "      <td>2.555556</td>\n",
       "      <td>37.88</td>\n",
       "      <td>-122.23</td>\n",
       "    </tr>\n",
       "    <tr>\n",
       "      <th>1</th>\n",
       "      <td>8.3014</td>\n",
       "      <td>21.0</td>\n",
       "      <td>6.238137</td>\n",
       "      <td>0.971880</td>\n",
       "      <td>2401.0</td>\n",
       "      <td>2.109842</td>\n",
       "      <td>37.86</td>\n",
       "      <td>-122.22</td>\n",
       "    </tr>\n",
       "    <tr>\n",
       "      <th>2</th>\n",
       "      <td>7.2574</td>\n",
       "      <td>52.0</td>\n",
       "      <td>8.288136</td>\n",
       "      <td>1.073446</td>\n",
       "      <td>496.0</td>\n",
       "      <td>2.802260</td>\n",
       "      <td>37.85</td>\n",
       "      <td>-122.24</td>\n",
       "    </tr>\n",
       "    <tr>\n",
       "      <th>3</th>\n",
       "      <td>5.6431</td>\n",
       "      <td>52.0</td>\n",
       "      <td>5.817352</td>\n",
       "      <td>1.073059</td>\n",
       "      <td>558.0</td>\n",
       "      <td>2.547945</td>\n",
       "      <td>37.85</td>\n",
       "      <td>-122.25</td>\n",
       "    </tr>\n",
       "    <tr>\n",
       "      <th>4</th>\n",
       "      <td>3.8462</td>\n",
       "      <td>52.0</td>\n",
       "      <td>6.281853</td>\n",
       "      <td>1.081081</td>\n",
       "      <td>565.0</td>\n",
       "      <td>2.181467</td>\n",
       "      <td>37.85</td>\n",
       "      <td>-122.25</td>\n",
       "    </tr>\n",
       "  </tbody>\n",
       "</table>\n",
       "</div>"
      ],
      "text/plain": [
       "   住户收入中位数  房屋使用年代中位数    平均房间数目    平均卧室数目    街区人口     平均入住率  街区的纬度   街区的经度\n",
       "0   8.3252       41.0  6.984127  1.023810   322.0  2.555556  37.88 -122.23\n",
       "1   8.3014       21.0  6.238137  0.971880  2401.0  2.109842  37.86 -122.22\n",
       "2   7.2574       52.0  8.288136  1.073446   496.0  2.802260  37.85 -122.24\n",
       "3   5.6431       52.0  5.817352  1.073059   558.0  2.547945  37.85 -122.25\n",
       "4   3.8462       52.0  6.281853  1.081081   565.0  2.181467  37.85 -122.25"
      ]
     },
     "execution_count": 56,
     "metadata": {},
     "output_type": "execute_result"
    }
   ],
   "source": [
    "X.head()"
   ]
  },
  {
   "cell_type": "code",
   "execution_count": 76,
   "metadata": {},
   "outputs": [],
   "source": [
    "poly = PolynomialFeatures(degree=4).fit(X,y)"
   ]
  },
  {
   "cell_type": "code",
   "execution_count": 77,
   "metadata": {},
   "outputs": [
    {
     "data": {
      "text/plain": [
       "['1',\n",
       " '住户收入中位数',\n",
       " '房屋使用年代中位数',\n",
       " '平均房间数目',\n",
       " '平均卧室数目',\n",
       " '街区人口',\n",
       " '平均入住率',\n",
       " '街区的纬度',\n",
       " '街区的经度',\n",
       " '住户收入中位数^2',\n",
       " '住户收入中位数 房屋使用年代中位数',\n",
       " '住户收入中位数 平均房间数目',\n",
       " '住户收入中位数 平均卧室数目',\n",
       " '住户收入中位数 街区人口',\n",
       " '住户收入中位数 平均入住率',\n",
       " '住户收入中位数 街区的纬度',\n",
       " '住户收入中位数 街区的经度',\n",
       " '房屋使用年代中位数^2',\n",
       " '房屋使用年代中位数 平均房间数目',\n",
       " '房屋使用年代中位数 平均卧室数目',\n",
       " '房屋使用年代中位数 街区人口',\n",
       " '房屋使用年代中位数 平均入住率',\n",
       " '房屋使用年代中位数 街区的纬度',\n",
       " '房屋使用年代中位数 街区的经度',\n",
       " '平均房间数目^2',\n",
       " '平均房间数目 平均卧室数目',\n",
       " '平均房间数目 街区人口',\n",
       " '平均房间数目 平均入住率',\n",
       " '平均房间数目 街区的纬度',\n",
       " '平均房间数目 街区的经度',\n",
       " '平均卧室数目^2',\n",
       " '平均卧室数目 街区人口',\n",
       " '平均卧室数目 平均入住率',\n",
       " '平均卧室数目 街区的纬度',\n",
       " '平均卧室数目 街区的经度',\n",
       " '街区人口^2',\n",
       " '街区人口 平均入住率',\n",
       " '街区人口 街区的纬度',\n",
       " '街区人口 街区的经度',\n",
       " '平均入住率^2',\n",
       " '平均入住率 街区的纬度',\n",
       " '平均入住率 街区的经度',\n",
       " '街区的纬度^2',\n",
       " '街区的纬度 街区的经度',\n",
       " '街区的经度^2',\n",
       " '住户收入中位数^3',\n",
       " '住户收入中位数^2 房屋使用年代中位数',\n",
       " '住户收入中位数^2 平均房间数目',\n",
       " '住户收入中位数^2 平均卧室数目',\n",
       " '住户收入中位数^2 街区人口',\n",
       " '住户收入中位数^2 平均入住率',\n",
       " '住户收入中位数^2 街区的纬度',\n",
       " '住户收入中位数^2 街区的经度',\n",
       " '住户收入中位数 房屋使用年代中位数^2',\n",
       " '住户收入中位数 房屋使用年代中位数 平均房间数目',\n",
       " '住户收入中位数 房屋使用年代中位数 平均卧室数目',\n",
       " '住户收入中位数 房屋使用年代中位数 街区人口',\n",
       " '住户收入中位数 房屋使用年代中位数 平均入住率',\n",
       " '住户收入中位数 房屋使用年代中位数 街区的纬度',\n",
       " '住户收入中位数 房屋使用年代中位数 街区的经度',\n",
       " '住户收入中位数 平均房间数目^2',\n",
       " '住户收入中位数 平均房间数目 平均卧室数目',\n",
       " '住户收入中位数 平均房间数目 街区人口',\n",
       " '住户收入中位数 平均房间数目 平均入住率',\n",
       " '住户收入中位数 平均房间数目 街区的纬度',\n",
       " '住户收入中位数 平均房间数目 街区的经度',\n",
       " '住户收入中位数 平均卧室数目^2',\n",
       " '住户收入中位数 平均卧室数目 街区人口',\n",
       " '住户收入中位数 平均卧室数目 平均入住率',\n",
       " '住户收入中位数 平均卧室数目 街区的纬度',\n",
       " '住户收入中位数 平均卧室数目 街区的经度',\n",
       " '住户收入中位数 街区人口^2',\n",
       " '住户收入中位数 街区人口 平均入住率',\n",
       " '住户收入中位数 街区人口 街区的纬度',\n",
       " '住户收入中位数 街区人口 街区的经度',\n",
       " '住户收入中位数 平均入住率^2',\n",
       " '住户收入中位数 平均入住率 街区的纬度',\n",
       " '住户收入中位数 平均入住率 街区的经度',\n",
       " '住户收入中位数 街区的纬度^2',\n",
       " '住户收入中位数 街区的纬度 街区的经度',\n",
       " '住户收入中位数 街区的经度^2',\n",
       " '房屋使用年代中位数^3',\n",
       " '房屋使用年代中位数^2 平均房间数目',\n",
       " '房屋使用年代中位数^2 平均卧室数目',\n",
       " '房屋使用年代中位数^2 街区人口',\n",
       " '房屋使用年代中位数^2 平均入住率',\n",
       " '房屋使用年代中位数^2 街区的纬度',\n",
       " '房屋使用年代中位数^2 街区的经度',\n",
       " '房屋使用年代中位数 平均房间数目^2',\n",
       " '房屋使用年代中位数 平均房间数目 平均卧室数目',\n",
       " '房屋使用年代中位数 平均房间数目 街区人口',\n",
       " '房屋使用年代中位数 平均房间数目 平均入住率',\n",
       " '房屋使用年代中位数 平均房间数目 街区的纬度',\n",
       " '房屋使用年代中位数 平均房间数目 街区的经度',\n",
       " '房屋使用年代中位数 平均卧室数目^2',\n",
       " '房屋使用年代中位数 平均卧室数目 街区人口',\n",
       " '房屋使用年代中位数 平均卧室数目 平均入住率',\n",
       " '房屋使用年代中位数 平均卧室数目 街区的纬度',\n",
       " '房屋使用年代中位数 平均卧室数目 街区的经度',\n",
       " '房屋使用年代中位数 街区人口^2',\n",
       " '房屋使用年代中位数 街区人口 平均入住率',\n",
       " '房屋使用年代中位数 街区人口 街区的纬度',\n",
       " '房屋使用年代中位数 街区人口 街区的经度',\n",
       " '房屋使用年代中位数 平均入住率^2',\n",
       " '房屋使用年代中位数 平均入住率 街区的纬度',\n",
       " '房屋使用年代中位数 平均入住率 街区的经度',\n",
       " '房屋使用年代中位数 街区的纬度^2',\n",
       " '房屋使用年代中位数 街区的纬度 街区的经度',\n",
       " '房屋使用年代中位数 街区的经度^2',\n",
       " '平均房间数目^3',\n",
       " '平均房间数目^2 平均卧室数目',\n",
       " '平均房间数目^2 街区人口',\n",
       " '平均房间数目^2 平均入住率',\n",
       " '平均房间数目^2 街区的纬度',\n",
       " '平均房间数目^2 街区的经度',\n",
       " '平均房间数目 平均卧室数目^2',\n",
       " '平均房间数目 平均卧室数目 街区人口',\n",
       " '平均房间数目 平均卧室数目 平均入住率',\n",
       " '平均房间数目 平均卧室数目 街区的纬度',\n",
       " '平均房间数目 平均卧室数目 街区的经度',\n",
       " '平均房间数目 街区人口^2',\n",
       " '平均房间数目 街区人口 平均入住率',\n",
       " '平均房间数目 街区人口 街区的纬度',\n",
       " '平均房间数目 街区人口 街区的经度',\n",
       " '平均房间数目 平均入住率^2',\n",
       " '平均房间数目 平均入住率 街区的纬度',\n",
       " '平均房间数目 平均入住率 街区的经度',\n",
       " '平均房间数目 街区的纬度^2',\n",
       " '平均房间数目 街区的纬度 街区的经度',\n",
       " '平均房间数目 街区的经度^2',\n",
       " '平均卧室数目^3',\n",
       " '平均卧室数目^2 街区人口',\n",
       " '平均卧室数目^2 平均入住率',\n",
       " '平均卧室数目^2 街区的纬度',\n",
       " '平均卧室数目^2 街区的经度',\n",
       " '平均卧室数目 街区人口^2',\n",
       " '平均卧室数目 街区人口 平均入住率',\n",
       " '平均卧室数目 街区人口 街区的纬度',\n",
       " '平均卧室数目 街区人口 街区的经度',\n",
       " '平均卧室数目 平均入住率^2',\n",
       " '平均卧室数目 平均入住率 街区的纬度',\n",
       " '平均卧室数目 平均入住率 街区的经度',\n",
       " '平均卧室数目 街区的纬度^2',\n",
       " '平均卧室数目 街区的纬度 街区的经度',\n",
       " '平均卧室数目 街区的经度^2',\n",
       " '街区人口^3',\n",
       " '街区人口^2 平均入住率',\n",
       " '街区人口^2 街区的纬度',\n",
       " '街区人口^2 街区的经度',\n",
       " '街区人口 平均入住率^2',\n",
       " '街区人口 平均入住率 街区的纬度',\n",
       " '街区人口 平均入住率 街区的经度',\n",
       " '街区人口 街区的纬度^2',\n",
       " '街区人口 街区的纬度 街区的经度',\n",
       " '街区人口 街区的经度^2',\n",
       " '平均入住率^3',\n",
       " '平均入住率^2 街区的纬度',\n",
       " '平均入住率^2 街区的经度',\n",
       " '平均入住率 街区的纬度^2',\n",
       " '平均入住率 街区的纬度 街区的经度',\n",
       " '平均入住率 街区的经度^2',\n",
       " '街区的纬度^3',\n",
       " '街区的纬度^2 街区的经度',\n",
       " '街区的纬度 街区的经度^2',\n",
       " '街区的经度^3',\n",
       " '住户收入中位数^4',\n",
       " '住户收入中位数^3 房屋使用年代中位数',\n",
       " '住户收入中位数^3 平均房间数目',\n",
       " '住户收入中位数^3 平均卧室数目',\n",
       " '住户收入中位数^3 街区人口',\n",
       " '住户收入中位数^3 平均入住率',\n",
       " '住户收入中位数^3 街区的纬度',\n",
       " '住户收入中位数^3 街区的经度',\n",
       " '住户收入中位数^2 房屋使用年代中位数^2',\n",
       " '住户收入中位数^2 房屋使用年代中位数 平均房间数目',\n",
       " '住户收入中位数^2 房屋使用年代中位数 平均卧室数目',\n",
       " '住户收入中位数^2 房屋使用年代中位数 街区人口',\n",
       " '住户收入中位数^2 房屋使用年代中位数 平均入住率',\n",
       " '住户收入中位数^2 房屋使用年代中位数 街区的纬度',\n",
       " '住户收入中位数^2 房屋使用年代中位数 街区的经度',\n",
       " '住户收入中位数^2 平均房间数目^2',\n",
       " '住户收入中位数^2 平均房间数目 平均卧室数目',\n",
       " '住户收入中位数^2 平均房间数目 街区人口',\n",
       " '住户收入中位数^2 平均房间数目 平均入住率',\n",
       " '住户收入中位数^2 平均房间数目 街区的纬度',\n",
       " '住户收入中位数^2 平均房间数目 街区的经度',\n",
       " '住户收入中位数^2 平均卧室数目^2',\n",
       " '住户收入中位数^2 平均卧室数目 街区人口',\n",
       " '住户收入中位数^2 平均卧室数目 平均入住率',\n",
       " '住户收入中位数^2 平均卧室数目 街区的纬度',\n",
       " '住户收入中位数^2 平均卧室数目 街区的经度',\n",
       " '住户收入中位数^2 街区人口^2',\n",
       " '住户收入中位数^2 街区人口 平均入住率',\n",
       " '住户收入中位数^2 街区人口 街区的纬度',\n",
       " '住户收入中位数^2 街区人口 街区的经度',\n",
       " '住户收入中位数^2 平均入住率^2',\n",
       " '住户收入中位数^2 平均入住率 街区的纬度',\n",
       " '住户收入中位数^2 平均入住率 街区的经度',\n",
       " '住户收入中位数^2 街区的纬度^2',\n",
       " '住户收入中位数^2 街区的纬度 街区的经度',\n",
       " '住户收入中位数^2 街区的经度^2',\n",
       " '住户收入中位数 房屋使用年代中位数^3',\n",
       " '住户收入中位数 房屋使用年代中位数^2 平均房间数目',\n",
       " '住户收入中位数 房屋使用年代中位数^2 平均卧室数目',\n",
       " '住户收入中位数 房屋使用年代中位数^2 街区人口',\n",
       " '住户收入中位数 房屋使用年代中位数^2 平均入住率',\n",
       " '住户收入中位数 房屋使用年代中位数^2 街区的纬度',\n",
       " '住户收入中位数 房屋使用年代中位数^2 街区的经度',\n",
       " '住户收入中位数 房屋使用年代中位数 平均房间数目^2',\n",
       " '住户收入中位数 房屋使用年代中位数 平均房间数目 平均卧室数目',\n",
       " '住户收入中位数 房屋使用年代中位数 平均房间数目 街区人口',\n",
       " '住户收入中位数 房屋使用年代中位数 平均房间数目 平均入住率',\n",
       " '住户收入中位数 房屋使用年代中位数 平均房间数目 街区的纬度',\n",
       " '住户收入中位数 房屋使用年代中位数 平均房间数目 街区的经度',\n",
       " '住户收入中位数 房屋使用年代中位数 平均卧室数目^2',\n",
       " '住户收入中位数 房屋使用年代中位数 平均卧室数目 街区人口',\n",
       " '住户收入中位数 房屋使用年代中位数 平均卧室数目 平均入住率',\n",
       " '住户收入中位数 房屋使用年代中位数 平均卧室数目 街区的纬度',\n",
       " '住户收入中位数 房屋使用年代中位数 平均卧室数目 街区的经度',\n",
       " '住户收入中位数 房屋使用年代中位数 街区人口^2',\n",
       " '住户收入中位数 房屋使用年代中位数 街区人口 平均入住率',\n",
       " '住户收入中位数 房屋使用年代中位数 街区人口 街区的纬度',\n",
       " '住户收入中位数 房屋使用年代中位数 街区人口 街区的经度',\n",
       " '住户收入中位数 房屋使用年代中位数 平均入住率^2',\n",
       " '住户收入中位数 房屋使用年代中位数 平均入住率 街区的纬度',\n",
       " '住户收入中位数 房屋使用年代中位数 平均入住率 街区的经度',\n",
       " '住户收入中位数 房屋使用年代中位数 街区的纬度^2',\n",
       " '住户收入中位数 房屋使用年代中位数 街区的纬度 街区的经度',\n",
       " '住户收入中位数 房屋使用年代中位数 街区的经度^2',\n",
       " '住户收入中位数 平均房间数目^3',\n",
       " '住户收入中位数 平均房间数目^2 平均卧室数目',\n",
       " '住户收入中位数 平均房间数目^2 街区人口',\n",
       " '住户收入中位数 平均房间数目^2 平均入住率',\n",
       " '住户收入中位数 平均房间数目^2 街区的纬度',\n",
       " '住户收入中位数 平均房间数目^2 街区的经度',\n",
       " '住户收入中位数 平均房间数目 平均卧室数目^2',\n",
       " '住户收入中位数 平均房间数目 平均卧室数目 街区人口',\n",
       " '住户收入中位数 平均房间数目 平均卧室数目 平均入住率',\n",
       " '住户收入中位数 平均房间数目 平均卧室数目 街区的纬度',\n",
       " '住户收入中位数 平均房间数目 平均卧室数目 街区的经度',\n",
       " '住户收入中位数 平均房间数目 街区人口^2',\n",
       " '住户收入中位数 平均房间数目 街区人口 平均入住率',\n",
       " '住户收入中位数 平均房间数目 街区人口 街区的纬度',\n",
       " '住户收入中位数 平均房间数目 街区人口 街区的经度',\n",
       " '住户收入中位数 平均房间数目 平均入住率^2',\n",
       " '住户收入中位数 平均房间数目 平均入住率 街区的纬度',\n",
       " '住户收入中位数 平均房间数目 平均入住率 街区的经度',\n",
       " '住户收入中位数 平均房间数目 街区的纬度^2',\n",
       " '住户收入中位数 平均房间数目 街区的纬度 街区的经度',\n",
       " '住户收入中位数 平均房间数目 街区的经度^2',\n",
       " '住户收入中位数 平均卧室数目^3',\n",
       " '住户收入中位数 平均卧室数目^2 街区人口',\n",
       " '住户收入中位数 平均卧室数目^2 平均入住率',\n",
       " '住户收入中位数 平均卧室数目^2 街区的纬度',\n",
       " '住户收入中位数 平均卧室数目^2 街区的经度',\n",
       " '住户收入中位数 平均卧室数目 街区人口^2',\n",
       " '住户收入中位数 平均卧室数目 街区人口 平均入住率',\n",
       " '住户收入中位数 平均卧室数目 街区人口 街区的纬度',\n",
       " '住户收入中位数 平均卧室数目 街区人口 街区的经度',\n",
       " '住户收入中位数 平均卧室数目 平均入住率^2',\n",
       " '住户收入中位数 平均卧室数目 平均入住率 街区的纬度',\n",
       " '住户收入中位数 平均卧室数目 平均入住率 街区的经度',\n",
       " '住户收入中位数 平均卧室数目 街区的纬度^2',\n",
       " '住户收入中位数 平均卧室数目 街区的纬度 街区的经度',\n",
       " '住户收入中位数 平均卧室数目 街区的经度^2',\n",
       " '住户收入中位数 街区人口^3',\n",
       " '住户收入中位数 街区人口^2 平均入住率',\n",
       " '住户收入中位数 街区人口^2 街区的纬度',\n",
       " '住户收入中位数 街区人口^2 街区的经度',\n",
       " '住户收入中位数 街区人口 平均入住率^2',\n",
       " '住户收入中位数 街区人口 平均入住率 街区的纬度',\n",
       " '住户收入中位数 街区人口 平均入住率 街区的经度',\n",
       " '住户收入中位数 街区人口 街区的纬度^2',\n",
       " '住户收入中位数 街区人口 街区的纬度 街区的经度',\n",
       " '住户收入中位数 街区人口 街区的经度^2',\n",
       " '住户收入中位数 平均入住率^3',\n",
       " '住户收入中位数 平均入住率^2 街区的纬度',\n",
       " '住户收入中位数 平均入住率^2 街区的经度',\n",
       " '住户收入中位数 平均入住率 街区的纬度^2',\n",
       " '住户收入中位数 平均入住率 街区的纬度 街区的经度',\n",
       " '住户收入中位数 平均入住率 街区的经度^2',\n",
       " '住户收入中位数 街区的纬度^3',\n",
       " '住户收入中位数 街区的纬度^2 街区的经度',\n",
       " '住户收入中位数 街区的纬度 街区的经度^2',\n",
       " '住户收入中位数 街区的经度^3',\n",
       " '房屋使用年代中位数^4',\n",
       " '房屋使用年代中位数^3 平均房间数目',\n",
       " '房屋使用年代中位数^3 平均卧室数目',\n",
       " '房屋使用年代中位数^3 街区人口',\n",
       " '房屋使用年代中位数^3 平均入住率',\n",
       " '房屋使用年代中位数^3 街区的纬度',\n",
       " '房屋使用年代中位数^3 街区的经度',\n",
       " '房屋使用年代中位数^2 平均房间数目^2',\n",
       " '房屋使用年代中位数^2 平均房间数目 平均卧室数目',\n",
       " '房屋使用年代中位数^2 平均房间数目 街区人口',\n",
       " '房屋使用年代中位数^2 平均房间数目 平均入住率',\n",
       " '房屋使用年代中位数^2 平均房间数目 街区的纬度',\n",
       " '房屋使用年代中位数^2 平均房间数目 街区的经度',\n",
       " '房屋使用年代中位数^2 平均卧室数目^2',\n",
       " '房屋使用年代中位数^2 平均卧室数目 街区人口',\n",
       " '房屋使用年代中位数^2 平均卧室数目 平均入住率',\n",
       " '房屋使用年代中位数^2 平均卧室数目 街区的纬度',\n",
       " '房屋使用年代中位数^2 平均卧室数目 街区的经度',\n",
       " '房屋使用年代中位数^2 街区人口^2',\n",
       " '房屋使用年代中位数^2 街区人口 平均入住率',\n",
       " '房屋使用年代中位数^2 街区人口 街区的纬度',\n",
       " '房屋使用年代中位数^2 街区人口 街区的经度',\n",
       " '房屋使用年代中位数^2 平均入住率^2',\n",
       " '房屋使用年代中位数^2 平均入住率 街区的纬度',\n",
       " '房屋使用年代中位数^2 平均入住率 街区的经度',\n",
       " '房屋使用年代中位数^2 街区的纬度^2',\n",
       " '房屋使用年代中位数^2 街区的纬度 街区的经度',\n",
       " '房屋使用年代中位数^2 街区的经度^2',\n",
       " '房屋使用年代中位数 平均房间数目^3',\n",
       " '房屋使用年代中位数 平均房间数目^2 平均卧室数目',\n",
       " '房屋使用年代中位数 平均房间数目^2 街区人口',\n",
       " '房屋使用年代中位数 平均房间数目^2 平均入住率',\n",
       " '房屋使用年代中位数 平均房间数目^2 街区的纬度',\n",
       " '房屋使用年代中位数 平均房间数目^2 街区的经度',\n",
       " '房屋使用年代中位数 平均房间数目 平均卧室数目^2',\n",
       " '房屋使用年代中位数 平均房间数目 平均卧室数目 街区人口',\n",
       " '房屋使用年代中位数 平均房间数目 平均卧室数目 平均入住率',\n",
       " '房屋使用年代中位数 平均房间数目 平均卧室数目 街区的纬度',\n",
       " '房屋使用年代中位数 平均房间数目 平均卧室数目 街区的经度',\n",
       " '房屋使用年代中位数 平均房间数目 街区人口^2',\n",
       " '房屋使用年代中位数 平均房间数目 街区人口 平均入住率',\n",
       " '房屋使用年代中位数 平均房间数目 街区人口 街区的纬度',\n",
       " '房屋使用年代中位数 平均房间数目 街区人口 街区的经度',\n",
       " '房屋使用年代中位数 平均房间数目 平均入住率^2',\n",
       " '房屋使用年代中位数 平均房间数目 平均入住率 街区的纬度',\n",
       " '房屋使用年代中位数 平均房间数目 平均入住率 街区的经度',\n",
       " '房屋使用年代中位数 平均房间数目 街区的纬度^2',\n",
       " '房屋使用年代中位数 平均房间数目 街区的纬度 街区的经度',\n",
       " '房屋使用年代中位数 平均房间数目 街区的经度^2',\n",
       " '房屋使用年代中位数 平均卧室数目^3',\n",
       " '房屋使用年代中位数 平均卧室数目^2 街区人口',\n",
       " '房屋使用年代中位数 平均卧室数目^2 平均入住率',\n",
       " '房屋使用年代中位数 平均卧室数目^2 街区的纬度',\n",
       " '房屋使用年代中位数 平均卧室数目^2 街区的经度',\n",
       " '房屋使用年代中位数 平均卧室数目 街区人口^2',\n",
       " '房屋使用年代中位数 平均卧室数目 街区人口 平均入住率',\n",
       " '房屋使用年代中位数 平均卧室数目 街区人口 街区的纬度',\n",
       " '房屋使用年代中位数 平均卧室数目 街区人口 街区的经度',\n",
       " '房屋使用年代中位数 平均卧室数目 平均入住率^2',\n",
       " '房屋使用年代中位数 平均卧室数目 平均入住率 街区的纬度',\n",
       " '房屋使用年代中位数 平均卧室数目 平均入住率 街区的经度',\n",
       " '房屋使用年代中位数 平均卧室数目 街区的纬度^2',\n",
       " '房屋使用年代中位数 平均卧室数目 街区的纬度 街区的经度',\n",
       " '房屋使用年代中位数 平均卧室数目 街区的经度^2',\n",
       " '房屋使用年代中位数 街区人口^3',\n",
       " '房屋使用年代中位数 街区人口^2 平均入住率',\n",
       " '房屋使用年代中位数 街区人口^2 街区的纬度',\n",
       " '房屋使用年代中位数 街区人口^2 街区的经度',\n",
       " '房屋使用年代中位数 街区人口 平均入住率^2',\n",
       " '房屋使用年代中位数 街区人口 平均入住率 街区的纬度',\n",
       " '房屋使用年代中位数 街区人口 平均入住率 街区的经度',\n",
       " '房屋使用年代中位数 街区人口 街区的纬度^2',\n",
       " '房屋使用年代中位数 街区人口 街区的纬度 街区的经度',\n",
       " '房屋使用年代中位数 街区人口 街区的经度^2',\n",
       " '房屋使用年代中位数 平均入住率^3',\n",
       " '房屋使用年代中位数 平均入住率^2 街区的纬度',\n",
       " '房屋使用年代中位数 平均入住率^2 街区的经度',\n",
       " '房屋使用年代中位数 平均入住率 街区的纬度^2',\n",
       " '房屋使用年代中位数 平均入住率 街区的纬度 街区的经度',\n",
       " '房屋使用年代中位数 平均入住率 街区的经度^2',\n",
       " '房屋使用年代中位数 街区的纬度^3',\n",
       " '房屋使用年代中位数 街区的纬度^2 街区的经度',\n",
       " '房屋使用年代中位数 街区的纬度 街区的经度^2',\n",
       " '房屋使用年代中位数 街区的经度^3',\n",
       " '平均房间数目^4',\n",
       " '平均房间数目^3 平均卧室数目',\n",
       " '平均房间数目^3 街区人口',\n",
       " '平均房间数目^3 平均入住率',\n",
       " '平均房间数目^3 街区的纬度',\n",
       " '平均房间数目^3 街区的经度',\n",
       " '平均房间数目^2 平均卧室数目^2',\n",
       " '平均房间数目^2 平均卧室数目 街区人口',\n",
       " '平均房间数目^2 平均卧室数目 平均入住率',\n",
       " '平均房间数目^2 平均卧室数目 街区的纬度',\n",
       " '平均房间数目^2 平均卧室数目 街区的经度',\n",
       " '平均房间数目^2 街区人口^2',\n",
       " '平均房间数目^2 街区人口 平均入住率',\n",
       " '平均房间数目^2 街区人口 街区的纬度',\n",
       " '平均房间数目^2 街区人口 街区的经度',\n",
       " '平均房间数目^2 平均入住率^2',\n",
       " '平均房间数目^2 平均入住率 街区的纬度',\n",
       " '平均房间数目^2 平均入住率 街区的经度',\n",
       " '平均房间数目^2 街区的纬度^2',\n",
       " '平均房间数目^2 街区的纬度 街区的经度',\n",
       " '平均房间数目^2 街区的经度^2',\n",
       " '平均房间数目 平均卧室数目^3',\n",
       " '平均房间数目 平均卧室数目^2 街区人口',\n",
       " '平均房间数目 平均卧室数目^2 平均入住率',\n",
       " '平均房间数目 平均卧室数目^2 街区的纬度',\n",
       " '平均房间数目 平均卧室数目^2 街区的经度',\n",
       " '平均房间数目 平均卧室数目 街区人口^2',\n",
       " '平均房间数目 平均卧室数目 街区人口 平均入住率',\n",
       " '平均房间数目 平均卧室数目 街区人口 街区的纬度',\n",
       " '平均房间数目 平均卧室数目 街区人口 街区的经度',\n",
       " '平均房间数目 平均卧室数目 平均入住率^2',\n",
       " '平均房间数目 平均卧室数目 平均入住率 街区的纬度',\n",
       " '平均房间数目 平均卧室数目 平均入住率 街区的经度',\n",
       " '平均房间数目 平均卧室数目 街区的纬度^2',\n",
       " '平均房间数目 平均卧室数目 街区的纬度 街区的经度',\n",
       " '平均房间数目 平均卧室数目 街区的经度^2',\n",
       " '平均房间数目 街区人口^3',\n",
       " '平均房间数目 街区人口^2 平均入住率',\n",
       " '平均房间数目 街区人口^2 街区的纬度',\n",
       " '平均房间数目 街区人口^2 街区的经度',\n",
       " '平均房间数目 街区人口 平均入住率^2',\n",
       " '平均房间数目 街区人口 平均入住率 街区的纬度',\n",
       " '平均房间数目 街区人口 平均入住率 街区的经度',\n",
       " '平均房间数目 街区人口 街区的纬度^2',\n",
       " '平均房间数目 街区人口 街区的纬度 街区的经度',\n",
       " '平均房间数目 街区人口 街区的经度^2',\n",
       " '平均房间数目 平均入住率^3',\n",
       " '平均房间数目 平均入住率^2 街区的纬度',\n",
       " '平均房间数目 平均入住率^2 街区的经度',\n",
       " '平均房间数目 平均入住率 街区的纬度^2',\n",
       " '平均房间数目 平均入住率 街区的纬度 街区的经度',\n",
       " '平均房间数目 平均入住率 街区的经度^2',\n",
       " '平均房间数目 街区的纬度^3',\n",
       " '平均房间数目 街区的纬度^2 街区的经度',\n",
       " '平均房间数目 街区的纬度 街区的经度^2',\n",
       " '平均房间数目 街区的经度^3',\n",
       " '平均卧室数目^4',\n",
       " '平均卧室数目^3 街区人口',\n",
       " '平均卧室数目^3 平均入住率',\n",
       " '平均卧室数目^3 街区的纬度',\n",
       " '平均卧室数目^3 街区的经度',\n",
       " '平均卧室数目^2 街区人口^2',\n",
       " '平均卧室数目^2 街区人口 平均入住率',\n",
       " '平均卧室数目^2 街区人口 街区的纬度',\n",
       " '平均卧室数目^2 街区人口 街区的经度',\n",
       " '平均卧室数目^2 平均入住率^2',\n",
       " '平均卧室数目^2 平均入住率 街区的纬度',\n",
       " '平均卧室数目^2 平均入住率 街区的经度',\n",
       " '平均卧室数目^2 街区的纬度^2',\n",
       " '平均卧室数目^2 街区的纬度 街区的经度',\n",
       " '平均卧室数目^2 街区的经度^2',\n",
       " '平均卧室数目 街区人口^3',\n",
       " '平均卧室数目 街区人口^2 平均入住率',\n",
       " '平均卧室数目 街区人口^2 街区的纬度',\n",
       " '平均卧室数目 街区人口^2 街区的经度',\n",
       " '平均卧室数目 街区人口 平均入住率^2',\n",
       " '平均卧室数目 街区人口 平均入住率 街区的纬度',\n",
       " '平均卧室数目 街区人口 平均入住率 街区的经度',\n",
       " '平均卧室数目 街区人口 街区的纬度^2',\n",
       " '平均卧室数目 街区人口 街区的纬度 街区的经度',\n",
       " '平均卧室数目 街区人口 街区的经度^2',\n",
       " '平均卧室数目 平均入住率^3',\n",
       " '平均卧室数目 平均入住率^2 街区的纬度',\n",
       " '平均卧室数目 平均入住率^2 街区的经度',\n",
       " '平均卧室数目 平均入住率 街区的纬度^2',\n",
       " '平均卧室数目 平均入住率 街区的纬度 街区的经度',\n",
       " '平均卧室数目 平均入住率 街区的经度^2',\n",
       " '平均卧室数目 街区的纬度^3',\n",
       " '平均卧室数目 街区的纬度^2 街区的经度',\n",
       " '平均卧室数目 街区的纬度 街区的经度^2',\n",
       " '平均卧室数目 街区的经度^3',\n",
       " '街区人口^4',\n",
       " '街区人口^3 平均入住率',\n",
       " '街区人口^3 街区的纬度',\n",
       " '街区人口^3 街区的经度',\n",
       " '街区人口^2 平均入住率^2',\n",
       " '街区人口^2 平均入住率 街区的纬度',\n",
       " '街区人口^2 平均入住率 街区的经度',\n",
       " '街区人口^2 街区的纬度^2',\n",
       " '街区人口^2 街区的纬度 街区的经度',\n",
       " '街区人口^2 街区的经度^2',\n",
       " '街区人口 平均入住率^3',\n",
       " '街区人口 平均入住率^2 街区的纬度',\n",
       " '街区人口 平均入住率^2 街区的经度',\n",
       " '街区人口 平均入住率 街区的纬度^2',\n",
       " '街区人口 平均入住率 街区的纬度 街区的经度',\n",
       " '街区人口 平均入住率 街区的经度^2',\n",
       " '街区人口 街区的纬度^3',\n",
       " '街区人口 街区的纬度^2 街区的经度',\n",
       " '街区人口 街区的纬度 街区的经度^2',\n",
       " '街区人口 街区的经度^3',\n",
       " '平均入住率^4',\n",
       " '平均入住率^3 街区的纬度',\n",
       " '平均入住率^3 街区的经度',\n",
       " '平均入住率^2 街区的纬度^2',\n",
       " '平均入住率^2 街区的纬度 街区的经度',\n",
       " '平均入住率^2 街区的经度^2',\n",
       " '平均入住率 街区的纬度^3',\n",
       " '平均入住率 街区的纬度^2 街区的经度',\n",
       " '平均入住率 街区的纬度 街区的经度^2',\n",
       " '平均入住率 街区的经度^3',\n",
       " '街区的纬度^4',\n",
       " '街区的纬度^3 街区的经度',\n",
       " '街区的纬度^2 街区的经度^2',\n",
       " '街区的纬度 街区的经度^3',\n",
       " '街区的经度^4']"
      ]
     },
     "execution_count": 77,
     "metadata": {},
     "output_type": "execute_result"
    }
   ],
   "source": [
    "poly.get_feature_names(X.columns)"
   ]
  },
  {
   "cell_type": "code",
   "execution_count": 78,
   "metadata": {},
   "outputs": [],
   "source": [
    "X_ = poly.transform(X)"
   ]
  },
  {
   "cell_type": "code",
   "execution_count": 79,
   "metadata": {},
   "outputs": [],
   "source": [
    "#在这之后，我们依然可以直接建立模型，然后使用线性回归的coef_属性来查看什么特征对标签的影响最大\n",
    "reg = LinearRegression().fit(X_,y)"
   ]
  },
  {
   "cell_type": "code",
   "execution_count": 80,
   "metadata": {},
   "outputs": [],
   "source": [
    "coef = reg.coef_"
   ]
  },
  {
   "cell_type": "code",
   "execution_count": 81,
   "metadata": {},
   "outputs": [
    {
     "data": {
      "text/plain": [
       "array([ 3.10808260e-04, -2.29593275e-05, -1.86555823e-07,  3.14540980e-09,\n",
       "       -1.00201271e-07, -5.19948347e-05,  7.14311031e-08,  4.16703056e-07,\n",
       "        5.43864807e-08, -9.52364163e-06, -1.16565513e-05, -1.93026352e-05,\n",
       "       -2.36028415e-06, -5.93269415e-05,  2.41120302e-06, -1.05762608e-06,\n",
       "        1.14243699e-05, -8.09650966e-06,  1.03024176e-05, -6.82691390e-06,\n",
       "       -7.58175217e-04,  3.55009488e-05,  1.25185532e-05,  2.81618206e-05,\n",
       "       -1.11578705e-05,  3.64080725e-06, -1.12579472e-04, -4.95652189e-06,\n",
       "        1.69265053e-06, -5.08685341e-06,  1.65736112e-06, -2.78832974e-05,\n",
       "       -9.44920031e-07, -1.31392851e-06,  8.27152876e-06,  2.43950726e-05,\n",
       "       -4.46846779e-05, -7.03350953e-04,  2.08525543e-03, -7.72843579e-06,\n",
       "       -9.85983811e-07, -5.59809918e-06, -3.99871884e-06, -2.50108280e-05,\n",
       "       -6.11054901e-06, -8.42321654e-05, -1.51762683e-04, -9.64464932e-05,\n",
       "       -1.19005828e-05,  6.28965193e-04,  3.59736646e-05, -1.78734368e-04,\n",
       "        5.61576225e-04, -4.39419514e-04, -2.20472626e-04, -2.66208812e-05,\n",
       "        1.20818226e-04,  6.05075515e-05, -1.13834018e-04,  6.00973605e-04,\n",
       "       -1.88570031e-04, -1.90233440e-05, -7.14275799e-04, -1.73695818e-05,\n",
       "       -3.30828957e-04,  1.14696781e-03, -1.49788033e-05, -9.79470049e-05,\n",
       "        1.68258363e-07, -4.12729810e-05,  1.37955574e-04,  7.62324820e-07,\n",
       "        1.38711286e-03, -9.57209797e-04, -1.97363822e-04,  2.32650316e-05,\n",
       "        5.00097780e-05, -1.52049141e-04,  2.78359912e-06, -1.73037752e-05,\n",
       "       -3.77543877e-04, -6.23930118e-04,  3.11809963e-04, -2.15391029e-04,\n",
       "        2.05569022e-05,  1.01239192e-03,  8.21363330e-04, -9.50422014e-05,\n",
       "       -1.09606985e-04, -3.78259068e-05, -7.38750279e-05,  2.11344956e-05,\n",
       "        1.78442394e-04, -6.13835935e-04, -1.81070938e-05,  1.14674376e-03,\n",
       "       -5.50103937e-06, -1.32831328e-04,  4.18950647e-04,  7.75529311e-08,\n",
       "       -8.64989740e-05, -1.86014139e-04, -5.12204645e-05,  1.01808211e-05,\n",
       "        6.44609975e-04, -2.14145237e-03,  2.80443208e-04, -9.56960392e-04,\n",
       "       -5.00727153e-04,  6.45784659e-04,  2.25410374e-04,  8.82972555e-05,\n",
       "       -6.95254586e-05, -1.89049453e-04,  7.32834831e-04,  6.72846053e-05,\n",
       "        6.34508987e-05, -7.50073817e-06,  6.89676134e-05, -2.00667129e-04,\n",
       "       -1.37365989e-06, -6.08770225e-04,  1.09371763e-03,  2.37477704e-04,\n",
       "       -3.94829185e-05, -9.65567707e-05,  3.01835886e-04,  1.81365907e-05,\n",
       "       -3.07438661e-05,  8.54621386e-05,  7.62680792e-06,  5.05836832e-05,\n",
       "        2.12673520e-05,  2.36075014e-05, -9.68322047e-05,  1.29827549e-05,\n",
       "       -1.72591589e-04,  2.11834280e-04,  4.91559700e-04, -1.20994901e-05,\n",
       "       -2.46620099e-05,  5.86256112e-05, -1.74326587e-05,  1.00509816e-04,\n",
       "       -5.65942054e-04,  9.16737482e-11,  1.82954768e-06, -4.68438882e-08,\n",
       "        5.35022329e-07, -3.25833615e-05, -1.60199896e-03, -3.88576400e-04,\n",
       "        1.59150768e-03,  9.59095676e-04,  1.88200878e-04, -1.02465761e-04,\n",
       "       -1.39602614e-04,  4.54014715e-04, -1.07061674e-04,  9.19048839e-05,\n",
       "        2.54290704e-04, -4.55767462e-04,  4.14852070e-04,  1.16717279e-03,\n",
       "        4.17042729e-04,  3.72638014e-04,  1.26451848e-04, -1.19783791e-03,\n",
       "        2.88356459e-03, -4.91708081e-07, -7.48917926e-05,  6.54157071e-04,\n",
       "        2.93282506e-04, -8.91613274e-06, -3.53398008e-05, -1.03240369e-03,\n",
       "       -7.80014002e-07, -4.80812333e-05,  1.10071115e-04,  4.48959908e-05,\n",
       "        2.04958529e-04, -6.63739150e-04,  3.61709979e-06,  2.09966835e-03,\n",
       "       -7.43743738e-04, -4.15282526e-04, -7.36485152e-04, -6.31751663e-05,\n",
       "        3.58957884e-04, -7.02136532e-04,  2.94994686e-04,  3.19471682e-09,\n",
       "        8.14260803e-06,  1.24545568e-05,  8.77242517e-06, -1.86295107e-03,\n",
       "       -1.83231699e-03, -6.71215939e-04,  6.24380770e-04,  4.95198166e-04,\n",
       "        1.03563412e-04,  6.30910838e-06,  3.99834139e-05,  1.10908991e-04,\n",
       "        4.24674527e-08,  6.44814105e-05,  6.06765167e-07,  6.00726239e-06,\n",
       "       -3.13035864e-04,  1.17442672e-03,  2.56635076e-06,  1.10703040e-03,\n",
       "        5.00657420e-04,  1.58296425e-04,  4.59635962e-04, -1.73514624e-05,\n",
       "       -8.85929323e-04, -4.92490854e-04, -7.38097648e-05, -4.33896723e-10,\n",
       "       -2.80716448e-06,  5.36335397e-07,  1.00253253e-06,  4.12698599e-04,\n",
       "       -1.63096435e-04,  6.19679702e-05, -6.83553461e-04, -3.59918525e-04,\n",
       "       -3.56638776e-05,  2.11623125e-04, -4.08491089e-04, -7.36716682e-06,\n",
       "       -5.26785931e-04,  2.05980432e-04,  1.86155602e-04, -2.64275478e-04,\n",
       "        8.02481710e-05, -1.28987182e-04,  5.39028016e-04, -5.98359067e-04,\n",
       "       -7.54932794e-09, -1.56902824e-05, -1.60001498e-05, -1.08716638e-05,\n",
       "       -2.05703861e-03, -8.04216780e-04,  1.41291632e-04, -1.07739843e-03,\n",
       "       -6.85490011e-04, -9.71241745e-05, -1.61665209e-04, -3.47347447e-04,\n",
       "        6.85369537e-05, -1.90968345e-04,  1.31591810e-03,  4.65474194e-09,\n",
       "        2.01192318e-04,  1.85798780e-05, -6.47817170e-07,  1.80339047e-04,\n",
       "       -1.58551187e-05, -2.67231904e-04, -5.74491706e-04,  4.05319320e-04,\n",
       "        2.11510028e-04,  2.30499380e-12,  1.25480040e-09,  1.17874658e-08,\n",
       "        1.01286162e-08,  7.54473017e-06,  2.57677863e-05,  2.11742801e-05,\n",
       "        5.98173299e-06, -2.66077694e-06, -6.01524705e-07,  8.73676805e-05,\n",
       "       -1.06707532e-03, -5.37087456e-04, -1.39731017e-05, -3.44977272e-04,\n",
       "       -1.00401113e-04,  9.75169126e-04,  8.10385726e-04,  2.33880076e-04,\n",
       "        2.11338170e-05,  6.23134936e-07, -2.23483708e-06, -4.08206919e-05,\n",
       "        1.13549602e-08, -4.24047209e-07, -1.00091799e-05, -7.84232606e-06,\n",
       "        1.39051072e-05, -2.71631927e-04,  1.44295688e-07,  1.70305549e-05,\n",
       "       -5.34913019e-05, -1.39697742e-05,  9.34635886e-04, -3.01856409e-06,\n",
       "        1.19816299e-04,  3.96015499e-04,  8.70443059e-05,  2.27763596e-11,\n",
       "       -1.25452276e-08,  1.02307324e-07,  1.89798240e-07,  1.72601497e-05,\n",
       "        5.25190234e-05,  2.74014558e-05, -5.07303814e-05, -2.89691062e-05,\n",
       "       -6.83908884e-06,  1.44534186e-04, -1.19645950e-03, -1.41936751e-06,\n",
       "        1.59056139e-04, -2.83639428e-04, -7.90630884e-05,  2.45452309e-03,\n",
       "        6.70527307e-06, -7.37097599e-04,  1.44315907e-03,  2.91872175e-04,\n",
       "        1.15306782e-09,  6.55032113e-06, -8.68276298e-07, -5.82179185e-07,\n",
       "       -1.38859853e-04,  1.21214261e-03,  4.23731469e-04,  4.76679624e-04,\n",
       "        2.74460604e-04,  3.47337102e-05,  1.21639000e-03, -1.44482476e-05,\n",
       "        5.10405272e-04,  1.44351863e-04,  6.40702522e-04, -1.64623962e-08,\n",
       "       -2.59117671e-05,  2.46451170e-05,  1.42741247e-05,  4.18136551e-03,\n",
       "        1.15575566e-04,  1.82526111e-04,  7.55853070e-04,  8.36755791e-04,\n",
       "        1.84324922e-04, -3.12380567e-14,  4.35681572e-11, -3.14324518e-10,\n",
       "        4.57805702e-10, -3.95811682e-09, -2.57638139e-06, -1.54345948e-06,\n",
       "       -3.38738538e-06, -3.44541873e-06, -6.49062405e-07, -1.36777718e-04,\n",
       "       -3.95869141e-04, -9.39734440e-05, -1.16750157e-03, -7.00955379e-04,\n",
       "       -1.20613839e-04,  1.82037575e-04,  9.92226731e-05,  5.93436577e-07,\n",
       "       -5.29320670e-06, -1.03038190e-05,  1.06981230e-04,  1.57391448e-06,\n",
       "        8.37847833e-04,  1.31114887e-04,  8.43985360e-05, -2.07343367e-04,\n",
       "       -2.79402417e-05, -3.73604454e-03, -9.79124092e-04, -4.26485305e-04,\n",
       "        7.73351407e-09,  3.52859471e-05,  4.78021143e-06,  2.97783557e-06,\n",
       "       -7.48742454e-04,  9.19679754e-04,  3.00134758e-04,  8.54248822e-05,\n",
       "        9.86583411e-05,  3.96639109e-05, -3.40144286e-04,  1.78599005e-04,\n",
       "       -1.32154837e-03, -3.72658757e-04, -5.53567815e-04, -1.11022581e-07,\n",
       "       -3.52920876e-04, -9.20238513e-05, -3.50990842e-05,  2.10822371e-04,\n",
       "       -1.52110267e-04,  2.53230775e-04,  6.21524475e-04, -1.13445097e-04,\n",
       "       -1.65263975e-04, -3.79517482e-12, -3.55908984e-10, -2.80233897e-08,\n",
       "       -2.06839072e-08, -1.09705367e-05, -2.78743813e-05, -1.38428271e-05,\n",
       "       -1.45483661e-05, -2.69989202e-06, -2.47422343e-07,  9.01240548e-04,\n",
       "        7.26402709e-04,  2.36803433e-04, -6.14459929e-04,  1.70259544e-05,\n",
       "        8.70855012e-05, -2.56639447e-03, -2.44335607e-03, -7.77670041e-04,\n",
       "       -8.14232469e-05, -2.18554399e-04, -3.60694388e-04, -3.62143844e-04,\n",
       "       -5.48470518e-04,  1.08830098e-03,  4.03689717e-07,  1.20958911e-03,\n",
       "        4.00521441e-04,  1.44857701e-04,  4.06179650e-05,  6.87755490e-04,\n",
       "       -2.55293240e-03, -3.88631466e-04,  8.10020759e-04,  3.96138030e-04,\n",
       "        3.89779441e-11,  1.52360980e-07,  2.53403860e-07,  1.93351107e-07,\n",
       "        5.63899269e-05,  2.77305689e-04,  9.61199473e-05,  5.58286419e-05,\n",
       "        5.73222675e-05,  1.58180309e-05, -1.98588418e-03,  1.28097024e-04,\n",
       "        2.21403801e-04, -4.44947170e-04,  6.29743951e-04,  1.88177020e-04,\n",
       "       -4.68678044e-04,  3.39953011e-05,  2.41346924e-04,  5.13274510e-05,\n",
       "        2.30731775e-16,  8.92169484e-13,  1.66489047e-12,  1.58380542e-12,\n",
       "       -7.95108912e-09,  2.38371700e-08,  2.33395381e-08, -1.27555223e-09,\n",
       "        9.33976816e-10,  3.32990940e-09,  6.70352530e-07, -5.28344238e-06,\n",
       "       -1.78739008e-06,  4.33152679e-06, -8.35503287e-06, -2.04639821e-06,\n",
       "        1.37170915e-05,  2.56497513e-05,  1.18951170e-05,  1.83598597e-06,\n",
       "        1.64117399e-06,  5.08051391e-04,  1.85520721e-04,  2.09428746e-04,\n",
       "        2.15806052e-05, -2.69667924e-06,  5.54647623e-04,  1.62704515e-04,\n",
       "       -4.06925337e-05, -9.30902988e-06, -8.70956337e-03, -1.07652508e-02,\n",
       "       -4.98463766e-03, -1.01744850e-03, -7.59810469e-05])"
      ]
     },
     "execution_count": 81,
     "metadata": {},
     "output_type": "execute_result"
    }
   ],
   "source": [
    "coef"
   ]
  },
  {
   "cell_type": "code",
   "execution_count": 67,
   "metadata": {},
   "outputs": [
    {
     "data": {
      "text/plain": [
       "[('1', 5.9195481409833284e-08),\n",
       " ('住户收入中位数', -11.243025601117052),\n",
       " ('房屋使用年代中位数', -0.8488985550865555),\n",
       " ('平均房间数目', 6.4410594008838045),\n",
       " ('平均卧室数目', -31.591330845036552),\n",
       " ('街区人口', 0.000406090678218692),\n",
       " ('平均入住率', 1.003862325169533),\n",
       " ('街区的纬度', 8.705681915719548),\n",
       " ('街区的经度', 5.88063274731183),\n",
       " ('住户收入中位数^2', -0.0313081210095138),\n",
       " ('住户收入中位数 房屋使用年代中位数', 0.0018599475393608605),\n",
       " ('住户收入中位数 平均房间数目', 0.043302036387842816),\n",
       " ('住户收入中位数 平均卧室数目', -0.18614228848200431),\n",
       " ('住户收入中位数 街区人口', 5.728314010956206e-05),\n",
       " ('住户收入中位数 平均入住率', -0.002590194507419634),\n",
       " ('住户收入中位数 街区的纬度', -0.1525057186944929),\n",
       " ('住户收入中位数 街区的经度', -0.14424294470380783),\n",
       " ('房屋使用年代中位数^2', 0.00021172536249754108),\n",
       " ('房屋使用年代中位数 平均房间数目', -0.0012621898121649244),\n",
       " ('房屋使用年代中位数 平均卧室数目', 0.010611503740612697),\n",
       " ('房屋使用年代中位数 街区人口', 2.8188531228417142e-06),\n",
       " ('房屋使用年代中位数 平均入住率', -0.001817169463555658),\n",
       " ('房屋使用年代中位数 街区的纬度', -0.010069037408713212),\n",
       " ('房屋使用年代中位数 街区的经度', -0.00999950183371761),\n",
       " ('平均房间数目^2', 0.0072694776784208315),\n",
       " ('平均房间数目 平均卧室数目', -0.06890643779325112),\n",
       " ('平均房间数目 街区人口', -6.823655905927973e-05),\n",
       " ('平均房间数目 平均入住率', 0.026887883869342384),\n",
       " ('平均房间数目 街区的纬度', 0.08750899544328677),\n",
       " ('平均房间数目 街区的经度', 0.08228904004428692),\n",
       " ('平均卧室数目^2', 0.16018095673076294),\n",
       " ('平均卧室数目 街区人口', 0.0005142639998074091),\n",
       " ('平均卧室数目 平均入住率', -0.08719113737712174),\n",
       " ('平均卧室数目 街区的纬度', -0.4370430370283017),\n",
       " ('平均卧室数目 街区的经度', -0.4041506119083022),\n",
       " ('街区人口^2', 2.7377915550354326e-09),\n",
       " ('街区人口 平均入住率', 1.9142675218200485e-05),\n",
       " ('街区人口 街区的纬度', 2.2952983073875922e-05),\n",
       " ('街区人口 街区的经度', 1.4656775674481048e-05),\n",
       " ('平均入住率^2', 8.7156103435594e-05),\n",
       " ('平均入住率 街区的纬度', 0.021334459219946734),\n",
       " ('平均入住率 街区的经度', 0.016241293818042908),\n",
       " ('街区的纬度^2', 0.06188673574125679),\n",
       " ('街区的纬度 街区的经度', 0.10810717328653006),\n",
       " ('街区的经度^2', 0.03990773509638848)]"
      ]
     },
     "execution_count": 67,
     "metadata": {},
     "output_type": "execute_result"
    }
   ],
   "source": [
    "[*zip(poly.get_feature_names(X.columns),reg.coef_)]"
   ]
  },
  {
   "cell_type": "code",
   "execution_count": 82,
   "metadata": {},
   "outputs": [],
   "source": [
    "#放到dataframe中进行排序\n",
    "coeff = pd.DataFrame([poly.get_feature_names(X.columns),reg.coef_.tolist()]).T"
   ]
  },
  {
   "cell_type": "code",
   "execution_count": 83,
   "metadata": {},
   "outputs": [
    {
     "data": {
      "text/html": [
       "<div>\n",
       "<style scoped>\n",
       "    .dataframe tbody tr th:only-of-type {\n",
       "        vertical-align: middle;\n",
       "    }\n",
       "\n",
       "    .dataframe tbody tr th {\n",
       "        vertical-align: top;\n",
       "    }\n",
       "\n",
       "    .dataframe thead th {\n",
       "        text-align: right;\n",
       "    }\n",
       "</style>\n",
       "<table border=\"1\" class=\"dataframe\">\n",
       "  <thead>\n",
       "    <tr style=\"text-align: right;\">\n",
       "      <th></th>\n",
       "      <th>0</th>\n",
       "      <th>1</th>\n",
       "    </tr>\n",
       "  </thead>\n",
       "  <tbody>\n",
       "    <tr>\n",
       "      <th>0</th>\n",
       "      <td>1</td>\n",
       "      <td>0.000310808</td>\n",
       "    </tr>\n",
       "    <tr>\n",
       "      <th>1</th>\n",
       "      <td>住户收入中位数</td>\n",
       "      <td>-2.29593e-05</td>\n",
       "    </tr>\n",
       "    <tr>\n",
       "      <th>2</th>\n",
       "      <td>房屋使用年代中位数</td>\n",
       "      <td>-1.86556e-07</td>\n",
       "    </tr>\n",
       "    <tr>\n",
       "      <th>3</th>\n",
       "      <td>平均房间数目</td>\n",
       "      <td>3.14541e-09</td>\n",
       "    </tr>\n",
       "    <tr>\n",
       "      <th>4</th>\n",
       "      <td>平均卧室数目</td>\n",
       "      <td>-1.00201e-07</td>\n",
       "    </tr>\n",
       "  </tbody>\n",
       "</table>\n",
       "</div>"
      ],
      "text/plain": [
       "           0            1\n",
       "0          1  0.000310808\n",
       "1    住户收入中位数 -2.29593e-05\n",
       "2  房屋使用年代中位数 -1.86556e-07\n",
       "3     平均房间数目  3.14541e-09\n",
       "4     平均卧室数目 -1.00201e-07"
      ]
     },
     "execution_count": 83,
     "metadata": {},
     "output_type": "execute_result"
    }
   ],
   "source": [
    "coeff.head()"
   ]
  },
  {
   "cell_type": "code",
   "execution_count": 84,
   "metadata": {},
   "outputs": [],
   "source": [
    "coeff.columns = [\"feature\",\"coef\"]"
   ]
  },
  {
   "cell_type": "code",
   "execution_count": 85,
   "metadata": {},
   "outputs": [
    {
     "data": {
      "text/html": [
       "<div>\n",
       "<style scoped>\n",
       "    .dataframe tbody tr th:only-of-type {\n",
       "        vertical-align: middle;\n",
       "    }\n",
       "\n",
       "    .dataframe tbody tr th {\n",
       "        vertical-align: top;\n",
       "    }\n",
       "\n",
       "    .dataframe thead th {\n",
       "        text-align: right;\n",
       "    }\n",
       "</style>\n",
       "<table border=\"1\" class=\"dataframe\">\n",
       "  <thead>\n",
       "    <tr style=\"text-align: right;\">\n",
       "      <th></th>\n",
       "      <th>feature</th>\n",
       "      <th>coef</th>\n",
       "    </tr>\n",
       "  </thead>\n",
       "  <tbody>\n",
       "    <tr>\n",
       "      <th>491</th>\n",
       "      <td>街区的纬度^3 街区的经度</td>\n",
       "      <td>-0.0107653</td>\n",
       "    </tr>\n",
       "    <tr>\n",
       "      <th>490</th>\n",
       "      <td>街区的纬度^4</td>\n",
       "      <td>-0.00870956</td>\n",
       "    </tr>\n",
       "    <tr>\n",
       "      <th>492</th>\n",
       "      <td>街区的纬度^2 街区的经度^2</td>\n",
       "      <td>-0.00498464</td>\n",
       "    </tr>\n",
       "    <tr>\n",
       "      <th>377</th>\n",
       "      <td>平均房间数目^2 平均卧室数目 平均入住率</td>\n",
       "      <td>-0.00373604</td>\n",
       "    </tr>\n",
       "    <tr>\n",
       "      <th>421</th>\n",
       "      <td>平均房间数目 街区的纬度^3</td>\n",
       "      <td>-0.00256639</td>\n",
       "    </tr>\n",
       "    <tr>\n",
       "      <th>436</th>\n",
       "      <td>平均卧室数目^2 平均入住率 街区的经度</td>\n",
       "      <td>-0.00255293</td>\n",
       "    </tr>\n",
       "    <tr>\n",
       "      <th>422</th>\n",
       "      <td>平均房间数目 街区的纬度^2 街区的经度</td>\n",
       "      <td>-0.00244336</td>\n",
       "    </tr>\n",
       "    <tr>\n",
       "      <th>105</th>\n",
       "      <td>房屋使用年代中位数 平均入住率 街区的经度</td>\n",
       "      <td>-0.00214145</td>\n",
       "    </tr>\n",
       "    <tr>\n",
       "      <th>244</th>\n",
       "      <td>住户收入中位数 平均房间数目 平均入住率^2</td>\n",
       "      <td>-0.00205704</td>\n",
       "    </tr>\n",
       "    <tr>\n",
       "      <th>450</th>\n",
       "      <td>平均卧室数目 平均入住率^3</td>\n",
       "      <td>-0.00198588</td>\n",
       "    </tr>\n",
       "    <tr>\n",
       "      <th>195</th>\n",
       "      <td>住户收入中位数^2 平均入住率^2</td>\n",
       "      <td>-0.00186295</td>\n",
       "    </tr>\n",
       "    <tr>\n",
       "      <th>196</th>\n",
       "      <td>住户收入中位数^2 平均入住率 街区的纬度</td>\n",
       "      <td>-0.00183232</td>\n",
       "    </tr>\n",
       "    <tr>\n",
       "      <th>150</th>\n",
       "      <td>街区人口 平均入住率 街区的纬度</td>\n",
       "      <td>-0.001602</td>\n",
       "    </tr>\n",
       "    <tr>\n",
       "      <th>392</th>\n",
       "      <td>平均房间数目 平均卧室数目^2 平均入住率</td>\n",
       "      <td>-0.00132155</td>\n",
       "    </tr>\n",
       "    <tr>\n",
       "      <th>167</th>\n",
       "      <td>住户收入中位数^3 平均房间数目</td>\n",
       "      <td>-0.00119784</td>\n",
       "    </tr>\n",
       "    <tr>\n",
       "      <th>314</th>\n",
       "      <td>房屋使用年代中位数 平均房间数目^2 平均卧室数目</td>\n",
       "      <td>-0.00119646</td>\n",
       "    </tr>\n",
       "    <tr>\n",
       "      <th>362</th>\n",
       "      <td>房屋使用年代中位数 平均入住率 街区的纬度^2</td>\n",
       "      <td>-0.0011675</td>\n",
       "    </tr>\n",
       "    <tr>\n",
       "      <th>247</th>\n",
       "      <td>住户收入中位数 平均房间数目 街区的纬度^2</td>\n",
       "      <td>-0.0010774</td>\n",
       "    </tr>\n",
       "    <tr>\n",
       "      <th>276</th>\n",
       "      <td>住户收入中位数 平均入住率^2 街区的纬度</td>\n",
       "      <td>-0.00106708</td>\n",
       "    </tr>\n",
       "    <tr>\n",
       "      <th>175</th>\n",
       "      <td>住户收入中位数^2 房屋使用年代中位数 平均卧室数目</td>\n",
       "      <td>-0.0010324</td>\n",
       "    </tr>\n",
       "    <tr>\n",
       "      <th>493</th>\n",
       "      <td>街区的纬度 街区的经度^3</td>\n",
       "      <td>-0.00101745</td>\n",
       "    </tr>\n",
       "    <tr>\n",
       "      <th>378</th>\n",
       "      <td>平均房间数目^2 平均卧室数目 街区的纬度</td>\n",
       "      <td>-0.000979124</td>\n",
       "    </tr>\n",
       "    <tr>\n",
       "      <th>73</th>\n",
       "      <td>住户收入中位数 街区人口 街区的纬度</td>\n",
       "      <td>-0.00095721</td>\n",
       "    </tr>\n",
       "    <tr>\n",
       "      <th>107</th>\n",
       "      <td>房屋使用年代中位数 街区的纬度 街区的经度</td>\n",
       "      <td>-0.00095696</td>\n",
       "    </tr>\n",
       "    <tr>\n",
       "      <th>216</th>\n",
       "      <td>住户收入中位数 房屋使用年代中位数 平均卧室数目 平均入住率</td>\n",
       "      <td>-0.000885929</td>\n",
       "    </tr>\n",
       "    <tr>\n",
       "      <th>245</th>\n",
       "      <td>住户收入中位数 平均房间数目 平均入住率 街区的纬度</td>\n",
       "      <td>-0.000804217</td>\n",
       "    </tr>\n",
       "    <tr>\n",
       "      <th>423</th>\n",
       "      <td>平均房间数目 街区的纬度 街区的经度^2</td>\n",
       "      <td>-0.00077767</td>\n",
       "    </tr>\n",
       "    <tr>\n",
       "      <th>20</th>\n",
       "      <td>房屋使用年代中位数 街区人口</td>\n",
       "      <td>-0.000758175</td>\n",
       "    </tr>\n",
       "    <tr>\n",
       "      <th>384</th>\n",
       "      <td>平均房间数目^2 平均入住率^2</td>\n",
       "      <td>-0.000748742</td>\n",
       "    </tr>\n",
       "    <tr>\n",
       "      <th>184</th>\n",
       "      <td>住户收入中位数^2 平均房间数目 街区的纬度</td>\n",
       "      <td>-0.000743744</td>\n",
       "    </tr>\n",
       "    <tr>\n",
       "      <th>...</th>\n",
       "      <td>...</td>\n",
       "      <td>...</td>\n",
       "    </tr>\n",
       "    <tr>\n",
       "      <th>438</th>\n",
       "      <td>平均卧室数目^2 街区的纬度 街区的经度</td>\n",
       "      <td>0.000810021</td>\n",
       "    </tr>\n",
       "    <tr>\n",
       "      <th>282</th>\n",
       "      <td>住户收入中位数 街区的纬度^2 街区的经度</td>\n",
       "      <td>0.000810386</td>\n",
       "    </tr>\n",
       "    <tr>\n",
       "      <th>86</th>\n",
       "      <td>房屋使用年代中位数^2 街区的纬度</td>\n",
       "      <td>0.000821363</td>\n",
       "    </tr>\n",
       "    <tr>\n",
       "      <th>347</th>\n",
       "      <td>房屋使用年代中位数 平均卧室数目 街区的纬度 街区的经度</td>\n",
       "      <td>0.000836756</td>\n",
       "    </tr>\n",
       "    <tr>\n",
       "      <th>372</th>\n",
       "      <td>平均房间数目^3 平均入住率</td>\n",
       "      <td>0.000837848</td>\n",
       "    </tr>\n",
       "    <tr>\n",
       "      <th>415</th>\n",
       "      <td>平均房间数目 平均入住率^3</td>\n",
       "      <td>0.000901241</td>\n",
       "    </tr>\n",
       "    <tr>\n",
       "      <th>385</th>\n",
       "      <td>平均房间数目^2 平均入住率 街区的纬度</td>\n",
       "      <td>0.00091968</td>\n",
       "    </tr>\n",
       "    <tr>\n",
       "      <th>298</th>\n",
       "      <td>房屋使用年代中位数^2 平均卧室数目^2</td>\n",
       "      <td>0.000934636</td>\n",
       "    </tr>\n",
       "    <tr>\n",
       "      <th>153</th>\n",
       "      <td>街区人口 街区的纬度 街区的经度</td>\n",
       "      <td>0.000959096</td>\n",
       "    </tr>\n",
       "    <tr>\n",
       "      <th>281</th>\n",
       "      <td>住户收入中位数 街区的纬度^3</td>\n",
       "      <td>0.000975169</td>\n",
       "    </tr>\n",
       "    <tr>\n",
       "      <th>85</th>\n",
       "      <td>房屋使用年代中位数^2 平均入住率</td>\n",
       "      <td>0.00101239</td>\n",
       "    </tr>\n",
       "    <tr>\n",
       "      <th>429</th>\n",
       "      <td>平均卧室数目^3 街区的经度</td>\n",
       "      <td>0.0010883</td>\n",
       "    </tr>\n",
       "    <tr>\n",
       "      <th>122</th>\n",
       "      <td>平均房间数目 街区人口 街区的纬度</td>\n",
       "      <td>0.00109372</td>\n",
       "    </tr>\n",
       "    <tr>\n",
       "      <th>211</th>\n",
       "      <td>住户收入中位数 房屋使用年代中位数 平均房间数目 平均入住率</td>\n",
       "      <td>0.00110703</td>\n",
       "    </tr>\n",
       "    <tr>\n",
       "      <th>95</th>\n",
       "      <td>房屋使用年代中位数 平均卧室数目 街区人口</td>\n",
       "      <td>0.00114674</td>\n",
       "    </tr>\n",
       "    <tr>\n",
       "      <th>65</th>\n",
       "      <td>住户收入中位数 平均房间数目 街区的经度</td>\n",
       "      <td>0.00114697</td>\n",
       "    </tr>\n",
       "    <tr>\n",
       "      <th>163</th>\n",
       "      <td>街区的纬度 街区的经度^2</td>\n",
       "      <td>0.00116717</td>\n",
       "    </tr>\n",
       "    <tr>\n",
       "      <th>209</th>\n",
       "      <td>住户收入中位数 房屋使用年代中位数 平均房间数目 平均卧室数目</td>\n",
       "      <td>0.00117443</td>\n",
       "    </tr>\n",
       "    <tr>\n",
       "      <th>431</th>\n",
       "      <td>平均卧室数目^2 街区人口 平均入住率</td>\n",
       "      <td>0.00120959</td>\n",
       "    </tr>\n",
       "    <tr>\n",
       "      <th>329</th>\n",
       "      <td>房屋使用年代中位数 平均房间数目 平均入住率 街区的纬度</td>\n",
       "      <td>0.00121214</td>\n",
       "    </tr>\n",
       "    <tr>\n",
       "      <th>334</th>\n",
       "      <td>房屋使用年代中位数 平均卧室数目^3</td>\n",
       "      <td>0.00121639</td>\n",
       "    </tr>\n",
       "    <tr>\n",
       "      <th>254</th>\n",
       "      <td>住户收入中位数 平均卧室数目^2 街区的经度</td>\n",
       "      <td>0.00131592</td>\n",
       "    </tr>\n",
       "    <tr>\n",
       "      <th>72</th>\n",
       "      <td>住户收入中位数 街区人口 平均入住率</td>\n",
       "      <td>0.00138711</td>\n",
       "    </tr>\n",
       "    <tr>\n",
       "      <th>322</th>\n",
       "      <td>房屋使用年代中位数 平均房间数目 平均卧室数目 街区的纬度</td>\n",
       "      <td>0.00144316</td>\n",
       "    </tr>\n",
       "    <tr>\n",
       "      <th>152</th>\n",
       "      <td>街区人口 街区的纬度^2</td>\n",
       "      <td>0.00159151</td>\n",
       "    </tr>\n",
       "    <tr>\n",
       "      <th>38</th>\n",
       "      <td>街区人口 街区的经度</td>\n",
       "      <td>0.00208526</td>\n",
       "    </tr>\n",
       "    <tr>\n",
       "      <th>183</th>\n",
       "      <td>住户收入中位数^2 平均房间数目 平均入住率</td>\n",
       "      <td>0.00209967</td>\n",
       "    </tr>\n",
       "    <tr>\n",
       "      <th>319</th>\n",
       "      <td>房屋使用年代中位数 平均房间数目 平均卧室数目^2</td>\n",
       "      <td>0.00245452</td>\n",
       "    </tr>\n",
       "    <tr>\n",
       "      <th>168</th>\n",
       "      <td>住户收入中位数^3 平均卧室数目</td>\n",
       "      <td>0.00288356</td>\n",
       "    </tr>\n",
       "    <tr>\n",
       "      <th>343</th>\n",
       "      <td>房屋使用年代中位数 平均卧室数目 平均入住率^2</td>\n",
       "      <td>0.00418137</td>\n",
       "    </tr>\n",
       "  </tbody>\n",
       "</table>\n",
       "<p>495 rows × 2 columns</p>\n",
       "</div>"
      ],
      "text/plain": [
       "                             feature         coef\n",
       "491                    街区的纬度^3 街区的经度   -0.0107653\n",
       "490                          街区的纬度^4  -0.00870956\n",
       "492                  街区的纬度^2 街区的经度^2  -0.00498464\n",
       "377            平均房间数目^2 平均卧室数目 平均入住率  -0.00373604\n",
       "421                   平均房间数目 街区的纬度^3  -0.00256639\n",
       "436             平均卧室数目^2 平均入住率 街区的经度  -0.00255293\n",
       "422             平均房间数目 街区的纬度^2 街区的经度  -0.00244336\n",
       "105            房屋使用年代中位数 平均入住率 街区的经度  -0.00214145\n",
       "244           住户收入中位数 平均房间数目 平均入住率^2  -0.00205704\n",
       "450                   平均卧室数目 平均入住率^3  -0.00198588\n",
       "195                住户收入中位数^2 平均入住率^2  -0.00186295\n",
       "196            住户收入中位数^2 平均入住率 街区的纬度  -0.00183232\n",
       "150                 街区人口 平均入住率 街区的纬度    -0.001602\n",
       "392            平均房间数目 平均卧室数目^2 平均入住率  -0.00132155\n",
       "167                 住户收入中位数^3 平均房间数目  -0.00119784\n",
       "314        房屋使用年代中位数 平均房间数目^2 平均卧室数目  -0.00119646\n",
       "362          房屋使用年代中位数 平均入住率 街区的纬度^2   -0.0011675\n",
       "247           住户收入中位数 平均房间数目 街区的纬度^2   -0.0010774\n",
       "276            住户收入中位数 平均入住率^2 街区的纬度  -0.00106708\n",
       "175       住户收入中位数^2 房屋使用年代中位数 平均卧室数目   -0.0010324\n",
       "493                    街区的纬度 街区的经度^3  -0.00101745\n",
       "378            平均房间数目^2 平均卧室数目 街区的纬度 -0.000979124\n",
       "73                住户收入中位数 街区人口 街区的纬度  -0.00095721\n",
       "107            房屋使用年代中位数 街区的纬度 街区的经度  -0.00095696\n",
       "216   住户收入中位数 房屋使用年代中位数 平均卧室数目 平均入住率 -0.000885929\n",
       "245       住户收入中位数 平均房间数目 平均入住率 街区的纬度 -0.000804217\n",
       "423             平均房间数目 街区的纬度 街区的经度^2  -0.00077767\n",
       "20                    房屋使用年代中位数 街区人口 -0.000758175\n",
       "384                 平均房间数目^2 平均入住率^2 -0.000748742\n",
       "184           住户收入中位数^2 平均房间数目 街区的纬度 -0.000743744\n",
       "..                               ...          ...\n",
       "438             平均卧室数目^2 街区的纬度 街区的经度  0.000810021\n",
       "282            住户收入中位数 街区的纬度^2 街区的经度  0.000810386\n",
       "86                 房屋使用年代中位数^2 街区的纬度  0.000821363\n",
       "347     房屋使用年代中位数 平均卧室数目 街区的纬度 街区的经度  0.000836756\n",
       "372                   平均房间数目^3 平均入住率  0.000837848\n",
       "415                   平均房间数目 平均入住率^3  0.000901241\n",
       "385             平均房间数目^2 平均入住率 街区的纬度   0.00091968\n",
       "298             房屋使用年代中位数^2 平均卧室数目^2  0.000934636\n",
       "153                 街区人口 街区的纬度 街区的经度  0.000959096\n",
       "281                  住户收入中位数 街区的纬度^3  0.000975169\n",
       "85                 房屋使用年代中位数^2 平均入住率   0.00101239\n",
       "429                   平均卧室数目^3 街区的经度    0.0010883\n",
       "122                平均房间数目 街区人口 街区的纬度   0.00109372\n",
       "211   住户收入中位数 房屋使用年代中位数 平均房间数目 平均入住率   0.00110703\n",
       "95             房屋使用年代中位数 平均卧室数目 街区人口   0.00114674\n",
       "65              住户收入中位数 平均房间数目 街区的经度   0.00114697\n",
       "163                    街区的纬度 街区的经度^2   0.00116717\n",
       "209  住户收入中位数 房屋使用年代中位数 平均房间数目 平均卧室数目   0.00117443\n",
       "431              平均卧室数目^2 街区人口 平均入住率   0.00120959\n",
       "329     房屋使用年代中位数 平均房间数目 平均入住率 街区的纬度   0.00121214\n",
       "334               房屋使用年代中位数 平均卧室数目^3   0.00121639\n",
       "254           住户收入中位数 平均卧室数目^2 街区的经度   0.00131592\n",
       "72                住户收入中位数 街区人口 平均入住率   0.00138711\n",
       "322    房屋使用年代中位数 平均房间数目 平均卧室数目 街区的纬度   0.00144316\n",
       "152                     街区人口 街区的纬度^2   0.00159151\n",
       "38                        街区人口 街区的经度   0.00208526\n",
       "183           住户收入中位数^2 平均房间数目 平均入住率   0.00209967\n",
       "319        房屋使用年代中位数 平均房间数目 平均卧室数目^2   0.00245452\n",
       "168                 住户收入中位数^3 平均卧室数目   0.00288356\n",
       "343         房屋使用年代中位数 平均卧室数目 平均入住率^2   0.00418137\n",
       "\n",
       "[495 rows x 2 columns]"
      ]
     },
     "execution_count": 85,
     "metadata": {},
     "output_type": "execute_result"
    }
   ],
   "source": [
    "coeff.sort_values(by=\"coef\")"
   ]
  },
  {
   "cell_type": "code",
   "execution_count": 73,
   "metadata": {},
   "outputs": [],
   "source": [
    "#顺便可以查看一下多项式变化之后，模型的拟合效果如何了\n",
    "poly = PolynomialFeatures(degree=4).fit(X,y)\n",
    "X_ = poly.transform(X)"
   ]
  },
  {
   "cell_type": "code",
   "execution_count": 74,
   "metadata": {},
   "outputs": [
    {
     "data": {
      "text/plain": [
       "0.6062326851998051"
      ]
     },
     "execution_count": 74,
     "metadata": {},
     "output_type": "execute_result"
    }
   ],
   "source": [
    "reg = LinearRegression().fit(X,y)\n",
    "reg.score(X,y)"
   ]
  },
  {
   "cell_type": "code",
   "execution_count": 75,
   "metadata": {},
   "outputs": [
    {
     "name": "stdout",
     "output_type": "stream",
     "text": [
      "R2:0.7450320303671267\n",
      "time:1.1120293140411377\n"
     ]
    }
   ],
   "source": [
    "from time import time\n",
    "time0 = time()\n",
    "reg_ = LinearRegression().fit(X_,y)\n",
    "print(\"R2:{}\".format(reg_.score(X_,y)))\n",
    "print(\"time:{}\".format(time()-time0))"
   ]
  },
  {
   "cell_type": "code",
   "execution_count": 86,
   "metadata": {},
   "outputs": [
    {
     "name": "stdout",
     "output_type": "stream",
     "text": [
      "R2:0.9742884451820468\n",
      "time:15.500584602355957\n"
     ]
    }
   ],
   "source": [
    "#假设使用其他模型？\n",
    "from sklearn.ensemble import RandomForestRegressor as RFR\n",
    "\n",
    "time0 = time()\n",
    "print(\"R2:{}\".format(RFR(n_estimators=100).fit(X,y).score(X,y)))\n",
    "print(\"time:{}\".format(time()-time0))"
   ]
  },
  {
   "cell_type": "code",
   "execution_count": null,
   "metadata": {},
   "outputs": [],
   "source": []
  }
 ],
 "metadata": {
  "kernelspec": {
   "display_name": "Python 3",
   "language": "python",
   "name": "python3"
  },
  "language_info": {
   "codemirror_mode": {
    "name": "ipython",
    "version": 3
   },
   "file_extension": ".py",
   "mimetype": "text/x-python",
   "name": "python",
   "nbconvert_exporter": "python",
   "pygments_lexer": "ipython3",
   "version": "3.7.1"
  }
 },
 "nbformat": 4,
 "nbformat_minor": 2
}
