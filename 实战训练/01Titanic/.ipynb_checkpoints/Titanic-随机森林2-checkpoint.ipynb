{
 "cells": [
  {
   "cell_type": "code",
   "execution_count": 1,
   "metadata": {
    "_cell_guid": "b1076dfc-b9ad-4769-8c92-a6c4dae69d19",
    "_uuid": "8f2839f25d086af736a60e9eeb907d3b93b6e0e5",
    "execution": {
     "iopub.execute_input": "2021-01-11T13:41:45.344473Z",
     "iopub.status.busy": "2021-01-11T13:41:45.343343Z",
     "iopub.status.idle": "2021-01-11T13:41:45.350953Z",
     "shell.execute_reply": "2021-01-11T13:41:45.349995Z"
    },
    "papermill": {
     "duration": 0.03647,
     "end_time": "2021-01-11T13:41:45.351131",
     "exception": false,
     "start_time": "2021-01-11T13:41:45.314661",
     "status": "completed"
    },
    "tags": []
   },
   "outputs": [
    {
     "name": "stdout",
     "output_type": "stream",
     "text": [
      "/kaggle/input/titanic/train.csv\n",
      "/kaggle/input/titanic/test.csv\n",
      "/kaggle/input/titanic/gender_submission.csv\n"
     ]
    }
   ],
   "source": [
    "# This Python 3 environment comes with many helpful analytics libraries installed\n",
    "# It is defined by the kaggle/python Docker image: https://github.com/kaggle/docker-python\n",
    "# For example, here's several helpful packages to load\n",
    "\n",
    "import numpy as np # linear algebra\n",
    "import pandas as pd # data processing, CSV file I/O (e.g. pd.read_csv)\n",
    "\n",
    "# Input data files are available in the read-only \"../input/\" directory\n",
    "# For example, running this (by clicking run or pressing Shift+Enter) will list all files under the input directory\n",
    "\n",
    "import os\n",
    "for dirname, _, filenames in os.walk('/kaggle/input'):\n",
    "    for filename in filenames:\n",
    "        print(os.path.join(dirname, filename))\n",
    "\n",
    "# You can write up to 20GB to the current directory (/kaggle/working/) that gets preserved as output when you create a version using \"Save & Run All\" \n",
    "# You can also write temporary files to /kaggle/temp/, but they won't be saved outside of the current session"
   ]
  },
  {
   "cell_type": "markdown",
   "metadata": {
    "papermill": {
     "duration": 0.019573,
     "end_time": "2021-01-11T13:41:45.392131",
     "exception": false,
     "start_time": "2021-01-11T13:41:45.372558",
     "status": "completed"
    },
    "tags": []
   },
   "source": [
    "# 使用随机森林模型"
   ]
  },
  {
   "cell_type": "markdown",
   "metadata": {
    "papermill": {
     "duration": 0.020742,
     "end_time": "2021-01-11T13:41:45.432408",
     "exception": false,
     "start_time": "2021-01-11T13:41:45.411666",
     "status": "completed"
    },
    "tags": []
   },
   "source": [
    "## 随机森林算法2\n",
    "- 上面一个版本提交的记过准确率为0.76315，比使用决策树算法还低一点\n",
    "- 但是我再训练集上测试效果为0.838，出现了过拟合情况\n",
    "- 而使用决策数算法训练集的测试结果为0.80到0.81\n",
    "- 这就更确定了模型出现了过拟合\n",
    "---\n",
    "- 而之前提到的两个参数max_sample_leaf和max_sample_split可以剪枝，来降低模型复杂度\n",
    "- 那么我再来调一下这两个参数"
   ]
  },
  {
   "cell_type": "code",
   "execution_count": 2,
   "metadata": {
    "_cell_guid": "79c7e3d0-c299-4dcb-8224-4455121ee9b0",
    "_uuid": "d629ff2d2480ee46fbb7e2d37f6b5fab8052498a",
    "execution": {
     "iopub.execute_input": "2021-01-11T13:41:45.478902Z",
     "iopub.status.busy": "2021-01-11T13:41:45.478190Z",
     "iopub.status.idle": "2021-01-11T13:41:46.990899Z",
     "shell.execute_reply": "2021-01-11T13:41:46.989545Z"
    },
    "papermill": {
     "duration": 1.538665,
     "end_time": "2021-01-11T13:41:46.991053",
     "exception": false,
     "start_time": "2021-01-11T13:41:45.452388",
     "status": "completed"
    },
    "tags": []
   },
   "outputs": [],
   "source": [
    "import numpy as np\n",
    "import pandas as pd\n",
    "import matplotlib.pyplot as plt\n",
    "\n",
    "from sklearn.ensemble import RandomForestClassifier\n",
    "\n",
    "from sklearn.model_selection import train_test_split\n",
    "from sklearn.model_selection import GridSearchCV\n",
    "from sklearn.model_selection import cross_val_score"
   ]
  },
  {
   "cell_type": "code",
   "execution_count": 3,
   "metadata": {
    "execution": {
     "iopub.execute_input": "2021-01-11T13:41:47.035376Z",
     "iopub.status.busy": "2021-01-11T13:41:47.034268Z",
     "iopub.status.idle": "2021-01-11T13:41:47.092069Z",
     "shell.execute_reply": "2021-01-11T13:41:47.091078Z"
    },
    "papermill": {
     "duration": 0.081049,
     "end_time": "2021-01-11T13:41:47.092203",
     "exception": false,
     "start_time": "2021-01-11T13:41:47.011154",
     "status": "completed"
    },
    "tags": []
   },
   "outputs": [
    {
     "data": {
      "text/html": [
       "<div>\n",
       "<style scoped>\n",
       "    .dataframe tbody tr th:only-of-type {\n",
       "        vertical-align: middle;\n",
       "    }\n",
       "\n",
       "    .dataframe tbody tr th {\n",
       "        vertical-align: top;\n",
       "    }\n",
       "\n",
       "    .dataframe thead th {\n",
       "        text-align: right;\n",
       "    }\n",
       "</style>\n",
       "<table border=\"1\" class=\"dataframe\">\n",
       "  <thead>\n",
       "    <tr style=\"text-align: right;\">\n",
       "      <th></th>\n",
       "      <th>PassengerId</th>\n",
       "      <th>Survived</th>\n",
       "      <th>Pclass</th>\n",
       "      <th>Name</th>\n",
       "      <th>Sex</th>\n",
       "      <th>Age</th>\n",
       "      <th>SibSp</th>\n",
       "      <th>Parch</th>\n",
       "      <th>Ticket</th>\n",
       "      <th>Fare</th>\n",
       "      <th>Cabin</th>\n",
       "      <th>Embarked</th>\n",
       "    </tr>\n",
       "  </thead>\n",
       "  <tbody>\n",
       "    <tr>\n",
       "      <th>0</th>\n",
       "      <td>1</td>\n",
       "      <td>0</td>\n",
       "      <td>3</td>\n",
       "      <td>Braund, Mr. Owen Harris</td>\n",
       "      <td>male</td>\n",
       "      <td>22.0</td>\n",
       "      <td>1</td>\n",
       "      <td>0</td>\n",
       "      <td>A/5 21171</td>\n",
       "      <td>7.2500</td>\n",
       "      <td>NaN</td>\n",
       "      <td>S</td>\n",
       "    </tr>\n",
       "    <tr>\n",
       "      <th>1</th>\n",
       "      <td>2</td>\n",
       "      <td>1</td>\n",
       "      <td>1</td>\n",
       "      <td>Cumings, Mrs. John Bradley (Florence Briggs Th...</td>\n",
       "      <td>female</td>\n",
       "      <td>38.0</td>\n",
       "      <td>1</td>\n",
       "      <td>0</td>\n",
       "      <td>PC 17599</td>\n",
       "      <td>71.2833</td>\n",
       "      <td>C85</td>\n",
       "      <td>C</td>\n",
       "    </tr>\n",
       "    <tr>\n",
       "      <th>2</th>\n",
       "      <td>3</td>\n",
       "      <td>1</td>\n",
       "      <td>3</td>\n",
       "      <td>Heikkinen, Miss. Laina</td>\n",
       "      <td>female</td>\n",
       "      <td>26.0</td>\n",
       "      <td>0</td>\n",
       "      <td>0</td>\n",
       "      <td>STON/O2. 3101282</td>\n",
       "      <td>7.9250</td>\n",
       "      <td>NaN</td>\n",
       "      <td>S</td>\n",
       "    </tr>\n",
       "    <tr>\n",
       "      <th>3</th>\n",
       "      <td>4</td>\n",
       "      <td>1</td>\n",
       "      <td>1</td>\n",
       "      <td>Futrelle, Mrs. Jacques Heath (Lily May Peel)</td>\n",
       "      <td>female</td>\n",
       "      <td>35.0</td>\n",
       "      <td>1</td>\n",
       "      <td>0</td>\n",
       "      <td>113803</td>\n",
       "      <td>53.1000</td>\n",
       "      <td>C123</td>\n",
       "      <td>S</td>\n",
       "    </tr>\n",
       "    <tr>\n",
       "      <th>4</th>\n",
       "      <td>5</td>\n",
       "      <td>0</td>\n",
       "      <td>3</td>\n",
       "      <td>Allen, Mr. William Henry</td>\n",
       "      <td>male</td>\n",
       "      <td>35.0</td>\n",
       "      <td>0</td>\n",
       "      <td>0</td>\n",
       "      <td>373450</td>\n",
       "      <td>8.0500</td>\n",
       "      <td>NaN</td>\n",
       "      <td>S</td>\n",
       "    </tr>\n",
       "  </tbody>\n",
       "</table>\n",
       "</div>"
      ],
      "text/plain": [
       "   PassengerId  Survived  Pclass  \\\n",
       "0            1         0       3   \n",
       "1            2         1       1   \n",
       "2            3         1       3   \n",
       "3            4         1       1   \n",
       "4            5         0       3   \n",
       "\n",
       "                                                Name     Sex   Age  SibSp  \\\n",
       "0                            Braund, Mr. Owen Harris    male  22.0      1   \n",
       "1  Cumings, Mrs. John Bradley (Florence Briggs Th...  female  38.0      1   \n",
       "2                             Heikkinen, Miss. Laina  female  26.0      0   \n",
       "3       Futrelle, Mrs. Jacques Heath (Lily May Peel)  female  35.0      1   \n",
       "4                           Allen, Mr. William Henry    male  35.0      0   \n",
       "\n",
       "   Parch            Ticket     Fare Cabin Embarked  \n",
       "0      0         A/5 21171   7.2500   NaN        S  \n",
       "1      0          PC 17599  71.2833   C85        C  \n",
       "2      0  STON/O2. 3101282   7.9250   NaN        S  \n",
       "3      0            113803  53.1000  C123        S  \n",
       "4      0            373450   8.0500   NaN        S  "
      ]
     },
     "execution_count": 3,
     "metadata": {},
     "output_type": "execute_result"
    }
   ],
   "source": [
    "train = pd.read_csv(\"/kaggle/input/titanic/train.csv\")\n",
    "test = pd.read_csv(\"/kaggle/input/titanic/test.csv\")\n",
    "train.head()"
   ]
  },
  {
   "cell_type": "code",
   "execution_count": 4,
   "metadata": {
    "execution": {
     "iopub.execute_input": "2021-01-11T13:41:47.150229Z",
     "iopub.status.busy": "2021-01-11T13:41:47.149536Z",
     "iopub.status.idle": "2021-01-11T13:41:47.153269Z",
     "shell.execute_reply": "2021-01-11T13:41:47.152764Z"
    },
    "papermill": {
     "duration": 0.040658,
     "end_time": "2021-01-11T13:41:47.153403",
     "exception": false,
     "start_time": "2021-01-11T13:41:47.112745",
     "status": "completed"
    },
    "tags": []
   },
   "outputs": [
    {
     "name": "stdout",
     "output_type": "stream",
     "text": [
      "<class 'pandas.core.frame.DataFrame'>\n",
      "RangeIndex: 891 entries, 0 to 890\n",
      "Data columns (total 12 columns):\n",
      " #   Column       Non-Null Count  Dtype  \n",
      "---  ------       --------------  -----  \n",
      " 0   PassengerId  891 non-null    int64  \n",
      " 1   Survived     891 non-null    int64  \n",
      " 2   Pclass       891 non-null    int64  \n",
      " 3   Name         891 non-null    object \n",
      " 4   Sex          891 non-null    object \n",
      " 5   Age          714 non-null    float64\n",
      " 6   SibSp        891 non-null    int64  \n",
      " 7   Parch        891 non-null    int64  \n",
      " 8   Ticket       891 non-null    object \n",
      " 9   Fare         891 non-null    float64\n",
      " 10  Cabin        204 non-null    object \n",
      " 11  Embarked     889 non-null    object \n",
      "dtypes: float64(2), int64(5), object(5)\n",
      "memory usage: 83.7+ KB\n"
     ]
    }
   ],
   "source": [
    "train.info()"
   ]
  },
  {
   "cell_type": "code",
   "execution_count": 5,
   "metadata": {
    "execution": {
     "iopub.execute_input": "2021-01-11T13:41:47.212709Z",
     "iopub.status.busy": "2021-01-11T13:41:47.211636Z",
     "iopub.status.idle": "2021-01-11T13:41:47.224140Z",
     "shell.execute_reply": "2021-01-11T13:41:47.225076Z"
    },
    "papermill": {
     "duration": 0.050209,
     "end_time": "2021-01-11T13:41:47.225331",
     "exception": false,
     "start_time": "2021-01-11T13:41:47.175122",
     "status": "completed"
    },
    "tags": []
   },
   "outputs": [
    {
     "name": "stdout",
     "output_type": "stream",
     "text": [
      "<class 'pandas.core.frame.DataFrame'>\n",
      "RangeIndex: 418 entries, 0 to 417\n",
      "Data columns (total 11 columns):\n",
      " #   Column       Non-Null Count  Dtype  \n",
      "---  ------       --------------  -----  \n",
      " 0   PassengerId  418 non-null    int64  \n",
      " 1   Pclass       418 non-null    int64  \n",
      " 2   Name         418 non-null    object \n",
      " 3   Sex          418 non-null    object \n",
      " 4   Age          332 non-null    float64\n",
      " 5   SibSp        418 non-null    int64  \n",
      " 6   Parch        418 non-null    int64  \n",
      " 7   Ticket       418 non-null    object \n",
      " 8   Fare         417 non-null    float64\n",
      " 9   Cabin        91 non-null     object \n",
      " 10  Embarked     418 non-null    object \n",
      "dtypes: float64(2), int64(4), object(5)\n",
      "memory usage: 36.0+ KB\n"
     ]
    }
   ],
   "source": [
    "# 注意，Fare特征在train不缺，但在test中缺一个\n",
    "test.info()"
   ]
  },
  {
   "cell_type": "code",
   "execution_count": 6,
   "metadata": {
    "execution": {
     "iopub.execute_input": "2021-01-11T13:41:47.284335Z",
     "iopub.status.busy": "2021-01-11T13:41:47.283240Z",
     "iopub.status.idle": "2021-01-11T13:41:47.286589Z",
     "shell.execute_reply": "2021-01-11T13:41:47.286036Z"
    },
    "papermill": {
     "duration": 0.034665,
     "end_time": "2021-01-11T13:41:47.286723",
     "exception": false,
     "start_time": "2021-01-11T13:41:47.252058",
     "status": "completed"
    },
    "tags": []
   },
   "outputs": [],
   "source": [
    "# 筛选出有用的特征\n",
    "predictors = [\"Pclass\", \"Sex\", \"Age\", \"SibSp\", \"Parch\", \"Fare\", \"Embarked\"]\n",
    "\n",
    "#对缺失值进行处理\n",
    "train[\"Age\"] = train[\"Age\"].fillna(train[\"Age\"].median())\n",
    "test[\"Age\"] = test[\"Age\"].fillna(test[\"Age\"].median())\n",
    "test[\"Fare\"] = test[\"Fare\"].fillna(test[\"Fare\"].median())"
   ]
  },
  {
   "cell_type": "code",
   "execution_count": 7,
   "metadata": {
    "execution": {
     "iopub.execute_input": "2021-01-11T13:41:47.351384Z",
     "iopub.status.busy": "2021-01-11T13:41:47.350313Z",
     "iopub.status.idle": "2021-01-11T13:41:47.354004Z",
     "shell.execute_reply": "2021-01-11T13:41:47.353358Z"
    },
    "papermill": {
     "duration": 0.045471,
     "end_time": "2021-01-11T13:41:47.354116",
     "exception": false,
     "start_time": "2021-01-11T13:41:47.308645",
     "status": "completed"
    },
    "tags": []
   },
   "outputs": [],
   "source": [
    "# 将字符转换为数字\n",
    "train.loc[train[\"Sex\"]==\"male\",\"Sex\"] = 0\n",
    "train.loc[train[\"Sex\"]==\"female\",\"Sex\"] = 1\n",
    "\n",
    "test.loc[test[\"Sex\"]==\"male\",\"Sex\"] = 0\n",
    "test.loc[test[\"Sex\"]==\"female\",\"Sex\"] = 1\n",
    "\n",
    "\n",
    "#将上船地点转换为数字,缺失值用最多的“S”填充\n",
    "\n",
    "train[\"Embarked\"] = train[\"Embarked\"].fillna('S')\n",
    "train.loc[train[\"Embarked\"] == \"S\", \"Embarked\"] = 0\n",
    "train.loc[train[\"Embarked\"] == \"C\", \"Embarked\"] = 1\n",
    "train.loc[train[\"Embarked\"] == \"Q\", \"Embarked\"] = 2\n",
    "\n",
    "test.loc[test[\"Embarked\"] == \"S\", \"Embarked\"] = 0\n",
    "test.loc[test[\"Embarked\"] == \"C\", \"Embarked\"] = 1\n",
    "test.loc[test[\"Embarked\"] == \"Q\", \"Embarked\"] = 2"
   ]
  },
  {
   "cell_type": "code",
   "execution_count": 8,
   "metadata": {
    "execution": {
     "iopub.execute_input": "2021-01-11T13:41:47.405247Z",
     "iopub.status.busy": "2021-01-11T13:41:47.404338Z",
     "iopub.status.idle": "2021-01-11T13:41:47.409952Z",
     "shell.execute_reply": "2021-01-11T13:41:47.409076Z"
    },
    "papermill": {
     "duration": 0.034311,
     "end_time": "2021-01-11T13:41:47.410111",
     "exception": false,
     "start_time": "2021-01-11T13:41:47.375800",
     "status": "completed"
    },
    "tags": []
   },
   "outputs": [
    {
     "name": "stdout",
     "output_type": "stream",
     "text": [
      "[0 1 2]\n",
      "[2 0 1]\n"
     ]
    }
   ],
   "source": [
    "print(train[\"Embarked\"].unique())\n",
    "print(test[\"Embarked\"].unique())"
   ]
  },
  {
   "cell_type": "code",
   "execution_count": 9,
   "metadata": {
    "execution": {
     "iopub.execute_input": "2021-01-11T13:41:47.474313Z",
     "iopub.status.busy": "2021-01-11T13:41:47.473552Z",
     "iopub.status.idle": "2021-01-11T13:41:47.478658Z",
     "shell.execute_reply": "2021-01-11T13:41:47.477952Z"
    },
    "papermill": {
     "duration": 0.04544,
     "end_time": "2021-01-11T13:41:47.478794",
     "exception": false,
     "start_time": "2021-01-11T13:41:47.433354",
     "status": "completed"
    },
    "tags": []
   },
   "outputs": [
    {
     "data": {
      "text/html": [
       "<div>\n",
       "<style scoped>\n",
       "    .dataframe tbody tr th:only-of-type {\n",
       "        vertical-align: middle;\n",
       "    }\n",
       "\n",
       "    .dataframe tbody tr th {\n",
       "        vertical-align: top;\n",
       "    }\n",
       "\n",
       "    .dataframe thead th {\n",
       "        text-align: right;\n",
       "    }\n",
       "</style>\n",
       "<table border=\"1\" class=\"dataframe\">\n",
       "  <thead>\n",
       "    <tr style=\"text-align: right;\">\n",
       "      <th></th>\n",
       "      <th>Pclass</th>\n",
       "      <th>Sex</th>\n",
       "      <th>Age</th>\n",
       "      <th>SibSp</th>\n",
       "      <th>Parch</th>\n",
       "      <th>Fare</th>\n",
       "      <th>Embarked</th>\n",
       "    </tr>\n",
       "  </thead>\n",
       "  <tbody>\n",
       "    <tr>\n",
       "      <th>0</th>\n",
       "      <td>3</td>\n",
       "      <td>0</td>\n",
       "      <td>22.0</td>\n",
       "      <td>1</td>\n",
       "      <td>0</td>\n",
       "      <td>7.2500</td>\n",
       "      <td>0</td>\n",
       "    </tr>\n",
       "    <tr>\n",
       "      <th>1</th>\n",
       "      <td>1</td>\n",
       "      <td>1</td>\n",
       "      <td>38.0</td>\n",
       "      <td>1</td>\n",
       "      <td>0</td>\n",
       "      <td>71.2833</td>\n",
       "      <td>1</td>\n",
       "    </tr>\n",
       "    <tr>\n",
       "      <th>2</th>\n",
       "      <td>3</td>\n",
       "      <td>1</td>\n",
       "      <td>26.0</td>\n",
       "      <td>0</td>\n",
       "      <td>0</td>\n",
       "      <td>7.9250</td>\n",
       "      <td>0</td>\n",
       "    </tr>\n",
       "    <tr>\n",
       "      <th>3</th>\n",
       "      <td>1</td>\n",
       "      <td>1</td>\n",
       "      <td>35.0</td>\n",
       "      <td>1</td>\n",
       "      <td>0</td>\n",
       "      <td>53.1000</td>\n",
       "      <td>0</td>\n",
       "    </tr>\n",
       "    <tr>\n",
       "      <th>4</th>\n",
       "      <td>3</td>\n",
       "      <td>0</td>\n",
       "      <td>35.0</td>\n",
       "      <td>0</td>\n",
       "      <td>0</td>\n",
       "      <td>8.0500</td>\n",
       "      <td>0</td>\n",
       "    </tr>\n",
       "    <tr>\n",
       "      <th>5</th>\n",
       "      <td>3</td>\n",
       "      <td>0</td>\n",
       "      <td>28.0</td>\n",
       "      <td>0</td>\n",
       "      <td>0</td>\n",
       "      <td>8.4583</td>\n",
       "      <td>2</td>\n",
       "    </tr>\n",
       "    <tr>\n",
       "      <th>6</th>\n",
       "      <td>1</td>\n",
       "      <td>0</td>\n",
       "      <td>54.0</td>\n",
       "      <td>0</td>\n",
       "      <td>0</td>\n",
       "      <td>51.8625</td>\n",
       "      <td>0</td>\n",
       "    </tr>\n",
       "    <tr>\n",
       "      <th>7</th>\n",
       "      <td>3</td>\n",
       "      <td>0</td>\n",
       "      <td>2.0</td>\n",
       "      <td>3</td>\n",
       "      <td>1</td>\n",
       "      <td>21.0750</td>\n",
       "      <td>0</td>\n",
       "    </tr>\n",
       "  </tbody>\n",
       "</table>\n",
       "</div>"
      ],
      "text/plain": [
       "   Pclass Sex   Age  SibSp  Parch     Fare Embarked\n",
       "0       3   0  22.0      1      0   7.2500        0\n",
       "1       1   1  38.0      1      0  71.2833        1\n",
       "2       3   1  26.0      0      0   7.9250        0\n",
       "3       1   1  35.0      1      0  53.1000        0\n",
       "4       3   0  35.0      0      0   8.0500        0\n",
       "5       3   0  28.0      0      0   8.4583        2\n",
       "6       1   0  54.0      0      0  51.8625        0\n",
       "7       3   0   2.0      3      1  21.0750        0"
      ]
     },
     "execution_count": 9,
     "metadata": {},
     "output_type": "execute_result"
    }
   ],
   "source": [
    "X = train[predictors]\n",
    "X.head(8)"
   ]
  },
  {
   "cell_type": "code",
   "execution_count": 10,
   "metadata": {
    "execution": {
     "iopub.execute_input": "2021-01-11T13:41:47.532528Z",
     "iopub.status.busy": "2021-01-11T13:41:47.531807Z",
     "iopub.status.idle": "2021-01-11T13:41:47.541910Z",
     "shell.execute_reply": "2021-01-11T13:41:47.541207Z"
    },
    "papermill": {
     "duration": 0.039691,
     "end_time": "2021-01-11T13:41:47.542062",
     "exception": false,
     "start_time": "2021-01-11T13:41:47.502371",
     "status": "completed"
    },
    "tags": []
   },
   "outputs": [
    {
     "data": {
      "text/plain": [
       "count    891.000000\n",
       "mean       0.383838\n",
       "std        0.486592\n",
       "min        0.000000\n",
       "25%        0.000000\n",
       "50%        0.000000\n",
       "75%        1.000000\n",
       "max        1.000000\n",
       "Name: Survived, dtype: float64"
      ]
     },
     "execution_count": 10,
     "metadata": {},
     "output_type": "execute_result"
    }
   ],
   "source": [
    "y=train[\"Survived\"]\n",
    "y.describe()"
   ]
  },
  {
   "cell_type": "code",
   "execution_count": 11,
   "metadata": {
    "execution": {
     "iopub.execute_input": "2021-01-11T13:41:47.595904Z",
     "iopub.status.busy": "2021-01-11T13:41:47.595177Z",
     "iopub.status.idle": "2021-01-11T13:41:49.061776Z",
     "shell.execute_reply": "2021-01-11T13:41:49.060973Z"
    },
    "papermill": {
     "duration": 1.496231,
     "end_time": "2021-01-11T13:41:49.061899",
     "exception": false,
     "start_time": "2021-01-11T13:41:47.565668",
     "status": "completed"
    },
    "tags": []
   },
   "outputs": [
    {
     "data": {
      "text/plain": [
       "0.8092883895131084"
      ]
     },
     "execution_count": 11,
     "metadata": {},
     "output_type": "execute_result"
    }
   ],
   "source": [
    "# 观察一下数据集在不调参数情况的效果\n",
    "rfc = RandomForestClassifier(n_estimators=50,random_state=90)\n",
    "\n",
    "score_pre = cross_val_score(rfc,X,y,cv=10).mean()\n",
    "\n",
    "score_pre"
   ]
  },
  {
   "cell_type": "code",
   "execution_count": 12,
   "metadata": {
    "execution": {
     "iopub.execute_input": "2021-01-11T13:41:49.122683Z",
     "iopub.status.busy": "2021-01-11T13:41:49.121596Z",
     "iopub.status.idle": "2021-01-11T13:43:00.069986Z",
     "shell.execute_reply": "2021-01-11T13:43:00.069157Z"
    },
    "papermill": {
     "duration": 70.983177,
     "end_time": "2021-01-11T13:43:00.070152",
     "exception": false,
     "start_time": "2021-01-11T13:41:49.086975",
     "status": "completed"
    },
    "tags": []
   },
   "outputs": [
    {
     "name": "stdout",
     "output_type": "stream",
     "text": [
      "0.8126591760299624 161\n"
     ]
    },
    {
     "data": {
      "image/png": "[encoded data removed]",
      "text/plain": [
       "<Figure size 1440x360 with 1 Axes>"
      ]
     },
     "metadata": {
      "needs_background": "light"
     },
     "output_type": "display_data"
    }
   ],
   "source": [
    "# 调节参数n_estimator\n",
    "# 使用学习曲线来调节，因为可以观察趋势\n",
    "scorel = []\n",
    "for i in range(0,200,10):\n",
    "    rfc = RandomForestClassifier(n_estimators=i+1,\n",
    "                               n_jobs = -1,\n",
    "                               random_state=90)\n",
    "    score = cross_val_score(rfc,X,y,cv=10).mean()\n",
    "    scorel.append(score)\n",
    "    \n",
    "print(max(scorel),(scorel.index(max(scorel))*10)+1)\n",
    "plt.figure(figsize=[20,5])\n",
    "plt.plot(range(1,201,10),scorel)\n",
    "plt.show()"
   ]
  },
  {
   "cell_type": "code",
   "execution_count": 13,
   "metadata": {
    "execution": {
     "iopub.execute_input": "2021-01-11T13:43:00.132122Z",
     "iopub.status.busy": "2021-01-11T13:43:00.130776Z",
     "iopub.status.idle": "2021-01-11T13:44:38.460337Z",
     "shell.execute_reply": "2021-01-11T13:44:38.459426Z"
    },
    "papermill": {
     "duration": 98.364521,
     "end_time": "2021-01-11T13:44:38.460522",
     "exception": false,
     "start_time": "2021-01-11T13:43:00.096001",
     "status": "completed"
    },
    "tags": []
   },
   "outputs": [
    {
     "name": "stdout",
     "output_type": "stream",
     "text": [
      "0.8137827715355804 162\n"
     ]
    },
    {
     "data": {
      "image/png": "[encoded data removed]",
      "text/plain": [
       "<Figure size 1440x360 with 1 Axes>"
      ]
     },
     "metadata": {
      "needs_background": "light"
     },
     "output_type": "display_data"
    }
   ],
   "source": [
    "# 可以看出n_estimators取值161时效果最好\n",
    "# 再缩小范围来一下\n",
    "scorel = []\n",
    "for i in range(150,170):\n",
    "    rfc = RandomForestClassifier(n_estimators=i,\n",
    "                                 n_jobs=-1,\n",
    "                                 random_state=90)\n",
    "    score = cross_val_score(rfc,X,y,cv=10).mean()\n",
    "    scorel.append(score)\n",
    "print(max(scorel),([*range(150,170)][scorel.index(max(scorel))]))\n",
    "plt.figure(figsize=[20,5])\n",
    "plt.plot(range(150,170),scorel)\n",
    "plt.show()\n",
    "\n",
    "#确定了某个较好的范围详细的来看一下"
   ]
  },
  {
   "cell_type": "markdown",
   "metadata": {
    "papermill": {
     "duration": 0.026813,
     "end_time": "2021-01-11T13:44:38.521220",
     "exception": false,
     "start_time": "2021-01-11T13:44:38.494407",
     "status": "completed"
    },
    "tags": []
   },
   "source": [
    "## 问题\n",
    "- 我是对参数一个一个进行调试的，不同的参数组合肯定会相互影响\n",
    "- 那么一个一个的调试对不对呢？\n",
    "- 可以使用网格搜索一起调节吧！但是太消耗性能了\n",
    "- 我的理解是调节一些参数后会增大或者减小模型的复杂度，依次来调节泛化误差到最低点"
   ]
  },
  {
   "cell_type": "code",
   "execution_count": 14,
   "metadata": {
    "execution": {
     "iopub.execute_input": "2021-01-11T13:44:38.588852Z",
     "iopub.status.busy": "2021-01-11T13:44:38.588101Z",
     "iopub.status.idle": "2021-01-11T13:45:36.857973Z",
     "shell.execute_reply": "2021-01-11T13:45:36.857038Z"
    },
    "papermill": {
     "duration": 58.309593,
     "end_time": "2021-01-11T13:45:36.858170",
     "exception": false,
     "start_time": "2021-01-11T13:44:38.548577",
     "status": "completed"
    },
    "tags": []
   },
   "outputs": [
    {
     "name": "stdout",
     "output_type": "stream",
     "text": [
      "0.8384394506866416 9\n"
     ]
    },
    {
     "data": {
      "image/png": "[encoded data removed]",
      "text/plain": [
       "<Figure size 1440x360 with 1 Axes>"
      ]
     },
     "metadata": {
      "needs_background": "light"
     },
     "output_type": "display_data"
    }
   ],
   "source": [
    "# 那n_estimators的值就取161\n",
    "# n_estimators的值对随机森林的效果影响很大，理论上这个边界越大越好\n",
    "# 接下来调节一下max_depth\n",
    "scorel = []\n",
    "for i in range(1,20):\n",
    "    rfc = RandomForestClassifier(n_estimators=90,\n",
    "                                 max_depth=i,\n",
    "                                 n_jobs=-1,\n",
    "                                 random_state=90)\n",
    "    score = cross_val_score(rfc,X,y,cv=10).mean()\n",
    "    scorel.append(score)\n",
    "print(max(scorel),([*range(1,20)][scorel.index(max(scorel))]))\n",
    "plt.figure(figsize=[20,5])\n",
    "plt.plot(range(1,20),scorel)\n",
    "plt.show()"
   ]
  },
  {
   "cell_type": "code",
   "execution_count": 15,
   "metadata": {
    "execution": {
     "iopub.execute_input": "2021-01-11T13:45:36.928880Z",
     "iopub.status.busy": "2021-01-11T13:45:36.926676Z",
     "iopub.status.idle": "2021-01-11T13:47:08.676624Z",
     "shell.execute_reply": "2021-01-11T13:47:08.676054Z"
    },
    "papermill": {
     "duration": 91.78806,
     "end_time": "2021-01-11T13:47:08.676740",
     "exception": false,
     "start_time": "2021-01-11T13:45:36.888680",
     "status": "completed"
    },
    "tags": []
   },
   "outputs": [
    {
     "name": "stdout",
     "output_type": "stream",
     "text": [
      "0.8384394506866417 9\n"
     ]
    },
    {
     "data": {
      "image/png": "[encoded data removed]",
      "text/plain": [
       "<Figure size 1440x360 with 1 Axes>"
      ]
     },
     "metadata": {
      "needs_background": "light"
     },
     "output_type": "display_data"
    }
   ],
   "source": [
    "# n_estimators设置为90，来寻找最优的max_depth值为9\n",
    "# 其最高分数达到了0.838，并且较稳定\n",
    "# 我在尝试一下把n_estimators设置为162，估计max_depth的值会变小\n",
    "\n",
    "scorel = []\n",
    "for i in range(1,20):\n",
    "    rfc = RandomForestClassifier(n_estimators=162,\n",
    "                                 max_depth=i,\n",
    "                                 n_jobs=-1,\n",
    "                                 random_state=90)\n",
    "    score = cross_val_score(rfc,X,y,cv=10).mean()\n",
    "    scorel.append(score)\n",
    "print(max(scorel),([*range(1,20)][scorel.index(max(scorel))]))\n",
    "plt.figure(figsize=[20,5])\n",
    "plt.plot(range(1,20),scorel)\n",
    "plt.show()"
   ]
  },
  {
   "cell_type": "markdown",
   "metadata": {
    "papermill": {
     "duration": 0.030326,
     "end_time": "2021-01-11T13:47:08.737558",
     "exception": false,
     "start_time": "2021-01-11T13:47:08.707232",
     "status": "completed"
    },
    "tags": []
   },
   "source": [
    "## 分析\n",
    "- max_depth的最优取值竟然还是9不变，和自己预期的不一样\n",
    "- 自己上面的猜测可能有些错误，一个一个调参数可能没什么影响\n",
    "- 上面参数要观察趋势，所以使用学习曲线"
   ]
  },
  {
   "cell_type": "code",
   "execution_count": 16,
   "metadata": {
    "execution": {
     "iopub.execute_input": "2021-01-11T13:47:08.809517Z",
     "iopub.status.busy": "2021-01-11T13:47:08.808591Z",
     "iopub.status.idle": "2021-01-11T13:47:43.328886Z",
     "shell.execute_reply": "2021-01-11T13:47:43.328273Z"
    },
    "papermill": {
     "duration": 34.560248,
     "end_time": "2021-01-11T13:47:43.329004",
     "exception": false,
     "start_time": "2021-01-11T13:47:08.768756",
     "status": "completed"
    },
    "tags": []
   },
   "outputs": [
    {
     "name": "stdout",
     "output_type": "stream",
     "text": [
      "0.8384394506866417 2\n"
     ]
    },
    {
     "data": {
      "image/png": "[encoded data removed]",
      "text/plain": [
       "<Figure size 1440x360 with 1 Axes>"
      ]
     },
     "metadata": {
      "needs_background": "light"
     },
     "output_type": "display_data"
    }
   ],
   "source": [
    "# 调整max_features,这个参数是唯一可以将模型往左或者往右退的参数\n",
    "scorel = []\n",
    "for i in range(1,8):\n",
    "    rfc = RandomForestClassifier(n_estimators=162,\n",
    "                                 max_depth=9,\n",
    "                                 max_features=i,\n",
    "                                 n_jobs=-1,\n",
    "                                 random_state=90)\n",
    "    score = cross_val_score(rfc,X,y,cv=10).mean()\n",
    "    scorel.append(score)\n",
    "print(max(scorel),([*range(1,8)][scorel.index(max(scorel))]))\n",
    "plt.figure(figsize=[20,5])\n",
    "plt.plot(range(1,8),scorel)\n",
    "plt.show()"
   ]
  },
  {
   "cell_type": "markdown",
   "metadata": {
    "papermill": {
     "duration": 0.03199,
     "end_time": "2021-01-11T13:47:43.392856",
     "exception": false,
     "start_time": "2021-01-11T13:47:43.360866",
     "status": "completed"
    },
    "tags": []
   },
   "source": [
    "- 这个数据集选择了7个有用的特征，这个参数越小效果估计越差\n",
    "- 选择的这7个特征对结果影响很大\n",
    "---\n",
    "- 结果是为2的时候最好，其次是为4的时候\n",
    "- 我有点不信，再运行了一遍，曲线还是一样的\n",
    "- 又猜错了,看来自己的没有经验\n",
    "---\n",
    "- 调整了这三个参数后，准确率最高为0.838，估计不用再调了\n",
    "- 还可以调节max_sample_leaf和max_sample_split"
   ]
  },
  {
   "cell_type": "code",
   "execution_count": 17,
   "metadata": {
    "execution": {
     "iopub.execute_input": "2021-01-11T13:47:43.460648Z",
     "iopub.status.busy": "2021-01-11T13:47:43.459773Z",
     "iopub.status.idle": "2021-01-11T13:50:10.448502Z",
     "shell.execute_reply": "2021-01-11T13:50:10.449044Z"
    },
    "papermill": {
     "duration": 147.024345,
     "end_time": "2021-01-11T13:50:10.449201",
     "exception": false,
     "start_time": "2021-01-11T13:47:43.424856",
     "status": "completed"
    },
    "tags": []
   },
   "outputs": [
    {
     "data": {
      "text/plain": [
       "{'min_samples_leaf': 1}"
      ]
     },
     "execution_count": 17,
     "metadata": {},
     "output_type": "execute_result"
    }
   ],
   "source": [
    "# 使用网格搜索来调参min_samples_leaf\n",
    "param_grid={'min_samples_leaf':np.arange(1, 1+30, 1)}\n",
    "\n",
    "rfc = RandomForestClassifier(n_estimators=162,\n",
    "                                 max_depth=9,\n",
    "                                 max_features=2,\n",
    "                                 n_jobs=-1,\n",
    "                                 random_state=90)\n",
    "GS = GridSearchCV(rfc,param_grid,cv=10)\n",
    "GS.fit(X,y)\n",
    "\n",
    "GS.best_params_"
   ]
  },
  {
   "cell_type": "code",
   "execution_count": 18,
   "metadata": {
    "execution": {
     "iopub.execute_input": "2021-01-11T13:50:10.520146Z",
     "iopub.status.busy": "2021-01-11T13:50:10.519245Z",
     "iopub.status.idle": "2021-01-11T13:50:10.524191Z",
     "shell.execute_reply": "2021-01-11T13:50:10.523500Z"
    },
    "papermill": {
     "duration": 0.042942,
     "end_time": "2021-01-11T13:50:10.524334",
     "exception": false,
     "start_time": "2021-01-11T13:50:10.481392",
     "status": "completed"
    },
    "tags": []
   },
   "outputs": [
    {
     "data": {
      "text/plain": [
       "0.8384394506866417"
      ]
     },
     "execution_count": 18,
     "metadata": {},
     "output_type": "execute_result"
    }
   ],
   "source": [
    "# 好吧，这个结果又和我想得不一样，分数下降了一点，估计过拟合程度下降了一点\n",
    "GS.best_score_\n",
    "# 刚才上面的max_feature=i,现在改回来了为2了，准确率为0.838，又才做了\n",
    "# 不知道过拟合的程度大小，这个参数默认值估计就是1\n",
    "# 把希望寄托再下一个参数吧"
   ]
  },
  {
   "cell_type": "code",
   "execution_count": 19,
   "metadata": {
    "execution": {
     "iopub.execute_input": "2021-01-11T13:50:10.601789Z",
     "iopub.status.busy": "2021-01-11T13:50:10.600307Z",
     "iopub.status.idle": "2021-01-11T13:50:40.543523Z",
     "shell.execute_reply": "2021-01-11T13:50:40.542212Z"
    },
    "papermill": {
     "duration": 29.985542,
     "end_time": "2021-01-11T13:50:40.543680",
     "exception": false,
     "start_time": "2021-01-11T13:50:10.558138",
     "status": "completed"
    },
    "tags": []
   },
   "outputs": [
    {
     "data": {
      "text/plain": [
       "{'min_samples_split': 2}"
      ]
     },
     "execution_count": 19,
     "metadata": {},
     "output_type": "execute_result"
    }
   ],
   "source": [
    "# 使用网格搜索来调参min_samples_split\n",
    "param_grid={'min_samples_split':np.arange(2, 2+6, 1)}\n",
    "\n",
    "rfc = RandomForestClassifier(n_estimators=162,\n",
    "                                 max_depth=9,\n",
    "                                 max_features=2,\n",
    "                                 min_samples_leaf=1,\n",
    "                                 n_jobs=-1,\n",
    "                                 random_state=90)\n",
    "GS = GridSearchCV(rfc,param_grid,cv=10)\n",
    "GS.fit(X,y)\n",
    "\n",
    "GS.best_params_"
   ]
  },
  {
   "cell_type": "code",
   "execution_count": 20,
   "metadata": {
    "execution": {
     "iopub.execute_input": "2021-01-11T13:50:40.618078Z",
     "iopub.status.busy": "2021-01-11T13:50:40.617098Z",
     "iopub.status.idle": "2021-01-11T13:50:40.621602Z",
     "shell.execute_reply": "2021-01-11T13:50:40.620930Z"
    },
    "papermill": {
     "duration": 0.043145,
     "end_time": "2021-01-11T13:50:40.621716",
     "exception": false,
     "start_time": "2021-01-11T13:50:40.578571",
     "status": "completed"
    },
    "tags": []
   },
   "outputs": [
    {
     "data": {
      "text/plain": [
       "0.8384394506866417"
      ]
     },
     "execution_count": 20,
     "metadata": {},
     "output_type": "execute_result"
    }
   ],
   "source": [
    "GS.best_score_"
   ]
  },
  {
   "cell_type": "code",
   "execution_count": 21,
   "metadata": {
    "execution": {
     "iopub.execute_input": "2021-01-11T13:50:40.699179Z",
     "iopub.status.busy": "2021-01-11T13:50:40.698074Z",
     "iopub.status.idle": "2021-01-11T13:50:45.555021Z",
     "shell.execute_reply": "2021-01-11T13:50:45.554416Z"
    },
    "papermill": {
     "duration": 4.898912,
     "end_time": "2021-01-11T13:50:45.555171",
     "exception": false,
     "start_time": "2021-01-11T13:50:40.656259",
     "status": "completed"
    },
    "tags": []
   },
   "outputs": [
    {
     "data": {
      "text/plain": [
       "0.8384394506866417"
      ]
     },
     "execution_count": 21,
     "metadata": {},
     "output_type": "execute_result"
    }
   ],
   "source": [
    "# 看看最终参数交叉验证的打分\n",
    "rfc = RandomForestClassifier(n_estimators=162,\n",
    "                                 max_depth=9,\n",
    "                                 max_features=2,\n",
    "                                 min_samples_leaf=1,\n",
    "                                 min_samples_split=2,\n",
    "                                 n_jobs=-1,\n",
    "                                 random_state=90)\n",
    "score = cross_val_score(rfc,X,y,cv=10).mean()\n",
    "score"
   ]
  },
  {
   "cell_type": "code",
   "execution_count": 22,
   "metadata": {
    "execution": {
     "iopub.execute_input": "2021-01-11T13:50:45.636951Z",
     "iopub.status.busy": "2021-01-11T13:50:45.635891Z",
     "iopub.status.idle": "2021-01-11T13:50:46.245132Z",
     "shell.execute_reply": "2021-01-11T13:50:46.244043Z"
    },
    "papermill": {
     "duration": 0.654393,
     "end_time": "2021-01-11T13:50:46.245267",
     "exception": false,
     "start_time": "2021-01-11T13:50:45.590874",
     "status": "completed"
    },
    "tags": []
   },
   "outputs": [],
   "source": [
    "# 建立模型\n",
    "rfc = RandomForestClassifier(n_estimators=162,\n",
    "                                 max_depth=9,\n",
    "                                 max_features=2,\n",
    "                                 min_samples_leaf=1,\n",
    "                                 min_samples_split=2,\n",
    "                                 n_jobs=-1,\n",
    "                                 random_state=90)\n",
    "rfc = rfc.fit(X,y)"
   ]
  },
  {
   "cell_type": "code",
   "execution_count": 23,
   "metadata": {
    "execution": {
     "iopub.execute_input": "2021-01-11T13:50:46.323336Z",
     "iopub.status.busy": "2021-01-11T13:50:46.322624Z",
     "iopub.status.idle": "2021-01-11T13:50:46.432596Z",
     "shell.execute_reply": "2021-01-11T13:50:46.431819Z"
    },
    "papermill": {
     "duration": 0.151532,
     "end_time": "2021-01-11T13:50:46.432722",
     "exception": false,
     "start_time": "2021-01-11T13:50:46.281190",
     "status": "completed"
    },
    "tags": []
   },
   "outputs": [],
   "source": [
    "result = rfc.predict(test[predictors])"
   ]
  },
  {
   "cell_type": "code",
   "execution_count": 24,
   "metadata": {
    "execution": {
     "iopub.execute_input": "2021-01-11T13:50:46.511653Z",
     "iopub.status.busy": "2021-01-11T13:50:46.510773Z",
     "iopub.status.idle": "2021-01-11T13:50:46.517630Z",
     "shell.execute_reply": "2021-01-11T13:50:46.517072Z"
    },
    "papermill": {
     "duration": 0.049367,
     "end_time": "2021-01-11T13:50:46.517755",
     "exception": false,
     "start_time": "2021-01-11T13:50:46.468388",
     "status": "completed"
    },
    "tags": []
   },
   "outputs": [
    {
     "name": "stdout",
     "output_type": "stream",
     "text": [
      "[0 0 0 0 1 0 0 0 1 0 0 0 1 0 1 1 0 0 0 0 1 1 1 0 1 0 1 0 1 0 0 0 0 0 1 0 0\n",
      " 0 0 1 0 1 0 1 1 0 0 0 1 1 0 0 1 1 0 0 0 0 0 1 0 0 0 1 1 1 1 0 0 1 1 0 0 0\n",
      " 1 0 0 1 0 1 1 0 0 0 0 0 1 0 1 1 0 0 1 0 0 0 1 0 1 0 1 0 0 0 0 0 0 0 0 0 0\n",
      " 1 1 1 1 0 0 1 0 1 1 0 1 0 0 1 0 1 0 0 0 0 0 0 0 0 0 0 0 0 0 1 0 0 1 0 0 0\n",
      " 1 0 1 0 0 1 0 0 1 1 1 1 1 1 1 0 0 0 0 0 1 0 0 0 0 0 0 1 1 1 1 1 0 0 1 0 1\n",
      " 0 1 0 0 0 0 0 1 0 1 0 1 0 0 0 1 1 0 1 0 0 0 0 1 0 0 0 0 1 0 0 1 0 1 0 1 0\n",
      " 1 0 1 1 0 1 0 0 0 1 0 0 1 0 1 0 1 1 1 1 0 0 0 0 1 0 1 0 1 0 0 0 0 0 0 0 1\n",
      " 0 0 0 1 1 0 0 0 0 0 0 0 0 1 1 0 1 0 0 0 0 0 1 1 0 1 0 0 0 0 0 0 0 0 0 0 0\n",
      " 1 0 0 0 0 0 0 0 1 1 1 1 0 0 0 0 0 0 1 1 0 0 0 0 0 0 0 1 1 0 1 0 0 0 1 0 0\n",
      " 1 0 0 0 0 0 0 0 0 0 1 0 1 0 0 0 1 1 0 0 0 1 0 1 0 0 1 0 1 1 0 1 0 0 0 1 0\n",
      " 0 1 0 0 1 1 0 0 0 0 0 0 1 0 0 1 0 0 0 0 0 1 0 0 0 1 0 1 0 0 1 0 1 0 0 0 0\n",
      " 0 1 1 1 1 0 0 1 0 0 0]\n"
     ]
    }
   ],
   "source": [
    "print(result)"
   ]
  },
  {
   "cell_type": "code",
   "execution_count": 25,
   "metadata": {
    "execution": {
     "iopub.execute_input": "2021-01-11T13:50:46.598022Z",
     "iopub.status.busy": "2021-01-11T13:50:46.597284Z",
     "iopub.status.idle": "2021-01-11T13:50:46.945270Z",
     "shell.execute_reply": "2021-01-11T13:50:46.944736Z"
    },
    "papermill": {
     "duration": 0.39254,
     "end_time": "2021-01-11T13:50:46.945426",
     "exception": false,
     "start_time": "2021-01-11T13:50:46.552886",
     "status": "completed"
    },
    "tags": []
   },
   "outputs": [
    {
     "data": {
      "text/html": [
       "<div>\n",
       "<style scoped>\n",
       "    .dataframe tbody tr th:only-of-type {\n",
       "        vertical-align: middle;\n",
       "    }\n",
       "\n",
       "    .dataframe tbody tr th {\n",
       "        vertical-align: top;\n",
       "    }\n",
       "\n",
       "    .dataframe thead th {\n",
       "        text-align: right;\n",
       "    }\n",
       "</style>\n",
       "<table border=\"1\" class=\"dataframe\">\n",
       "  <thead>\n",
       "    <tr style=\"text-align: right;\">\n",
       "      <th></th>\n",
       "      <th>PassengerId</th>\n",
       "      <th>Survived</th>\n",
       "    </tr>\n",
       "  </thead>\n",
       "  <tbody>\n",
       "    <tr>\n",
       "      <th>0</th>\n",
       "      <td>892</td>\n",
       "      <td>0</td>\n",
       "    </tr>\n",
       "    <tr>\n",
       "      <th>1</th>\n",
       "      <td>893</td>\n",
       "      <td>0</td>\n",
       "    </tr>\n",
       "    <tr>\n",
       "      <th>2</th>\n",
       "      <td>894</td>\n",
       "      <td>0</td>\n",
       "    </tr>\n",
       "    <tr>\n",
       "      <th>3</th>\n",
       "      <td>895</td>\n",
       "      <td>0</td>\n",
       "    </tr>\n",
       "    <tr>\n",
       "      <th>4</th>\n",
       "      <td>896</td>\n",
       "      <td>1</td>\n",
       "    </tr>\n",
       "    <tr>\n",
       "      <th>5</th>\n",
       "      <td>897</td>\n",
       "      <td>0</td>\n",
       "    </tr>\n",
       "    <tr>\n",
       "      <th>6</th>\n",
       "      <td>898</td>\n",
       "      <td>0</td>\n",
       "    </tr>\n",
       "    <tr>\n",
       "      <th>7</th>\n",
       "      <td>899</td>\n",
       "      <td>0</td>\n",
       "    </tr>\n",
       "    <tr>\n",
       "      <th>8</th>\n",
       "      <td>900</td>\n",
       "      <td>1</td>\n",
       "    </tr>\n",
       "    <tr>\n",
       "      <th>9</th>\n",
       "      <td>901</td>\n",
       "      <td>0</td>\n",
       "    </tr>\n",
       "    <tr>\n",
       "      <th>10</th>\n",
       "      <td>902</td>\n",
       "      <td>0</td>\n",
       "    </tr>\n",
       "    <tr>\n",
       "      <th>11</th>\n",
       "      <td>903</td>\n",
       "      <td>0</td>\n",
       "    </tr>\n",
       "    <tr>\n",
       "      <th>12</th>\n",
       "      <td>904</td>\n",
       "      <td>1</td>\n",
       "    </tr>\n",
       "    <tr>\n",
       "      <th>13</th>\n",
       "      <td>905</td>\n",
       "      <td>0</td>\n",
       "    </tr>\n",
       "    <tr>\n",
       "      <th>14</th>\n",
       "      <td>906</td>\n",
       "      <td>1</td>\n",
       "    </tr>\n",
       "    <tr>\n",
       "      <th>15</th>\n",
       "      <td>907</td>\n",
       "      <td>1</td>\n",
       "    </tr>\n",
       "    <tr>\n",
       "      <th>16</th>\n",
       "      <td>908</td>\n",
       "      <td>0</td>\n",
       "    </tr>\n",
       "    <tr>\n",
       "      <th>17</th>\n",
       "      <td>909</td>\n",
       "      <td>0</td>\n",
       "    </tr>\n",
       "    <tr>\n",
       "      <th>18</th>\n",
       "      <td>910</td>\n",
       "      <td>0</td>\n",
       "    </tr>\n",
       "    <tr>\n",
       "      <th>19</th>\n",
       "      <td>911</td>\n",
       "      <td>0</td>\n",
       "    </tr>\n",
       "  </tbody>\n",
       "</table>\n",
       "</div>"
      ],
      "text/plain": [
       "    PassengerId  Survived\n",
       "0           892         0\n",
       "1           893         0\n",
       "2           894         0\n",
       "3           895         0\n",
       "4           896         1\n",
       "5           897         0\n",
       "6           898         0\n",
       "7           899         0\n",
       "8           900         1\n",
       "9           901         0\n",
       "10          902         0\n",
       "11          903         0\n",
       "12          904         1\n",
       "13          905         0\n",
       "14          906         1\n",
       "15          907         1\n",
       "16          908         0\n",
       "17          909         0\n",
       "18          910         0\n",
       "19          911         0"
      ]
     },
     "execution_count": 25,
     "metadata": {},
     "output_type": "execute_result"
    }
   ],
   "source": [
    "submission_df = pd.DataFrame(columns=['PassengerId', 'Survived'])\n",
    "submission_df['PassengerId'] = test[\"PassengerId\"]\n",
    "submission_df['Survived'] = result\n",
    "submission_df.to_csv('submissions.csv', header=True, index=False)\n",
    "submission_df.head(20)"
   ]
  },
  {
   "cell_type": "markdown",
   "metadata": {
    "papermill": {
     "duration": 0.036619,
     "end_time": "2021-01-11T13:50:47.018596",
     "exception": false,
     "start_time": "2021-01-11T13:50:46.981977",
     "status": "completed"
    },
    "tags": []
   },
   "source": [
    "## 总结\n",
    "- 调了这两个参数貌似没有什么效果，试试吧"
   ]
  }
 ],
 "metadata": {
  "kernelspec": {
   "display_name": "Python 3",
   "language": "python",
   "name": "python3"
  },
  "language_info": {
   "codemirror_mode": {
    "name": "ipython",
    "version": 3
   },
   "file_extension": ".py",
   "mimetype": "text/x-python",
   "name": "python",
   "nbconvert_exporter": "python",
   "pygments_lexer": "ipython3",
   "version": "3.7.6"
  },
  "papermill": {
   "duration": 548.2413,
   "end_time": "2021-01-11T13:50:48.128677",
   "environment_variables": {},
   "exception": null,
   "input_path": "__notebook__.ipynb",
   "output_path": "__notebook__.ipynb",
   "parameters": {},
   "start_time": "2021-01-11T13:41:39.887377",
   "version": "2.1.0"
  }
 },
 "nbformat": 4,
 "nbformat_minor": 4
}
