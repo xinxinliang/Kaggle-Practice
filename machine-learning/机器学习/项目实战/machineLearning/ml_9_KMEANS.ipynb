{
 "cells": [
  {
   "cell_type": "code",
   "execution_count": 2,
   "metadata": {
    "collapsed": false
   },
   "outputs": [
    {
     "name": "stdout",
     "output_type": "stream",
     "text": [
      "(513, 9)\n",
      "                                                                                        mpg  \\\n",
      "Quincy Acy     Sac SF 23 56 13.9 28.6 9.9  0.160 45.0  0.667 117.0 0.496 10.0  0.200  0.518   \n",
      "Steven Adams   Okc C  20 81 14.6 30.2 11.8 0.225 136.0 0.581 185.0 0.503 0.0   0.000  0.541   \n",
      "Jeff   Adrien  Cha PF 27 25 10.1 20.3 10.8 0.136 25.0  0.520 40.0  0.550 0.0   0.000  0.559   \n",
      "               Mil PF 27 28 25.0 50.6 19.9 0.101 94.0  0.670 235.0 0.515 0.0   0.000  0.552   \n",
      "Arron  Afflalo Orl SG 28 73 34.8 71.3 23.4 0.112 336.0 0.815 711.0 0.473 300.0 0.427  0.574   \n",
      "\n",
      "                                                                                      cylinders  \\\n",
      "Quincy Acy     Sac SF 23 56 13.9 28.6 9.9  0.160 45.0  0.667 117.0 0.496 10.0  0.200        2.7   \n",
      "Steven Adams   Okc C  20 81 14.6 30.2 11.8 0.225 136.0 0.581 185.0 0.503 0.0   0.000        3.3   \n",
      "Jeff   Adrien  Cha PF 27 25 10.1 20.3 10.8 0.136 25.0  0.520 40.0  0.550 0.0   0.000        2.3   \n",
      "               Mil PF 27 28 25.0 50.6 19.9 0.101 94.0  0.670 235.0 0.515 0.0   0.000       10.9   \n",
      "Arron  Afflalo Orl SG 28 73 34.8 71.3 23.4 0.112 336.0 0.815 711.0 0.473 300.0 0.427       18.2   \n",
      "\n",
      "                                                                                      displacement  \\\n",
      "Quincy Acy     Sac SF 23 56 13.9 28.6 9.9  0.160 45.0  0.667 117.0 0.496 10.0  0.200           3.6   \n",
      "Steven Adams   Okc C  20 81 14.6 30.2 11.8 0.225 136.0 0.581 185.0 0.503 0.0   0.000           4.1   \n",
      "Jeff   Adrien  Cha PF 27 25 10.1 20.3 10.8 0.136 25.0  0.520 40.0  0.550 0.0   0.000           3.5   \n",
      "               Mil PF 27 28 25.0 50.6 19.9 0.101 94.0  0.670 235.0 0.515 0.0   0.000           7.8   \n",
      "Arron  Afflalo Orl SG 28 73 34.8 71.3 23.4 0.112 336.0 0.815 711.0 0.473 300.0 0.427           3.6   \n",
      "\n",
      "                                                                                      horsepower  \\\n",
      "Quincy Acy     Sac SF 23 56 13.9 28.6 9.9  0.160 45.0  0.667 117.0 0.496 10.0  0.200        14.5   \n",
      "Steven Adams   Okc C  20 81 14.6 30.2 11.8 0.225 136.0 0.581 185.0 0.503 0.0   0.000        15.8   \n",
      "Jeff   Adrien  Cha PF 27 25 10.1 20.3 10.8 0.136 25.0  0.520 40.0  0.550 0.0   0.000        19.7   \n",
      "               Mil PF 27 28 25.0 50.6 19.9 0.101 94.0  0.670 235.0 0.515 0.0   0.000        17.9   \n",
      "Arron  Afflalo Orl SG 28 73 34.8 71.3 23.4 0.112 336.0 0.815 711.0 0.473 300.0 0.427         5.8   \n",
      "\n",
      "                                                                                      weight  \\\n",
      "Quincy Acy     Sac SF 23 56 13.9 28.6 9.9  0.160 45.0  0.667 117.0 0.496 10.0  0.200     0.4   \n",
      "Steven Adams   Okc C  20 81 14.6 30.2 11.8 0.225 136.0 0.581 185.0 0.503 0.0   0.000     0.5   \n",
      "Jeff   Adrien  Cha PF 27 25 10.1 20.3 10.8 0.136 25.0  0.520 40.0  0.550 0.0   0.000     0.3   \n",
      "               Mil PF 27 28 25.0 50.6 19.9 0.101 94.0  0.670 235.0 0.515 0.0   0.000     1.1   \n",
      "Arron  Afflalo Orl SG 28 73 34.8 71.3 23.4 0.112 336.0 0.815 711.0 0.473 300.0 0.427     3.4   \n",
      "\n",
      "                                                                                      acceleration  \\\n",
      "Quincy Acy     Sac SF 23 56 13.9 28.6 9.9  0.160 45.0  0.667 117.0 0.496 10.0  0.200           4.5   \n",
      "Steven Adams   Okc C  20 81 14.6 30.2 11.8 0.225 136.0 0.581 185.0 0.503 0.0   0.000           5.1   \n",
      "Jeff   Adrien  Cha PF 27 25 10.1 20.3 10.8 0.136 25.0  0.520 40.0  0.550 0.0   0.000           4.2   \n",
      "               Mil PF 27 28 25.0 50.6 19.9 0.101 94.0  0.670 235.0 0.515 0.0   0.000           7.8   \n",
      "Arron  Afflalo Orl SG 28 73 34.8 71.3 23.4 0.112 336.0 0.815 711.0 0.473 300.0 0.427          17.0   \n",
      "\n",
      "                                                                                      model year  \\\n",
      "Quincy Acy     Sac SF 23 56 13.9 28.6 9.9  0.160 45.0  0.667 117.0 0.496 10.0  0.200        0.34   \n",
      "Steven Adams   Okc C  20 81 14.6 30.2 11.8 0.225 136.0 0.581 185.0 0.503 0.0   0.000        0.49   \n",
      "Jeff   Adrien  Cha PF 27 25 10.1 20.3 10.8 0.136 25.0  0.520 40.0  0.550 0.0   0.000        0.28   \n",
      "               Mil PF 27 28 25.0 50.6 19.9 0.101 94.0  0.670 235.0 0.515 0.0   0.000        0.61   \n",
      "Arron  Afflalo Orl SG 28 73 34.8 71.3 23.4 0.112 336.0 0.815 711.0 0.473 300.0 0.427        0.48   \n",
      "\n",
      "                                                                                      origin  \\\n",
      "Quincy Acy     Sac SF 23 56 13.9 28.6 9.9  0.160 45.0  0.667 117.0 0.496 10.0  0.200    0.41   \n",
      "Steven Adams   Okc C  20 81 14.6 30.2 11.8 0.225 136.0 0.581 185.0 0.503 0.0   0.000    0.70   \n",
      "Jeff   Adrien  Cha PF 27 25 10.1 20.3 10.8 0.136 25.0  0.520 40.0  0.550 0.0   0.000    0.60   \n",
      "               Mil PF 27 28 25.0 50.6 19.9 0.101 94.0  0.670 235.0 0.515 0.0   0.000    0.75   \n",
      "Arron  Afflalo Orl SG 28 73 34.8 71.3 23.4 0.112 336.0 0.815 711.0 0.473 300.0 0.427    0.04   \n",
      "\n",
      "                                                                                      car name  \n",
      "Quincy Acy     Sac SF 23 56 13.9 28.6 9.9  0.160 45.0  0.667 117.0 0.496 10.0  0.200       4.5  \n",
      "Steven Adams   Okc C  20 81 14.6 30.2 11.8 0.225 136.0 0.581 185.0 0.503 0.0   0.000       5.2  \n",
      "Jeff   Adrien  Cha PF 27 25 10.1 20.3 10.8 0.136 25.0  0.520 40.0  0.550 0.0   0.000       5.3  \n",
      "               Mil PF 27 28 25.0 50.6 19.9 0.101 94.0  0.670 235.0 0.515 0.0   0.000       7.3  \n",
      "Arron  Afflalo Orl SG 28 73 34.8 71.3 23.4 0.112 336.0 0.815 711.0 0.473 300.0 0.427       7.0  \n"
     ]
    }
   ],
   "source": [
    "import pandas as pd\n",
    "import matplotlib.pyplot as plt\n",
    "columns = [\"mpg\", \"cylinders\", \"displacement\", \"horsepower\", \"weight\", \"acceleration\", \"model year\", \"origin\", \"car name\"]\n",
    "cars = pd.read_table(\"nba_2013.txt\", delim_whitespace=True, names=columns)\n",
    "print(cars.head(5))"
   ]
  },
  {
   "cell_type": "code",
   "execution_count": null,
   "metadata": {
    "collapsed": true
   },
   "outputs": [],
   "source": []
  }
 ],
 "metadata": {
  "kernelspec": {
   "display_name": "Python 2",
   "language": "python",
   "name": "python2"
  },
  "language_info": {
   "codemirror_mode": {
    "name": "ipython",
    "version": 2
   },
   "file_extension": ".py",
   "mimetype": "text/x-python",
   "name": "python",
   "nbconvert_exporter": "python",
   "pygments_lexer": "ipython2",
   "version": "2.7.11"
  }
 },
 "nbformat": 4,
 "nbformat_minor": 1
}
